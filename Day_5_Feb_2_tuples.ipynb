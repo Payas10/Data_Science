{
 "cells": [
  {
   "cell_type": "markdown",
   "id": "629ec245-c3ed-43e9-a484-fb6e7b757d39",
   "metadata": {},
   "source": [
    "# Tuples"
   ]
  },
  {
   "cell_type": "code",
   "execution_count": 1,
   "id": "b0fec3b8-3f1c-43e8-a5f8-fec52f590203",
   "metadata": {},
   "outputs": [],
   "source": [
    "t =()"
   ]
  },
  {
   "cell_type": "code",
   "execution_count": 2,
   "id": "561a63da-a849-435a-abe8-8cc8982cda38",
   "metadata": {},
   "outputs": [
    {
     "data": {
      "text/plain": [
       "tuple"
      ]
     },
     "execution_count": 2,
     "metadata": {},
     "output_type": "execute_result"
    }
   ],
   "source": [
    "type(t)"
   ]
  },
  {
   "cell_type": "code",
   "execution_count": 50,
   "id": "c08d5d26-4a8f-46a6-b1e5-b3efcf19ee74",
   "metadata": {},
   "outputs": [],
   "source": [
    "t1 = (1, 2, 3, 4, 45.45, 4+5j, \"PAYAS\", True)"
   ]
  },
  {
   "cell_type": "code",
   "execution_count": 48,
   "id": "6cad5c35-4deb-44ac-aeb4-52c25699179f",
   "metadata": {},
   "outputs": [
    {
     "data": {
      "text/plain": [
       "(1, 2, 3, 4, 45.45, (4+5j), 'PAYAS', True)"
      ]
     },
     "execution_count": 48,
     "metadata": {},
     "output_type": "execute_result"
    }
   ],
   "source": [
    "t1"
   ]
  },
  {
   "cell_type": "code",
   "execution_count": 49,
   "id": "e421ee42-c1ca-45c1-ad7b-3c3e50a861f1",
   "metadata": {},
   "outputs": [
    {
     "data": {
      "text/plain": [
       "tuple"
      ]
     },
     "execution_count": 49,
     "metadata": {},
     "output_type": "execute_result"
    }
   ],
   "source": [
    "type(t1)"
   ]
  },
  {
   "cell_type": "code",
   "execution_count": 6,
   "id": "c9bf0dbc-a846-4c50-a1c1-16704ef4f6d6",
   "metadata": {},
   "outputs": [],
   "source": [
    "l = [1, 2, 3, 4, 45.45, 4+5j, \"PAYAS\", True]"
   ]
  },
  {
   "cell_type": "code",
   "execution_count": 8,
   "id": "a499b088-0224-46ce-b0f3-76d88062c7d6",
   "metadata": {},
   "outputs": [
    {
     "data": {
      "text/plain": [
       "[1, 2, 3, 4, 45.45, (4+5j), 'PAYAS', True]"
      ]
     },
     "execution_count": 8,
     "metadata": {},
     "output_type": "execute_result"
    }
   ],
   "source": [
    "l"
   ]
  },
  {
   "cell_type": "code",
   "execution_count": 10,
   "id": "f4376d36-b3f9-4120-9527-b47b0bf7e723",
   "metadata": {},
   "outputs": [
    {
     "data": {
      "text/plain": [
       "list"
      ]
     },
     "execution_count": 10,
     "metadata": {},
     "output_type": "execute_result"
    }
   ],
   "source": [
    "type(l)"
   ]
  },
  {
   "cell_type": "code",
   "execution_count": 44,
   "id": "ff0a787e-f511-49ee-8506-b50fd60b9d4c",
   "metadata": {},
   "outputs": [
    {
     "data": {
      "text/plain": [
       "(1, 2, 3, 4, 5)"
      ]
     },
     "execution_count": 44,
     "metadata": {},
     "output_type": "execute_result"
    }
   ],
   "source": [
    "t1"
   ]
  },
  {
   "cell_type": "code",
   "execution_count": 12,
   "id": "fd662d59-d12c-45ae-8c5b-f1ea5e6adc38",
   "metadata": {},
   "outputs": [
    {
     "data": {
      "text/plain": [
       "1"
      ]
     },
     "execution_count": 12,
     "metadata": {},
     "output_type": "execute_result"
    }
   ],
   "source": [
    "t1[0]"
   ]
  },
  {
   "cell_type": "code",
   "execution_count": 13,
   "id": "9df37e2d-b7cd-4615-a3f7-bb0d19cb352c",
   "metadata": {},
   "outputs": [
    {
     "data": {
      "text/plain": [
       "'PAYAS'"
      ]
     },
     "execution_count": 13,
     "metadata": {},
     "output_type": "execute_result"
    }
   ],
   "source": [
    "t1[6]"
   ]
  },
  {
   "cell_type": "code",
   "execution_count": 14,
   "id": "fed30595-32ef-4189-afdf-ce072c013043",
   "metadata": {},
   "outputs": [
    {
     "data": {
      "text/plain": [
       "(True, 'PAYAS', (4+5j), 45.45, 4, 3, 2, 1)"
      ]
     },
     "execution_count": 14,
     "metadata": {},
     "output_type": "execute_result"
    }
   ],
   "source": [
    "t1[::-1]"
   ]
  },
  {
   "cell_type": "code",
   "execution_count": 51,
   "id": "05993e2a-7545-4dc8-84bc-ab87c36a0120",
   "metadata": {},
   "outputs": [],
   "source": [
    "t1 = t1[::-1]"
   ]
  },
  {
   "cell_type": "code",
   "execution_count": 17,
   "id": "36d6ba36-0479-4ae8-9573-3ff1e7369238",
   "metadata": {},
   "outputs": [
    {
     "data": {
      "text/plain": [
       "(True, 'PAYAS', (4+5j), 45.45, 4, 3, 2, 1)"
      ]
     },
     "execution_count": 17,
     "metadata": {},
     "output_type": "execute_result"
    }
   ],
   "source": [
    "t1"
   ]
  },
  {
   "cell_type": "code",
   "execution_count": 18,
   "id": "7f8b79dc-7bd3-43af-9410-07a7ea5556e5",
   "metadata": {},
   "outputs": [
    {
     "data": {
      "text/plain": [
       "(True, 'PAYAS', (4+5j))"
      ]
     },
     "execution_count": 18,
     "metadata": {},
     "output_type": "execute_result"
    }
   ],
   "source": [
    "t1[0:3]"
   ]
  },
  {
   "cell_type": "code",
   "execution_count": 19,
   "id": "540c72f3-af92-4e09-b17e-736d729dd0c6",
   "metadata": {},
   "outputs": [
    {
     "data": {
      "text/plain": [
       "(True, 'PAYAS', (4+5j), 45.45, 4, 3, 2, 1)"
      ]
     },
     "execution_count": 19,
     "metadata": {},
     "output_type": "execute_result"
    }
   ],
   "source": [
    "t1"
   ]
  },
  {
   "cell_type": "code",
   "execution_count": 20,
   "id": "1088f5a5-f717-4906-b967-12a9da95e8ae",
   "metadata": {},
   "outputs": [
    {
     "data": {
      "text/plain": [
       "1"
      ]
     },
     "execution_count": 20,
     "metadata": {},
     "output_type": "execute_result"
    }
   ],
   "source": [
    "t1.count(4)"
   ]
  },
  {
   "cell_type": "code",
   "execution_count": 21,
   "id": "c0584790-780a-4766-bcd7-bbd5d6d3609b",
   "metadata": {},
   "outputs": [
    {
     "data": {
      "text/plain": [
       "1"
      ]
     },
     "execution_count": 21,
     "metadata": {},
     "output_type": "execute_result"
    }
   ],
   "source": [
    "t1.count('PAYAS')"
   ]
  },
  {
   "cell_type": "code",
   "execution_count": 24,
   "id": "0240c1c6-05f1-4782-bc8c-a6a9ea2fb370",
   "metadata": {},
   "outputs": [
    {
     "data": {
      "text/plain": [
       "0"
      ]
     },
     "execution_count": 24,
     "metadata": {},
     "output_type": "execute_result"
    }
   ],
   "source": [
    "t1.index(1) # True is stored as 1 in internal memory so when asking to return index of 1 instead index of True is returned"
   ]
  },
  {
   "cell_type": "code",
   "execution_count": 28,
   "id": "b0ce3ec7-ce8e-411f-a09e-29dfa4fdd3da",
   "metadata": {},
   "outputs": [
    {
     "data": {
      "text/plain": [
       "2"
      ]
     },
     "execution_count": 28,
     "metadata": {},
     "output_type": "execute_result"
    }
   ],
   "source": [
    "t1.count(1) # True is stored as 1 in internal memory so when asking to return count of 1, 2 times 1 is returned"
   ]
  },
  {
   "cell_type": "code",
   "execution_count": 29,
   "id": "ed04c80b-2402-486d-be8e-57873c682dce",
   "metadata": {},
   "outputs": [
    {
     "data": {
      "text/plain": [
       "2"
      ]
     },
     "execution_count": 29,
     "metadata": {},
     "output_type": "execute_result"
    }
   ],
   "source": [
    "t1.count(True) # same abve logic is applied here"
   ]
  },
  {
   "cell_type": "code",
   "execution_count": 30,
   "id": "1f08c97e-88d2-4944-bdf0-f1228c8fee89",
   "metadata": {},
   "outputs": [
    {
     "data": {
      "text/plain": [
       "1"
      ]
     },
     "execution_count": 30,
     "metadata": {},
     "output_type": "execute_result"
    }
   ],
   "source": [
    "t1.index('PAYAS')"
   ]
  },
  {
   "cell_type": "markdown",
   "id": "a7d886c3-c211-47a9-aa61-012f3d270ec6",
   "metadata": {},
   "source": [
    "## Concept of Mutability and Immutability\n",
    "### Difference b/w List and Tuples\n",
    "### List is Mutable and Tuple is Immutable"
   ]
  },
  {
   "cell_type": "code",
   "execution_count": 31,
   "id": "77363e5b-acaa-401c-acf1-8f18a6a467a5",
   "metadata": {},
   "outputs": [
    {
     "data": {
      "text/plain": [
       "(True, 'PAYAS', (4+5j), 45.45, 4, 3, 2, 1)"
      ]
     },
     "execution_count": 31,
     "metadata": {},
     "output_type": "execute_result"
    }
   ],
   "source": [
    "t1"
   ]
  },
  {
   "cell_type": "code",
   "execution_count": 32,
   "id": "32655e9b-a2c2-431e-b419-7a9a1686e016",
   "metadata": {},
   "outputs": [
    {
     "data": {
      "text/plain": [
       "[1, 2, 3, 4, 45.45, (4+5j), 'PAYAS', True]"
      ]
     },
     "execution_count": 32,
     "metadata": {},
     "output_type": "execute_result"
    }
   ],
   "source": [
    "l"
   ]
  },
  {
   "cell_type": "code",
   "execution_count": 37,
   "id": "a2bd383d-7eee-4f32-8da5-b0a415d07267",
   "metadata": {},
   "outputs": [
    {
     "ename": "TypeError",
     "evalue": "'tuple' object does not support item assignment",
     "output_type": "error",
     "traceback": [
      "\u001b[0;31m---------------------------------------------------------------------------\u001b[0m",
      "\u001b[0;31mTypeError\u001b[0m                                 Traceback (most recent call last)",
      "Cell \u001b[0;32mIn[37], line 1\u001b[0m\n\u001b[0;32m----> 1\u001b[0m \u001b[43mt1\u001b[49m\u001b[43m[\u001b[49m\u001b[38;5;241;43m0\u001b[39;49m\u001b[43m]\u001b[49m \u001b[38;5;241m=\u001b[39m \u001b[38;5;241m345\u001b[39m \u001b[38;5;66;03m# Returns error since Tuple is Immutable so element assignment at particular index is not possible\u001b[39;00m\n",
      "\u001b[0;31mTypeError\u001b[0m: 'tuple' object does not support item assignment"
     ]
    }
   ],
   "source": [
    "t1[0] = 345 # Returns error since Tuple is Immutable so element assignment at particular index is not possible"
   ]
  },
  {
   "cell_type": "code",
   "execution_count": 35,
   "id": "2a86f6d7-e694-47f4-9207-bbba421b6a9c",
   "metadata": {},
   "outputs": [],
   "source": [
    "l[0] = 345"
   ]
  },
  {
   "cell_type": "code",
   "execution_count": 38,
   "id": "93d7829f-a680-4e0f-a53e-63d9ba5a6ea4",
   "metadata": {},
   "outputs": [
    {
     "data": {
      "text/plain": [
       "[345, 2, 3, 4, 45.45, (4+5j), 'PAYAS', True]"
      ]
     },
     "execution_count": 38,
     "metadata": {},
     "output_type": "execute_result"
    }
   ],
   "source": [
    "l # List is mutable so element assignment at particular index is possible"
   ]
  },
  {
   "cell_type": "markdown",
   "id": "cf472358-7d8b-403a-831a-ae699ba522d0",
   "metadata": {},
   "source": [
    "## Iteration within tuple"
   ]
  },
  {
   "cell_type": "code",
   "execution_count": 52,
   "id": "5a6f4b35-feb2-4547-8827-a956256c1b02",
   "metadata": {},
   "outputs": [
    {
     "data": {
      "text/plain": [
       "(True, 'PAYAS', (4+5j), 45.45, 4, 3, 2, 1)"
      ]
     },
     "execution_count": 52,
     "metadata": {},
     "output_type": "execute_result"
    }
   ],
   "source": [
    "t1"
   ]
  },
  {
   "cell_type": "code",
   "execution_count": 41,
   "id": "995b1acd-b8d6-4c74-84f8-d73246e0e2f8",
   "metadata": {},
   "outputs": [
    {
     "name": "stdout",
     "output_type": "stream",
     "text": [
      "True  -  <class 'bool'>\n",
      "PAYAS  -  <class 'str'>\n",
      "(4+5j)  -  <class 'complex'>\n",
      "45.45  -  <class 'float'>\n",
      "4  -  <class 'int'>\n",
      "3  -  <class 'int'>\n",
      "2  -  <class 'int'>\n",
      "1  -  <class 'int'>\n"
     ]
    }
   ],
   "source": [
    "for i in t1:\n",
    "    print(i, ' - ', type(i))"
   ]
  },
  {
   "cell_type": "code",
   "execution_count": 53,
   "id": "1b6d6956-bd09-419b-af0f-c3d67a4e8a0a",
   "metadata": {},
   "outputs": [],
   "source": [
    "t2 = (1, 2, 3, 4, 5)"
   ]
  },
  {
   "cell_type": "code",
   "execution_count": 54,
   "id": "2693211a-6add-43a6-9ba3-fe1281df6f44",
   "metadata": {},
   "outputs": [
    {
     "data": {
      "text/plain": [
       "(1, 2, 3, 4, 5, 1, 2, 3, 4, 5, 1, 2, 3, 4, 5)"
      ]
     },
     "execution_count": 54,
     "metadata": {},
     "output_type": "execute_result"
    }
   ],
   "source": [
    "t2 * 3"
   ]
  },
  {
   "cell_type": "code",
   "execution_count": 55,
   "id": "99cfb2d4-f165-4851-9221-88baa334bd86",
   "metadata": {},
   "outputs": [
    {
     "data": {
      "text/plain": [
       "5"
      ]
     },
     "execution_count": 55,
     "metadata": {},
     "output_type": "execute_result"
    }
   ],
   "source": [
    "max(t2)"
   ]
  },
  {
   "cell_type": "code",
   "execution_count": 56,
   "id": "65726904-3663-4315-af15-2721d8334c58",
   "metadata": {},
   "outputs": [
    {
     "data": {
      "text/plain": [
       "1"
      ]
     },
     "execution_count": 56,
     "metadata": {},
     "output_type": "execute_result"
    }
   ],
   "source": [
    "min(t2)"
   ]
  },
  {
   "cell_type": "code",
   "execution_count": 1,
   "id": "26eec13b-1fcf-459c-955b-b9550a0fc028",
   "metadata": {},
   "outputs": [],
   "source": [
    "t3 = (1,2,3,4)\n",
    "t4 = (5,6,7,8,9)"
   ]
  },
  {
   "cell_type": "code",
   "execution_count": 2,
   "id": "9201f48a-0b97-402d-99f0-d4cda5916222",
   "metadata": {},
   "outputs": [],
   "source": [
    "t5 = (t3, t4)"
   ]
  },
  {
   "cell_type": "code",
   "execution_count": 3,
   "id": "9d4b895f-6a79-4a40-af74-5b823b9cce1d",
   "metadata": {},
   "outputs": [
    {
     "data": {
      "text/plain": [
       "((1, 2, 3, 4), (5, 6, 7, 8, 9))"
      ]
     },
     "execution_count": 3,
     "metadata": {},
     "output_type": "execute_result"
    }
   ],
   "source": [
    "t5"
   ]
  },
  {
   "cell_type": "code",
   "execution_count": 4,
   "id": "bb153e78-8dcb-4b8e-82f9-bf2d1b6934db",
   "metadata": {},
   "outputs": [],
   "source": [
    "t6 = ((1,3,5,7,9), [0,2,4,6,8])"
   ]
  },
  {
   "cell_type": "code",
   "execution_count": 5,
   "id": "64793645-dd5a-4064-8226-77b1e12222b6",
   "metadata": {},
   "outputs": [
    {
     "data": {
      "text/plain": [
       "((1, 3, 5, 7, 9), [0, 2, 4, 6, 8])"
      ]
     },
     "execution_count": 5,
     "metadata": {},
     "output_type": "execute_result"
    }
   ],
   "source": [
    "t6"
   ]
  },
  {
   "cell_type": "code",
   "execution_count": 6,
   "id": "8e2eab18-6d1c-414d-8679-2614f977fa69",
   "metadata": {},
   "outputs": [],
   "source": [
    "del t6"
   ]
  },
  {
   "cell_type": "code",
   "execution_count": 7,
   "id": "7ea5d826-8e5a-4215-acaf-d811b00200a7",
   "metadata": {},
   "outputs": [
    {
     "ename": "NameError",
     "evalue": "name 't6' is not defined",
     "output_type": "error",
     "traceback": [
      "\u001b[0;31m---------------------------------------------------------------------------\u001b[0m",
      "\u001b[0;31mNameError\u001b[0m                                 Traceback (most recent call last)",
      "Cell \u001b[0;32mIn[7], line 1\u001b[0m\n\u001b[0;32m----> 1\u001b[0m \u001b[43mt6\u001b[49m\n",
      "\u001b[0;31mNameError\u001b[0m: name 't6' is not defined"
     ]
    }
   ],
   "source": [
    "t6"
   ]
  },
  {
   "cell_type": "code",
   "execution_count": 9,
   "id": "9bbcab10-da8d-4534-aeb5-364131a12ace",
   "metadata": {},
   "outputs": [],
   "source": [
    "t1 = (1,2,3,4)"
   ]
  },
  {
   "cell_type": "code",
   "execution_count": 10,
   "id": "e925e94c-92b3-435f-8cf0-ac66c1588b67",
   "metadata": {},
   "outputs": [
    {
     "data": {
      "text/plain": [
       "(1, 2, 3, 4)"
      ]
     },
     "execution_count": 10,
     "metadata": {},
     "output_type": "execute_result"
    }
   ],
   "source": [
    "t1"
   ]
  },
  {
   "cell_type": "code",
   "execution_count": 11,
   "id": "98f3fb9c-b125-4f9e-8c52-22b3575378d4",
   "metadata": {},
   "outputs": [
    {
     "data": {
      "text/plain": [
       "4"
      ]
     },
     "execution_count": 11,
     "metadata": {},
     "output_type": "execute_result"
    }
   ],
   "source": [
    "len(t1)"
   ]
  },
  {
   "cell_type": "code",
   "execution_count": 12,
   "id": "fedfb54d-9bc9-4899-94b5-663aa8979feb",
   "metadata": {},
   "outputs": [
    {
     "data": {
      "text/plain": [
       "False"
      ]
     },
     "execution_count": 12,
     "metadata": {},
     "output_type": "execute_result"
    }
   ],
   "source": [
    "'PAYAS' in t1"
   ]
  },
  {
   "cell_type": "code",
   "execution_count": 13,
   "id": "eae7f84b-a2e1-4503-95d3-aa066eef0843",
   "metadata": {},
   "outputs": [
    {
     "data": {
      "text/plain": [
       "True"
      ]
     },
     "execution_count": 13,
     "metadata": {},
     "output_type": "execute_result"
    }
   ],
   "source": [
    "4 in t1"
   ]
  },
  {
   "cell_type": "code",
   "execution_count": null,
   "id": "8290eb73-deb7-4465-a8e0-89e2a3657cf5",
   "metadata": {},
   "outputs": [],
   "source": []
  }
 ],
 "metadata": {
  "kernelspec": {
   "display_name": "Python 3 (ipykernel)",
   "language": "python",
   "name": "python3"
  },
  "language_info": {
   "codemirror_mode": {
    "name": "ipython",
    "version": 3
   },
   "file_extension": ".py",
   "mimetype": "text/x-python",
   "name": "python",
   "nbconvert_exporter": "python",
   "pygments_lexer": "ipython3",
   "version": "3.10.8"
  }
 },
 "nbformat": 4,
 "nbformat_minor": 5
}
