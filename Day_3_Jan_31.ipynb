{
 "cells": [
  {
   "cell_type": "markdown",
   "id": "0e79d0de-a0cc-4a9e-b6ee-756c5041b73f",
   "metadata": {},
   "source": [
    "## Logical Operators\n",
    "1. And\n",
    "2. or\n",
    "3. not"
   ]
  },
  {
   "cell_type": "code",
   "execution_count": 5,
   "id": "22cf52aa-4f26-4cfa-bf43-64f0d3e5f925",
   "metadata": {},
   "outputs": [
    {
     "data": {
      "text/plain": [
       "True"
      ]
     },
     "execution_count": 5,
     "metadata": {},
     "output_type": "execute_result"
    }
   ],
   "source": [
    "True and True"
   ]
  },
  {
   "cell_type": "code",
   "execution_count": 6,
   "id": "4a345fdc-6d0b-4de0-b532-c8d2a2fed831",
   "metadata": {},
   "outputs": [
    {
     "data": {
      "text/plain": [
       "True"
      ]
     },
     "execution_count": 6,
     "metadata": {},
     "output_type": "execute_result"
    }
   ],
   "source": [
    "True or False"
   ]
  },
  {
   "cell_type": "code",
   "execution_count": 7,
   "id": "de1cda52-b76b-41b4-b19a-88a39a1ee8a0",
   "metadata": {},
   "outputs": [
    {
     "name": "stdout",
     "output_type": "stream",
     "text": [
      "Defined value of START = True\n",
      "Defined value of STOP = False \n",
      "\n",
      "Defined value of START = True\n",
      "Value of STOP by negating START= False \n",
      "\n",
      "Value of START by negating STOP = True\n",
      "Defined value of STOP = False \n",
      "\n"
     ]
    }
   ],
   "source": [
    "# Lets define two variables having boolean values True and False-\n",
    "START = True\n",
    "STOP = False\n",
    "\n",
    "# Print the values as it is\n",
    "print(f\"Defined value of START = {START}\")\n",
    "print(f\"Defined value of STOP = {STOP} \\n\")\n",
    "\n",
    "# if can also be written as - \n",
    "print(f\"Defined value of START = {START}\")\n",
    "print(f\"Value of STOP by negating START= {not START} \\n\")\n",
    "\n",
    "# alternatively -\n",
    "print(f\"Value of START by negating STOP = {not STOP}\")\n",
    "print(f\"Defined value of STOP = {STOP} \\n\")"
   ]
  },
  {
   "cell_type": "code",
   "execution_count": 8,
   "id": "c85d3614-5d67-4be6-b5d1-3a1afd0052e6",
   "metadata": {},
   "outputs": [
    {
     "data": {
      "text/plain": [
       "False"
      ]
     },
     "execution_count": 8,
     "metadata": {},
     "output_type": "execute_result"
    }
   ],
   "source": [
    "not True # not always returns value in either True or False"
   ]
  },
  {
   "cell_type": "code",
   "execution_count": 9,
   "id": "eeeea085-07d0-470d-adf6-9a40dcf6ccc7",
   "metadata": {},
   "outputs": [
    {
     "data": {
      "text/plain": [
       "True"
      ]
     },
     "execution_count": 9,
     "metadata": {},
     "output_type": "execute_result"
    }
   ],
   "source": [
    "not int(bool(0)) # not always returns value in either True or False"
   ]
  },
  {
   "cell_type": "code",
   "execution_count": 10,
   "id": "4a095d55-2fdf-4b03-8ae2-e3b8a4c4e0db",
   "metadata": {},
   "outputs": [
    {
     "data": {
      "text/plain": [
       "False"
      ]
     },
     "execution_count": 10,
     "metadata": {},
     "output_type": "execute_result"
    }
   ],
   "source": [
    "not int(bool(1)) # not always returns value in either True or False"
   ]
  },
  {
   "cell_type": "code",
   "execution_count": 11,
   "id": "e9d33ace-0a03-4bdd-844b-4640282cce4a",
   "metadata": {},
   "outputs": [
    {
     "data": {
      "text/plain": [
       "False"
      ]
     },
     "execution_count": 11,
     "metadata": {},
     "output_type": "execute_result"
    }
   ],
   "source": [
    "not 1 # not always returns value in either True or False"
   ]
  },
  {
   "cell_type": "code",
   "execution_count": 12,
   "id": "6d47bd39-673a-41ad-ad13-251a20cb8555",
   "metadata": {},
   "outputs": [
    {
     "data": {
      "text/plain": [
       "True"
      ]
     },
     "execution_count": 12,
     "metadata": {},
     "output_type": "execute_result"
    }
   ],
   "source": [
    "not 0 # not always returns value in either True or False"
   ]
  },
  {
   "cell_type": "code",
   "execution_count": 13,
   "id": "23dcaed3-724d-482e-a772-d138e4fdcac8",
   "metadata": {},
   "outputs": [
    {
     "data": {
      "text/plain": [
       "True"
      ]
     },
     "execution_count": 13,
     "metadata": {},
     "output_type": "execute_result"
    }
   ],
   "source": [
    "bool(1000) # any value apart from 0 returns True."
   ]
  },
  {
   "cell_type": "code",
   "execution_count": 14,
   "id": "abb1a77c-1d20-4e35-ab8a-b00541e54d98",
   "metadata": {},
   "outputs": [
    {
     "data": {
      "text/plain": [
       "True"
      ]
     },
     "execution_count": 14,
     "metadata": {},
     "output_type": "execute_result"
    }
   ],
   "source": [
    "bool(-1) # any value apart from 0 returns True."
   ]
  },
  {
   "cell_type": "code",
   "execution_count": 15,
   "id": "cac99663-1249-44d2-b249-b6b5dce04ea6",
   "metadata": {},
   "outputs": [
    {
     "data": {
      "text/plain": [
       "False"
      ]
     },
     "execution_count": 15,
     "metadata": {},
     "output_type": "execute_result"
    }
   ],
   "source": [
    "not 1000 # any value apart from 0 returns True. Used with not it returns false"
   ]
  },
  {
   "cell_type": "code",
   "execution_count": 16,
   "id": "8e30e658-a8ed-4055-8ee6-4d878d5521cf",
   "metadata": {},
   "outputs": [
    {
     "data": {
      "text/plain": [
       "False"
      ]
     },
     "execution_count": 16,
     "metadata": {},
     "output_type": "execute_result"
    }
   ],
   "source": [
    "not -1 # any value apart from 0 returns True. Used with not it returns false"
   ]
  },
  {
   "cell_type": "code",
   "execution_count": 17,
   "id": "1457768a-e769-44ee-8143-40ee32421856",
   "metadata": {},
   "outputs": [
    {
     "name": "stdout",
     "output_type": "stream",
     "text": [
      "Defined value of START = 1\n",
      "Defined value of STOP = 0 \n",
      "\n",
      "Defined value of START = 1\n",
      "Value of STOP by negating START= 0 \n",
      "\n",
      "Value of START by negating STOP = 1\n",
      "Defined value of STOP = 0 \n",
      "\n"
     ]
    }
   ],
   "source": [
    "START = 1\n",
    "STOP = 0\n",
    "\n",
    "# Print the values as it is\n",
    "print(f\"Defined value of START = {START}\")\n",
    "print(f\"Defined value of STOP = {STOP} \\n\")\n",
    "\n",
    "# if can also be written as - \n",
    "print(f\"Defined value of START = {START}\")\n",
    "print(f\"Value of STOP by negating START= {int(not START)} \\n\")\n",
    "\n",
    "# alternatively -\n",
    "print(f\"Value of START by negating STOP = {int(not STOP)}\")\n",
    "print(f\"Defined value of STOP = {STOP} \\n\")"
   ]
  },
  {
   "cell_type": "code",
   "execution_count": 18,
   "id": "86396a56-0c3b-42df-931e-02a2a1f86c04",
   "metadata": {},
   "outputs": [
    {
     "name": "stdout",
     "output_type": "stream",
     "text": [
      "boolean value of no. 0 is False\n",
      "boolean value of no. 1 is True\n",
      "negation of 0 is True and negation of 1 is False\n",
      "\n",
      "#------------------------#\n",
      "\n"
     ]
    }
   ],
   "source": [
    "zero = 0\n",
    "one = 1\n",
    "\n",
    "print(f\"boolean value of no. {zero} is {bool(zero)}\")\n",
    "print(f\"boolean value of no. {one} is {bool(one)}\")\n",
    "print(f\"negation of {zero} is {not zero} and negation of {one} is {not one}\")\n",
    "print(\"\\n#------------------------#\\n\")"
   ]
  },
  {
   "cell_type": "code",
   "execution_count": 19,
   "id": "7e203e95-cfdd-4656-8c55-b7f52ecffb82",
   "metadata": {},
   "outputs": [
    {
     "data": {
      "text/plain": [
       "True"
      ]
     },
     "execution_count": 19,
     "metadata": {},
     "output_type": "execute_result"
    }
   ],
   "source": [
    "bool(5)"
   ]
  },
  {
   "cell_type": "code",
   "execution_count": 20,
   "id": "4dec7d2c-8964-4005-9f54-7d47b9fcf06a",
   "metadata": {},
   "outputs": [
    {
     "data": {
      "text/plain": [
       "False"
      ]
     },
     "execution_count": 20,
     "metadata": {},
     "output_type": "execute_result"
    }
   ],
   "source": [
    "not 5"
   ]
  },
  {
   "cell_type": "code",
   "execution_count": 21,
   "id": "8b76cf60-f9be-4ad5-8b43-da2c0069d708",
   "metadata": {},
   "outputs": [
    {
     "name": "stdout",
     "output_type": "stream",
     "text": [
      "boolean value of no. -5 is True\n",
      "boolean value of no. 5 is True\n",
      "negation of -5 is False and negation of 5 is False\n",
      "\n",
      "#------------------------#\n",
      "\n"
     ]
    }
   ],
   "source": [
    "Some_negative_integer = -5\n",
    "Some_positive_integer = 5\n",
    "\n",
    "print(f\"boolean value of no. {Some_negative_integer} is {bool(Some_negative_integer)}\")\n",
    "print(f\"boolean value of no. {Some_positive_integer} is {bool(Some_positive_integer)}\")\n",
    "print(f\"negation of {Some_negative_integer} is {not Some_negative_integer} \\\n",
    "and negation of {Some_positive_integer} is {not Some_positive_integer}\")\n",
    "\n",
    "print(\"\\n#------------------------#\\n\")"
   ]
  },
  {
   "cell_type": "code",
   "execution_count": 22,
   "id": "4a67f228-3f25-4b13-9608-8dc5bc5b89ea",
   "metadata": {},
   "outputs": [
    {
     "name": "stdout",
     "output_type": "stream",
     "text": [
      "boolean value of no. -5.99 is True\n",
      "boolean value of no. 5.6 is True\n",
      "negation of -5.99 is False and negation of 5.6 is False\n"
     ]
    }
   ],
   "source": [
    "Some_negative_float = -5.99\n",
    "Some_positive_float = 5.6\n",
    "\n",
    "print(f\"boolean value of no. {Some_negative_float} is {bool(Some_negative_float)}\")\n",
    "print(f\"boolean value of no. {Some_positive_float} is {bool(Some_positive_float)}\")\n",
    "print(f\"negation of {Some_negative_float} is {not Some_negative_float} \\\n",
    "and negation of {Some_positive_float} is {not Some_positive_float}\")"
   ]
  },
  {
   "cell_type": "markdown",
   "id": "983e4bf7-1663-455a-9c05-67826ee8bba5",
   "metadata": {},
   "source": [
    "## Logical And"
   ]
  },
  {
   "cell_type": "code",
   "execution_count": 23,
   "id": "d208d808-4ffb-44e6-a061-f03ae5615ecf",
   "metadata": {},
   "outputs": [
    {
     "name": "stdout",
     "output_type": "stream",
     "text": [
      "Dish contains VEGETABLES: True\n",
      "Dish contains SALT: False\n",
      "Hence dish prepared was good: False\n",
      "\n"
     ]
    }
   ],
   "source": [
    "VEGETABLES = True\n",
    "SALT = False\n",
    "DISH = VEGETABLES and SALT\n",
    "\n",
    "print(f\"Dish contains VEGETABLES: {VEGETABLES}\")\n",
    "print(f\"Dish contains SALT: {SALT}\")\n",
    "print(f\"Hence dish prepared was good: {DISH}\\n\")"
   ]
  },
  {
   "cell_type": "code",
   "execution_count": 24,
   "id": "a195a8cb-9b15-4dbd-b09f-67e0adc3b7d4",
   "metadata": {},
   "outputs": [
    {
     "data": {
      "text/plain": [
       "True"
      ]
     },
     "execution_count": 24,
     "metadata": {},
     "output_type": "execute_result"
    }
   ],
   "source": [
    "not(False) * True\n",
    "\n",
    "# precedence of operations comes into play.\n",
    "# before not, * operation will happen on False*True which will return 0\n",
    "# then not execution wil happen. so, not 0 is True\n",
    "# not will always return value in True or False"
   ]
  },
  {
   "cell_type": "code",
   "execution_count": 25,
   "id": "829671b3-3fb2-4f62-93c3-2ddea7b66f3d",
   "metadata": {},
   "outputs": [
    {
     "data": {
      "text/plain": [
       "0"
      ]
     },
     "execution_count": 25,
     "metadata": {},
     "output_type": "execute_result"
    }
   ],
   "source": [
    "False * (not(False))\n",
    "\n",
    "# precedence of operations comes into play.\n",
    "# (not(False)) execution will happen first since it is enclosed in Bracket and it will return True\n",
    "# not will always return value in True or False\n",
    "# then False*True execution will happen which will return 0"
   ]
  },
  {
   "cell_type": "code",
   "execution_count": 26,
   "id": "9bc29b70-b78f-457d-a406-20f3b4ab9f36",
   "metadata": {},
   "outputs": [
    {
     "data": {
      "text/plain": [
       "0"
      ]
     },
     "execution_count": 26,
     "metadata": {},
     "output_type": "execute_result"
    }
   ],
   "source": [
    "True * False"
   ]
  },
  {
   "cell_type": "code",
   "execution_count": 27,
   "id": "284edaaf-eeac-45cb-817a-2a94bc32a0e2",
   "metadata": {},
   "outputs": [
    {
     "data": {
      "text/plain": [
       "True"
      ]
     },
     "execution_count": 27,
     "metadata": {},
     "output_type": "execute_result"
    }
   ],
   "source": [
    "not(True) * False\n",
    "\n",
    "# precedence of operations comes into play.\n",
    "# before not, * operation will happen on True*False which will return 0\n",
    "# then not execution wil happen. so not 0 is True\n",
    "# not will always return value in True or False"
   ]
  },
  {
   "cell_type": "code",
   "execution_count": 28,
   "id": "46747796-d95b-4961-b890-f111eb45ebb7",
   "metadata": {},
   "outputs": [
    {
     "data": {
      "text/plain": [
       "0"
      ]
     },
     "execution_count": 28,
     "metadata": {},
     "output_type": "execute_result"
    }
   ],
   "source": [
    "False * False"
   ]
  },
  {
   "cell_type": "code",
   "execution_count": 29,
   "id": "0c3dd78b-293c-443e-af8f-da02a4e1106b",
   "metadata": {},
   "outputs": [
    {
     "data": {
      "text/plain": [
       "True"
      ]
     },
     "execution_count": 29,
     "metadata": {},
     "output_type": "execute_result"
    }
   ],
   "source": [
    "not False * False\n",
    "\n",
    "# precedence of operations comes into play.\n",
    "# before not, * operation will happen on False*False which will return 0\n",
    "# then not execution wil happen. so, not 0 is True\n",
    "# not will always return value in True or False"
   ]
  },
  {
   "cell_type": "code",
   "execution_count": 30,
   "id": "5f94a882-3719-4033-ab9f-02f4d2583dfa",
   "metadata": {},
   "outputs": [
    {
     "data": {
      "text/plain": [
       "9"
      ]
     },
     "execution_count": 30,
     "metadata": {},
     "output_type": "execute_result"
    }
   ],
   "source": [
    "(1+2)*3 # Precedence rule use BODMAS for calculation of result"
   ]
  },
  {
   "cell_type": "code",
   "execution_count": 31,
   "id": "3d0f0b7f-17f7-4a94-b30b-0e3f0c382c5f",
   "metadata": {},
   "outputs": [
    {
     "data": {
      "text/plain": [
       "True"
      ]
     },
     "execution_count": 31,
     "metadata": {},
     "output_type": "execute_result"
    }
   ],
   "source": [
    "not(False)*False == True\n",
    "\n",
    "# precedence of operations comes into play.\n",
    "# before not, * operation will happen on False*False which will return 0\n",
    "# then not execution wil happen. so, not 0 is True\n",
    "# not will always return value in True or False\n",
    "# lastly True is compared against True (True == True i.e comparision) which will return True"
   ]
  },
  {
   "cell_type": "code",
   "execution_count": 32,
   "id": "2d362593-d58b-402a-bf94-4e3e8091830d",
   "metadata": {},
   "outputs": [
    {
     "name": "stdout",
     "output_type": "stream",
     "text": [
      "0\n"
     ]
    }
   ],
   "source": [
    "print((not(False)) * False)"
   ]
  },
  {
   "cell_type": "code",
   "execution_count": 33,
   "id": "630d4b19-29f6-4c73-a894-78885010f8d5",
   "metadata": {},
   "outputs": [
    {
     "data": {
      "text/plain": [
       "14.0"
      ]
     },
     "execution_count": 33,
     "metadata": {},
     "output_type": "execute_result"
    }
   ],
   "source": [
    "2*3+40/5 # Precedence rule follow BODMAS for calculation of result"
   ]
  },
  {
   "cell_type": "code",
   "execution_count": 34,
   "id": "6528c574-9a72-442f-939e-b24264bdd57c",
   "metadata": {},
   "outputs": [
    {
     "data": {
      "text/plain": [
       "14.0"
      ]
     },
     "execution_count": 34,
     "metadata": {},
     "output_type": "execute_result"
    }
   ],
   "source": [
    "(2*3)+40/5 # Precedence rule follow BODMAS for calculation of result"
   ]
  },
  {
   "cell_type": "code",
   "execution_count": 35,
   "id": "aa23e857-041c-4213-a9b3-30d141b020aa",
   "metadata": {},
   "outputs": [
    {
     "data": {
      "text/plain": [
       "9.2"
      ]
     },
     "execution_count": 35,
     "metadata": {},
     "output_type": "execute_result"
    }
   ],
   "source": [
    "(2*3+40)/5 # Precedence rule follow BODMAS for calculation of result"
   ]
  },
  {
   "cell_type": "code",
   "execution_count": 36,
   "id": "15eb07a5-273e-4f10-88c4-256d8e7973cc",
   "metadata": {},
   "outputs": [
    {
     "data": {
      "text/plain": [
       "True"
      ]
     },
     "execution_count": 36,
     "metadata": {},
     "output_type": "execute_result"
    }
   ],
   "source": [
    "not(False * True)\n",
    "\n",
    "# False*True will returns 0\n",
    "# not 0 will return True"
   ]
  },
  {
   "cell_type": "code",
   "execution_count": 37,
   "id": "dd6e3f33-2c24-4d10-8cc7-d1a960b99c3f",
   "metadata": {},
   "outputs": [
    {
     "data": {
      "text/plain": [
       "False"
      ]
     },
     "execution_count": 37,
     "metadata": {},
     "output_type": "execute_result"
    }
   ],
   "source": [
    "not(1) # not will always return value in True or False"
   ]
  },
  {
   "cell_type": "code",
   "execution_count": 38,
   "id": "1615c0d7-70d1-4d43-875f-4394dd0da290",
   "metadata": {},
   "outputs": [
    {
     "data": {
      "text/plain": [
       "True"
      ]
     },
     "execution_count": 38,
     "metadata": {},
     "output_type": "execute_result"
    }
   ],
   "source": [
    "not False * True == True\n",
    "\n",
    "# precedence of operations comes into play.\n",
    "# before not, * operation will happen on False*True which will return 0\n",
    "# then not execution wil happen. so, not 0 is True\n",
    "# not will always return value in True or False\n",
    "# lastly True is compared against True (True == True i.e comparision) which will return True"
   ]
  },
  {
   "cell_type": "markdown",
   "id": "74258c6b-8ad0-4861-8083-97c81cbfa2c3",
   "metadata": {},
   "source": [
    "## Equality Operators\n",
    "\n",
    "Following operations are present in python for equlity check operation-\n",
    "\n",
    "|Operators|Meaning|\n",
    "|-|-|\n",
    "|**is**|***a is b*** returns true if variable/identifiers a and b *points* to the *same object*|\n",
    "|**is not**|***a is not b*** returns true if variable/identifiers a and b *points* to the *different object*|\n",
    "|**==**|***a == b*** returns true if variable/identifiers a and b has same value|\n",
    "|**!=**|***a != b*** returns true if variable/identifiers a and b has different value|"
   ]
  },
  {
   "cell_type": "code",
   "execution_count": 39,
   "id": "46a194a2-985c-462f-8145-0cf167efb6e8",
   "metadata": {},
   "outputs": [],
   "source": [
    "lst_a=[1,2,3,4]\n",
    "lst_b=[1,2,3,4]"
   ]
  },
  {
   "cell_type": "code",
   "execution_count": 40,
   "id": "c9395415-3521-46b1-8236-2e9209fefbbf",
   "metadata": {
    "tags": []
   },
   "outputs": [
    {
     "name": "stdout",
     "output_type": "stream",
     "text": [
      "139769377513856\n",
      "139769408751872\n"
     ]
    }
   ],
   "source": [
    "# id() returns the memory address of the stored variable\n",
    "print(id(lst_a))\n",
    "print(id(lst_b))"
   ]
  },
  {
   "cell_type": "code",
   "execution_count": 41,
   "id": "dfc7fc13-3a98-48c0-8e7a-ee917665cd35",
   "metadata": {},
   "outputs": [
    {
     "data": {
      "text/plain": [
       "False"
      ]
     },
     "execution_count": 41,
     "metadata": {},
     "output_type": "execute_result"
    }
   ],
   "source": [
    "lst_a is lst_b\n",
    "\n",
    "# is operation will compares the memory address of the two variables\n",
    "# instead of comparing values stored inside those variables\n",
    "# form above cell result it can be observed that memory address of lst_a and lst_b is different\n",
    "# so it will return False"
   ]
  },
  {
   "cell_type": "code",
   "execution_count": 42,
   "id": "7ea425a1-865e-4b5f-a140-d3071d7bc3ce",
   "metadata": {},
   "outputs": [],
   "source": [
    "lst_a=[1,2,3,4]\n",
    "lst_b=lst_a\n",
    "\n",
    "# lst_b is pointing to the memory address of lst_a\n",
    "# so memory address of lst_a and lst_b will be same\n",
    "# also the values stored at that memory address will be same\n",
    "# so value in lst_b will be same as lst_a"
   ]
  },
  {
   "cell_type": "code",
   "execution_count": 43,
   "id": "6956a6f6-7577-4624-965c-d7bff7c3620b",
   "metadata": {},
   "outputs": [
    {
     "name": "stdout",
     "output_type": "stream",
     "text": [
      "139769377512896\n",
      "139769377512896\n"
     ]
    }
   ],
   "source": [
    "print(id(lst_a))\n",
    "print(id(lst_b))"
   ]
  },
  {
   "cell_type": "code",
   "execution_count": 44,
   "id": "4236cc3f-17fc-4d2f-8238-f8ea1ce9d04c",
   "metadata": {},
   "outputs": [
    {
     "data": {
      "text/plain": [
       "True"
      ]
     },
     "execution_count": 44,
     "metadata": {},
     "output_type": "execute_result"
    }
   ],
   "source": [
    "lst_a is lst_b"
   ]
  },
  {
   "cell_type": "code",
   "execution_count": 45,
   "id": "7f043ffb-8cdc-4722-a2c4-f2afe5ee7d35",
   "metadata": {},
   "outputs": [
    {
     "data": {
      "text/plain": [
       "True"
      ]
     },
     "execution_count": 45,
     "metadata": {},
     "output_type": "execute_result"
    }
   ],
   "source": [
    "lst_a=[1,2,3,4]\n",
    "lst_b=[1,2,3,4]\n",
    "\n",
    "lst_a is not lst_b"
   ]
  },
  {
   "cell_type": "code",
   "execution_count": 46,
   "id": "45e0267d-f83a-48da-acc1-e9f329602718",
   "metadata": {},
   "outputs": [
    {
     "data": {
      "text/plain": [
       "True"
      ]
     },
     "execution_count": 46,
     "metadata": {},
     "output_type": "execute_result"
    }
   ],
   "source": [
    "lst_a == lst_b # comparing the values stored in lst_a and lst_b"
   ]
  },
  {
   "cell_type": "code",
   "execution_count": 47,
   "id": "d192aa8a-3dee-45e6-b7e7-ffd98c5441ce",
   "metadata": {},
   "outputs": [],
   "source": [
    "a=2\n",
    "b=2"
   ]
  },
  {
   "cell_type": "code",
   "execution_count": 48,
   "id": "2fd2f9e4-6f7d-4a01-80f2-2d99bc6a314e",
   "metadata": {},
   "outputs": [
    {
     "name": "stdout",
     "output_type": "stream",
     "text": [
      "139769457492240\n",
      "139769457492240\n"
     ]
    }
   ],
   "source": [
    "print(id(a))\n",
    "print(id(b))\n",
    "\n",
    "# in case of integers, string if the values stored is same in both the variables\n",
    "# then both the variables will have same memory address or will point to same object"
   ]
  },
  {
   "cell_type": "code",
   "execution_count": 49,
   "id": "a5df9729-b1d3-4671-86b2-8f29daa64a55",
   "metadata": {},
   "outputs": [
    {
     "name": "stdout",
     "output_type": "stream",
     "text": [
      "139769379519408\n",
      "139769379519408\n"
     ]
    }
   ],
   "source": [
    "str1=\"Krish\"\n",
    "str2=\"Krish\"\n",
    "print(id(str1))\n",
    "print(id(str2))\n",
    "\n",
    "# in case of integers, string if the values stored is same in both the variables\n",
    "# then both the variables will have same memory address or will point to same object"
   ]
  },
  {
   "cell_type": "code",
   "execution_count": 50,
   "id": "f29bd3e5-571a-416c-8d54-d19556e1def6",
   "metadata": {},
   "outputs": [
    {
     "name": "stdout",
     "output_type": "stream",
     "text": [
      "139769379519408\n",
      "139769377617456\n"
     ]
    }
   ],
   "source": [
    "## String is immutable\n",
    "str_1=\"Krish\"\n",
    "str_2=\"Krish1\"\n",
    "print(id(str_1))\n",
    "print(id(str_2))"
   ]
  },
  {
   "cell_type": "markdown",
   "id": "6d4175fe-f609-4bf2-9077-7d43d0d3265a",
   "metadata": {},
   "source": [
    "### Diff. b/w mutable and immutable\n",
    "\n",
    "* string is immutable i.e in string element assignment at particular index is not possible\n",
    "* list is mutable i.e in list element assignment at particular index is possible"
   ]
  },
  {
   "cell_type": "code",
   "execution_count": 51,
   "id": "47d6cd28-cbc1-407c-a024-83017ca17173",
   "metadata": {},
   "outputs": [
    {
     "data": {
      "text/plain": [
       "[1, 2, 3, 4]"
      ]
     },
     "execution_count": 51,
     "metadata": {},
     "output_type": "execute_result"
    }
   ],
   "source": [
    "lst_a"
   ]
  },
  {
   "cell_type": "code",
   "execution_count": 52,
   "id": "2eb822dc-6e8f-494a-8492-0c29ed95854f",
   "metadata": {},
   "outputs": [],
   "source": [
    "lst_a[0]=10 # element assignment at particular index is possible"
   ]
  },
  {
   "cell_type": "code",
   "execution_count": 53,
   "id": "8d8988f6-d29a-4dff-950f-7aca33b70bec",
   "metadata": {},
   "outputs": [
    {
     "data": {
      "text/plain": [
       "[10, 2, 3, 4]"
      ]
     },
     "execution_count": 53,
     "metadata": {},
     "output_type": "execute_result"
    }
   ],
   "source": [
    "lst_a"
   ]
  },
  {
   "cell_type": "code",
   "execution_count": 54,
   "id": "1817f659-46c9-40bd-bf4c-17e029b5a6cd",
   "metadata": {},
   "outputs": [
    {
     "data": {
      "text/plain": [
       "'Krish'"
      ]
     },
     "execution_count": 54,
     "metadata": {},
     "output_type": "execute_result"
    }
   ],
   "source": [
    "str1"
   ]
  },
  {
   "cell_type": "code",
   "execution_count": 55,
   "id": "a6b29719-64dc-4685-873b-ce4e6030db9a",
   "metadata": {},
   "outputs": [
    {
     "ename": "TypeError",
     "evalue": "'str' object does not support item assignment",
     "output_type": "error",
     "traceback": [
      "\u001b[0;31m---------------------------------------------------------------------------\u001b[0m",
      "\u001b[0;31mTypeError\u001b[0m                                 Traceback (most recent call last)",
      "Cell \u001b[0;32mIn[55], line 1\u001b[0m\n\u001b[0;32m----> 1\u001b[0m \u001b[43mstr1\u001b[49m\u001b[43m[\u001b[49m\u001b[38;5;241;43m0\u001b[39;49m\u001b[43m]\u001b[49m\u001b[38;5;241m=\u001b[39m\u001b[38;5;124m'\u001b[39m\u001b[38;5;124mN\u001b[39m\u001b[38;5;124m'\u001b[39m \u001b[38;5;66;03m## immutable i.e element assignment at particular index is not possible\u001b[39;00m\n",
      "\u001b[0;31mTypeError\u001b[0m: 'str' object does not support item assignment"
     ]
    }
   ],
   "source": [
    "str1[0]='N' ## immutable i.e element assignment at particular index is not possible"
   ]
  },
  {
   "cell_type": "markdown",
   "id": "0a142711-aa97-47af-a695-fcfcf38abf14",
   "metadata": {},
   "source": [
    "## Comparision Operation\n",
    "\n",
    "|Operation|Meaning|\n",
    "|:-:|:-:|\n",
    "| **<** |less than|\n",
    "| **<=** |less than or equal to|\n",
    "| **>** |greater than|\n",
    "| **>=** |greater than or equal to|\n"
   ]
  },
  {
   "cell_type": "code",
   "execution_count": 73,
   "id": "b224a068-31d7-4927-b69a-dfd5449450ba",
   "metadata": {},
   "outputs": [
    {
     "name": "stdout",
     "output_type": "stream",
     "text": [
      "bike is faster than car: False\n"
     ]
    }
   ],
   "source": [
    "maxium_speed_of_bike = 150\n",
    "max_speed_of_car = 200\n",
    "\n",
    "print(f\"bike is faster than car: {maxium_speed_of_bike >= max_speed_of_car}\")"
   ]
  },
  {
   "cell_type": "code",
   "execution_count": 74,
   "id": "dce739ae-a7fe-4f75-9085-3935b47a353c",
   "metadata": {},
   "outputs": [
    {
     "name": "stdout",
     "output_type": "stream",
     "text": [
      "bike is faster than car: True\n"
     ]
    }
   ],
   "source": [
    "maxium_speed_of_bike = 200\n",
    "max_speed_of_car = 200\n",
    "\n",
    "print(f\"bike is faster than car: {maxium_speed_of_bike >= max_speed_of_car}\")"
   ]
  },
  {
   "cell_type": "markdown",
   "id": "3606ab90-6e0a-45dd-b93c-5d0774810243",
   "metadata": {},
   "source": [
    "## Arithmethic Operations\n",
    "|Operation|Meaning|\n",
    "|:-:|:-:|\n",
    "| **+** |addition|\n",
    "| **-** |subtraction|\n",
    "| **\\*** |multiplication|\n",
    "| **/** |true division|\n",
    "| **//** |integer division|\n",
    "| **%** |the modulo operator|"
   ]
  },
  {
   "cell_type": "code",
   "execution_count": 75,
   "id": "54d6396a-cfd4-4ca6-9ed6-5466a0952c0a",
   "metadata": {},
   "outputs": [],
   "source": [
    "a=25\n",
    "b=101"
   ]
  },
  {
   "cell_type": "code",
   "execution_count": 76,
   "id": "9a268001-b3f0-4928-999f-90e789dd31e3",
   "metadata": {},
   "outputs": [
    {
     "data": {
      "text/plain": [
       "2525"
      ]
     },
     "execution_count": 76,
     "metadata": {},
     "output_type": "execute_result"
    }
   ],
   "source": [
    "b*a"
   ]
  },
  {
   "cell_type": "code",
   "execution_count": 77,
   "id": "dd4c1c0f-4f1e-40d3-82f2-940720412dfd",
   "metadata": {},
   "outputs": [
    {
     "data": {
      "text/plain": [
       "126"
      ]
     },
     "execution_count": 77,
     "metadata": {},
     "output_type": "execute_result"
    }
   ],
   "source": [
    "b+a"
   ]
  },
  {
   "cell_type": "code",
   "execution_count": 78,
   "id": "d98826f7-1e9d-49a6-ab9b-f1820d160e62",
   "metadata": {},
   "outputs": [
    {
     "data": {
      "text/plain": [
       "0.24752475247524752"
      ]
     },
     "execution_count": 78,
     "metadata": {},
     "output_type": "execute_result"
    }
   ],
   "source": [
    "a/b"
   ]
  },
  {
   "cell_type": "code",
   "execution_count": 79,
   "id": "52e50cec-a0bc-401b-9c0d-b9639ccf9a39",
   "metadata": {},
   "outputs": [
    {
     "data": {
      "text/plain": [
       "0"
      ]
     },
     "execution_count": 79,
     "metadata": {},
     "output_type": "execute_result"
    }
   ],
   "source": [
    "a//b"
   ]
  },
  {
   "cell_type": "code",
   "execution_count": 80,
   "id": "c00927ed-d06a-4d51-984e-202b9b450e70",
   "metadata": {},
   "outputs": [
    {
     "data": {
      "text/plain": [
       "4.04"
      ]
     },
     "execution_count": 80,
     "metadata": {},
     "output_type": "execute_result"
    }
   ],
   "source": [
    "b/a"
   ]
  },
  {
   "cell_type": "code",
   "execution_count": 81,
   "id": "bdc0efd3-784d-412c-9182-d781d850cc4f",
   "metadata": {},
   "outputs": [
    {
     "data": {
      "text/plain": [
       "4"
      ]
     },
     "execution_count": 81,
     "metadata": {},
     "output_type": "execute_result"
    }
   ],
   "source": [
    "b//a"
   ]
  },
  {
   "cell_type": "code",
   "execution_count": 82,
   "id": "b51ee89d-de4e-409b-9d45-528aec0a3883",
   "metadata": {},
   "outputs": [
    {
     "data": {
      "text/plain": [
       "1"
      ]
     },
     "execution_count": 82,
     "metadata": {},
     "output_type": "execute_result"
    }
   ],
   "source": [
    "b%a # % returns remainder"
   ]
  },
  {
   "cell_type": "code",
   "execution_count": 83,
   "id": "72711d59-8259-43c4-ac7c-bd246d65db51",
   "metadata": {},
   "outputs": [
    {
     "data": {
      "text/plain": [
       "25"
      ]
     },
     "execution_count": 83,
     "metadata": {},
     "output_type": "execute_result"
    }
   ],
   "source": [
    "## Display the remainder\n",
    "a%b"
   ]
  },
  {
   "cell_type": "code",
   "execution_count": 84,
   "id": "4d4d2553-f6a8-41be-b280-cecfba401e8c",
   "metadata": {},
   "outputs": [
    {
     "data": {
      "text/plain": [
       "625"
      ]
     },
     "execution_count": 84,
     "metadata": {},
     "output_type": "execute_result"
    }
   ],
   "source": [
    "a**2\n",
    "\n",
    "# **2 returns the square\n",
    "# **3 returns the cube\n",
    "# **num returns the raise to the power num "
   ]
  },
  {
   "cell_type": "markdown",
   "id": "0361de10-48ec-475b-8f9a-f2ab11536d76",
   "metadata": {},
   "source": [
    "### Bitwise Operators\n",
    "|Operation|Meaning|\n",
    "|:-:|:-:|\n",
    "| **∼** |bitwise complement (prefix unary operator)|\n",
    "| **&** |bitwise and|\n",
    "| **\\|** |bitwise or|\n",
    "| **^** |bitwise exclusive-or|\n",
    "| **<<** |shift bits left, filling in with zeros|\n",
    "| **>>** |shift bits right, filling in with sign bit|\n"
   ]
  },
  {
   "cell_type": "code",
   "execution_count": 85,
   "id": "58e707b3-d4b2-419f-ae2f-7b612be73861",
   "metadata": {},
   "outputs": [
    {
     "data": {
      "text/plain": [
       "'0b1010'"
      ]
     },
     "execution_count": 85,
     "metadata": {},
     "output_type": "execute_result"
    }
   ],
   "source": [
    "var=10\n",
    "bin(var) \n",
    "\n",
    "# returns the var or num in binary form\n",
    "# binary for 10 is 1010"
   ]
  },
  {
   "cell_type": "code",
   "execution_count": 86,
   "id": "44be6d80-c379-4892-b6ba-04430aab2eb2",
   "metadata": {},
   "outputs": [
    {
     "data": {
      "text/plain": [
       "-11"
      ]
     },
     "execution_count": 86,
     "metadata": {},
     "output_type": "execute_result"
    }
   ],
   "source": [
    "~var"
   ]
  },
  {
   "cell_type": "code",
   "execution_count": 87,
   "id": "2006a6f5-5c0d-46fb-9eec-b9ba188c060f",
   "metadata": {},
   "outputs": [
    {
     "data": {
      "text/plain": [
       "True"
      ]
     },
     "execution_count": 87,
     "metadata": {},
     "output_type": "execute_result"
    }
   ],
   "source": [
    "True | False"
   ]
  },
  {
   "cell_type": "code",
   "execution_count": 88,
   "id": "a30ce6a4-a329-431d-8ebc-c1f755a0562d",
   "metadata": {},
   "outputs": [
    {
     "data": {
      "text/plain": [
       "False"
      ]
     },
     "execution_count": 88,
     "metadata": {},
     "output_type": "execute_result"
    }
   ],
   "source": [
    "True & False"
   ]
  },
  {
   "cell_type": "code",
   "execution_count": 89,
   "id": "4b3828f1-911c-4b7b-9756-3749e636c668",
   "metadata": {},
   "outputs": [
    {
     "data": {
      "text/plain": [
       "False"
      ]
     },
     "execution_count": 89,
     "metadata": {},
     "output_type": "execute_result"
    }
   ],
   "source": [
    "False & False"
   ]
  },
  {
   "cell_type": "code",
   "execution_count": 90,
   "id": "8594a797-11fc-444e-9277-fc47404f7761",
   "metadata": {},
   "outputs": [
    {
     "data": {
      "text/plain": [
       "5"
      ]
     },
     "execution_count": 90,
     "metadata": {},
     "output_type": "execute_result"
    }
   ],
   "source": [
    "var >>1"
   ]
  },
  {
   "cell_type": "code",
   "execution_count": 91,
   "id": "6dc0675d-fa68-4d70-bd70-9fb8b256c438",
   "metadata": {},
   "outputs": [
    {
     "data": {
      "text/plain": [
       "20"
      ]
     },
     "execution_count": 91,
     "metadata": {},
     "output_type": "execute_result"
    }
   ],
   "source": [
    "var << 1"
   ]
  },
  {
   "cell_type": "markdown",
   "id": "d2373a89-b534-4380-b79b-c953241f942b",
   "metadata": {},
   "source": [
    "## Strings"
   ]
  },
  {
   "cell_type": "code",
   "execution_count": 92,
   "id": "f28a87e1-48d0-49d4-97fe-27f3f59afb7a",
   "metadata": {},
   "outputs": [
    {
     "data": {
      "text/plain": [
       "'Welcome to the Data Science masters'"
      ]
     },
     "execution_count": 92,
     "metadata": {},
     "output_type": "execute_result"
    }
   ],
   "source": [
    "\"Welcome to the Data Science masters\""
   ]
  },
  {
   "cell_type": "code",
   "execution_count": 93,
   "id": "e68c540b-9447-4802-943e-76a37d08be81",
   "metadata": {},
   "outputs": [],
   "source": [
    "str1=\"Welcome to Data Science Masters\""
   ]
  },
  {
   "cell_type": "code",
   "execution_count": 94,
   "id": "2f17b3ce-5591-4bc8-b45a-0d1aa0cd347d",
   "metadata": {},
   "outputs": [
    {
     "data": {
      "text/plain": [
       "'Welcome to Data Science Masters'"
      ]
     },
     "execution_count": 94,
     "metadata": {},
     "output_type": "execute_result"
    }
   ],
   "source": [
    "str1"
   ]
  },
  {
   "cell_type": "code",
   "execution_count": 95,
   "id": "46fee28c-f4ac-4bc3-b23d-bf1aaec63d90",
   "metadata": {},
   "outputs": [
    {
     "data": {
      "text/plain": [
       "str"
      ]
     },
     "execution_count": 95,
     "metadata": {},
     "output_type": "execute_result"
    }
   ],
   "source": [
    "type(str1)"
   ]
  },
  {
   "cell_type": "code",
   "execution_count": 96,
   "id": "b2fbebc3-1b2a-4a05-a66d-df4f0dfbeafe",
   "metadata": {},
   "outputs": [
    {
     "ename": "TypeError",
     "evalue": "'str' object does not support item assignment",
     "output_type": "error",
     "traceback": [
      "\u001b[0;31m---------------------------------------------------------------------------\u001b[0m",
      "\u001b[0;31mTypeError\u001b[0m                                 Traceback (most recent call last)",
      "Cell \u001b[0;32mIn[96], line 2\u001b[0m\n\u001b[1;32m      1\u001b[0m \u001b[38;5;66;03m## immutable i.e element assignment at particular index is not possible\u001b[39;00m\n\u001b[0;32m----> 2\u001b[0m \u001b[43mstr1\u001b[49m\u001b[43m[\u001b[49m\u001b[38;5;241;43m0\u001b[39;49m\u001b[43m]\u001b[49m\u001b[38;5;241m=\u001b[39m\u001b[38;5;241m12\u001b[39m\n",
      "\u001b[0;31mTypeError\u001b[0m: 'str' object does not support item assignment"
     ]
    }
   ],
   "source": [
    "## immutable i.e element assignment at particular index is not possible\n",
    "str1[0]=12"
   ]
  },
  {
   "cell_type": "code",
   "execution_count": 97,
   "id": "467ff037-913d-42a9-a0f7-d7f4248a710e",
   "metadata": {},
   "outputs": [],
   "source": [
    "str1=\"Payas Nimje\""
   ]
  },
  {
   "cell_type": "code",
   "execution_count": 98,
   "id": "70444cf1-5925-4078-a6d3-4c9cdde818d0",
   "metadata": {},
   "outputs": [
    {
     "data": {
      "text/plain": [
       "'Payas Nimje'"
      ]
     },
     "execution_count": 98,
     "metadata": {},
     "output_type": "execute_result"
    }
   ],
   "source": [
    "str1"
   ]
  },
  {
   "cell_type": "code",
   "execution_count": 99,
   "id": "36b6e918-bde5-4ff0-9231-dbaf945c63bb",
   "metadata": {},
   "outputs": [],
   "source": [
    "welcome=\"Hello World\""
   ]
  },
  {
   "cell_type": "code",
   "execution_count": 100,
   "id": "1e8713a4-fa98-40e2-84e3-02c846b9d586",
   "metadata": {},
   "outputs": [
    {
     "data": {
      "text/plain": [
       "'Hello World'"
      ]
     },
     "execution_count": 100,
     "metadata": {},
     "output_type": "execute_result"
    }
   ],
   "source": [
    "welcome"
   ]
  },
  {
   "cell_type": "code",
   "execution_count": 101,
   "id": "fae6e67f-2345-4281-9c91-8e1913601b52",
   "metadata": {},
   "outputs": [
    {
     "data": {
      "text/plain": [
       "str"
      ]
     },
     "execution_count": 101,
     "metadata": {},
     "output_type": "execute_result"
    }
   ],
   "source": [
    "type(welcome)"
   ]
  },
  {
   "cell_type": "code",
   "execution_count": 102,
   "id": "c28eede5-fa5b-44bb-96ef-954af29c6702",
   "metadata": {},
   "outputs": [
    {
     "data": {
      "text/plain": [
       "['__add__',\n",
       " '__class__',\n",
       " '__contains__',\n",
       " '__delattr__',\n",
       " '__dir__',\n",
       " '__doc__',\n",
       " '__eq__',\n",
       " '__format__',\n",
       " '__ge__',\n",
       " '__getattribute__',\n",
       " '__getitem__',\n",
       " '__getnewargs__',\n",
       " '__gt__',\n",
       " '__hash__',\n",
       " '__init__',\n",
       " '__init_subclass__',\n",
       " '__iter__',\n",
       " '__le__',\n",
       " '__len__',\n",
       " '__lt__',\n",
       " '__mod__',\n",
       " '__mul__',\n",
       " '__ne__',\n",
       " '__new__',\n",
       " '__reduce__',\n",
       " '__reduce_ex__',\n",
       " '__repr__',\n",
       " '__rmod__',\n",
       " '__rmul__',\n",
       " '__setattr__',\n",
       " '__sizeof__',\n",
       " '__str__',\n",
       " '__subclasshook__',\n",
       " 'capitalize',\n",
       " 'casefold',\n",
       " 'center',\n",
       " 'count',\n",
       " 'encode',\n",
       " 'endswith',\n",
       " 'expandtabs',\n",
       " 'find',\n",
       " 'format',\n",
       " 'format_map',\n",
       " 'index',\n",
       " 'isalnum',\n",
       " 'isalpha',\n",
       " 'isascii',\n",
       " 'isdecimal',\n",
       " 'isdigit',\n",
       " 'isidentifier',\n",
       " 'islower',\n",
       " 'isnumeric',\n",
       " 'isprintable',\n",
       " 'isspace',\n",
       " 'istitle',\n",
       " 'isupper',\n",
       " 'join',\n",
       " 'ljust',\n",
       " 'lower',\n",
       " 'lstrip',\n",
       " 'maketrans',\n",
       " 'partition',\n",
       " 'removeprefix',\n",
       " 'removesuffix',\n",
       " 'replace',\n",
       " 'rfind',\n",
       " 'rindex',\n",
       " 'rjust',\n",
       " 'rpartition',\n",
       " 'rsplit',\n",
       " 'rstrip',\n",
       " 'split',\n",
       " 'splitlines',\n",
       " 'startswith',\n",
       " 'strip',\n",
       " 'swapcase',\n",
       " 'title',\n",
       " 'translate',\n",
       " 'upper',\n",
       " 'zfill']"
      ]
     },
     "execution_count": 102,
     "metadata": {},
     "output_type": "execute_result"
    }
   ],
   "source": [
    "# dir gives list of functions that can be used with different class\n",
    "# since welcome is str, dir returns list of function that can be use with str\n",
    "dir(welcome)"
   ]
  },
  {
   "cell_type": "code",
   "execution_count": 103,
   "id": "f0a5da2d-7e10-49c3-8788-0fa93a3df25e",
   "metadata": {},
   "outputs": [],
   "source": [
    "string =\"Pw Skills Data Science\""
   ]
  },
  {
   "cell_type": "code",
   "execution_count": 104,
   "id": "d80e8cb6-d516-4176-9ac1-257193060fc7",
   "metadata": {},
   "outputs": [
    {
     "data": {
      "text/plain": [
       "'i'"
      ]
     },
     "execution_count": 104,
     "metadata": {},
     "output_type": "execute_result"
    }
   ],
   "source": [
    "string[5] \n",
    "\n",
    "# in python indexing starts from 0\n",
    "# so at index 5 i is present"
   ]
  },
  {
   "cell_type": "code",
   "execution_count": 105,
   "id": "05453966-9e65-48f5-9db8-84cabd25c60f",
   "metadata": {},
   "outputs": [
    {
     "data": {
      "text/plain": [
       "'ills D'"
      ]
     },
     "execution_count": 105,
     "metadata": {},
     "output_type": "execute_result"
    }
   ],
   "source": [
    "## slice operation\n",
    "## by default the traversing is in right side\n",
    "## for positive 3rd arguement value traversing is in right side\n",
    "## for negative 3rd arguement value traversing is in left side\n",
    "string[5:11]"
   ]
  },
  {
   "cell_type": "code",
   "execution_count": 106,
   "id": "2f9316d7-8d3b-4a27-bee3-a9a420352d9d",
   "metadata": {},
   "outputs": [
    {
     "data": {
      "text/plain": [
       "'e'"
      ]
     },
     "execution_count": 106,
     "metadata": {},
     "output_type": "execute_result"
    }
   ],
   "source": [
    "string[-1] #returns the last element in string"
   ]
  },
  {
   "cell_type": "code",
   "execution_count": 107,
   "id": "00fbcb4b-6d31-4e07-a60b-0b052e0b59b9",
   "metadata": {},
   "outputs": [
    {
     "data": {
      "text/plain": [
       "'nce'"
      ]
     },
     "execution_count": 107,
     "metadata": {},
     "output_type": "execute_result"
    }
   ],
   "source": [
    "string[-3:]"
   ]
  },
  {
   "cell_type": "code",
   "execution_count": 108,
   "id": "be8264aa-2cf3-4f02-ab22-805ddd1f43c0",
   "metadata": {},
   "outputs": [
    {
     "data": {
      "text/plain": [
       "'Scie'"
      ]
     },
     "execution_count": 108,
     "metadata": {},
     "output_type": "execute_result"
    }
   ],
   "source": [
    "string[-7:-3]"
   ]
  },
  {
   "cell_type": "code",
   "execution_count": 109,
   "id": "d62bb113-3c39-41e9-a475-30b922c61da0",
   "metadata": {},
   "outputs": [
    {
     "data": {
      "text/plain": [
       "'Pw Skills Data Science'"
      ]
     },
     "execution_count": 109,
     "metadata": {},
     "output_type": "execute_result"
    }
   ],
   "source": [
    "string"
   ]
  },
  {
   "cell_type": "code",
   "execution_count": 110,
   "id": "b3ec0a2c-456a-42de-8ae5-7afb37526328",
   "metadata": {},
   "outputs": [
    {
     "data": {
      "text/plain": [
       "''"
      ]
     },
     "execution_count": 110,
     "metadata": {},
     "output_type": "execute_result"
    }
   ],
   "source": [
    "string[-7:5]"
   ]
  },
  {
   "cell_type": "code",
   "execution_count": 111,
   "id": "b6cfb598-f270-47b8-8a87-6259e30e8b80",
   "metadata": {},
   "outputs": [
    {
     "data": {
      "text/plain": [
       "''"
      ]
     },
     "execution_count": 111,
     "metadata": {},
     "output_type": "execute_result"
    }
   ],
   "source": [
    "string[7:5]"
   ]
  },
  {
   "cell_type": "code",
   "execution_count": 112,
   "id": "ca37195a-413e-48a2-961b-21340360e681",
   "metadata": {},
   "outputs": [
    {
     "data": {
      "text/plain": [
       "''"
      ]
     },
     "execution_count": 112,
     "metadata": {},
     "output_type": "execute_result"
    }
   ],
   "source": [
    "string[-10:10]"
   ]
  },
  {
   "cell_type": "code",
   "execution_count": 113,
   "id": "891df1f6-9b61-4574-929f-0e4e18b9bdf0",
   "metadata": {},
   "outputs": [
    {
     "data": {
      "text/plain": [
       "'Pw Skills Data Scienc'"
      ]
     },
     "execution_count": 113,
     "metadata": {},
     "output_type": "execute_result"
    }
   ],
   "source": [
    "string[:-1]"
   ]
  },
  {
   "cell_type": "code",
   "execution_count": 114,
   "id": "de85da79-3886-48de-b6b5-65ae2cd2e287",
   "metadata": {},
   "outputs": [
    {
     "data": {
      "text/plain": [
       "'Pw Skills Data Science'"
      ]
     },
     "execution_count": 114,
     "metadata": {},
     "output_type": "execute_result"
    }
   ],
   "source": [
    "string[:]"
   ]
  },
  {
   "cell_type": "code",
   "execution_count": 115,
   "id": "b0b5dbfd-d655-47b8-8ee8-00e0b52c3409",
   "metadata": {},
   "outputs": [],
   "source": [
    "course_name = 'Data Science Masters'"
   ]
  },
  {
   "cell_type": "code",
   "execution_count": 116,
   "id": "29d3b8fd-de76-4fdb-b5b4-dcd4add0ab29",
   "metadata": {},
   "outputs": [
    {
     "data": {
      "text/plain": [
       "'Data Science Masters'"
      ]
     },
     "execution_count": 116,
     "metadata": {},
     "output_type": "execute_result"
    }
   ],
   "source": [
    "course_name"
   ]
  },
  {
   "cell_type": "code",
   "execution_count": 117,
   "id": "f5b77d1f-b14a-46df-a803-f8aa0bd77c4b",
   "metadata": {},
   "outputs": [
    {
     "data": {
      "text/plain": [
       "'rt'"
      ]
     },
     "execution_count": 117,
     "metadata": {},
     "output_type": "execute_result"
    }
   ],
   "source": [
    "name=\"Karthik\"\n",
    "name[-5:4]"
   ]
  },
  {
   "cell_type": "code",
   "execution_count": 118,
   "id": "32497894-7000-47bb-b5c7-52f385a1d0cd",
   "metadata": {},
   "outputs": [
    {
     "data": {
      "text/plain": [
       "'Pw Skills Data Science'"
      ]
     },
     "execution_count": 118,
     "metadata": {},
     "output_type": "execute_result"
    }
   ],
   "source": [
    "string"
   ]
  },
  {
   "cell_type": "code",
   "execution_count": 119,
   "id": "01f3d174-58d5-4a8e-b5c0-d7099857f237",
   "metadata": {},
   "outputs": [
    {
     "data": {
      "text/plain": [
       "'ecneicS ataD sllikS wP'"
      ]
     },
     "execution_count": 119,
     "metadata": {},
     "output_type": "execute_result"
    }
   ],
   "source": [
    "string[::-1] # to reverse the string without using for loop"
   ]
  },
  {
   "cell_type": "code",
   "execution_count": 120,
   "id": "5b3bd9d8-0923-4249-9e4b-5a4612405462",
   "metadata": {},
   "outputs": [
    {
     "data": {
      "text/plain": [
       "'eniSaa liSw'"
      ]
     },
     "execution_count": 120,
     "metadata": {},
     "output_type": "execute_result"
    }
   ],
   "source": [
    "string[::-2] # reverse the string and returns every 2nd element"
   ]
  },
  {
   "cell_type": "code",
   "execution_count": 121,
   "id": "b4fb35d0-29be-4f4a-bc17-2f8377b88708",
   "metadata": {},
   "outputs": [
    {
     "data": {
      "text/plain": [
       "'sretsaM ecneicS ataD'"
      ]
     },
     "execution_count": 121,
     "metadata": {},
     "output_type": "execute_result"
    }
   ],
   "source": [
    "course_name[::-1]"
   ]
  },
  {
   "cell_type": "code",
   "execution_count": 122,
   "id": "6537417c-1e3d-4088-b687-0253ba1a6309",
   "metadata": {},
   "outputs": [
    {
     "data": {
      "text/plain": [
       "'ecneicS ataD sllikS wP'"
      ]
     },
     "execution_count": 122,
     "metadata": {},
     "output_type": "execute_result"
    }
   ],
   "source": [
    "string[::-1]"
   ]
  },
  {
   "cell_type": "code",
   "execution_count": 123,
   "id": "f9fee1a6-46c6-47d8-b6e6-7d5e18efbaee",
   "metadata": {},
   "outputs": [
    {
     "data": {
      "text/plain": [
       "'eeSt lSP'"
      ]
     },
     "execution_count": 123,
     "metadata": {},
     "output_type": "execute_result"
    }
   ],
   "source": [
    "string[::-3] # reverse the string and returns every 3rd element"
   ]
  },
  {
   "cell_type": "code",
   "execution_count": 124,
   "id": "f4f3e7d0-e34a-4f8e-91b7-42a42a4a286a",
   "metadata": {},
   "outputs": [
    {
     "data": {
      "text/plain": [
       "'PiDSc'"
      ]
     },
     "execution_count": 124,
     "metadata": {},
     "output_type": "execute_result"
    }
   ],
   "source": [
    "string[::5] # returns every 5th element"
   ]
  },
  {
   "cell_type": "code",
   "execution_count": 125,
   "id": "65772ca8-5c4c-48c7-93f7-b16509b14dde",
   "metadata": {},
   "outputs": [],
   "source": [
    "name=\"Krish\""
   ]
  },
  {
   "cell_type": "code",
   "execution_count": 126,
   "id": "a2316d23-cf8a-4258-a9b6-4a03fcf9ac6e",
   "metadata": {},
   "outputs": [
    {
     "data": {
      "text/plain": [
       "'hiK'"
      ]
     },
     "execution_count": 126,
     "metadata": {},
     "output_type": "execute_result"
    }
   ],
   "source": [
    "name[::-2] # reverse the string and returns every 2nd element"
   ]
  },
  {
   "cell_type": "code",
   "execution_count": 127,
   "id": "c200eed8-8c5b-4802-8946-3a5cb6bbd0d8",
   "metadata": {},
   "outputs": [
    {
     "data": {
      "text/plain": [
       "'si'"
      ]
     },
     "execution_count": 127,
     "metadata": {},
     "output_type": "execute_result"
    }
   ],
   "source": [
    "name[3:1:-1]"
   ]
  },
  {
   "cell_type": "code",
   "execution_count": 128,
   "id": "69f7e4bb-75ce-4859-b66d-aa103a8d02a7",
   "metadata": {},
   "outputs": [
    {
     "data": {
      "text/plain": [
       "'hsirK'"
      ]
     },
     "execution_count": 128,
     "metadata": {},
     "output_type": "execute_result"
    }
   ],
   "source": [
    "name[::-1]"
   ]
  },
  {
   "cell_type": "code",
   "execution_count": 129,
   "id": "183deed3-8ece-47af-9924-d0f4d5bc750c",
   "metadata": {},
   "outputs": [],
   "source": [
    "course_name=\"Data Science Masters\""
   ]
  },
  {
   "cell_type": "code",
   "execution_count": 133,
   "id": "1e30abf4-41d6-497b-bf78-503971784e9f",
   "metadata": {},
   "outputs": [
    {
     "data": {
      "text/plain": [
       "'ecneicS'"
      ]
     },
     "execution_count": 133,
     "metadata": {},
     "output_type": "execute_result"
    }
   ],
   "source": [
    "course_name[11:4:-1]\n",
    "\n",
    "# While traversing in left side (backward), start index > end index"
   ]
  },
  {
   "cell_type": "code",
   "execution_count": 134,
   "id": "3291cd8f-cc4a-4725-85a7-c2c3d06df55a",
   "metadata": {},
   "outputs": [
    {
     "data": {
      "text/plain": [
       "'Science'"
      ]
     },
     "execution_count": 134,
     "metadata": {},
     "output_type": "execute_result"
    }
   ],
   "source": [
    "course_name[5:12]\n",
    "\n",
    "# While traversing in right side, start index < end index"
   ]
  },
  {
   "cell_type": "markdown",
   "id": "e4952225-a93d-4f2a-8334-09ea84dae4c0",
   "metadata": {},
   "source": [
    "## Concatenation in String"
   ]
  },
  {
   "cell_type": "code",
   "execution_count": 136,
   "id": "bf7064d9-c8e6-462d-8de6-b686113cf81f",
   "metadata": {},
   "outputs": [
    {
     "data": {
      "text/plain": [
       "'Data Science Masters Course'"
      ]
     },
     "execution_count": 136,
     "metadata": {},
     "output_type": "execute_result"
    }
   ],
   "source": [
    "## concatentaion\n",
    "course_name + \" Course\""
   ]
  },
  {
   "cell_type": "code",
   "execution_count": 138,
   "id": "7ec3b25c-1152-47a0-8def-e7e7ed69c818",
   "metadata": {},
   "outputs": [
    {
     "name": "stdout",
     "output_type": "stream",
     "text": [
      "HelloWorlds\n"
     ]
    }
   ],
   "source": [
    "print(\"Hello\" + \"Worlds\")"
   ]
  },
  {
   "cell_type": "code",
   "execution_count": 140,
   "id": "c06df6ef-90d0-4d00-afac-11c3ff5d8e9e",
   "metadata": {},
   "outputs": [
    {
     "data": {
      "text/plain": [
       "'Data Science MastersData Science MastersData Science MastersData Science MastersData Science Masters'"
      ]
     },
     "execution_count": 140,
     "metadata": {},
     "output_type": "execute_result"
    }
   ],
   "source": [
    "course_name * 5"
   ]
  },
  {
   "cell_type": "code",
   "execution_count": 141,
   "id": "d1ac1e57-f0bc-4086-9d43-8afe8bd8209a",
   "metadata": {},
   "outputs": [
    {
     "data": {
      "text/plain": [
       "'Data Science Masters Data Science Masters Data Science Masters Data Science Masters Data Science Masters '"
      ]
     },
     "execution_count": 141,
     "metadata": {},
     "output_type": "execute_result"
    }
   ],
   "source": [
    "(course_name + \" \") *5"
   ]
  },
  {
   "cell_type": "code",
   "execution_count": 144,
   "id": "eb9f2e31-e794-4368-984c-f6f321facf0e",
   "metadata": {},
   "outputs": [
    {
     "data": {
      "text/plain": [
       "'Data Science Masters'"
      ]
     },
     "execution_count": 144,
     "metadata": {},
     "output_type": "execute_result"
    }
   ],
   "source": [
    "course_name"
   ]
  },
  {
   "cell_type": "code",
   "execution_count": 145,
   "id": "d6ecc4c4-1150-40a3-b28f-aae4fb5d3405",
   "metadata": {},
   "outputs": [
    {
     "data": {
      "text/plain": [
       "20"
      ]
     },
     "execution_count": 145,
     "metadata": {},
     "output_type": "execute_result"
    }
   ],
   "source": [
    "# len() returns the length of the string or list or tuple\n",
    "\n",
    "len(course_name)"
   ]
  },
  {
   "cell_type": "code",
   "execution_count": 147,
   "id": "eb4256d3-447f-472b-a1a9-48405fc586f3",
   "metadata": {},
   "outputs": [
    {
     "data": {
      "text/plain": [
       "9"
      ]
     },
     "execution_count": 147,
     "metadata": {},
     "output_type": "execute_result"
    }
   ],
   "source": [
    "## find() returns the index of the element it find first if it is present in string\n",
    "course_name.find(\"n\")"
   ]
  },
  {
   "cell_type": "code",
   "execution_count": 149,
   "id": "5875ba16-d662-4568-93f0-92d7754b8c8b",
   "metadata": {},
   "outputs": [
    {
     "data": {
      "text/plain": [
       "3"
      ]
     },
     "execution_count": 149,
     "metadata": {},
     "output_type": "execute_result"
    }
   ],
   "source": [
    "course_name.find(\"a\",2,10) \n",
    "\n",
    "# returns the index of first \"a\" that it finds in the index range of 2 to 10"
   ]
  },
  {
   "cell_type": "code",
   "execution_count": 152,
   "id": "fd746069-11b5-4559-ab43-141797af8282",
   "metadata": {},
   "outputs": [
    {
     "data": {
      "text/plain": [
       "-1"
      ]
     },
     "execution_count": 152,
     "metadata": {},
     "output_type": "execute_result"
    }
   ],
   "source": [
    "course_name.find(\"z\")\n",
    "\n",
    "# returns -1 as it does not find \"z\" in the string"
   ]
  },
  {
   "cell_type": "code",
   "execution_count": 154,
   "id": "cbe9f3f1-f36d-4455-abbb-4abd4fb3a7b0",
   "metadata": {},
   "outputs": [
    {
     "data": {
      "text/plain": [
       "3"
      ]
     },
     "execution_count": 154,
     "metadata": {},
     "output_type": "execute_result"
    }
   ],
   "source": [
    "## count() returns the total count of element in the string\n",
    "course_name.count('a')"
   ]
  },
  {
   "cell_type": "code",
   "execution_count": 155,
   "id": "cb44d601-3995-44a6-b93c-299c42792f3b",
   "metadata": {},
   "outputs": [
    {
     "data": {
      "text/plain": [
       "2"
      ]
     },
     "execution_count": 155,
     "metadata": {},
     "output_type": "execute_result"
    }
   ],
   "source": [
    "course_name.count(' ')"
   ]
  },
  {
   "cell_type": "code",
   "execution_count": 156,
   "id": "a8a8cafe-011d-4131-b58c-dc7af760ffae",
   "metadata": {},
   "outputs": [
    {
     "data": {
      "text/plain": [
       "21"
      ]
     },
     "execution_count": 156,
     "metadata": {},
     "output_type": "execute_result"
    }
   ],
   "source": [
    "course_name.count('')"
   ]
  },
  {
   "cell_type": "code",
   "execution_count": 159,
   "id": "82e95f4b-2c80-4a7c-871f-db111072c9fe",
   "metadata": {},
   "outputs": [
    {
     "data": {
      "text/plain": [
       "['Data', 'Science', 'Masters']"
      ]
     },
     "execution_count": 159,
     "metadata": {},
     "output_type": "execute_result"
    }
   ],
   "source": [
    "# string split function\n",
    "# split() returns the list of substring splitted by specified seperator\n",
    "course_name.split(' ')\n",
    "\n",
    "# Data Science Masters will get seperated by blank(\" \")"
   ]
  },
  {
   "cell_type": "code",
   "execution_count": 160,
   "id": "db77b360-3bdc-4b73-9a90-d8860e185840",
   "metadata": {},
   "outputs": [
    {
     "data": {
      "text/plain": [
       "'Data Science Masters'"
      ]
     },
     "execution_count": 160,
     "metadata": {},
     "output_type": "execute_result"
    }
   ],
   "source": [
    "course_name"
   ]
  },
  {
   "cell_type": "code",
   "execution_count": 161,
   "id": "c795d808-57e5-49d0-9849-c4046794c0e6",
   "metadata": {},
   "outputs": [
    {
     "data": {
      "text/plain": [
       "['Data ', 'cience Masters']"
      ]
     },
     "execution_count": 161,
     "metadata": {},
     "output_type": "execute_result"
    }
   ],
   "source": [
    "course_name.split('S')"
   ]
  },
  {
   "cell_type": "code",
   "execution_count": 162,
   "id": "c08383cf-4501-451d-a571-b73e7c639c50",
   "metadata": {},
   "outputs": [
    {
     "data": {
      "text/plain": [
       "['Data Science Ma', 'ter', '']"
      ]
     },
     "execution_count": 162,
     "metadata": {},
     "output_type": "execute_result"
    }
   ],
   "source": [
    "course_name.split('s')"
   ]
  },
  {
   "cell_type": "code",
   "execution_count": 164,
   "id": "592d4352-ce41-48c4-8663-00f5138c3aa3",
   "metadata": {},
   "outputs": [
    {
     "data": {
      "text/plain": [
       "('Data Science Ma', 's', 'ters')"
      ]
     },
     "execution_count": 164,
     "metadata": {},
     "output_type": "execute_result"
    }
   ],
   "source": [
    "# partition() - Partition the string into three parts using the given separator.\n",
    "course_name.partition('s')"
   ]
  },
  {
   "cell_type": "code",
   "execution_count": 165,
   "id": "b75fe25d-b2c3-470e-93b4-921df7f85249",
   "metadata": {},
   "outputs": [
    {
     "data": {
      "text/plain": [
       "'DATA SCIENCE MASTERS'"
      ]
     },
     "execution_count": 165,
     "metadata": {},
     "output_type": "execute_result"
    }
   ],
   "source": [
    "## SString upper and lowercase\n",
    "course_name.upper()"
   ]
  },
  {
   "cell_type": "code",
   "execution_count": 167,
   "id": "f97304af-8c2e-4b50-ba19-3321abb21840",
   "metadata": {},
   "outputs": [
    {
     "data": {
      "text/plain": [
       "'data science masters'"
      ]
     },
     "execution_count": 167,
     "metadata": {},
     "output_type": "execute_result"
    }
   ],
   "source": [
    "course_name.lower()"
   ]
  },
  {
   "cell_type": "code",
   "execution_count": 168,
   "id": "29dedf7f-4d0a-4ada-8e96-b6e3e89a639e",
   "metadata": {},
   "outputs": [
    {
     "data": {
      "text/plain": [
       "'dATA sCIENCE mASTERS'"
      ]
     },
     "execution_count": 168,
     "metadata": {},
     "output_type": "execute_result"
    }
   ],
   "source": [
    "course_name.swapcase()"
   ]
  },
  {
   "cell_type": "code",
   "execution_count": 169,
   "id": "d9eebaad-20ad-4b03-acb4-ef50d6fd5bf6",
   "metadata": {},
   "outputs": [
    {
     "data": {
      "text/plain": [
       "'Data Science Masters'"
      ]
     },
     "execution_count": 169,
     "metadata": {},
     "output_type": "execute_result"
    }
   ],
   "source": [
    "course_name.title()"
   ]
  },
  {
   "cell_type": "code",
   "execution_count": 170,
   "id": "72c9678e-5cc6-46d1-94e6-79260d5f55fb",
   "metadata": {},
   "outputs": [
    {
     "data": {
      "text/plain": [
       "'Data Science Masters'"
      ]
     },
     "execution_count": 170,
     "metadata": {},
     "output_type": "execute_result"
    }
   ],
   "source": [
    "course_name"
   ]
  },
  {
   "cell_type": "code",
   "execution_count": 173,
   "id": "c168b3f7-1a03-495a-9735-b778828a70a0",
   "metadata": {},
   "outputs": [],
   "source": [
    "name=\"payas nimje\""
   ]
  },
  {
   "cell_type": "code",
   "execution_count": 174,
   "id": "e32e1278-5d85-490f-93d9-82e82ca39914",
   "metadata": {},
   "outputs": [
    {
     "data": {
      "text/plain": [
       "'payas nimje'"
      ]
     },
     "execution_count": 174,
     "metadata": {},
     "output_type": "execute_result"
    }
   ],
   "source": [
    "name"
   ]
  },
  {
   "cell_type": "code",
   "execution_count": 175,
   "id": "8054ed86-00d7-4b76-9254-c19fb147d4a4",
   "metadata": {},
   "outputs": [
    {
     "data": {
      "text/plain": [
       "'Payas Nimje'"
      ]
     },
     "execution_count": 175,
     "metadata": {},
     "output_type": "execute_result"
    }
   ],
   "source": [
    "name.title()"
   ]
  }
 ],
 "metadata": {
  "kernelspec": {
   "display_name": "Python 3 (ipykernel)",
   "language": "python",
   "name": "python3"
  },
  "language_info": {
   "codemirror_mode": {
    "name": "ipython",
    "version": 3
   },
   "file_extension": ".py",
   "mimetype": "text/x-python",
   "name": "python",
   "nbconvert_exporter": "python",
   "pygments_lexer": "ipython3",
   "version": "3.10.8"
  }
 },
 "nbformat": 4,
 "nbformat_minor": 5
}
