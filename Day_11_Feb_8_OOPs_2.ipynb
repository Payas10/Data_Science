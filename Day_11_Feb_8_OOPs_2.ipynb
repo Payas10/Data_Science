{
 "cells": [
  {
   "cell_type": "markdown",
   "id": "17de4e01-47cb-4f82-8440-642c96ea5a8e",
   "metadata": {},
   "source": [
    "# OOPs Part 2"
   ]
  },
  {
   "cell_type": "markdown",
   "id": "06ff06fd-0537-45b8-9efd-146ed0065076",
   "metadata": {},
   "source": [
    "## Polymorphism\n",
    "> Poly - Many | Morphism - state or behaviour\n",
    "\n",
    "Just like a man is son of someone, husband of someone, father of someone, brother of someone, employee for someone, etc. this means a single person is showing multiple behaviour.\n",
    "\n",
    "> Polymorphism is one of the pillar in OOPs concept"
   ]
  },
  {
   "cell_type": "markdown",
   "id": "39358122-7615-403e-94d8-52d269b6c7cf",
   "metadata": {},
   "source": [
    "* following are the examples of polymorphism where a and b arguements can have differnt types of values and there final behaviour is based on those values"
   ]
  },
  {
   "cell_type": "code",
   "execution_count": 1,
   "id": "98e47827-ab71-431b-91e4-15d5066b3ea9",
   "metadata": {},
   "outputs": [],
   "source": [
    "def test(a,b):\n",
    "    return a + b"
   ]
  },
  {
   "cell_type": "code",
   "execution_count": 2,
   "id": "679ba6b9-1660-43f9-b173-ab5a4391db34",
   "metadata": {},
   "outputs": [
    {
     "data": {
      "text/plain": [
       "9"
      ]
     },
     "execution_count": 2,
     "metadata": {},
     "output_type": "execute_result"
    }
   ],
   "source": [
    "test(4,5)"
   ]
  },
  {
   "cell_type": "code",
   "execution_count": 3,
   "id": "73996ba1-7d5b-4f65-9928-ab3defc9d1a4",
   "metadata": {},
   "outputs": [
    {
     "data": {
      "text/plain": [
       "'hello world'"
      ]
     },
     "execution_count": 3,
     "metadata": {},
     "output_type": "execute_result"
    }
   ],
   "source": [
    "test(\"hello \", \"world\")"
   ]
  },
  {
   "cell_type": "code",
   "execution_count": 4,
   "id": "857bf4c9-a4cf-4886-9894-0f4233f867d3",
   "metadata": {},
   "outputs": [
    {
     "data": {
      "text/plain": [
       "[1, 2, 3, 4, 5, 6, 7, 8, 9]"
      ]
     },
     "execution_count": 4,
     "metadata": {},
     "output_type": "execute_result"
    }
   ],
   "source": [
    "test([1,2,3,4], [5,6,7,8,9])"
   ]
  },
  {
   "cell_type": "markdown",
   "id": "934e0b8f-8c0b-4776-a8e7-306bda4a8924",
   "metadata": {},
   "source": [
    "#### polymorphism with object and class\n",
    "\n",
    "In following example we have two class with there respective methods. The class_parcer function is defined outside but it is able to access both class and changes it behaviour as per the method defined inside those class i.e \"i\" behaviour will change as per the object passed inside the function class_parcer."
   ]
  },
  {
   "cell_type": "code",
   "execution_count": 5,
   "id": "b38d85c7-d0cf-4892-88dc-7a67021ab837",
   "metadata": {},
   "outputs": [],
   "source": [
    "class data_science:\n",
    "    def syllabus(self):\n",
    "        print(\"this is my method for data science syllabus\")"
   ]
  },
  {
   "cell_type": "code",
   "execution_count": 6,
   "id": "2212a70f-1ed8-497c-98c6-f1b4f15eb9fb",
   "metadata": {},
   "outputs": [],
   "source": [
    "class web_dev:\n",
    "    def syllabus(self):\n",
    "        print(\"this is my method for web dev\")"
   ]
  },
  {
   "cell_type": "code",
   "execution_count": 7,
   "id": "81408856-dc65-46de-bacf-2054a9fe6c22",
   "metadata": {},
   "outputs": [],
   "source": [
    "def class_parcer(class_obj):\n",
    "    for i in class_obj:\n",
    "        i.syllabus()"
   ]
  },
  {
   "cell_type": "code",
   "execution_count": 8,
   "id": "11885940-195f-49b2-88e3-372a56fc811b",
   "metadata": {},
   "outputs": [],
   "source": [
    "obj_data_science = data_science()"
   ]
  },
  {
   "cell_type": "code",
   "execution_count": 9,
   "id": "bc308992-bb9b-4c7f-8cb2-8bd89f8d3657",
   "metadata": {},
   "outputs": [],
   "source": [
    "obj_web_dev = web_dev()"
   ]
  },
  {
   "cell_type": "code",
   "execution_count": 10,
   "id": "b6f920fd-5869-4e4b-8750-1ae3880f9442",
   "metadata": {},
   "outputs": [],
   "source": [
    "class_obj = [obj_data_science, obj_web_dev]"
   ]
  },
  {
   "cell_type": "code",
   "execution_count": 11,
   "id": "987ab1d4-41c4-43ab-a042-12c3896f241f",
   "metadata": {},
   "outputs": [
    {
     "name": "stdout",
     "output_type": "stream",
     "text": [
      "this is my method for data science syllabus\n",
      "this is my method for web dev\n"
     ]
    }
   ],
   "source": [
    "class_parcer(class_obj)"
   ]
  },
  {
   "cell_type": "markdown",
   "id": "1ed286bd-3ee1-40de-b0ae-79c74a249b44",
   "metadata": {},
   "source": [
    "## Encapsulation\n",
    "\n",
    "* It is a way by which class variables can be made public or private which will restrict/prevent end users to access or assign new values(modify) to those class variables from any external class object. \n",
    "* We may choose give class variable access to view by defining method in class but restricting direct access to those variables"
   ]
  },
  {
   "cell_type": "code",
   "execution_count": 12,
   "id": "1874d582-45f2-4d43-a2d9-673e4cfc43a2",
   "metadata": {},
   "outputs": [],
   "source": [
    "class test:\n",
    "    def __init__(self, a, b): # constructor to insert values in class\n",
    "        self.a = a\n",
    "        self.b = b"
   ]
  },
  {
   "cell_type": "code",
   "execution_count": 13,
   "id": "e6d41da0-ce71-4c5d-bf1a-2d64e9c7d891",
   "metadata": {},
   "outputs": [
    {
     "ename": "TypeError",
     "evalue": "test.__init__() missing 2 required positional arguments: 'a' and 'b'",
     "output_type": "error",
     "traceback": [
      "\u001b[0;31m---------------------------------------------------------------------------\u001b[0m",
      "\u001b[0;31mTypeError\u001b[0m                                 Traceback (most recent call last)",
      "Cell \u001b[0;32mIn[13], line 1\u001b[0m\n\u001b[0;32m----> 1\u001b[0m t \u001b[38;5;241m=\u001b[39m \u001b[43mtest\u001b[49m\u001b[43m(\u001b[49m\u001b[43m)\u001b[49m\n",
      "\u001b[0;31mTypeError\u001b[0m: test.__init__() missing 2 required positional arguments: 'a' and 'b'"
     ]
    }
   ],
   "source": [
    "t = test()"
   ]
  },
  {
   "cell_type": "code",
   "execution_count": 14,
   "id": "5b40323d-ad72-4a9d-ad87-c63c1eddb31f",
   "metadata": {},
   "outputs": [],
   "source": [
    "t = test(45,56)"
   ]
  },
  {
   "cell_type": "code",
   "execution_count": 15,
   "id": "bbc1c172-502e-44c2-89df-b7ff8eca8e3b",
   "metadata": {},
   "outputs": [
    {
     "data": {
      "text/plain": [
       "45"
      ]
     },
     "execution_count": 15,
     "metadata": {},
     "output_type": "execute_result"
    }
   ],
   "source": [
    "t.a # class variable value access is possible from external class object"
   ]
  },
  {
   "cell_type": "code",
   "execution_count": 16,
   "id": "ec19e554-ae50-4f56-8719-e5f06bcfd056",
   "metadata": {},
   "outputs": [
    {
     "data": {
      "text/plain": [
       "56"
      ]
     },
     "execution_count": 16,
     "metadata": {},
     "output_type": "execute_result"
    }
   ],
   "source": [
    "t.b # class variable value access is possible from external class object"
   ]
  },
  {
   "cell_type": "code",
   "execution_count": 17,
   "id": "d69e8506-4550-42c1-b0a1-8f301d674916",
   "metadata": {},
   "outputs": [],
   "source": [
    "t.a = 3243 # class variable value modification is possible by assigning new values to them from external class object"
   ]
  },
  {
   "cell_type": "code",
   "execution_count": 18,
   "id": "cb1bdd80-7d19-4133-9476-29303971f702",
   "metadata": {},
   "outputs": [
    {
     "data": {
      "text/plain": [
       "3243"
      ]
     },
     "execution_count": 18,
     "metadata": {},
     "output_type": "execute_result"
    }
   ],
   "source": [
    "t.a"
   ]
  },
  {
   "cell_type": "markdown",
   "id": "15b9874c-aef0-45b1-93b5-8a2fa9b3dad5",
   "metadata": {},
   "source": [
    "#### Making class variable private\n",
    "\n",
    "To make class variable private use double underscore (__) just after self. and before variable name \n",
    "> for example: self.__year, self.__make"
   ]
  },
  {
   "cell_type": "code",
   "execution_count": 19,
   "id": "0ca03b0e-553d-485c-81ac-f35dab0c70b7",
   "metadata": {},
   "outputs": [],
   "source": [
    "class car:\n",
    "    \n",
    "    # making all the class variables private\n",
    "    def __init__(self, year, make, model, speed):\n",
    "        self.__year = year # self.__year - this is used to make calss variable private\n",
    "        self.__make = make\n",
    "        self.__model = model\n",
    "        self.__speed = 0\n",
    "     \n",
    "    # method to accept speed from user without giving direct access of class variable speed to user\n",
    "    def set_speed(self, speed):\n",
    "        self.__speed = 0 if speed < 0 else speed\n",
    "    \n",
    "    # method to display/return/give access of speed variable value to user without giving direct access of that variable\n",
    "    def get_speed(self):\n",
    "        return self.__speed"
   ]
  },
  {
   "cell_type": "code",
   "execution_count": 20,
   "id": "9294cc7c-e6e9-4360-84c7-607a79aba3ed",
   "metadata": {},
   "outputs": [],
   "source": [
    "obj_car = car(2022, \"Mahindra\", \"XUV700\", 300)"
   ]
  },
  {
   "cell_type": "code",
   "execution_count": 21,
   "id": "1a5555d7-b213-4472-bc4a-4cd63f7f7b44",
   "metadata": {},
   "outputs": [
    {
     "ename": "AttributeError",
     "evalue": "'car' object has no attribute '__speed'",
     "output_type": "error",
     "traceback": [
      "\u001b[0;31m---------------------------------------------------------------------------\u001b[0m",
      "\u001b[0;31mAttributeError\u001b[0m                            Traceback (most recent call last)",
      "Cell \u001b[0;32mIn[21], line 1\u001b[0m\n\u001b[0;32m----> 1\u001b[0m \u001b[43mobj_car\u001b[49m\u001b[38;5;241;43m.\u001b[39;49m\u001b[43m__speed\u001b[49m \u001b[38;5;66;03m# __speed is private to the class and cannot be used ouside and accessed by external object\u001b[39;00m\n",
      "\u001b[0;31mAttributeError\u001b[0m: 'car' object has no attribute '__speed'"
     ]
    }
   ],
   "source": [
    "obj_car.__speed # __speed is private to the class and cannot be used ouside and accessed by external object"
   ]
  },
  {
   "cell_type": "code",
   "execution_count": 22,
   "id": "f4e09ef5-92e1-4c5e-bab2-708fc285a282",
   "metadata": {},
   "outputs": [
    {
     "data": {
      "text/plain": [
       "0"
      ]
     },
     "execution_count": 22,
     "metadata": {},
     "output_type": "execute_result"
    }
   ],
   "source": [
    "obj_car._car__speed \n",
    "# the value can be only accessed from external object only if we know the exact name of the class and variable\n",
    "# but such information is of class name or variable name is not known to end users.\n",
    "# we know this because we are creator of code"
   ]
  },
  {
   "cell_type": "code",
   "execution_count": 23,
   "id": "509051a1-1ba8-4311-b433-8c76604546c3",
   "metadata": {},
   "outputs": [
    {
     "data": {
      "text/plain": [
       "2022"
      ]
     },
     "execution_count": 23,
     "metadata": {},
     "output_type": "execute_result"
    }
   ],
   "source": [
    "obj_car._car__year"
   ]
  },
  {
   "cell_type": "code",
   "execution_count": 24,
   "id": "aa504b71-8819-4fa9-a7f9-989ab086423d",
   "metadata": {},
   "outputs": [],
   "source": [
    "obj_car._car__year = 2023 \n",
    "# the value can be only accessed from external object only if we know the exact name of the class and variable\n",
    "# if we know the exact name of the class and variable then assigning new value or modifying value of variable is also possible\n",
    "# but such information is of class name or variable name is not known to end users."
   ]
  },
  {
   "cell_type": "code",
   "execution_count": 25,
   "id": "d5632fd8-0e40-4ccf-b51b-3b7fd259f37a",
   "metadata": {},
   "outputs": [
    {
     "data": {
      "text/plain": [
       "2023"
      ]
     },
     "execution_count": 25,
     "metadata": {},
     "output_type": "execute_result"
    }
   ],
   "source": [
    "obj_car._car__year"
   ]
  },
  {
   "cell_type": "code",
   "execution_count": 26,
   "id": "f91445ea-3274-4803-9bbf-ab511e036771",
   "metadata": {},
   "outputs": [],
   "source": [
    "obj_car.set_speed(-300)"
   ]
  },
  {
   "cell_type": "code",
   "execution_count": 27,
   "id": "69b690dc-3f3f-4f44-b25d-80f55b2e7e7e",
   "metadata": {},
   "outputs": [
    {
     "data": {
      "text/plain": [
       "0"
      ]
     },
     "execution_count": 27,
     "metadata": {},
     "output_type": "execute_result"
    }
   ],
   "source": [
    "obj_car.get_speed()"
   ]
  },
  {
   "cell_type": "code",
   "execution_count": 28,
   "id": "697454e2-7f04-42c4-b49e-faa681472ead",
   "metadata": {},
   "outputs": [
    {
     "data": {
      "text/plain": [
       "0"
      ]
     },
     "execution_count": 28,
     "metadata": {},
     "output_type": "execute_result"
    }
   ],
   "source": [
    "obj_car._car__speed "
   ]
  },
  {
   "cell_type": "code",
   "execution_count": 29,
   "id": "a431a17b-4bcc-45d6-ba5e-89733ad308c3",
   "metadata": {},
   "outputs": [],
   "source": [
    "obj_car.set_speed(300)"
   ]
  },
  {
   "cell_type": "code",
   "execution_count": 30,
   "id": "923b7352-fb0b-47b5-a83d-c74b7c1c2e59",
   "metadata": {},
   "outputs": [
    {
     "data": {
      "text/plain": [
       "300"
      ]
     },
     "execution_count": 30,
     "metadata": {},
     "output_type": "execute_result"
    }
   ],
   "source": [
    "obj_car.get_speed()"
   ]
  },
  {
   "cell_type": "code",
   "execution_count": 31,
   "id": "dec3713d-cd98-4cfd-afc1-c24132d0d970",
   "metadata": {},
   "outputs": [
    {
     "data": {
      "text/plain": [
       "300"
      ]
     },
     "execution_count": 31,
     "metadata": {},
     "output_type": "execute_result"
    }
   ],
   "source": [
    "obj_car._car__speed "
   ]
  },
  {
   "cell_type": "markdown",
   "id": "fa531abf-5f08-4637-9b3a-efe89ebe25ef",
   "metadata": {},
   "source": [
    "##### Example 2"
   ]
  },
  {
   "cell_type": "code",
   "execution_count": 32,
   "id": "190ef623-4ff0-4d60-9610-099b29715abf",
   "metadata": {},
   "outputs": [],
   "source": [
    "class bank_account:\n",
    "    \n",
    "    def __init__(self, balance):\n",
    "        self.__balance = balance\n",
    "        \n",
    "    def deposit(self, amount):\n",
    "        self.__balance = self.__balance + amount\n",
    "        \n",
    "    def withdraw(self, amount):\n",
    "        if self.__balance >= amount:\n",
    "            self.__balance = self.__balance - amount\n",
    "            return True\n",
    "        else:\n",
    "            return False\n",
    "        \n",
    "    def get_balance(self):\n",
    "        return self.__balance"
   ]
  },
  {
   "cell_type": "code",
   "execution_count": 33,
   "id": "975ae0d5-6248-4bc7-86be-5e9384fbc6c3",
   "metadata": {},
   "outputs": [],
   "source": [
    "obj_bank_account = bank_account(1000)"
   ]
  },
  {
   "cell_type": "code",
   "execution_count": 34,
   "id": "59317ac6-1a8d-48bb-a186-598dee59d25b",
   "metadata": {},
   "outputs": [
    {
     "data": {
      "text/plain": [
       "1000"
      ]
     },
     "execution_count": 34,
     "metadata": {},
     "output_type": "execute_result"
    }
   ],
   "source": [
    "obj_bank_account.get_balance()"
   ]
  },
  {
   "cell_type": "code",
   "execution_count": 35,
   "id": "3f633546-7f0a-44d1-aa10-360c27a2633c",
   "metadata": {},
   "outputs": [],
   "source": [
    "obj_bank_account.deposit(6000)"
   ]
  },
  {
   "cell_type": "code",
   "execution_count": 36,
   "id": "f2b3a243-8ed6-4b05-bc13-f20d809ff1b3",
   "metadata": {},
   "outputs": [
    {
     "data": {
      "text/plain": [
       "7000"
      ]
     },
     "execution_count": 36,
     "metadata": {},
     "output_type": "execute_result"
    }
   ],
   "source": [
    "obj_bank_account.get_balance()"
   ]
  },
  {
   "cell_type": "code",
   "execution_count": 37,
   "id": "d2ab87dd-620d-47ad-98cb-b26ead8ec479",
   "metadata": {},
   "outputs": [
    {
     "data": {
      "text/plain": [
       "False"
      ]
     },
     "execution_count": 37,
     "metadata": {},
     "output_type": "execute_result"
    }
   ],
   "source": [
    "obj_bank_account.withdraw(10000)"
   ]
  },
  {
   "cell_type": "code",
   "execution_count": 38,
   "id": "402f6c2a-8dca-4fac-bed1-8dfdaf708d2a",
   "metadata": {},
   "outputs": [
    {
     "data": {
      "text/plain": [
       "True"
      ]
     },
     "execution_count": 38,
     "metadata": {},
     "output_type": "execute_result"
    }
   ],
   "source": [
    "obj_bank_account.withdraw(2000)"
   ]
  },
  {
   "cell_type": "code",
   "execution_count": 39,
   "id": "c581bf91-16dc-47bc-8b86-bcfbd2de7e4a",
   "metadata": {},
   "outputs": [
    {
     "data": {
      "text/plain": [
       "5000"
      ]
     },
     "execution_count": 39,
     "metadata": {},
     "output_type": "execute_result"
    }
   ],
   "source": [
    "obj_bank_account.get_balance()"
   ]
  },
  {
   "cell_type": "markdown",
   "id": "f3d563f2-c022-490d-8de1-c80c7539b0dd",
   "metadata": {
    "tags": []
   },
   "source": [
    "## Inheritance\n",
    "\n",
    "* It is a property in OOPs, in which child class inherit the properties (i.e variables, methods) of parent class.\n",
    "* There are 5 types of inheritance -\n",
    "> 1. Single Inheritance\n",
    "> 2. Multiple Inheritance\n",
    "> 3. Multilevel Inheritance\n",
    "> 4. Hierarchal Inheritance\n",
    "> 5. Hybrid Inheritance"
   ]
  },
  {
   "cell_type": "markdown",
   "id": "22b49739-8b99-4eed-ac4c-5f5992d91ba0",
   "metadata": {},
   "source": [
    "#### Single Inheritance"
   ]
  },
  {
   "cell_type": "code",
   "execution_count": 40,
   "id": "2d61da84-598c-4b92-b300-5c42f1825603",
   "metadata": {},
   "outputs": [],
   "source": [
    "class parent:\n",
    "    \n",
    "    def test_parent(self):\n",
    "        print(\"this is the parent class \")"
   ]
  },
  {
   "cell_type": "code",
   "execution_count": 41,
   "id": "758ceb46-de50-4f29-a16d-078fb78c8bd3",
   "metadata": {},
   "outputs": [],
   "source": [
    "class child(parent):\n",
    "    pass"
   ]
  },
  {
   "cell_type": "code",
   "execution_count": 42,
   "id": "c19e8a3b-8751-4f62-9fbe-445754c57218",
   "metadata": {},
   "outputs": [],
   "source": [
    "child_obj = child()"
   ]
  },
  {
   "cell_type": "code",
   "execution_count": 43,
   "id": "00f22ddb-044f-4723-af78-8b2587aee5dd",
   "metadata": {},
   "outputs": [
    {
     "name": "stdout",
     "output_type": "stream",
     "text": [
      "this is the parent class \n"
     ]
    }
   ],
   "source": [
    "child_obj.test_parent()"
   ]
  },
  {
   "cell_type": "markdown",
   "id": "1e05207c-a583-4c36-b691-b6373c278b4b",
   "metadata": {},
   "source": [
    "#### Multilevel Inheritance"
   ]
  },
  {
   "cell_type": "markdown",
   "id": "c8f78100-0a83-4bad-8046-31e16dde20b8",
   "metadata": {},
   "source": [
    "* In the following example, class2 is inheriting the property of class1 and class3 is inheriting the property of class2 so evetually class3 is also inheriting the property of class1.\n",
    "* This can be seen by creating an object of class3 and that class3 object is able to access method of class1, class2 and ofcourse class3"
   ]
  },
  {
   "cell_type": "code",
   "execution_count": 44,
   "id": "18f8caf5-26bd-4e4a-9353-f54a2b81e8cf",
   "metadata": {},
   "outputs": [],
   "source": [
    "class class1:\n",
    "    def test_class1(self):\n",
    "        print(\"this is my class1 \")"
   ]
  },
  {
   "cell_type": "code",
   "execution_count": 45,
   "id": "86d4c83b-5d98-446b-be62-7f9493b03c34",
   "metadata": {},
   "outputs": [],
   "source": [
    "class class2(class1):\n",
    "    def test_class2(self):\n",
    "        print(\"this is my class2 \")"
   ]
  },
  {
   "cell_type": "code",
   "execution_count": 46,
   "id": "5f2f8596-6561-43b9-bdd7-343fa838859b",
   "metadata": {},
   "outputs": [],
   "source": [
    "class class3(class2):\n",
    "    def test_class3(self):\n",
    "        print(\"this is my class3 \")"
   ]
  },
  {
   "cell_type": "code",
   "execution_count": 47,
   "id": "61227537-d68a-43bb-a6a7-6f4304d028d4",
   "metadata": {},
   "outputs": [],
   "source": [
    "obj_class3 = class3()"
   ]
  },
  {
   "cell_type": "code",
   "execution_count": 48,
   "id": "08a8d41d-fbce-4d6a-8b41-a6457e08a350",
   "metadata": {},
   "outputs": [
    {
     "name": "stdout",
     "output_type": "stream",
     "text": [
      "this is my class1 \n"
     ]
    }
   ],
   "source": [
    "obj_class3.test_class1()"
   ]
  },
  {
   "cell_type": "code",
   "execution_count": 49,
   "id": "c062a460-09d2-4e06-a4dc-d4bb76cf860b",
   "metadata": {},
   "outputs": [
    {
     "name": "stdout",
     "output_type": "stream",
     "text": [
      "this is my class2 \n"
     ]
    }
   ],
   "source": [
    "obj_class3.test_class2()"
   ]
  },
  {
   "cell_type": "code",
   "execution_count": 50,
   "id": "889e78f8-f106-462e-92b2-fc56730cbd5b",
   "metadata": {},
   "outputs": [
    {
     "name": "stdout",
     "output_type": "stream",
     "text": [
      "this is my class3 \n"
     ]
    }
   ],
   "source": [
    "obj_class3.test_class3()"
   ]
  },
  {
   "cell_type": "markdown",
   "id": "23a6dad4-4221-47f1-876f-6781674ac288",
   "metadata": {},
   "source": [
    "#### Multiple Inheritance"
   ]
  },
  {
   "cell_type": "markdown",
   "id": "158a646e-fd92-4485-bf7a-923cd64a1bf0",
   "metadata": {},
   "source": [
    "* In the following example class1 and class2 are two separate class whereas class3 is inheriting the properties of class1 and class2.\n",
    "* object of class3 can access method of both class1 and class2"
   ]
  },
  {
   "cell_type": "code",
   "execution_count": 51,
   "id": "925a5fbd-f381-42e6-808f-52ad112319fc",
   "metadata": {},
   "outputs": [],
   "source": [
    "class class1:\n",
    "    def test_class1(self):\n",
    "        print(\"this is my class1\")"
   ]
  },
  {
   "cell_type": "code",
   "execution_count": 52,
   "id": "a9809ee0-d218-419b-a6b3-145e40a20db8",
   "metadata": {},
   "outputs": [],
   "source": [
    "class class2:\n",
    "    def test_class2(self):\n",
    "        print(\"this is my class2\")"
   ]
  },
  {
   "cell_type": "code",
   "execution_count": 53,
   "id": "76e8512d-79c6-498c-9f37-658c8b58fb4e",
   "metadata": {},
   "outputs": [],
   "source": [
    "class class3(class1, class2):\n",
    "    pass"
   ]
  },
  {
   "cell_type": "code",
   "execution_count": 54,
   "id": "8818d3d0-2e65-4f3b-9dd2-8d14a360b49d",
   "metadata": {},
   "outputs": [],
   "source": [
    "obj_class3 = class3()"
   ]
  },
  {
   "cell_type": "code",
   "execution_count": 55,
   "id": "25fb48d7-e746-475b-9437-198540821924",
   "metadata": {},
   "outputs": [
    {
     "name": "stdout",
     "output_type": "stream",
     "text": [
      "this is my class1\n"
     ]
    }
   ],
   "source": [
    "obj_class3.test_class1()"
   ]
  },
  {
   "cell_type": "code",
   "execution_count": 56,
   "id": "4b8b3865-63e6-4f44-9642-446718293597",
   "metadata": {},
   "outputs": [
    {
     "name": "stdout",
     "output_type": "stream",
     "text": [
      "this is my class2\n"
     ]
    }
   ],
   "source": [
    "obj_class3.test_class2()"
   ]
  },
  {
   "cell_type": "code",
   "execution_count": null,
   "id": "3b158011-fc64-4975-ba6d-e6f0296741d8",
   "metadata": {},
   "outputs": [],
   "source": []
  }
 ],
 "metadata": {
  "kernelspec": {
   "display_name": "Python 3 (ipykernel)",
   "language": "python",
   "name": "python3"
  },
  "language_info": {
   "codemirror_mode": {
    "name": "ipython",
    "version": 3
   },
   "file_extension": ".py",
   "mimetype": "text/x-python",
   "name": "python",
   "nbconvert_exporter": "python",
   "pygments_lexer": "ipython3",
   "version": "3.10.8"
  }
 },
 "nbformat": 4,
 "nbformat_minor": 5
}
