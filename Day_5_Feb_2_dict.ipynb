{
 "cells": [
  {
   "cell_type": "markdown",
   "id": "b1948738-bae5-4c72-ac81-e14ddbdc8e17",
   "metadata": {},
   "source": [
    "# Dictonary"
   ]
  },
  {
   "cell_type": "code",
   "execution_count": 2,
   "id": "a4aacfc7-eb64-4948-80ae-198b26fb4a0f",
   "metadata": {},
   "outputs": [],
   "source": [
    "d = {}"
   ]
  },
  {
   "cell_type": "code",
   "execution_count": 3,
   "id": "9e3e2d44-4f34-4ff1-97f0-d9f4150a7cf3",
   "metadata": {},
   "outputs": [
    {
     "data": {
      "text/plain": [
       "dict"
      ]
     },
     "execution_count": 3,
     "metadata": {},
     "output_type": "execute_result"
    }
   ],
   "source": [
    "type(d)"
   ]
  },
  {
   "cell_type": "code",
   "execution_count": 4,
   "id": "1c9bffca-abc2-4f6f-94f3-1523d7347b1d",
   "metadata": {},
   "outputs": [],
   "source": [
    "d = {\"Key\" : \"Value\"}"
   ]
  },
  {
   "cell_type": "code",
   "execution_count": 5,
   "id": "827a3cba-eb06-4e9f-acde-fb5853562ce4",
   "metadata": {},
   "outputs": [
    {
     "data": {
      "text/plain": [
       "dict"
      ]
     },
     "execution_count": 5,
     "metadata": {},
     "output_type": "execute_result"
    }
   ],
   "source": [
    "type(d)"
   ]
  },
  {
   "cell_type": "code",
   "execution_count": 6,
   "id": "5e38094b-5881-49ed-b1f0-3d1f9c747379",
   "metadata": {},
   "outputs": [],
   "source": [
    "d1 = {\"name\" : \"Payas\", \"email\" : \"p@gmail.com\", \"number\" : 256368}"
   ]
  },
  {
   "cell_type": "code",
   "execution_count": 7,
   "id": "9cbf779f-f14b-4375-b8aa-25509e93b217",
   "metadata": {},
   "outputs": [
    {
     "data": {
      "text/plain": [
       "{'name': 'Payas', 'email': 'p@gmail.com', 'number': 256368}"
      ]
     },
     "execution_count": 7,
     "metadata": {},
     "output_type": "execute_result"
    }
   ],
   "source": [
    "d1"
   ]
  },
  {
   "cell_type": "code",
   "execution_count": 8,
   "id": "cd1e454f-2aab-4025-86a8-c7facc151793",
   "metadata": {},
   "outputs": [],
   "source": [
    "d2 = {\"name\" : \"payas\", \"name\" : \"Payas Nimje\"}\n",
    "\n",
    "# key should be unique\n",
    "# if key already exist then in that key old value will be replaced by new value"
   ]
  },
  {
   "cell_type": "code",
   "execution_count": 9,
   "id": "29ad0dc8-9528-4417-85f6-0c81cf265210",
   "metadata": {},
   "outputs": [
    {
     "data": {
      "text/plain": [
       "{'name': 'Payas Nimje'}"
      ]
     },
     "execution_count": 9,
     "metadata": {},
     "output_type": "execute_result"
    }
   ],
   "source": [
    "d2"
   ]
  },
  {
   "cell_type": "markdown",
   "id": "09d3f455-d4d4-48cd-8747-88c3b5d4678f",
   "metadata": {},
   "source": [
    "## types (object class) that key can hold"
   ]
  },
  {
   "cell_type": "code",
   "execution_count": 10,
   "id": "12c294f2-7b30-41e5-a3e8-66d50f083e4d",
   "metadata": {},
   "outputs": [],
   "source": [
    "d3 = {123 : \"abc\"}"
   ]
  },
  {
   "cell_type": "code",
   "execution_count": 11,
   "id": "7bd8d116-f1c1-4825-9b6e-0000cd384a17",
   "metadata": {},
   "outputs": [
    {
     "data": {
      "text/plain": [
       "{123: 'abc'}"
      ]
     },
     "execution_count": 11,
     "metadata": {},
     "output_type": "execute_result"
    }
   ],
   "source": [
    "d3"
   ]
  },
  {
   "cell_type": "code",
   "execution_count": 12,
   "id": "b51b7501-ae6f-4cb4-813b-6aee24e05895",
   "metadata": {},
   "outputs": [],
   "source": [
    "d4 = {123.45 : \"abc\"}"
   ]
  },
  {
   "cell_type": "code",
   "execution_count": 13,
   "id": "6551fb3d-f411-4a3d-85b3-5a509c273c45",
   "metadata": {},
   "outputs": [
    {
     "data": {
      "text/plain": [
       "{123.45: 'abc'}"
      ]
     },
     "execution_count": 13,
     "metadata": {},
     "output_type": "execute_result"
    }
   ],
   "source": [
    "d4"
   ]
  },
  {
   "cell_type": "code",
   "execution_count": 14,
   "id": "3636c8ba-3330-4420-b177-4a002f94e91d",
   "metadata": {},
   "outputs": [],
   "source": [
    "d5 = {True : \"abc\"}"
   ]
  },
  {
   "cell_type": "code",
   "execution_count": 15,
   "id": "4240f84a-0427-4cd3-8bd1-0be0b52ca2f8",
   "metadata": {},
   "outputs": [
    {
     "data": {
      "text/plain": [
       "{True: 'abc'}"
      ]
     },
     "execution_count": 15,
     "metadata": {},
     "output_type": "execute_result"
    }
   ],
   "source": [
    "d5"
   ]
  },
  {
   "cell_type": "code",
   "execution_count": 16,
   "id": "28339474-14f3-46e6-bd1e-ac1ba490a50b",
   "metadata": {},
   "outputs": [
    {
     "ename": "SyntaxError",
     "evalue": "invalid syntax (3267280236.py, line 3)",
     "output_type": "error",
     "traceback": [
      "\u001b[0;36m  Cell \u001b[0;32mIn[16], line 3\u001b[0;36m\u001b[0m\n\u001b[0;31m    d6 = (@ : \"abc\")\u001b[0m\n\u001b[0m          ^\u001b[0m\n\u001b[0;31mSyntaxError\u001b[0m\u001b[0;31m:\u001b[0m invalid syntax\n"
     ]
    }
   ],
   "source": [
    "# key cannot be special symbol/character\n",
    "\n",
    "d6 = (@ : \"abc\")"
   ]
  },
  {
   "cell_type": "code",
   "execution_count": 17,
   "id": "a10bcae0-2f4d-45cd-a0f3-fcec39b12e42",
   "metadata": {},
   "outputs": [
    {
     "ename": "SyntaxError",
     "evalue": "incomplete input (4094109905.py, line 1)",
     "output_type": "error",
     "traceback": [
      "\u001b[0;36m  Cell \u001b[0;32mIn[17], line 1\u001b[0;36m\u001b[0m\n\u001b[0;31m    d7 = {# : \"abc\"}\u001b[0m\n\u001b[0m                    ^\u001b[0m\n\u001b[0;31mSyntaxError\u001b[0m\u001b[0;31m:\u001b[0m incomplete input\n"
     ]
    }
   ],
   "source": [
    "d7 = {# : \"abc\"}"
   ]
  },
  {
   "cell_type": "code",
   "execution_count": 18,
   "id": "56d37376-2cc1-4422-98e9-7fc930fb73f3",
   "metadata": {},
   "outputs": [
    {
     "ename": "TypeError",
     "evalue": "unhashable type: 'list'",
     "output_type": "error",
     "traceback": [
      "\u001b[0;31m---------------------------------------------------------------------------\u001b[0m",
      "\u001b[0;31mTypeError\u001b[0m                                 Traceback (most recent call last)",
      "Cell \u001b[0;32mIn[18], line 3\u001b[0m\n\u001b[1;32m      1\u001b[0m \u001b[38;5;66;03m# Key cannot be list\u001b[39;00m\n\u001b[0;32m----> 3\u001b[0m d8 \u001b[38;5;241m=\u001b[39m {[\u001b[38;5;241m1\u001b[39m,\u001b[38;5;241m2\u001b[39m,\u001b[38;5;241m3\u001b[39m] : \u001b[38;5;124m\"\u001b[39m\u001b[38;5;124mabc\u001b[39m\u001b[38;5;124m\"\u001b[39m}\n",
      "\u001b[0;31mTypeError\u001b[0m: unhashable type: 'list'"
     ]
    }
   ],
   "source": [
    "# Key cannot be list\n",
    "\n",
    "d8 = {[1,2,3] : \"abc\"}"
   ]
  },
  {
   "cell_type": "code",
   "execution_count": 19,
   "id": "000181dd-b0df-400d-b66e-1c089292f04f",
   "metadata": {},
   "outputs": [],
   "source": [
    "d9 = {(1,2,3) : \"abc\"}"
   ]
  },
  {
   "cell_type": "code",
   "execution_count": 20,
   "id": "4c70e500-9650-4915-b889-2c1ab6a4f236",
   "metadata": {},
   "outputs": [
    {
     "data": {
      "text/plain": [
       "{(1, 2, 3): 'abc'}"
      ]
     },
     "execution_count": 20,
     "metadata": {},
     "output_type": "execute_result"
    }
   ],
   "source": [
    "d9"
   ]
  },
  {
   "cell_type": "code",
   "execution_count": 21,
   "id": "f04b7303-07cc-471e-b380-a699516b613c",
   "metadata": {},
   "outputs": [
    {
     "ename": "TypeError",
     "evalue": "unhashable type: 'set'",
     "output_type": "error",
     "traceback": [
      "\u001b[0;31m---------------------------------------------------------------------------\u001b[0m",
      "\u001b[0;31mTypeError\u001b[0m                                 Traceback (most recent call last)",
      "Cell \u001b[0;32mIn[21], line 1\u001b[0m\n\u001b[0;32m----> 1\u001b[0m d10 \u001b[38;5;241m=\u001b[39m {{\u001b[38;5;241m1\u001b[39m,\u001b[38;5;241m2\u001b[39m,\u001b[38;5;241m3\u001b[39m} : \u001b[38;5;124m\"\u001b[39m\u001b[38;5;124mabc\u001b[39m\u001b[38;5;124m\"\u001b[39m}\n",
      "\u001b[0;31mTypeError\u001b[0m: unhashable type: 'set'"
     ]
    }
   ],
   "source": [
    "d10 = {{1,2,3} : \"abc\"}"
   ]
  },
  {
   "cell_type": "code",
   "execution_count": 22,
   "id": "649dd45f-c63a-4ef4-92a5-1ddfa060f004",
   "metadata": {},
   "outputs": [
    {
     "ename": "TypeError",
     "evalue": "unhashable type: 'dict'",
     "output_type": "error",
     "traceback": [
      "\u001b[0;31m---------------------------------------------------------------------------\u001b[0m",
      "\u001b[0;31mTypeError\u001b[0m                                 Traceback (most recent call last)",
      "Cell \u001b[0;32mIn[22], line 1\u001b[0m\n\u001b[0;32m----> 1\u001b[0m d11 \u001b[38;5;241m=\u001b[39m {{\u001b[38;5;124m\"\u001b[39m\u001b[38;5;124mkey\u001b[39m\u001b[38;5;124m\"\u001b[39m : \u001b[38;5;241m123\u001b[39m} : \u001b[38;5;124m\"\u001b[39m\u001b[38;5;124mabc\u001b[39m\u001b[38;5;124m\"\u001b[39m}\n",
      "\u001b[0;31mTypeError\u001b[0m: unhashable type: 'dict'"
     ]
    }
   ],
   "source": [
    "d11 = {{\"key\" : 123} : \"abc\"}"
   ]
  },
  {
   "cell_type": "markdown",
   "id": "49d6cf1b-6a4c-4540-a097-64201454109b",
   "metadata": {},
   "source": [
    "## types (object class) that value can hold"
   ]
  },
  {
   "cell_type": "code",
   "execution_count": 23,
   "id": "a1fad109-f779-427d-a4ea-dc9c6b9753f6",
   "metadata": {},
   "outputs": [],
   "source": [
    "d12 = {\"course_name\" : [\"data science masters\", \"web dev\", \"java with DSA and system design\"]}"
   ]
  },
  {
   "cell_type": "code",
   "execution_count": 24,
   "id": "fbc95c4e-7882-436b-9ddf-8cd6980f6527",
   "metadata": {},
   "outputs": [
    {
     "data": {
      "text/plain": [
       "{'course_name': ['data science masters',\n",
       "  'web dev',\n",
       "  'java with DSA and system design']}"
      ]
     },
     "execution_count": 24,
     "metadata": {},
     "output_type": "execute_result"
    }
   ],
   "source": [
    "d12"
   ]
  },
  {
   "cell_type": "code",
   "execution_count": 25,
   "id": "36694315-4f96-4e7f-a246-f9b06636815a",
   "metadata": {},
   "outputs": [],
   "source": [
    "d13 = {\"Key\" : (1,2,3,4,5)}"
   ]
  },
  {
   "cell_type": "code",
   "execution_count": 26,
   "id": "f9c61c23-bb64-48f1-a2fe-90f21dce395b",
   "metadata": {},
   "outputs": [
    {
     "data": {
      "text/plain": [
       "{'Key': (1, 2, 3, 4, 5)}"
      ]
     },
     "execution_count": 26,
     "metadata": {},
     "output_type": "execute_result"
    }
   ],
   "source": [
    "d13"
   ]
  },
  {
   "cell_type": "code",
   "execution_count": 27,
   "id": "16ee52f9-7135-435e-9dea-27e697cafd4b",
   "metadata": {},
   "outputs": [],
   "source": [
    "d14 = {\"Key\" : {1,2,3,4,5}}"
   ]
  },
  {
   "cell_type": "code",
   "execution_count": 28,
   "id": "e3fd84c5-5dd7-49f7-ae64-1b4d2ffd0827",
   "metadata": {},
   "outputs": [
    {
     "data": {
      "text/plain": [
       "{'Key': {1, 2, 3, 4, 5}}"
      ]
     },
     "execution_count": 28,
     "metadata": {},
     "output_type": "execute_result"
    }
   ],
   "source": [
    "d14"
   ]
  },
  {
   "cell_type": "code",
   "execution_count": 29,
   "id": "e5c9c882-fe8e-4f0e-b3bd-d94da914e3c2",
   "metadata": {},
   "outputs": [],
   "source": [
    "d15 = {\"Key\" : {\"name\" : \"Payas\", \"Course\" : \"DSM\"}}"
   ]
  },
  {
   "cell_type": "code",
   "execution_count": 30,
   "id": "ce1c72e7-aad7-429a-92bd-9eb17e9f0d4d",
   "metadata": {},
   "outputs": [
    {
     "data": {
      "text/plain": [
       "{'Key': {'name': 'Payas', 'Course': 'DSM'}}"
      ]
     },
     "execution_count": 30,
     "metadata": {},
     "output_type": "execute_result"
    }
   ],
   "source": [
    "d15"
   ]
  },
  {
   "cell_type": "code",
   "execution_count": 31,
   "id": "2a51f768-ebbd-472d-a405-fa5dd2456bf2",
   "metadata": {},
   "outputs": [],
   "source": [
    "d16 = {\"batch_name\" : [\"data science masters\", \"web dev\", \"JDS\"], \"start_date\" : (28,14,21), \"mentor_name\" : {\"krish naik\", \"sudhanshu\", \"hitesh\", \"anurag\", \"naveen\", \"hayder\" }}"
   ]
  },
  {
   "cell_type": "code",
   "execution_count": 32,
   "id": "47dc8531-4b4d-4746-a9b9-9ac3b0d1c795",
   "metadata": {},
   "outputs": [
    {
     "data": {
      "text/plain": [
       "{'batch_name': ['data science masters', 'web dev', 'JDS'],\n",
       " 'start_date': (28, 14, 21),\n",
       " 'mentor_name': {'anurag',\n",
       "  'hayder',\n",
       "  'hitesh',\n",
       "  'krish naik',\n",
       "  'naveen',\n",
       "  'sudhanshu'}}"
      ]
     },
     "execution_count": 32,
     "metadata": {},
     "output_type": "execute_result"
    }
   ],
   "source": [
    "d16"
   ]
  },
  {
   "cell_type": "code",
   "execution_count": 33,
   "id": "a4c4b8fe-b326-49ee-b5d4-e126695e5d75",
   "metadata": {},
   "outputs": [],
   "source": [
    "d16[\"timing\"] = (8,8,8)"
   ]
  },
  {
   "cell_type": "code",
   "execution_count": 34,
   "id": "3732ca3e-5064-474a-9c79-3afdfc6be83b",
   "metadata": {},
   "outputs": [
    {
     "data": {
      "text/plain": [
       "{'batch_name': ['data science masters', 'web dev', 'JDS'],\n",
       " 'start_date': (28, 14, 21),\n",
       " 'mentor_name': {'anurag',\n",
       "  'hayder',\n",
       "  'hitesh',\n",
       "  'krish naik',\n",
       "  'naveen',\n",
       "  'sudhanshu'},\n",
       " 'timing': (8, 8, 8)}"
      ]
     },
     "execution_count": 34,
     "metadata": {},
     "output_type": "execute_result"
    }
   ],
   "source": [
    "d16"
   ]
  },
  {
   "cell_type": "code",
   "execution_count": 35,
   "id": "5ab8b2d1-a55f-4ede-a546-aa9eeca5e0a0",
   "metadata": {},
   "outputs": [
    {
     "data": {
      "text/plain": [
       "['data science masters', 'web dev', 'JDS']"
      ]
     },
     "execution_count": 35,
     "metadata": {},
     "output_type": "execute_result"
    }
   ],
   "source": [
    "d16['batch_name']"
   ]
  },
  {
   "cell_type": "code",
   "execution_count": 36,
   "id": "02d9e247-c2bd-4615-b292-433a621272bc",
   "metadata": {},
   "outputs": [
    {
     "data": {
      "text/plain": [
       "{'anurag', 'hayder', 'hitesh', 'krish naik', 'naveen', 'sudhanshu'}"
      ]
     },
     "execution_count": 36,
     "metadata": {},
     "output_type": "execute_result"
    }
   ],
   "source": [
    "d16['mentor_name']"
   ]
  },
  {
   "cell_type": "code",
   "execution_count": 37,
   "id": "cc33e757-5cd1-4b11-a744-9df8f599c5fb",
   "metadata": {},
   "outputs": [
    {
     "data": {
      "text/plain": [
       "set"
      ]
     },
     "execution_count": 37,
     "metadata": {},
     "output_type": "execute_result"
    }
   ],
   "source": [
    "type(d16['mentor_name'])"
   ]
  },
  {
   "cell_type": "code",
   "execution_count": 38,
   "id": "5287c05f-06bf-45a2-ba67-364277b161d8",
   "metadata": {},
   "outputs": [
    {
     "ename": "KeyError",
     "evalue": "'Key'",
     "output_type": "error",
     "traceback": [
      "\u001b[0;31m---------------------------------------------------------------------------\u001b[0m",
      "\u001b[0;31mKeyError\u001b[0m                                  Traceback (most recent call last)",
      "Cell \u001b[0;32mIn[38], line 1\u001b[0m\n\u001b[0;32m----> 1\u001b[0m \u001b[43md16\u001b[49m\u001b[43m[\u001b[49m\u001b[38;5;124;43m\"\u001b[39;49m\u001b[38;5;124;43mKey\u001b[39;49m\u001b[38;5;124;43m\"\u001b[39;49m\u001b[43m]\u001b[49m\n",
      "\u001b[0;31mKeyError\u001b[0m: 'Key'"
     ]
    }
   ],
   "source": [
    "d16[\"Key\"]"
   ]
  },
  {
   "cell_type": "code",
   "execution_count": 39,
   "id": "c96ec2c1-6db9-495d-baac-cd6053c3e1ba",
   "metadata": {},
   "outputs": [],
   "source": [
    "d16[\"name\"] = \"Payas\""
   ]
  },
  {
   "cell_type": "code",
   "execution_count": 40,
   "id": "d04d758e-286c-4762-abe5-54771ff2ae7b",
   "metadata": {},
   "outputs": [
    {
     "data": {
      "text/plain": [
       "{'batch_name': ['data science masters', 'web dev', 'JDS'],\n",
       " 'start_date': (28, 14, 21),\n",
       " 'mentor_name': {'anurag',\n",
       "  'hayder',\n",
       "  'hitesh',\n",
       "  'krish naik',\n",
       "  'naveen',\n",
       "  'sudhanshu'},\n",
       " 'timing': (8, 8, 8),\n",
       " 'name': 'Payas'}"
      ]
     },
     "execution_count": 40,
     "metadata": {},
     "output_type": "execute_result"
    }
   ],
   "source": [
    "d16"
   ]
  },
  {
   "cell_type": "code",
   "execution_count": 41,
   "id": "67db087a-e357-4315-bec4-9f9b4066d1bb",
   "metadata": {},
   "outputs": [
    {
     "data": {
      "text/plain": [
       "'PAYAS'"
      ]
     },
     "execution_count": 41,
     "metadata": {},
     "output_type": "execute_result"
    }
   ],
   "source": [
    "d16['name'].upper()"
   ]
  },
  {
   "cell_type": "code",
   "execution_count": 42,
   "id": "9c2c0c4a-45d3-438f-992f-4fa9d8c30b30",
   "metadata": {},
   "outputs": [
    {
     "data": {
      "text/plain": [
       "{'Key': {'name': 'Payas', 'Course': 'DSM'}}"
      ]
     },
     "execution_count": 42,
     "metadata": {},
     "output_type": "execute_result"
    }
   ],
   "source": [
    "d15"
   ]
  },
  {
   "cell_type": "code",
   "execution_count": 43,
   "id": "aed2dc90-0b45-411a-8929-b64c1ed3b370",
   "metadata": {},
   "outputs": [
    {
     "data": {
      "text/plain": [
       "{'name': 'Payas', 'Course': 'DSM'}"
      ]
     },
     "execution_count": 43,
     "metadata": {},
     "output_type": "execute_result"
    }
   ],
   "source": [
    "d15['Key']"
   ]
  },
  {
   "cell_type": "code",
   "execution_count": 44,
   "id": "15f6e178-8c44-491f-8f7e-4fd946fc9fdf",
   "metadata": {},
   "outputs": [
    {
     "data": {
      "text/plain": [
       "dict"
      ]
     },
     "execution_count": 44,
     "metadata": {},
     "output_type": "execute_result"
    }
   ],
   "source": [
    "type(d15['Key'])"
   ]
  },
  {
   "cell_type": "code",
   "execution_count": 45,
   "id": "78a324a1-f6bb-4d7a-b78d-b3f31e0f819e",
   "metadata": {},
   "outputs": [
    {
     "data": {
      "text/plain": [
       "'DSM'"
      ]
     },
     "execution_count": 45,
     "metadata": {},
     "output_type": "execute_result"
    }
   ],
   "source": [
    "d15['Key']['Course']"
   ]
  },
  {
   "cell_type": "code",
   "execution_count": 46,
   "id": "fdb62447-c62f-47a3-b936-8c6ac27a469e",
   "metadata": {},
   "outputs": [
    {
     "data": {
      "text/plain": [
       "{'Key': {'name': 'Payas', 'Course': 'DSM'}}"
      ]
     },
     "execution_count": 46,
     "metadata": {},
     "output_type": "execute_result"
    }
   ],
   "source": [
    "d15"
   ]
  },
  {
   "cell_type": "code",
   "execution_count": 47,
   "id": "c7a16d97-38a6-40d7-b9f2-462337f58dc8",
   "metadata": {},
   "outputs": [],
   "source": [
    "d15[\"Key1\"] = \"abc\""
   ]
  },
  {
   "cell_type": "code",
   "execution_count": 48,
   "id": "b0842668-7c97-4550-9287-87d6a1e77b01",
   "metadata": {},
   "outputs": [
    {
     "data": {
      "text/plain": [
       "{'Key': {'name': 'Payas', 'Course': 'DSM'}, 'Key1': 'abc'}"
      ]
     },
     "execution_count": 48,
     "metadata": {},
     "output_type": "execute_result"
    }
   ],
   "source": [
    "d15"
   ]
  },
  {
   "cell_type": "code",
   "execution_count": 49,
   "id": "4413f3c2-03ac-4d16-98de-3c8331b75dd8",
   "metadata": {},
   "outputs": [],
   "source": [
    "del d15[\"Key1\"]"
   ]
  },
  {
   "cell_type": "code",
   "execution_count": 50,
   "id": "32d89c2a-e0a0-40bb-86cc-e9dbe7563d8a",
   "metadata": {},
   "outputs": [
    {
     "data": {
      "text/plain": [
       "{'Key': {'name': 'Payas', 'Course': 'DSM'}}"
      ]
     },
     "execution_count": 50,
     "metadata": {},
     "output_type": "execute_result"
    }
   ],
   "source": [
    "d15"
   ]
  },
  {
   "cell_type": "code",
   "execution_count": 51,
   "id": "d61a2655-7996-40c2-9ea1-e63475425150",
   "metadata": {},
   "outputs": [],
   "source": [
    "d15.clear()"
   ]
  },
  {
   "cell_type": "code",
   "execution_count": 52,
   "id": "fc914b74-d392-4cc4-94f9-299b7e0fc4fc",
   "metadata": {},
   "outputs": [
    {
     "data": {
      "text/plain": [
       "{}"
      ]
     },
     "execution_count": 52,
     "metadata": {},
     "output_type": "execute_result"
    }
   ],
   "source": [
    "d15"
   ]
  },
  {
   "cell_type": "code",
   "execution_count": 53,
   "id": "f85d532f-aacb-4d01-a8fe-416d25a76679",
   "metadata": {},
   "outputs": [
    {
     "data": {
      "text/plain": [
       "5"
      ]
     },
     "execution_count": 53,
     "metadata": {},
     "output_type": "execute_result"
    }
   ],
   "source": [
    "len(d16)"
   ]
  },
  {
   "cell_type": "code",
   "execution_count": 54,
   "id": "5d683c03-ed83-42a7-8cae-6dd25e3200d8",
   "metadata": {},
   "outputs": [
    {
     "data": {
      "text/plain": [
       "{'batch_name': ['data science masters', 'web dev', 'JDS'],\n",
       " 'start_date': (28, 14, 21),\n",
       " 'mentor_name': {'anurag',\n",
       "  'hayder',\n",
       "  'hitesh',\n",
       "  'krish naik',\n",
       "  'naveen',\n",
       "  'sudhanshu'},\n",
       " 'timing': (8, 8, 8),\n",
       " 'name': 'Payas'}"
      ]
     },
     "execution_count": 54,
     "metadata": {},
     "output_type": "execute_result"
    }
   ],
   "source": [
    "d16"
   ]
  },
  {
   "cell_type": "code",
   "execution_count": 55,
   "id": "2474c45a-d73e-402a-b39e-9bbb9678f5d7",
   "metadata": {},
   "outputs": [
    {
     "data": {
      "text/plain": [
       "dict_keys(['batch_name', 'start_date', 'mentor_name', 'timing', 'name'])"
      ]
     },
     "execution_count": 55,
     "metadata": {},
     "output_type": "execute_result"
    }
   ],
   "source": [
    "d16.keys()"
   ]
  },
  {
   "cell_type": "code",
   "execution_count": 56,
   "id": "b60c998d-ef25-4441-9725-bcf430108080",
   "metadata": {},
   "outputs": [
    {
     "data": {
      "text/plain": [
       "dict_values([['data science masters', 'web dev', 'JDS'], (28, 14, 21), {'hitesh', 'anurag', 'naveen', 'sudhanshu', 'hayder', 'krish naik'}, (8, 8, 8), 'Payas'])"
      ]
     },
     "execution_count": 56,
     "metadata": {},
     "output_type": "execute_result"
    }
   ],
   "source": [
    "d16.values()"
   ]
  },
  {
   "cell_type": "code",
   "execution_count": 57,
   "id": "27af7924-1afd-49bd-b33e-7c135011b609",
   "metadata": {},
   "outputs": [
    {
     "data": {
      "text/plain": [
       "dict_keys"
      ]
     },
     "execution_count": 57,
     "metadata": {},
     "output_type": "execute_result"
    }
   ],
   "source": [
    "type(d16.keys())"
   ]
  },
  {
   "cell_type": "code",
   "execution_count": 58,
   "id": "9e0a0c37-84d5-48f8-b6f8-e806394aa644",
   "metadata": {},
   "outputs": [
    {
     "data": {
      "text/plain": [
       "dict_values"
      ]
     },
     "execution_count": 58,
     "metadata": {},
     "output_type": "execute_result"
    }
   ],
   "source": [
    "type(d16.values())"
   ]
  },
  {
   "cell_type": "code",
   "execution_count": 59,
   "id": "65a5bb55-b3c0-4b1f-9b87-d9fcec79d0cd",
   "metadata": {},
   "outputs": [
    {
     "data": {
      "text/plain": [
       "['batch_name', 'start_date', 'mentor_name', 'timing', 'name']"
      ]
     },
     "execution_count": 59,
     "metadata": {},
     "output_type": "execute_result"
    }
   ],
   "source": [
    "list(d16.keys())"
   ]
  },
  {
   "cell_type": "code",
   "execution_count": 60,
   "id": "92a6b7e9-ce33-447d-a86b-e6a37c97aad3",
   "metadata": {},
   "outputs": [
    {
     "data": {
      "text/plain": [
       "[['data science masters', 'web dev', 'JDS'],\n",
       " (28, 14, 21),\n",
       " {'anurag', 'hayder', 'hitesh', 'krish naik', 'naveen', 'sudhanshu'},\n",
       " (8, 8, 8),\n",
       " 'Payas']"
      ]
     },
     "execution_count": 60,
     "metadata": {},
     "output_type": "execute_result"
    }
   ],
   "source": [
    "list(d16.values())"
   ]
  },
  {
   "cell_type": "code",
   "execution_count": 62,
   "id": "24931aa0-8d27-41b4-8a89-9f2510ac9584",
   "metadata": {},
   "outputs": [
    {
     "data": {
      "text/plain": [
       "dict_items([('batch_name', ['data science masters', 'web dev', 'JDS']), ('start_date', (28, 14, 21)), ('mentor_name', {'hitesh', 'anurag', 'naveen', 'sudhanshu', 'hayder', 'krish naik'}), ('timing', (8, 8, 8)), ('name', 'Payas')])"
      ]
     },
     "execution_count": 62,
     "metadata": {},
     "output_type": "execute_result"
    }
   ],
   "source": [
    "d16.items() # returns tuple containing keys and values for all items in dictionary"
   ]
  },
  {
   "cell_type": "code",
   "execution_count": 64,
   "id": "1c7a3820-2762-48a2-a8d1-fc6ef10f454d",
   "metadata": {},
   "outputs": [
    {
     "data": {
      "text/plain": [
       "[('batch_name', ['data science masters', 'web dev', 'JDS']),\n",
       " ('start_date', (28, 14, 21)),\n",
       " ('mentor_name',\n",
       "  {'anurag', 'hayder', 'hitesh', 'krish naik', 'naveen', 'sudhanshu'}),\n",
       " ('timing', (8, 8, 8)),\n",
       " ('name', 'Payas')]"
      ]
     },
     "execution_count": 64,
     "metadata": {},
     "output_type": "execute_result"
    }
   ],
   "source": [
    "list(d16.items())"
   ]
  },
  {
   "cell_type": "code",
   "execution_count": 65,
   "id": "ad529c94-a119-45bf-90ce-ca02428e7a94",
   "metadata": {},
   "outputs": [
    {
     "data": {
      "text/plain": [
       "{'batch_name': ['data science masters', 'web dev', 'JDS'],\n",
       " 'start_date': (28, 14, 21),\n",
       " 'mentor_name': {'anurag',\n",
       "  'hayder',\n",
       "  'hitesh',\n",
       "  'krish naik',\n",
       "  'naveen',\n",
       "  'sudhanshu'},\n",
       " 'timing': (8, 8, 8),\n",
       " 'name': 'Payas'}"
      ]
     },
     "execution_count": 65,
     "metadata": {},
     "output_type": "execute_result"
    }
   ],
   "source": [
    "d16"
   ]
  },
  {
   "cell_type": "code",
   "execution_count": 66,
   "id": "a492d4c8-f5c2-4c6d-aa10-f12792e714dc",
   "metadata": {},
   "outputs": [
    {
     "data": {
      "text/plain": [
       "'\\ncreates deep copy i.e information in d16 is copied at seperate memory location/address to whcih d17 points.\\nBoth d16 and d17 points to different memory address.\\nThis way changes made in d16 is not reflected in d17 and vice-versa\\n'"
      ]
     },
     "execution_count": 66,
     "metadata": {},
     "output_type": "execute_result"
    }
   ],
   "source": [
    "d17 = d16.copy()\n",
    "\n",
    "'''\n",
    "creates deep copy i.e information in d16 is copied at seperate memory location/address to whcih d17 points.\n",
    "Both d16 and d17 points to different memory address.\n",
    "This way changes made in d16 is not reflected in d17 and vice-versa\n",
    "'''"
   ]
  },
  {
   "cell_type": "code",
   "execution_count": 67,
   "id": "0a21fa89-a08e-44e7-87e2-c393c5a0e6ec",
   "metadata": {},
   "outputs": [
    {
     "data": {
      "text/plain": [
       "{'batch_name': ['data science masters', 'web dev', 'JDS'],\n",
       " 'start_date': (28, 14, 21),\n",
       " 'mentor_name': {'anurag',\n",
       "  'hayder',\n",
       "  'hitesh',\n",
       "  'krish naik',\n",
       "  'naveen',\n",
       "  'sudhanshu'},\n",
       " 'timing': (8, 8, 8),\n",
       " 'name': 'Payas'}"
      ]
     },
     "execution_count": 67,
     "metadata": {},
     "output_type": "execute_result"
    }
   ],
   "source": [
    "d17"
   ]
  },
  {
   "cell_type": "code",
   "execution_count": 69,
   "id": "692b74f7-5f9e-499c-a55e-bc4ebbe0cdb8",
   "metadata": {},
   "outputs": [
    {
     "name": "stdout",
     "output_type": "stream",
     "text": [
      "140540607534080\n",
      "140540605769792\n"
     ]
    }
   ],
   "source": [
    "print(id(d16))\n",
    "print(id(d17))"
   ]
  },
  {
   "cell_type": "code",
   "execution_count": 71,
   "id": "0d6f77de-e0ba-4d38-a83a-5a0b5cc45100",
   "metadata": {},
   "outputs": [
    {
     "data": {
      "text/plain": [
       "'\\ncreates shallow copy i.e\\nBoth d16 and d118 points to same memory address.\\nAny changes made in d16 will be reflected in d18 and vice-versa\\n'"
      ]
     },
     "execution_count": 71,
     "metadata": {},
     "output_type": "execute_result"
    }
   ],
   "source": [
    "d18 = d16\n",
    "\n",
    "'''\n",
    "creates shallow copy i.e\n",
    "Both d16 and d118 points to same memory address.\n",
    "Any changes made in d16 will be reflected in d18 and vice-versa\n",
    "'''"
   ]
  },
  {
   "cell_type": "code",
   "execution_count": 72,
   "id": "58a0bc97-e733-4b42-92b7-49354717beb9",
   "metadata": {},
   "outputs": [
    {
     "data": {
      "text/plain": [
       "{'batch_name': ['data science masters', 'web dev', 'JDS'],\n",
       " 'start_date': (28, 14, 21),\n",
       " 'mentor_name': {'anurag',\n",
       "  'hayder',\n",
       "  'hitesh',\n",
       "  'krish naik',\n",
       "  'naveen',\n",
       "  'sudhanshu'},\n",
       " 'timing': (8, 8, 8),\n",
       " 'name': 'Payas'}"
      ]
     },
     "execution_count": 72,
     "metadata": {},
     "output_type": "execute_result"
    }
   ],
   "source": [
    "d18"
   ]
  },
  {
   "cell_type": "code",
   "execution_count": 73,
   "id": "8d9d8eff-6720-4b34-b49d-086952ccd891",
   "metadata": {},
   "outputs": [
    {
     "name": "stdout",
     "output_type": "stream",
     "text": [
      "140540607534080\n",
      "140540607534080\n"
     ]
    }
   ],
   "source": [
    "print(id(d16))\n",
    "print(id(d18))"
   ]
  },
  {
   "cell_type": "code",
   "execution_count": 74,
   "id": "eb2ac7ea-4d60-49c1-af34-e650a4347982",
   "metadata": {},
   "outputs": [],
   "source": [
    "del d16['name']"
   ]
  },
  {
   "cell_type": "code",
   "execution_count": 75,
   "id": "5738dfd9-1d71-44cb-a268-a65fd39eaeb0",
   "metadata": {},
   "outputs": [
    {
     "data": {
      "text/plain": [
       "{'batch_name': ['data science masters', 'web dev', 'JDS'],\n",
       " 'start_date': (28, 14, 21),\n",
       " 'mentor_name': {'anurag',\n",
       "  'hayder',\n",
       "  'hitesh',\n",
       "  'krish naik',\n",
       "  'naveen',\n",
       "  'sudhanshu'},\n",
       " 'timing': (8, 8, 8)}"
      ]
     },
     "execution_count": 75,
     "metadata": {},
     "output_type": "execute_result"
    }
   ],
   "source": [
    "d16"
   ]
  },
  {
   "cell_type": "code",
   "execution_count": 76,
   "id": "f9a1d7ed-a6b0-42f8-ab53-ec298215d4f5",
   "metadata": {},
   "outputs": [
    {
     "data": {
      "text/plain": [
       "{'batch_name': ['data science masters', 'web dev', 'JDS'],\n",
       " 'start_date': (28, 14, 21),\n",
       " 'mentor_name': {'anurag',\n",
       "  'hayder',\n",
       "  'hitesh',\n",
       "  'krish naik',\n",
       "  'naveen',\n",
       "  'sudhanshu'},\n",
       " 'timing': (8, 8, 8),\n",
       " 'name': 'Payas'}"
      ]
     },
     "execution_count": 76,
     "metadata": {},
     "output_type": "execute_result"
    }
   ],
   "source": [
    "d17"
   ]
  },
  {
   "cell_type": "code",
   "execution_count": 77,
   "id": "a3d41779-9ba9-4555-bd23-3ca7586f60bc",
   "metadata": {},
   "outputs": [
    {
     "data": {
      "text/plain": [
       "{'batch_name': ['data science masters', 'web dev', 'JDS'],\n",
       " 'start_date': (28, 14, 21),\n",
       " 'mentor_name': {'anurag',\n",
       "  'hayder',\n",
       "  'hitesh',\n",
       "  'krish naik',\n",
       "  'naveen',\n",
       "  'sudhanshu'},\n",
       " 'timing': (8, 8, 8)}"
      ]
     },
     "execution_count": 77,
     "metadata": {},
     "output_type": "execute_result"
    }
   ],
   "source": [
    "d18"
   ]
  },
  {
   "cell_type": "code",
   "execution_count": 78,
   "id": "2d6583dd-a0cb-4d8d-9205-03274053e618",
   "metadata": {},
   "outputs": [
    {
     "ename": "TypeError",
     "evalue": "pop expected at least 1 argument, got 0",
     "output_type": "error",
     "traceback": [
      "\u001b[0;31m---------------------------------------------------------------------------\u001b[0m",
      "\u001b[0;31mTypeError\u001b[0m                                 Traceback (most recent call last)",
      "Cell \u001b[0;32mIn[78], line 1\u001b[0m\n\u001b[0;32m----> 1\u001b[0m \u001b[43md16\u001b[49m\u001b[38;5;241;43m.\u001b[39;49m\u001b[43mpop\u001b[49m\u001b[43m(\u001b[49m\u001b[43m)\u001b[49m\n",
      "\u001b[0;31mTypeError\u001b[0m: pop expected at least 1 argument, got 0"
     ]
    }
   ],
   "source": [
    "d16.pop()"
   ]
  },
  {
   "cell_type": "code",
   "execution_count": 79,
   "id": "33da4fd5-1742-4570-86a0-8650ab321c7a",
   "metadata": {},
   "outputs": [
    {
     "data": {
      "text/plain": [
       "(8, 8, 8)"
      ]
     },
     "execution_count": 79,
     "metadata": {},
     "output_type": "execute_result"
    }
   ],
   "source": [
    "d16.pop('timing')"
   ]
  },
  {
   "cell_type": "code",
   "execution_count": 80,
   "id": "1a1cbe87-2ba3-4688-beaf-af0e6f44ef0c",
   "metadata": {},
   "outputs": [
    {
     "data": {
      "text/plain": [
       "{'batch_name': ['data science masters', 'web dev', 'JDS'],\n",
       " 'start_date': (28, 14, 21),\n",
       " 'mentor_name': {'anurag',\n",
       "  'hayder',\n",
       "  'hitesh',\n",
       "  'krish naik',\n",
       "  'naveen',\n",
       "  'sudhanshu'}}"
      ]
     },
     "execution_count": 80,
     "metadata": {},
     "output_type": "execute_result"
    }
   ],
   "source": [
    "d16"
   ]
  },
  {
   "cell_type": "code",
   "execution_count": 81,
   "id": "8b9995c1-2407-4107-bb82-99336d524f6e",
   "metadata": {},
   "outputs": [
    {
     "data": {
      "text/plain": [
       "{'anurag', 'hayder', 'hitesh', 'krish naik', 'naveen', 'sudhanshu'}"
      ]
     },
     "execution_count": 81,
     "metadata": {},
     "output_type": "execute_result"
    }
   ],
   "source": [
    "d16.pop('mentor_name')"
   ]
  },
  {
   "cell_type": "code",
   "execution_count": 82,
   "id": "dbb8c6af-772d-427e-b65e-e205f35eba47",
   "metadata": {},
   "outputs": [
    {
     "data": {
      "text/plain": [
       "{'batch_name': ['data science masters', 'web dev', 'JDS'],\n",
       " 'start_date': (28, 14, 21)}"
      ]
     },
     "execution_count": 82,
     "metadata": {},
     "output_type": "execute_result"
    }
   ],
   "source": [
    "d16"
   ]
  },
  {
   "cell_type": "code",
   "execution_count": 86,
   "id": "77780770-a96b-42f3-b9c8-7d3a894d1eff",
   "metadata": {},
   "outputs": [
    {
     "data": {
      "text/plain": [
       "{1: ('a', 'b', 'c'), 2: ('a', 'b', 'c'), 3: ('a', 'b', 'c')}"
      ]
     },
     "execution_count": 86,
     "metadata": {},
     "output_type": "execute_result"
    }
   ],
   "source": [
    "d.fromkeys((1,2,3) , ('a','b','c'))"
   ]
  },
  {
   "cell_type": "code",
   "execution_count": 87,
   "id": "c3f0206f-bf5f-42f2-b0d2-2ef65c64b513",
   "metadata": {},
   "outputs": [],
   "source": [
    "d19 = {\"key1\" : \"value1\" , \"key2\" : \"value2\"}\n",
    "d20 = {\"key3\" : \"value3\" , \"key4\" : \"value4\"}"
   ]
  },
  {
   "cell_type": "code",
   "execution_count": 88,
   "id": "dfd2ebcd-5c33-4074-8920-eb31543b8fdd",
   "metadata": {},
   "outputs": [
    {
     "data": {
      "text/plain": [
       "({'key1': 'value1', 'key2': 'value2'}, {'key3': 'value3', 'key4': 'value4'})"
      ]
     },
     "execution_count": 88,
     "metadata": {},
     "output_type": "execute_result"
    }
   ],
   "source": [
    "(d19 , d20)"
   ]
  },
  {
   "cell_type": "code",
   "execution_count": 89,
   "id": "b5337286-22f5-4822-bc74-7edfc47d4f9b",
   "metadata": {},
   "outputs": [],
   "source": [
    "d19.update(d20)"
   ]
  },
  {
   "cell_type": "code",
   "execution_count": 90,
   "id": "afaf0b0c-c90a-466d-beb1-7a8886e3a251",
   "metadata": {},
   "outputs": [
    {
     "data": {
      "text/plain": [
       "{'key1': 'value1', 'key2': 'value2', 'key3': 'value3', 'key4': 'value4'}"
      ]
     },
     "execution_count": 90,
     "metadata": {},
     "output_type": "execute_result"
    }
   ],
   "source": [
    "d19"
   ]
  },
  {
   "cell_type": "code",
   "execution_count": 91,
   "id": "18cd7ff5-5c5f-4779-872d-acbe26c47f38",
   "metadata": {},
   "outputs": [
    {
     "data": {
      "text/plain": [
       "{'key3': 'value3', 'key4': 'value4'}"
      ]
     },
     "execution_count": 91,
     "metadata": {},
     "output_type": "execute_result"
    }
   ],
   "source": [
    "d20"
   ]
  },
  {
   "cell_type": "code",
   "execution_count": 92,
   "id": "e5cf99d1-9687-4dfd-a625-376ae398f6e1",
   "metadata": {},
   "outputs": [],
   "source": [
    "d20.update(d19)"
   ]
  },
  {
   "cell_type": "code",
   "execution_count": 93,
   "id": "5892dd09-0a33-453f-aeb0-a3a820de7446",
   "metadata": {},
   "outputs": [
    {
     "data": {
      "text/plain": [
       "{'key3': 'value3', 'key4': 'value4', 'key1': 'value1', 'key2': 'value2'}"
      ]
     },
     "execution_count": 93,
     "metadata": {},
     "output_type": "execute_result"
    }
   ],
   "source": [
    "d20"
   ]
  },
  {
   "cell_type": "code",
   "execution_count": 95,
   "id": "501395e6-b1ac-41fd-b3ed-1aca2bcaf273",
   "metadata": {},
   "outputs": [],
   "source": [
    "d20.get(\"Payas\") # get will not return error even though the element is not present in dictionary"
   ]
  },
  {
   "cell_type": "code",
   "execution_count": 96,
   "id": "1e55afe8-5cb6-42c2-bfde-4f526a5ae1ee",
   "metadata": {},
   "outputs": [
    {
     "name": "stdout",
     "output_type": "stream",
     "text": [
      "None\n"
     ]
    }
   ],
   "source": [
    "print(d20.get(\"Payas\"))"
   ]
  },
  {
   "cell_type": "code",
   "execution_count": 98,
   "id": "56f9f8e6-38b0-41d3-b5fa-a7b6f2c3519a",
   "metadata": {},
   "outputs": [
    {
     "ename": "KeyError",
     "evalue": "'Payas'",
     "output_type": "error",
     "traceback": [
      "\u001b[0;31m---------------------------------------------------------------------------\u001b[0m",
      "\u001b[0;31mKeyError\u001b[0m                                  Traceback (most recent call last)",
      "Cell \u001b[0;32mIn[98], line 1\u001b[0m\n\u001b[0;32m----> 1\u001b[0m \u001b[43md20\u001b[49m\u001b[43m[\u001b[49m\u001b[38;5;124;43m\"\u001b[39;49m\u001b[38;5;124;43mPayas\u001b[39;49m\u001b[38;5;124;43m\"\u001b[39;49m\u001b[43m]\u001b[49m\n",
      "\u001b[0;31mKeyError\u001b[0m: 'Payas'"
     ]
    }
   ],
   "source": [
    "d20[\"Payas\"]"
   ]
  },
  {
   "cell_type": "code",
   "execution_count": 97,
   "id": "d77025c1-92b1-4578-a0e7-8da65da2a69c",
   "metadata": {},
   "outputs": [
    {
     "data": {
      "text/plain": [
       "'value2'"
      ]
     },
     "execution_count": 97,
     "metadata": {},
     "output_type": "execute_result"
    }
   ],
   "source": [
    "d20.get(\"key2\")"
   ]
  },
  {
   "cell_type": "code",
   "execution_count": 99,
   "id": "eb38c34a-b2c7-4bab-9967-c40851a80d5e",
   "metadata": {},
   "outputs": [
    {
     "data": {
      "text/plain": [
       "'value2'"
      ]
     },
     "execution_count": 99,
     "metadata": {},
     "output_type": "execute_result"
    }
   ],
   "source": [
    "d20[\"key2\"]"
   ]
  },
  {
   "cell_type": "markdown",
   "id": "dba79489-9668-47ba-ac62-385e9aeda927",
   "metadata": {},
   "source": [
    "## Dictionary Comprehension"
   ]
  },
  {
   "cell_type": "code",
   "execution_count": 102,
   "id": "1022852e-c453-455d-b300-9609a524c9b4",
   "metadata": {},
   "outputs": [
    {
     "data": {
      "text/plain": [
       "[1, 2, 3, 4, 5, 6, 7, 8, 9, 10]"
      ]
     },
     "execution_count": 102,
     "metadata": {},
     "output_type": "execute_result"
    }
   ],
   "source": [
    "list(range(1,11))"
   ]
  },
  {
   "cell_type": "code",
   "execution_count": 100,
   "id": "85a2f653-3506-4579-9f2a-c48171e25196",
   "metadata": {},
   "outputs": [
    {
     "data": {
      "text/plain": [
       "{1: 1, 2: 4, 3: 9, 4: 16, 5: 25, 6: 36, 7: 49, 8: 64, 9: 81, 10: 100}"
      ]
     },
     "execution_count": 100,
     "metadata": {},
     "output_type": "execute_result"
    }
   ],
   "source": [
    "{i : i**2 for i in range(1,11)}"
   ]
  },
  {
   "cell_type": "code",
   "execution_count": 103,
   "id": "3ac2d4ed-866c-4d34-b235-7e3dc7747642",
   "metadata": {},
   "outputs": [
    {
     "data": {
      "text/plain": [
       "{1: 11, 2: 12, 3: 13, 4: 14, 5: 15, 6: 16, 7: 17, 8: 18, 9: 19, 10: 20}"
      ]
     },
     "execution_count": 103,
     "metadata": {},
     "output_type": "execute_result"
    }
   ],
   "source": [
    "{i : i+10 for i in range(1,11)}"
   ]
  },
  {
   "cell_type": "code",
   "execution_count": 104,
   "id": "03e111d7-b475-4341-8aee-5dae11705daf",
   "metadata": {},
   "outputs": [],
   "source": [
    "import math\n",
    "d21 = {i : math.log10(i) for i in range(1,11)}"
   ]
  },
  {
   "cell_type": "code",
   "execution_count": 105,
   "id": "f5c45a41-e339-408b-b9ad-faaa38500290",
   "metadata": {},
   "outputs": [
    {
     "data": {
      "text/plain": [
       "{1: 0.0,\n",
       " 2: 0.3010299956639812,\n",
       " 3: 0.47712125471966244,\n",
       " 4: 0.6020599913279624,\n",
       " 5: 0.6989700043360189,\n",
       " 6: 0.7781512503836436,\n",
       " 7: 0.8450980400142568,\n",
       " 8: 0.9030899869919435,\n",
       " 9: 0.9542425094393249,\n",
       " 10: 1.0}"
      ]
     },
     "execution_count": 105,
     "metadata": {},
     "output_type": "execute_result"
    }
   ],
   "source": [
    "d21"
   ]
  },
  {
   "cell_type": "code",
   "execution_count": 106,
   "id": "0ee36fc5-fe00-4d7a-acc1-522682e12225",
   "metadata": {},
   "outputs": [
    {
     "data": {
      "text/plain": [
       "{'batch_name': ['data science masters', 'web dev', 'JDS'],\n",
       " 'start_date': (28, 14, 21)}"
      ]
     },
     "execution_count": 106,
     "metadata": {},
     "output_type": "execute_result"
    }
   ],
   "source": [
    "# to check if element is present in dict\n",
    "d16"
   ]
  },
  {
   "cell_type": "code",
   "execution_count": 107,
   "id": "eb77f86d-ebf3-4187-871c-c19fd4502db9",
   "metadata": {},
   "outputs": [
    {
     "data": {
      "text/plain": [
       "True"
      ]
     },
     "execution_count": 107,
     "metadata": {},
     "output_type": "execute_result"
    }
   ],
   "source": [
    "'batch_name' in d16"
   ]
  },
  {
   "cell_type": "code",
   "execution_count": 108,
   "id": "d7b65bd9-f73e-4913-b7d6-ea24be80a764",
   "metadata": {},
   "outputs": [
    {
     "data": {
      "text/plain": [
       "False"
      ]
     },
     "execution_count": 108,
     "metadata": {},
     "output_type": "execute_result"
    }
   ],
   "source": [
    "'timing' in d16"
   ]
  },
  {
   "cell_type": "code",
   "execution_count": 109,
   "id": "675e8c67-a512-4e52-90a3-47db1d4632dc",
   "metadata": {},
   "outputs": [
    {
     "data": {
      "text/plain": [
       "{1: 0.0,\n",
       " 2: 0.3010299956639812,\n",
       " 3: 0.47712125471966244,\n",
       " 4: 0.6020599913279624,\n",
       " 5: 0.6989700043360189,\n",
       " 6: 0.7781512503836436,\n",
       " 7: 0.8450980400142568,\n",
       " 8: 0.9030899869919435,\n",
       " 9: 0.9542425094393249,\n",
       " 10: 1.0}"
      ]
     },
     "execution_count": 109,
     "metadata": {},
     "output_type": "execute_result"
    }
   ],
   "source": [
    "d21"
   ]
  },
  {
   "cell_type": "code",
   "execution_count": 110,
   "id": "7db08adb-8721-4e1b-a918-a194a02e5476",
   "metadata": {},
   "outputs": [
    {
     "data": {
      "text/plain": [
       "dict_keys([1, 2, 3, 4, 5, 6, 7, 8, 9, 10])"
      ]
     },
     "execution_count": 110,
     "metadata": {},
     "output_type": "execute_result"
    }
   ],
   "source": [
    "d21.keys()"
   ]
  },
  {
   "cell_type": "code",
   "execution_count": 113,
   "id": "2c47ead6-fff5-4414-9a4a-8dc40ca65e03",
   "metadata": {},
   "outputs": [
    {
     "name": "stdout",
     "output_type": "stream",
     "text": [
      "0.3010299956639812\n",
      "0.6020599913279624\n",
      "0.7781512503836436\n",
      "0.9030899869919435\n",
      "1.0\n"
     ]
    }
   ],
   "source": [
    "# Task - display values of log only for even key \n",
    "for key in d21.keys():\n",
    "    if key%2 == 0:\n",
    "        print(d21[key])"
   ]
  },
  {
   "cell_type": "code",
   "execution_count": null,
   "id": "da5b25ed-a3f6-487b-97ab-363928b42efe",
   "metadata": {},
   "outputs": [],
   "source": []
  }
 ],
 "metadata": {
  "kernelspec": {
   "display_name": "Python 3 (ipykernel)",
   "language": "python",
   "name": "python3"
  },
  "language_info": {
   "codemirror_mode": {
    "name": "ipython",
    "version": 3
   },
   "file_extension": ".py",
   "mimetype": "text/x-python",
   "name": "python",
   "nbconvert_exporter": "python",
   "pygments_lexer": "ipython3",
   "version": "3.10.8"
  }
 },
 "nbformat": 4,
 "nbformat_minor": 5
}
