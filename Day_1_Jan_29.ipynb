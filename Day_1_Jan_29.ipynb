{
 "cells": [
  {
   "cell_type": "markdown",
   "id": "3f03adb2-d77b-4323-bb78-1e149bf0f4e0",
   "metadata": {
    "tags": []
   },
   "source": [
    "# Intoduction to Python"
   ]
  },
  {
   "cell_type": "markdown",
   "id": "22ff19d5-f0a6-45fb-bd44-daf0d7a1cd36",
   "metadata": {
    "tags": []
   },
   "source": [
    "## Comments"
   ]
  },
  {
   "cell_type": "raw",
   "id": "cf745faa-1a32-454e-a913-feb61d1c4b93",
   "metadata": {},
   "source": [
    "Comment is given by # or ''' or \"\"\"\n",
    "# - use to give single line comments\n",
    "''' text ''' - is used to give multiline comments\n",
    "\"\"\" text \"\"\" - is used to give multiline comments\n",
    "\n",
    "Comments are not non-exucutable line of code and compiler does not process it while execution of code.\n",
    "\n",
    "It is a BEST PRACTICE to use comments so that when the same person visits the code after some time or\n",
    "a new person visits the code, they should be able to understand the code."
   ]
  },
  {
   "cell_type": "code",
   "execution_count": 1,
   "id": "01917ef3-ebaf-42e5-b0c2-fbbc0656ed31",
   "metadata": {},
   "outputs": [],
   "source": [
    "# Comment\n",
    "# this is a single line comment"
   ]
  },
  {
   "cell_type": "code",
   "execution_count": 2,
   "id": "ebe7eecb-601a-4136-8fcb-625b49dc1ae2",
   "metadata": {},
   "outputs": [
    {
     "data": {
      "text/plain": [
       "' \\nThis is the example of multi-line comments.\\nWelcome to the Python programming language.\\nPython is very important for data science.\\nTotal number of libraries in Python are 137,000 libraries which can be used for various purpose.\\n'"
      ]
     },
     "execution_count": 2,
     "metadata": {},
     "output_type": "execute_result"
    }
   ],
   "source": [
    "\"\"\" \n",
    "This is the example of multi-line comments.\n",
    "Welcome to the Python programming language.\n",
    "Python is very important for data science.\n",
    "Total number of libraries in Python are 137,000 libraries which can be used for various purpose.\n",
    "\"\"\""
   ]
  },
  {
   "cell_type": "code",
   "execution_count": 3,
   "id": "296e543f-8fd8-45fe-8665-d17e8bf5b0e7",
   "metadata": {},
   "outputs": [
    {
     "data": {
      "text/plain": [
       "'\\nThis is the example of multi-line comments.\\nWelcome to the Python programming language.\\nPython is very important for data science.\\nTotal number of libraries in Python are 137,000 libraries which can be used for various purpose.\\n'"
      ]
     },
     "execution_count": 3,
     "metadata": {},
     "output_type": "execute_result"
    }
   ],
   "source": [
    "'''\n",
    "This is the example of multi-line comments.\n",
    "Welcome to the Python programming language.\n",
    "Python is very important for data science.\n",
    "Total number of libraries in Python are 137,000 libraries which can be used for various purpose.\n",
    "'''"
   ]
  },
  {
   "cell_type": "markdown",
   "id": "4c3a327e-f024-4687-abfd-78784a4581df",
   "metadata": {
    "jp-MarkdownHeadingCollapsed": true,
    "tags": []
   },
   "source": [
    "# Headers in Python"
   ]
  },
  {
   "cell_type": "markdown",
   "id": "e7ca3cc3-5ec9-4aaf-90f9-62690c2c606e",
   "metadata": {
    "tags": []
   },
   "source": [
    "# Header 1\n",
    "## Header 2\n",
    "### Header 3"
   ]
  },
  {
   "cell_type": "raw",
   "id": "8b5889f8-44bb-41cb-8315-f24211f178c7",
   "metadata": {},
   "source": [
    "To provide headers in your code -\n",
    " 1. Select the cell type as Markdown\n",
    " 2. Give headers with # in front of text\n",
    " 3. The number of # will define the Header style\n",
    " 4. E.g # Header 1, ## Header 2, ### Header 3 (See above cells)\n",
    " \n",
    "Markdown can be used to provide headers, to create tables and various other styles.\n",
    "This will help to set the context before coding starts."
   ]
  },
  {
   "cell_type": "markdown",
   "id": "8aa1e943-f420-4185-95c4-4b87dd89aec1",
   "metadata": {},
   "source": [
    "# Checking whether result is displayed in output console or not"
   ]
  },
  {
   "cell_type": "code",
   "execution_count": 4,
   "id": "4b018768-719e-48d0-91c9-ba84241ccba3",
   "metadata": {},
   "outputs": [
    {
     "data": {
      "text/plain": [
       "4"
      ]
     },
     "execution_count": 4,
     "metadata": {},
     "output_type": "execute_result"
    }
   ],
   "source": [
    "# This operation will not show the result in output console. This will just display the result\n",
    "# To display the result in output console use print() fn\n",
    "1+3"
   ]
  },
  {
   "cell_type": "code",
   "execution_count": 5,
   "id": "8b457bdd-ab84-474f-9479-78f03c90fd3a",
   "metadata": {},
   "outputs": [
    {
     "name": "stdout",
     "output_type": "stream",
     "text": [
      "4\n"
     ]
    }
   ],
   "source": [
    "\"\"\"\n",
    "To check whether result is shown in output console or not\n",
    "Check above result - \n",
    "    After formula execution result is displayed with line execution no. i.e [9]: 4\n",
    "    This means result is not displayed in Output console\n",
    "Check this cell result -\n",
    "    After formula execution result is not displayed with line execution no. i.e 4\n",
    "    This means result is displayed in Output console\n",
    "\"\"\"\n",
    "print(1+3)"
   ]
  },
  {
   "cell_type": "code",
   "execution_count": 6,
   "id": "6c293e87-817a-44df-bedd-37ecf4af0fa2",
   "metadata": {},
   "outputs": [
    {
     "name": "stdout",
     "output_type": "stream",
     "text": [
      "5\n"
     ]
    }
   ],
   "source": [
    "a=5\n",
    "print(a)"
   ]
  },
  {
   "cell_type": "code",
   "execution_count": 7,
   "id": "4ded6b75-5432-42eb-ba76-e1443b125cf0",
   "metadata": {},
   "outputs": [
    {
     "name": "stdout",
     "output_type": "stream",
     "text": [
      "Hello my name is Payas \n",
      " my age is 26\n"
     ]
    }
   ],
   "source": [
    "print(\"Hello my name is Payas \\n my age is 26\")"
   ]
  },
  {
   "cell_type": "markdown",
   "id": "d61f2ea5-4c64-49d0-b4f4-f7a0209cf3fc",
   "metadata": {},
   "source": [
    "# Variable Assignment and Type"
   ]
  },
  {
   "cell_type": "code",
   "execution_count": 8,
   "id": "b680c7a4-181d-4950-91b7-e90d5d3f9e98",
   "metadata": {},
   "outputs": [],
   "source": [
    "# name of variables are case sensitive\n",
    "# # string can be defined in both \"str\" and 'str'\n",
    "name = \"Krish\"\n",
    "company = 'PW skills and iNeuron'"
   ]
  },
  {
   "cell_type": "code",
   "execution_count": 9,
   "id": "8438299d-be72-4d48-8b67-9ef269528017",
   "metadata": {},
   "outputs": [
    {
     "data": {
      "text/plain": [
       "str"
      ]
     },
     "execution_count": 9,
     "metadata": {},
     "output_type": "execute_result"
    }
   ],
   "source": [
    "type(\"Krish\")"
   ]
  },
  {
   "cell_type": "code",
   "execution_count": 10,
   "id": "dd388cd5-5725-428f-9e58-5ca4de917e24",
   "metadata": {},
   "outputs": [
    {
     "data": {
      "text/plain": [
       "str"
      ]
     },
     "execution_count": 10,
     "metadata": {},
     "output_type": "execute_result"
    }
   ],
   "source": [
    "type(name)"
   ]
  },
  {
   "cell_type": "code",
   "execution_count": 11,
   "id": "f5fc919c-c439-4f41-a686-59ca8b45760c",
   "metadata": {},
   "outputs": [],
   "source": [
    "name_1 = \"Bala\""
   ]
  },
  {
   "cell_type": "code",
   "execution_count": 12,
   "id": "82e9d774-50bc-46df-b050-807ef3089f78",
   "metadata": {},
   "outputs": [
    {
     "data": {
      "text/plain": [
       "'Bala'"
      ]
     },
     "execution_count": 12,
     "metadata": {},
     "output_type": "execute_result"
    }
   ],
   "source": [
    "name_1"
   ]
  },
  {
   "cell_type": "code",
   "execution_count": 13,
   "id": "4d373a28-7021-4c9c-9b36-027fa1a74d26",
   "metadata": {},
   "outputs": [
    {
     "data": {
      "text/plain": [
       "str"
      ]
     },
     "execution_count": 13,
     "metadata": {},
     "output_type": "execute_result"
    }
   ],
   "source": [
    "type(name_1)"
   ]
  },
  {
   "cell_type": "code",
   "execution_count": 14,
   "id": "293352e3-75c1-4a9f-83b4-1c9dea6d3858",
   "metadata": {},
   "outputs": [
    {
     "data": {
      "text/plain": [
       "'PW skills and iNeuron'"
      ]
     },
     "execution_count": 14,
     "metadata": {},
     "output_type": "execute_result"
    }
   ],
   "source": [
    "company"
   ]
  },
  {
   "cell_type": "code",
   "execution_count": 15,
   "id": "7834b4c3-b953-4b74-9049-d0487ee8b3c3",
   "metadata": {},
   "outputs": [
    {
     "data": {
      "text/plain": [
       "str"
      ]
     },
     "execution_count": 15,
     "metadata": {},
     "output_type": "execute_result"
    }
   ],
   "source": [
    "type(company)"
   ]
  },
  {
   "cell_type": "code",
   "execution_count": 16,
   "id": "7f605885-24ec-487d-8e31-34cce492abde",
   "metadata": {},
   "outputs": [],
   "source": [
    "number = 10"
   ]
  },
  {
   "cell_type": "code",
   "execution_count": 17,
   "id": "4e02c82d-3d1d-4a46-8432-91bf4981c1b7",
   "metadata": {},
   "outputs": [
    {
     "data": {
      "text/plain": [
       "10"
      ]
     },
     "execution_count": 17,
     "metadata": {},
     "output_type": "execute_result"
    }
   ],
   "source": [
    "number"
   ]
  },
  {
   "cell_type": "code",
   "execution_count": 18,
   "id": "41a70443-5c4c-4cda-a956-0c2c19091a71",
   "metadata": {},
   "outputs": [
    {
     "data": {
      "text/plain": [
       "int"
      ]
     },
     "execution_count": 18,
     "metadata": {},
     "output_type": "execute_result"
    }
   ],
   "source": [
    "type(10)"
   ]
  },
  {
   "cell_type": "code",
   "execution_count": 19,
   "id": "7d356e96-e6e8-499e-856c-5c1f55d9d34b",
   "metadata": {},
   "outputs": [
    {
     "data": {
      "text/plain": [
       "int"
      ]
     },
     "execution_count": 19,
     "metadata": {},
     "output_type": "execute_result"
    }
   ],
   "source": [
    "type(number)"
   ]
  },
  {
   "cell_type": "code",
   "execution_count": 20,
   "id": "75c2f206-e25b-45e1-889a-f2a23fcd982d",
   "metadata": {},
   "outputs": [
    {
     "data": {
      "text/plain": [
       "20"
      ]
     },
     "execution_count": 20,
     "metadata": {},
     "output_type": "execute_result"
    }
   ],
   "source": [
    "number_1 = 20\n",
    "number_1"
   ]
  },
  {
   "cell_type": "code",
   "execution_count": 21,
   "id": "4a3cd0ac-18d7-4b7c-ac7f-b4a4f956092f",
   "metadata": {},
   "outputs": [],
   "source": [
    "decimal_number = 2.5"
   ]
  },
  {
   "cell_type": "code",
   "execution_count": 22,
   "id": "3f96b1df-bb2a-4d90-9f04-f2605bcb7efd",
   "metadata": {},
   "outputs": [
    {
     "data": {
      "text/plain": [
       "2.5"
      ]
     },
     "execution_count": 22,
     "metadata": {},
     "output_type": "execute_result"
    }
   ],
   "source": [
    "decimal_number"
   ]
  },
  {
   "cell_type": "code",
   "execution_count": 23,
   "id": "cef25794-b4b2-4cc4-ada7-324fae2737a8",
   "metadata": {},
   "outputs": [
    {
     "data": {
      "text/plain": [
       "float"
      ]
     },
     "execution_count": 23,
     "metadata": {},
     "output_type": "execute_result"
    }
   ],
   "source": [
    "type(decimal_number)"
   ]
  },
  {
   "cell_type": "code",
   "execution_count": 24,
   "id": "ee735da3-f552-426d-975e-ea1bf3be282c",
   "metadata": {},
   "outputs": [
    {
     "data": {
      "text/plain": [
       "str"
      ]
     },
     "execution_count": 24,
     "metadata": {},
     "output_type": "execute_result"
    }
   ],
   "source": [
    "type(\"hello\")"
   ]
  },
  {
   "cell_type": "code",
   "execution_count": 25,
   "id": "65810eba-17f0-44b5-873e-02df832c55d1",
   "metadata": {},
   "outputs": [],
   "source": [
    "complex_number = 1+2j"
   ]
  },
  {
   "cell_type": "code",
   "execution_count": 26,
   "id": "17237151-5562-4ff8-9dd5-955befe32acf",
   "metadata": {},
   "outputs": [
    {
     "data": {
      "text/plain": [
       "(1+2j)"
      ]
     },
     "execution_count": 26,
     "metadata": {},
     "output_type": "execute_result"
    }
   ],
   "source": [
    "complex_number # to bring the list of variables (user defined) or class/keyword (system defines) press \"tab\""
   ]
  },
  {
   "cell_type": "code",
   "execution_count": 27,
   "id": "79bc7bdf-db40-4ed4-bf34-542cdcd979e3",
   "metadata": {},
   "outputs": [
    {
     "data": {
      "text/plain": [
       "complex"
      ]
     },
     "execution_count": 27,
     "metadata": {},
     "output_type": "execute_result"
    }
   ],
   "source": [
    "type(complex_number)"
   ]
  },
  {
   "cell_type": "code",
   "execution_count": 28,
   "id": "fc78b146-7cb8-43f6-89a2-29c23cac6d3e",
   "metadata": {},
   "outputs": [
    {
     "data": {
      "text/plain": [
       "2.0"
      ]
     },
     "execution_count": 28,
     "metadata": {},
     "output_type": "execute_result"
    }
   ],
   "source": [
    "complex_number.imag # to bring the list of functions press \"tab\" after dot(.)"
   ]
  },
  {
   "cell_type": "code",
   "execution_count": 29,
   "id": "43d60431-6609-482d-b00d-f5030225dd87",
   "metadata": {},
   "outputs": [
    {
     "data": {
      "text/plain": [
       "1.0"
      ]
     },
     "execution_count": 29,
     "metadata": {},
     "output_type": "execute_result"
    }
   ],
   "source": [
    "complex_number.real"
   ]
  },
  {
   "cell_type": "code",
   "execution_count": 30,
   "id": "6b530d41-fe7b-44ee-8df2-f3209184946a",
   "metadata": {},
   "outputs": [
    {
     "data": {
      "text/plain": [
       "(1-2j)"
      ]
     },
     "execution_count": 30,
     "metadata": {},
     "output_type": "execute_result"
    }
   ],
   "source": [
    "complex_number.conjugate()"
   ]
  },
  {
   "cell_type": "code",
   "execution_count": 31,
   "id": "0eee116b-6f38-4f51-aac4-1edd8289eef5",
   "metadata": {},
   "outputs": [
    {
     "data": {
      "text/plain": [
       "(1-2j)"
      ]
     },
     "execution_count": 31,
     "metadata": {},
     "output_type": "execute_result"
    }
   ],
   "source": [
    "1+2j.conjugate()"
   ]
  },
  {
   "cell_type": "code",
   "execution_count": 32,
   "id": "393a86f0-5842-4129-ac93-ddc1955ae821",
   "metadata": {},
   "outputs": [
    {
     "data": {
      "text/plain": [
       "(6+7j)"
      ]
     },
     "execution_count": 32,
     "metadata": {},
     "output_type": "execute_result"
    }
   ],
   "source": [
    "6-7j.conjugate()"
   ]
  },
  {
   "cell_type": "code",
   "execution_count": 33,
   "id": "89a7bae6-46b0-4331-9f48-99f9eae1e1ce",
   "metadata": {},
   "outputs": [
    {
     "name": "stdout",
     "output_type": "stream",
     "text": [
      "Hello!\n",
      "Hello!\n"
     ]
    }
   ],
   "source": [
    "# string can be defined in both \"str\" and 'str'\n",
    "print('Hello!')\n",
    "print(\"Hello!\")"
   ]
  },
  {
   "cell_type": "code",
   "execution_count": 34,
   "id": "411d1701-9638-4741-becd-02d01bc24c4d",
   "metadata": {},
   "outputs": [
    {
     "data": {
      "text/plain": [
       "True"
      ]
     },
     "execution_count": 34,
     "metadata": {},
     "output_type": "execute_result"
    }
   ],
   "source": [
    "# Boolean\n",
    "True"
   ]
  },
  {
   "cell_type": "code",
   "execution_count": 35,
   "id": "cfa9e9c9-df38-4496-baf0-9922ca5fcc01",
   "metadata": {},
   "outputs": [
    {
     "data": {
      "text/plain": [
       "bool"
      ]
     },
     "execution_count": 35,
     "metadata": {},
     "output_type": "execute_result"
    }
   ],
   "source": [
    "type(True)"
   ]
  },
  {
   "cell_type": "code",
   "execution_count": 36,
   "id": "8cd5179d-23d3-4314-82fe-d56ffab7cd7d",
   "metadata": {},
   "outputs": [
    {
     "data": {
      "text/plain": [
       "bool"
      ]
     },
     "execution_count": 36,
     "metadata": {},
     "output_type": "execute_result"
    }
   ],
   "source": [
    "type(False)"
   ]
  },
  {
   "cell_type": "code",
   "execution_count": 37,
   "id": "f36f5dfd-6446-48ee-ba1b-8709f9d0226c",
   "metadata": {},
   "outputs": [
    {
     "data": {
      "text/plain": [
       "False"
      ]
     },
     "execution_count": 37,
     "metadata": {},
     "output_type": "execute_result"
    }
   ],
   "source": [
    "not True"
   ]
  },
  {
   "cell_type": "code",
   "execution_count": 38,
   "id": "43c2ab06-671b-4d75-8d3c-a8bc62710b5f",
   "metadata": {},
   "outputs": [
    {
     "data": {
      "text/plain": [
       "bool"
      ]
     },
     "execution_count": 38,
     "metadata": {},
     "output_type": "execute_result"
    }
   ],
   "source": [
    "type(not True)"
   ]
  },
  {
   "cell_type": "code",
   "execution_count": 39,
   "id": "b7437e8f-4626-475b-8e1b-7737d3713c56",
   "metadata": {},
   "outputs": [
    {
     "data": {
      "text/plain": [
       "False"
      ]
     },
     "execution_count": 39,
     "metadata": {},
     "output_type": "execute_result"
    }
   ],
   "source": [
    "True and False"
   ]
  },
  {
   "cell_type": "code",
   "execution_count": 40,
   "id": "25e0ad6b-a95c-4d0d-8b42-411180de3985",
   "metadata": {},
   "outputs": [
    {
     "data": {
      "text/plain": [
       "True"
      ]
     },
     "execution_count": 40,
     "metadata": {},
     "output_type": "execute_result"
    }
   ],
   "source": [
    "True or False"
   ]
  },
  {
   "cell_type": "markdown",
   "id": "44066d1b-12fd-4d8a-8752-98d367069981",
   "metadata": {},
   "source": [
    "# Variable Naming "
   ]
  },
  {
   "cell_type": "raw",
   "id": "c0f8522b-99c8-4741-9fe1-ecb1639103c8",
   "metadata": {},
   "source": [
    "Variable Naming Convention\n",
    "\n",
    "Naming of the variable should always starts with\n",
    "    1. Alphabet (both upper or lower case is accepted)\n",
    "    2. Underscore ( _ ) symbol - Only _ is accepted as a special symbol the start the variable name\n",
    "\n",
    "Note - 1. Never start name of the user defined variables with Numbers, Special symbol (e.g @,#,$,%,!,etc).\n",
    "       2. Variables are case sensitive\n",
    "\n",
    "Examples - \n",
    "    Accepted - number, Num, num_1, _Num, etc.\n",
    "    Not accepted - 2num, @num, 123Var, !num, etc."
   ]
  },
  {
   "cell_type": "raw",
   "id": "c138d4d6-43df-459c-94ea-4bf6d418ad15",
   "metadata": {},
   "source": [
    "Never name variable same as reserved keywords in python and the assign value to it.\n",
    "If you do this the keyword value will be overwritten and the code will not function properly.\n",
    "In above case you'll need to restart your Kernal\n",
    "\n",
    "List of reserved keywords in python (total 35)- \n",
    "['False', 'None', 'True', 'and', 'as', 'assert', 'async', 'await', 'break', 'class', 'continue', 'def', 'del', 'elif', 'else', 'except', 'finally', 'for', 'from', 'global', 'if', 'import', 'in', 'is', 'lambda', 'nonlocal', 'not', 'or', 'pass', 'raise', 'return', 'try', 'while', 'with', 'yield']"
   ]
  },
  {
   "cell_type": "code",
   "execution_count": 41,
   "id": "885984f9-ac33-45ac-89a4-18729d911d4d",
   "metadata": {},
   "outputs": [
    {
     "ename": "SyntaxError",
     "evalue": "invalid decimal literal (216520281.py, line 3)",
     "output_type": "error",
     "traceback": [
      "\u001b[0;36m  Cell \u001b[0;32mIn[41], line 3\u001b[0;36m\u001b[0m\n\u001b[0;31m    1a\u001b[0m\n\u001b[0m    ^\u001b[0m\n\u001b[0;31mSyntaxError\u001b[0m\u001b[0;31m:\u001b[0m invalid decimal literal\n"
     ]
    }
   ],
   "source": [
    "# bad way to name a variable\n",
    "## dont start the variable name with numbers\n",
    "1a\n",
    "3answer"
   ]
  },
  {
   "cell_type": "code",
   "execution_count": 45,
   "id": "a100095c-e7b0-4df0-88d9-22143525eb9e",
   "metadata": {},
   "outputs": [
    {
     "name": "stdout",
     "output_type": "stream",
     "text": [
      "iNeuron\n",
      "PW Skills\n"
     ]
    }
   ],
   "source": [
    "## Variables are case senssitive\n",
    "company = \"iNeuron\"\n",
    "Company = \"PW Skills\"\n",
    "print(company)\n",
    "print(Company)"
   ]
  },
  {
   "cell_type": "code",
   "execution_count": 46,
   "id": "7bacfc60-6c15-4ba3-b10d-34315d5e72c5",
   "metadata": {},
   "outputs": [
    {
     "name": "stdout",
     "output_type": "stream",
     "text": [
      "The list of keyword is : \n",
      "['False', 'None', 'True', 'and', 'as', 'assert', 'async', 'await', 'break', 'class', 'continue', 'def', 'del', 'elif', 'else', 'except', 'finally', 'for', 'from', 'global', 'if', 'import', 'in', 'is', 'lambda', 'nonlocal', 'not', 'or', 'pass', 'raise', 'return', 'try', 'while', 'with', 'yield']\n"
     ]
    }
   ],
   "source": [
    "# Code to get list of all reserved Keywords in python \n",
    "## keywords in python\n",
    "# importing \"keyword\" for keyword operations\n",
    "import keyword\n",
    "\n",
    "# printing all keywords at once using \"kwlist()\"\n",
    "print(\"The list of keyword is : \")\n",
    "print(keyword.kwlist)"
   ]
  },
  {
   "cell_type": "markdown",
   "id": "ffd8e554-7a58-425d-ad6f-8ee23426cbf6",
   "metadata": {},
   "source": [
    "# Type Casting"
   ]
  },
  {
   "cell_type": "code",
   "execution_count": 47,
   "id": "6a57ba60-f8ae-4db5-b12d-e1781f89c677",
   "metadata": {},
   "outputs": [
    {
     "data": {
      "text/plain": [
       "False"
      ]
     },
     "execution_count": 47,
     "metadata": {},
     "output_type": "execute_result"
    }
   ],
   "source": [
    "bool(0)"
   ]
  },
  {
   "cell_type": "code",
   "execution_count": 48,
   "id": "54ce4dbd-803e-42ed-8f81-f97eedbed4c7",
   "metadata": {},
   "outputs": [
    {
     "data": {
      "text/plain": [
       "True"
      ]
     },
     "execution_count": 48,
     "metadata": {},
     "output_type": "execute_result"
    }
   ],
   "source": [
    "bool(1) # integer 1 is typecasted to bool i.e True"
   ]
  },
  {
   "cell_type": "code",
   "execution_count": 49,
   "id": "1ca49cf0-c3c1-452d-b7f1-f412d4cffa4a",
   "metadata": {},
   "outputs": [
    {
     "data": {
      "text/plain": [
       "1"
      ]
     },
     "execution_count": 49,
     "metadata": {},
     "output_type": "execute_result"
    }
   ],
   "source": [
    "int(True) # bool True is typecasted to int 1"
   ]
  },
  {
   "cell_type": "code",
   "execution_count": 50,
   "id": "979907d9-1795-4d5b-8158-244f0a1dd270",
   "metadata": {},
   "outputs": [
    {
     "data": {
      "text/plain": [
       "0"
      ]
     },
     "execution_count": 50,
     "metadata": {},
     "output_type": "execute_result"
    }
   ],
   "source": [
    "int(False) # bool False is typecasted to int 0"
   ]
  },
  {
   "cell_type": "code",
   "execution_count": 51,
   "id": "78bb9b43-9bd3-4827-baa6-d5b9af477b49",
   "metadata": {},
   "outputs": [
    {
     "data": {
      "text/plain": [
       "True"
      ]
     },
     "execution_count": 51,
     "metadata": {},
     "output_type": "execute_result"
    }
   ],
   "source": [
    "bool(2) # anything apart from 0 is always true"
   ]
  },
  {
   "cell_type": "code",
   "execution_count": 52,
   "id": "5fea4bb5-16cb-4618-a734-70e39b53db31",
   "metadata": {},
   "outputs": [
    {
     "data": {
      "text/plain": [
       "True"
      ]
     },
     "execution_count": 52,
     "metadata": {},
     "output_type": "execute_result"
    }
   ],
   "source": [
    "bool(-1) # anything apart from 0 is always true"
   ]
  },
  {
   "cell_type": "code",
   "execution_count": 53,
   "id": "57ea782c-2296-45f7-9b88-324bc012a4bb",
   "metadata": {},
   "outputs": [
    {
     "data": {
      "text/plain": [
       "'23'"
      ]
     },
     "execution_count": 53,
     "metadata": {},
     "output_type": "execute_result"
    }
   ],
   "source": [
    "str(23)"
   ]
  },
  {
   "cell_type": "code",
   "execution_count": 54,
   "id": "cac436a6-229a-4bc7-9b5f-9bc1a0d64312",
   "metadata": {},
   "outputs": [
    {
     "data": {
      "text/plain": [
       "int"
      ]
     },
     "execution_count": 54,
     "metadata": {},
     "output_type": "execute_result"
    }
   ],
   "source": [
    "type(23)"
   ]
  },
  {
   "cell_type": "code",
   "execution_count": 55,
   "id": "94dd69bf-88dc-47e5-b159-431a93c1aaa6",
   "metadata": {},
   "outputs": [
    {
     "data": {
      "text/plain": [
       "str"
      ]
     },
     "execution_count": 55,
     "metadata": {},
     "output_type": "execute_result"
    }
   ],
   "source": [
    "type(str(23))"
   ]
  },
  {
   "cell_type": "code",
   "execution_count": 56,
   "id": "ba52896f-ce00-462d-81ae-46d27a64e54e",
   "metadata": {},
   "outputs": [
    {
     "data": {
      "text/plain": [
       "int"
      ]
     },
     "execution_count": 56,
     "metadata": {},
     "output_type": "execute_result"
    }
   ],
   "source": [
    "a = 23\n",
    "type(a)"
   ]
  },
  {
   "cell_type": "code",
   "execution_count": 57,
   "id": "8d3e830c-dc34-42c7-8efa-3e43733d9118",
   "metadata": {},
   "outputs": [
    {
     "data": {
      "text/plain": [
       "'23'"
      ]
     },
     "execution_count": 57,
     "metadata": {},
     "output_type": "execute_result"
    }
   ],
   "source": [
    "b = str(a)\n",
    "b"
   ]
  },
  {
   "cell_type": "code",
   "execution_count": 58,
   "id": "eb81e891-f1a6-43fa-a64b-95cac88f4335",
   "metadata": {},
   "outputs": [
    {
     "data": {
      "text/plain": [
       "str"
      ]
     },
     "execution_count": 58,
     "metadata": {},
     "output_type": "execute_result"
    }
   ],
   "source": [
    "type(b)"
   ]
  },
  {
   "cell_type": "code",
   "execution_count": 59,
   "id": "01e25175-60a3-42eb-a5e4-6b00b297cfff",
   "metadata": {},
   "outputs": [
    {
     "data": {
      "text/plain": [
       "str"
      ]
     },
     "execution_count": 59,
     "metadata": {},
     "output_type": "execute_result"
    }
   ],
   "source": [
    "type('23')"
   ]
  },
  {
   "cell_type": "code",
   "execution_count": 60,
   "id": "7f2b0675-ea32-41f9-9cc6-8b959093bb97",
   "metadata": {},
   "outputs": [
    {
     "data": {
      "text/plain": [
       "23"
      ]
     },
     "execution_count": 60,
     "metadata": {},
     "output_type": "execute_result"
    }
   ],
   "source": [
    "int('23')"
   ]
  },
  {
   "cell_type": "code",
   "execution_count": 61,
   "id": "e0f70ea7-b99d-42d8-a3ad-20948087e18f",
   "metadata": {},
   "outputs": [
    {
     "ename": "ValueError",
     "evalue": "invalid literal for int() with base 10: 'Hello'",
     "output_type": "error",
     "traceback": [
      "\u001b[0;31m---------------------------------------------------------------------------\u001b[0m",
      "\u001b[0;31mValueError\u001b[0m                                Traceback (most recent call last)",
      "Cell \u001b[0;32mIn[61], line 1\u001b[0m\n\u001b[0;32m----> 1\u001b[0m \u001b[38;5;28;43mint\u001b[39;49m\u001b[43m(\u001b[49m\u001b[38;5;124;43m\"\u001b[39;49m\u001b[38;5;124;43mHello\u001b[39;49m\u001b[38;5;124;43m\"\u001b[39;49m\u001b[43m)\u001b[49m\n",
      "\u001b[0;31mValueError\u001b[0m: invalid literal for int() with base 10: 'Hello'"
     ]
    }
   ],
   "source": [
    "int(\"Hello\")"
   ]
  },
  {
   "cell_type": "code",
   "execution_count": 63,
   "id": "d805f32a-a9fd-4198-8d2b-388876c6f5b4",
   "metadata": {},
   "outputs": [
    {
     "data": {
      "text/plain": [
       "int"
      ]
     },
     "execution_count": 63,
     "metadata": {},
     "output_type": "execute_result"
    }
   ],
   "source": [
    "type(int('23'))"
   ]
  },
  {
   "cell_type": "code",
   "execution_count": 64,
   "id": "681971a2-752e-4dc8-927d-6a9f0ba3e249",
   "metadata": {},
   "outputs": [
    {
     "data": {
      "text/plain": [
       "2"
      ]
     },
     "execution_count": 64,
     "metadata": {},
     "output_type": "execute_result"
    }
   ],
   "source": [
    "int(2.55)"
   ]
  },
  {
   "cell_type": "code",
   "execution_count": 65,
   "id": "53179f3a-9538-4ef4-a123-ba623608dabb",
   "metadata": {},
   "outputs": [
    {
     "data": {
      "text/plain": [
       "2.0"
      ]
     },
     "execution_count": 65,
     "metadata": {},
     "output_type": "execute_result"
    }
   ],
   "source": [
    "float(2)"
   ]
  },
  {
   "cell_type": "code",
   "execution_count": 66,
   "id": "9767914e-56d8-4307-95dd-fc04a950d8c1",
   "metadata": {},
   "outputs": [
    {
     "name": "stdout",
     "output_type": "stream",
     "text": [
      "True\n"
     ]
    }
   ],
   "source": [
    "a = 1   # assigning 1 (int) in variable a\n",
    "if bool(a) == True:\n",
    "    print(\"True\")"
   ]
  },
  {
   "cell_type": "markdown",
   "id": "83877cb5-e2e3-4b97-8cfa-31c14e7d3764",
   "metadata": {},
   "source": [
    "# Dynamic Typing"
   ]
  },
  {
   "cell_type": "raw",
   "id": "fc2565a9-f946-449c-9661-96ac74b16216",
   "metadata": {},
   "source": [
    "Unlike other programming language where we need to mention type of variable at the time of defining variable, the python has a feature called \"Dynamic typing\".\n",
    "\n",
    "While defining a variable we don't need to mention the type of variable as its type get defined at the time of execution of code according to the type of value (10, 10.5, \"Hello\", True, 1+ij, etc) assigned to that variable."
   ]
  },
  {
   "cell_type": "code",
   "execution_count": 68,
   "id": "a738b29f-99bc-44e6-8882-526f5cf751de",
   "metadata": {},
   "outputs": [
    {
     "data": {
      "text/plain": [
       "12"
      ]
     },
     "execution_count": 68,
     "metadata": {},
     "output_type": "execute_result"
    }
   ],
   "source": [
    "a = 12\n",
    "a"
   ]
  },
  {
   "cell_type": "code",
   "execution_count": 69,
   "id": "a9c2587a-26d6-405c-8f2f-a83bd869320c",
   "metadata": {},
   "outputs": [
    {
     "data": {
      "text/plain": [
       "int"
      ]
     },
     "execution_count": 69,
     "metadata": {},
     "output_type": "execute_result"
    }
   ],
   "source": [
    "type(a)"
   ]
  },
  {
   "cell_type": "code",
   "execution_count": 70,
   "id": "77f08998-b4a0-457e-825b-9540424aa028",
   "metadata": {},
   "outputs": [
    {
     "data": {
      "text/plain": [
       "'Hello'"
      ]
     },
     "execution_count": 70,
     "metadata": {},
     "output_type": "execute_result"
    }
   ],
   "source": [
    "text = \"Hello\"\n",
    "text"
   ]
  },
  {
   "cell_type": "code",
   "execution_count": 71,
   "id": "31e600c5-3a5a-45f5-939f-d53e45f9bde7",
   "metadata": {},
   "outputs": [
    {
     "data": {
      "text/plain": [
       "str"
      ]
     },
     "execution_count": 71,
     "metadata": {},
     "output_type": "execute_result"
    }
   ],
   "source": [
    "type(text)"
   ]
  },
  {
   "cell_type": "code",
   "execution_count": 72,
   "id": "c25d7b49-62e8-4be6-a4bf-592d6ba3d25a",
   "metadata": {},
   "outputs": [
    {
     "name": "stdout",
     "output_type": "stream",
     "text": [
      "<class 'int'>\n"
     ]
    }
   ],
   "source": [
    "print(type(a))"
   ]
  },
  {
   "cell_type": "code",
   "execution_count": 73,
   "id": "57178059-6b26-4a5a-b8c4-54fb7d65fd74",
   "metadata": {},
   "outputs": [
    {
     "name": "stdout",
     "output_type": "stream",
     "text": [
      "<class 'str'>\n"
     ]
    }
   ],
   "source": [
    "print(type(text))"
   ]
  },
  {
   "cell_type": "markdown",
   "id": "2ab0ee2e-fc23-4e03-82e5-e9254e4f1b05",
   "metadata": {},
   "source": [
    "# Concatenation"
   ]
  },
  {
   "cell_type": "code",
   "execution_count": 74,
   "id": "eb2b82f3-9f12-4d04-ad26-c75e84b1de79",
   "metadata": {},
   "outputs": [
    {
     "data": {
      "text/plain": [
       "'Hello World'"
      ]
     },
     "execution_count": 74,
     "metadata": {},
     "output_type": "execute_result"
    }
   ],
   "source": [
    "\"Hello\" + \" World\""
   ]
  },
  {
   "cell_type": "code",
   "execution_count": 75,
   "id": "b0e66155-dcc8-4e26-a2c2-1bcdc455649f",
   "metadata": {},
   "outputs": [
    {
     "data": {
      "text/plain": [
       "'Hello 1'"
      ]
     },
     "execution_count": 75,
     "metadata": {},
     "output_type": "execute_result"
    }
   ],
   "source": [
    "\"Hello\" + \" 1\""
   ]
  },
  {
   "cell_type": "code",
   "execution_count": 76,
   "id": "7817f734-0e01-49ab-9526-551de154b5de",
   "metadata": {},
   "outputs": [
    {
     "ename": "TypeError",
     "evalue": "can only concatenate str (not \"int\") to str",
     "output_type": "error",
     "traceback": [
      "\u001b[0;31m---------------------------------------------------------------------------\u001b[0m",
      "\u001b[0;31mTypeError\u001b[0m                                 Traceback (most recent call last)",
      "Cell \u001b[0;32mIn[76], line 1\u001b[0m\n\u001b[0;32m----> 1\u001b[0m \u001b[38;5;124;43m\"\u001b[39;49m\u001b[38;5;124;43mHello\u001b[39;49m\u001b[38;5;124;43m\"\u001b[39;49m\u001b[43m \u001b[49m\u001b[38;5;241;43m+\u001b[39;49m\u001b[43m \u001b[49m\u001b[38;5;241;43m1\u001b[39;49m \u001b[38;5;66;03m#concatenate will not work as it only works with String (str)\u001b[39;00m\n",
      "\u001b[0;31mTypeError\u001b[0m: can only concatenate str (not \"int\") to str"
     ]
    }
   ],
   "source": [
    "\"Hello\" + 1 #concatenate will not work as it only works with String (str)"
   ]
  },
  {
   "cell_type": "code",
   "execution_count": 77,
   "id": "4e34e365-bdee-4ad3-8197-df9371d5b10e",
   "metadata": {},
   "outputs": [
    {
     "data": {
      "text/plain": [
       "'Hello Hello Hello Hello Hello Hello Hello Hello Hello Hello '"
      ]
     },
     "execution_count": 77,
     "metadata": {},
     "output_type": "execute_result"
    }
   ],
   "source": [
    "\"Hello \" * 10"
   ]
  },
  {
   "cell_type": "code",
   "execution_count": 78,
   "id": "01db8f09-97cf-443d-a423-c5b1eeb35014",
   "metadata": {},
   "outputs": [
    {
     "data": {
      "text/plain": [
       "'1111111111'"
      ]
     },
     "execution_count": 78,
     "metadata": {},
     "output_type": "execute_result"
    }
   ],
   "source": [
    "\"1\" * 10"
   ]
  },
  {
   "cell_type": "code",
   "execution_count": null,
   "id": "087175b7-0a03-44d2-8989-a8da227de9da",
   "metadata": {},
   "outputs": [],
   "source": []
  }
 ],
 "metadata": {
  "kernelspec": {
   "display_name": "Python 3 (ipykernel)",
   "language": "python",
   "name": "python3"
  },
  "language_info": {
   "codemirror_mode": {
    "name": "ipython",
    "version": 3
   },
   "file_extension": ".py",
   "mimetype": "text/x-python",
   "name": "python",
   "nbconvert_exporter": "python",
   "pygments_lexer": "ipython3",
   "version": "3.10.8"
  }
 },
 "nbformat": 4,
 "nbformat_minor": 5
}
