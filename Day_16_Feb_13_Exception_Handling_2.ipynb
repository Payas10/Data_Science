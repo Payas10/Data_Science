{
 "cells": [
  {
   "cell_type": "markdown",
   "id": "11ef3016-db48-44be-ab1e-e372a140e6f8",
   "metadata": {},
   "source": [
    "# List of generally used Exception"
   ]
  },
  {
   "cell_type": "code",
   "execution_count": 1,
   "id": "914ba1e2-43b0-479c-975f-e0f50a43a192",
   "metadata": {},
   "outputs": [
    {
     "name": "stdout",
     "output_type": "stream",
     "text": [
      "division by zero\n"
     ]
    }
   ],
   "source": [
    "# division by zero error\n",
    "\n",
    "try:\n",
    "    a=10\n",
    "    a/0    # gives division by zero error\n",
    "except ZeroDivisionError as e:\n",
    "    print(e)"
   ]
  },
  {
   "cell_type": "code",
   "execution_count": 2,
   "id": "93598b4c-56f1-4e66-bd9b-930b8408afb8",
   "metadata": {},
   "outputs": [
    {
     "name": "stdout",
     "output_type": "stream",
     "text": [
      "invalid literal for int() with base 10: 'hello'\n"
     ]
    }
   ],
   "source": [
    "# Value error or type error\n",
    "\n",
    "try:\n",
    "    int(\"hello\")  # gives error as string cannot be typecasted to int\n",
    "except (ValueError, TypeError) as e:\n",
    "    print(e)"
   ]
  },
  {
   "cell_type": "code",
   "execution_count": 4,
   "id": "933b8bda-82ea-4883-bbad-d1e25bc2d25a",
   "metadata": {},
   "outputs": [
    {
     "name": "stdout",
     "output_type": "stream",
     "text": [
      "this will catch an error\n"
     ]
    }
   ],
   "source": [
    "# let suppose I am writing a code and \n",
    "# i am not aware what kind of specific error the code will give,\n",
    "# in that case\n",
    "\n",
    "try :\n",
    "    int(\"hello\")\n",
    "except :\n",
    "    print(\"this will catch an error\")\n",
    "        \n",
    "# in this situation except: will call the superclass automatically and will catch the error\n",
    "# if i am not about the error type\n",
    "# but this is not the good practice at all"
   ]
  },
  {
   "cell_type": "markdown",
   "id": "30a716f3-c4b5-425d-b7f2-0c1696c68ccb",
   "metadata": {
    "jp-MarkdownHeadingCollapsed": true,
    "tags": []
   },
   "source": [
    "* **Whenever you are writing an error or whenever you are handling try: and except: in that case you are supposed to mention the type of error specifically. This is mandatory.**"
   ]
  },
  {
   "cell_type": "code",
   "execution_count": 5,
   "id": "cb8551cc-f387-4d01-ae76-ccf66105cd43",
   "metadata": {},
   "outputs": [
    {
     "name": "stdout",
     "output_type": "stream",
     "text": [
      "No module named 'hello'\n"
     ]
    }
   ],
   "source": [
    "# import error\n",
    "\n",
    "try:\n",
    "    import hello  # no package or module with name hello exist in python, therefore gives error\n",
    "except ImportError as e:\n",
    "    print (e)    "
   ]
  },
  {
   "cell_type": "code",
   "execution_count": 11,
   "id": "356cff1f-df18-412e-a931-4ebb81f2cc16",
   "metadata": {},
   "outputs": [
    {
     "name": "stdout",
     "output_type": "stream",
     "text": [
      "'key10'\n"
     ]
    }
   ],
   "source": [
    "# key error (when dealing with dict)\n",
    "\n",
    "try :\n",
    "    d = {1 : [1,2,3,4] , \"key\" : \"hello\"}\n",
    "    d[\"key10\"]\n",
    "except KeyError as e : # 'KeyError' is another class which is available inside 'Exception' superclass\n",
    "    print(e)"
   ]
  },
  {
   "cell_type": "code",
   "execution_count": 12,
   "id": "990456ef-7a15-4aca-ae88-8ebdb7ebf52e",
   "metadata": {},
   "outputs": [
    {
     "name": "stdout",
     "output_type": "stream",
     "text": [
      "'str' object has no attribute 'test'\n"
     ]
    }
   ],
   "source": [
    "# Attribute error\n",
    "\n",
    "try :\n",
    "    \"hello\".test()  # test() is not a function which is pre-defined or defined by me till now. SO gives error\n",
    "except AttributeError as e :\n",
    "    print(e)\n",
    "    "
   ]
  },
  {
   "cell_type": "code",
   "execution_count": 13,
   "id": "2a16e3c4-d732-4c03-a03e-2ecebfc4f1eb",
   "metadata": {},
   "outputs": [
    {
     "name": "stdout",
     "output_type": "stream",
     "text": [
      "list index out of range\n"
     ]
    }
   ],
   "source": [
    "# index error\n",
    "\n",
    "try:\n",
    "    l = [1,2,3,4]\n",
    "    l[10]             # gives error as 10th index doesn't exist in the list\n",
    "except IndexError as e :\n",
    "    print(e)"
   ]
  },
  {
   "cell_type": "code",
   "execution_count": 15,
   "id": "f3fa9868-c620-43c1-95dd-5e2cc0201d54",
   "metadata": {},
   "outputs": [
    {
     "name": "stdout",
     "output_type": "stream",
     "text": [
      "can only concatenate str (not \"int\") to str\n"
     ]
    }
   ],
   "source": [
    "# type error\n",
    "\n",
    "try :\n",
    "    \"hello\" + 123    # gives error as str and int type cannot be added or concatenated\n",
    "except TypeError as e :\n",
    "    print(e)\n",
    "    "
   ]
  },
  {
   "cell_type": "code",
   "execution_count": 17,
   "id": "fb007f48-4fda-455c-9693-d8be31667a6e",
   "metadata": {},
   "outputs": [
    {
     "name": "stdout",
     "output_type": "stream",
     "text": [
      "[Errno 2] No such file or directory: 'FileNotExist.txt'\n"
     ]
    }
   ],
   "source": [
    "# file not found error\n",
    "\n",
    "try :\n",
    "    # no file with name 'FileNotExist.txt' exist hence cannotbe opened in read 'r' mode so gives error\n",
    "    with open(\"FileNotExist.txt\", 'r') as f : \n",
    "        f.read()\n",
    "except FileNotFoundError as e :\n",
    "    print(e)\n",
    "    "
   ]
  },
  {
   "cell_type": "markdown",
   "id": "dfc7c316-d1c5-4768-97ef-127f834d42c8",
   "metadata": {},
   "source": [
    "#### Never write superclass Exception before specific exeption class. It is Not a good practice."
   ]
  },
  {
   "cell_type": "code",
   "execution_count": 20,
   "id": "dc4f279a-57a2-498a-8ac9-295e41eab50f",
   "metadata": {},
   "outputs": [
    {
     "name": "stdout",
     "output_type": "stream",
     "text": [
      "handled by superclass:  [Errno 2] No such file or directory: 'FileNotExist.txt'\n"
     ]
    }
   ],
   "source": [
    "# Never write superclass Exception before specific exeption class. It is Not a good practice.\n",
    "\n",
    "try :\n",
    "    # no file with name 'FileNotExist.txt' exist hence cannotbe opened in read 'r' mode so gives error\n",
    "    with open(\"FileNotExist.txt\", 'r') as f : \n",
    "        f.read()\n",
    "        \n",
    "except Exception as e :               # this error wiil be handled by superclass Exception and not the specific class\n",
    "    print(\"handled by superclass: \", e)\n",
    "        \n",
    "except FileNotFoundError as e :      # this error wiil not be handled by specific class 'FileNotFoundError'\n",
    "    print(\"handled by specific exception class: \" , e)\n",
    "    \n",
    "# Reason because superclass is written before specific exception class\n",
    "# Exception is superclass and all other error classes falls under it\n",
    "# so if superclass is mentioned earlier in the code then it will handle the error itself\n",
    "# error will never go to the specific error class\n",
    "\n",
    "# Code wise Above example is completely fine\n",
    "# but Ethics wise it is not fine at all\n",
    "# because you are not suppose to write superclass in the very first place\n",
    "# as superclass can handle any number and type of error automatically\n",
    "\n",
    "# Maybe at the end you can mention the superclass after writing all the possible error class\n",
    "# NOTE - Never write the superclass in the first place or at start\n",
    "# NOTE - Always write specific exception class at first and then \n",
    "# NOTE - at end you can write superclass if you have doubt that your specific exception class may not be able to handle it "
   ]
  },
  {
   "cell_type": "markdown",
   "id": "eaa87805-fc67-406e-891b-188793c10ab0",
   "metadata": {},
   "source": [
    "#### Even inside function try: and except: can be followed"
   ]
  },
  {
   "cell_type": "code",
   "execution_count": 24,
   "id": "3f3bfaa8-454f-4bca-9946-d842c062149e",
   "metadata": {},
   "outputs": [],
   "source": [
    "# try: and except: inside a function\n",
    "\n",
    "def test(file) :\n",
    "    try :\n",
    "        # no file with name 'FileNotExist.txt' exist hence cannotbe opened in read 'r' mode so gives error\n",
    "        with open(file, 'r') as f : \n",
    "            f.read()\n",
    "    except FileNotFoundError as e :\n",
    "        print(e)\n"
   ]
  },
  {
   "cell_type": "markdown",
   "id": "f1d1312e-aad8-4304-8ec5-8019f4585c67",
   "metadata": {},
   "source": [
    "#### NOTE - \n",
    "* going forward make sure you write all the suspecious piece of code or any block of code in try: block\n",
    "* and handle any error from it inside except: block\n",
    "* so that my code will not have any error in runtime\n",
    "* or even if it is going to produce an error it can be handled in easiest possible wa"
   ]
  },
  {
   "cell_type": "markdown",
   "id": "c8e10a6f-48eb-4400-a011-0ea2b74e03af",
   "metadata": {},
   "source": [
    "# Best Practices in exception handling"
   ]
  },
  {
   "cell_type": "markdown",
   "id": "93c631a4-4cc5-4675-b7f5-5a1fce4ec41c",
   "metadata": {},
   "source": [
    "### 1. Always use a specific error class"
   ]
  },
  {
   "cell_type": "code",
   "execution_count": 3,
   "id": "c46b265e-d266-45d3-9a4b-4908e954eca8",
   "metadata": {},
   "outputs": [
    {
     "name": "stdout",
     "output_type": "stream",
     "text": [
      "division by zero\n"
     ]
    }
   ],
   "source": [
    "# Always use a specific error class\n",
    "\n",
    "try :\n",
    "    10 / 0\n",
    "except ZeroDivisionError as e :\n",
    "    print(e)"
   ]
  },
  {
   "cell_type": "code",
   "execution_count": 4,
   "id": "38ef3f77-95db-4942-824d-d61370e26b7b",
   "metadata": {},
   "outputs": [
    {
     "name": "stdout",
     "output_type": "stream",
     "text": [
      "division by zero\n"
     ]
    }
   ],
   "source": [
    "# Do not use superclass 'Exception'. It is bad practice.\n",
    "# Also you cannot use superclass in the start. \n",
    "# if you want to use it, use it in the end after specifing all the specific error class\n",
    "# in case you are not aware of the error that code will give. Otherwise avoid using superclass.\n",
    "\n",
    "# Following is the bad practice and not used in production grade code\n",
    "try:\n",
    "    10 / 0\n",
    "except Exception as e :  # Do not use superclass 'Exception'. It is bad practice.\n",
    "    print(e)"
   ]
  },
  {
   "cell_type": "markdown",
   "id": "ef334b45-ad53-4a19-9711-4a65302d8501",
   "metadata": {},
   "source": [
    "### 2. Always print valid message"
   ]
  },
  {
   "cell_type": "code",
   "execution_count": 6,
   "id": "2c542a73-94dc-4267-9c79-5a95191d58d5",
   "metadata": {},
   "outputs": [
    {
     "name": "stdout",
     "output_type": "stream",
     "text": [
      "This is my zero division error that I am handling:  division by zero\n"
     ]
    }
   ],
   "source": [
    "# whenever you are trying to do error handling\n",
    "# Always try to mention a proper error/exception message\n",
    "# so that atthe time of error handling users will be able to find out and uderstand those message\n",
    "# and they will be able to debug and understand the work and nature of code in easiest possible way\n",
    "\n",
    "try :\n",
    "    10 / 0\n",
    "except ZeroDivisionError as e :\n",
    "    print(\"This is my zero division error that I am handling: \", e)\n",
    "    \n",
    "# always give meaningful messages so that it will help others to understand and debug the entire code"
   ]
  },
  {
   "cell_type": "markdown",
   "id": "4b353fc0-c595-45a8-80c5-8020cbf24c9b",
   "metadata": {},
   "source": [
    "### 3. Always try to log"
   ]
  },
  {
   "cell_type": "code",
   "execution_count": 9,
   "id": "5f5905c1-40a3-4a2f-a90e-9bf5de04eba9",
   "metadata": {},
   "outputs": [],
   "source": [
    "# instead of writng print(), because print is available inside you output console\n",
    "# so when the system restarts itself, the print() in output console is gone\n",
    "# But if you log it in a parmanent file in that case it'll not give any kind of issue and\n",
    "# it will be always available and you can process and store it inside your hard disk.\n",
    "\n",
    "import logging\n",
    "logging.basicConfig(filename = \"error.log\", level = logging.ERROR)\n",
    "try :\n",
    "    10 / 0\n",
    "except ZeroDivisionError as e :\n",
    "    logging.error(\"This is my zero division error that I am handling: {}\".format(e))  # never use print() while logging. Use logging.error()\n",
    "\n",
    "    \n",
    "# in this way, whenever there is error it gets logged into a permanent file\n",
    "# not just inside a console, because if you are trying to print() something inside console, it'll be gone after sometime\n",
    "\n",
    "# so you have to process and persist each and every information inside some permanent storage\n",
    "# and with the help of logging you'll be able to do it"
   ]
  },
  {
   "cell_type": "markdown",
   "id": "d6f28704-8465-493b-ac5f-e856c9fc457e",
   "metadata": {},
   "source": [
    "### 4. Always avoid to write the multiple exception handling"
   ]
  },
  {
   "cell_type": "code",
   "execution_count": 12,
   "id": "89a22d3b-34c3-464e-a527-3e6d7fe02d14",
   "metadata": {},
   "outputs": [],
   "source": [
    "\n",
    "try :\n",
    "    10 / 0\n",
    "except FileNotFoundError as e :\n",
    "    print(\"This is my File not found error that I am handling: {}\".format(e))\n",
    "except AttributeError as e :\n",
    "    print(\"This is my Attribute error that I am handling: {}\".format(e))\n",
    "except ZeroDivisionError as e :\n",
    "    logging.error(\"This is my zero division error that I am handling: {}\".format(e))\n",
    "    \n",
    "# as our code is going to give zero division error. So avoid writing any unnecessary except: block for errors. \n",
    "# It is not good practice because it is of no use as our code will not give FileNotFoundError or AttributeError\n",
    "\n",
    "# NOTE - \n",
    "# so always write the exception: for those errors which are closest to the error that you may produce"
   ]
  },
  {
   "cell_type": "markdown",
   "id": "1fe43204-9573-4dfd-909d-cff6e2a82d3a",
   "metadata": {},
   "source": [
    "### 5. Prepare proper documentation\n",
    "\n",
    "* Avoid inserting or creating anything which may give problem to future developer who is goin to check your code or who is going to do the modifications in code.\n",
    "* Proper documentation with proper valid, meaningful information about each and every error is very very crucial and it is very much iompoertant.\n",
    "* Therefore, proper documentation of the entire code, entire model, entire packages, entire file, entire class, entire objects, entire methods/functions and entire errors that we are going to create is very much required."
   ]
  },
  {
   "cell_type": "markdown",
   "id": "a0bf6fbc-dbf7-467e-8eeb-9c749f2d0fda",
   "metadata": {},
   "source": [
    "### 6. Cleanup all the resources"
   ]
  },
  {
   "cell_type": "code",
   "execution_count": 13,
   "id": "344433c6-1b4f-4a58-8e91-0cf51b79dd8c",
   "metadata": {},
   "outputs": [],
   "source": [
    "try :\n",
    "    with open(\"test.txt\", 'w') as f :\n",
    "        f.write(\"this is my message to file \\n\")\n",
    "except FileNotFoundError as e :\n",
    "    logging.error(\"This is my File not found error that I am handling: {}\".format(e))\n",
    "finally:\n",
    "    f.close()\n",
    "    \n",
    "# As we have open up the file, it simply means that it has occupied the resources in our main memory\n",
    "# so it is my responsibility to clean everything whatever I have opened\n",
    "# so we aresupposed to do cleanup of the resources even though there is an error or execution is successful\n",
    "\n",
    "# So in above example if file is opened then it is supposed to close all the time\n",
    "# hence, writing f.close() in finally: block which will execute always irresptive of errors or not\n",
    "\n",
    "# Again if you are opening database connectivity, you have to make sure that database connectivity is closed at end\n",
    "# It is important because if not close, you will end up utilising the unnecessary bandwidth of the database connection\n",
    "\n",
    "# in similar way if some network io ioeration is being done i am supposed to clean up the entire network io\n",
    "# otherwise it'll end up occupying the bandwidth and in that case it'll be over utilisation of the resources\n",
    "\n",
    "# NOTE -\n",
    "# You have to make sure that you are not overutilising or underutilizing the resources at any point of time"
   ]
  },
  {
   "cell_type": "code",
   "execution_count": null,
   "id": "7a39b8aa-4607-406f-958f-d75b8470cf4c",
   "metadata": {},
   "outputs": [],
   "source": []
  }
 ],
 "metadata": {
  "kernelspec": {
   "display_name": "Python 3 (ipykernel)",
   "language": "python",
   "name": "python3"
  },
  "language_info": {
   "codemirror_mode": {
    "name": "ipython",
    "version": 3
   },
   "file_extension": ".py",
   "mimetype": "text/x-python",
   "name": "python",
   "nbconvert_exporter": "python",
   "pygments_lexer": "ipython3",
   "version": "3.10.8"
  }
 },
 "nbformat": 4,
 "nbformat_minor": 5
}
