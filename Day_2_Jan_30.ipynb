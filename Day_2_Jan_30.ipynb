{
 "cells": [
  {
   "cell_type": "markdown",
   "id": "f92f7575-6312-4912-86ae-256db6fb5493",
   "metadata": {},
   "source": [
    "# print() - Different ways to print output in o/p console"
   ]
  },
  {
   "cell_type": "markdown",
   "id": "970de030-4070-46cb-af39-05356d2d137a",
   "metadata": {},
   "source": [
    "1. Regular approach\n",
    "2. f string\n",
    "3. .format()"
   ]
  },
  {
   "cell_type": "code",
   "execution_count": 9,
   "id": "2a416bb2-3e28-4edd-a93f-7750663b14d3",
   "metadata": {},
   "outputs": [
    {
     "name": "stdout",
     "output_type": "stream",
     "text": [
      "Hello World\n"
     ]
    }
   ],
   "source": [
    "# 1.Regular approach\n",
    "print(\"Hello World\")"
   ]
  },
  {
   "cell_type": "code",
   "execution_count": 10,
   "id": "9e598488-a19a-47fa-b9fa-d547e61e1bd9",
   "metadata": {},
   "outputs": [
    {
     "name": "stdout",
     "output_type": "stream",
     "text": [
      "123\n"
     ]
    }
   ],
   "source": [
    "# 1.Regular approach\n",
    "print(123)"
   ]
  },
  {
   "cell_type": "code",
   "execution_count": 11,
   "id": "1d865234-f0e5-48af-a37a-4048e1533ee3",
   "metadata": {},
   "outputs": [
    {
     "name": "stdout",
     "output_type": "stream",
     "text": [
      "Hello World\n"
     ]
    }
   ],
   "source": [
    "# 1.Regular approach\n",
    "print('Hello World')"
   ]
  },
  {
   "cell_type": "code",
   "execution_count": 12,
   "id": "1ac3f243-4817-4b70-bdce-baaec7ab3db3",
   "metadata": {},
   "outputs": [],
   "source": [
    "name = \"Payas Nimje\"\n",
    "age = 26"
   ]
  },
  {
   "cell_type": "code",
   "execution_count": 13,
   "id": "26112740-4090-469a-82ee-183ca0d380cb",
   "metadata": {},
   "outputs": [
    {
     "name": "stdout",
     "output_type": "stream",
     "text": [
      "My age is: 26\n"
     ]
    }
   ],
   "source": [
    "# 1.Regular approach\n",
    "print(\"My age is:\",age)"
   ]
  },
  {
   "cell_type": "code",
   "execution_count": 14,
   "id": "6fe29fdc-31dd-4f5a-90d2-8414759d1dab",
   "metadata": {},
   "outputs": [
    {
     "name": "stdout",
     "output_type": "stream",
     "text": [
      "My name is Payas Nimje and age is 26\n"
     ]
    }
   ],
   "source": [
    "# 1.Regular approach\n",
    "print(\"My name is\",name,\"and age is\",age)"
   ]
  },
  {
   "cell_type": "code",
   "execution_count": 16,
   "id": "3042d1e1-bbd8-41d3-8cc0-5d2045a7e2d3",
   "metadata": {},
   "outputs": [
    {
     "name": "stdout",
     "output_type": "stream",
     "text": [
      "My name is Payas Nimje and age is 26\n"
     ]
    }
   ],
   "source": [
    "# 2.f string\n",
    "print(f\"My name is {name} and age is {age}\")"
   ]
  },
  {
   "cell_type": "code",
   "execution_count": 19,
   "id": "ae23ad2b-e59f-48ef-a398-cc383fcfa7a3",
   "metadata": {},
   "outputs": [
    {
     "name": "stdout",
     "output_type": "stream",
     "text": [
      "My name is Payas Nimje and age is 26\n",
      "My name is 26 and age is Payas Nimje\n"
     ]
    }
   ],
   "source": [
    "# 3. .format()\n",
    "print(\"My name is {} and age is {}\".format(name, age))\n",
    "\n",
    "#problem of this approach is if name and age is interchanged in .format() then the output will be incorrect\n",
    "print(\"My name is {} and age is {}\".format(age, name))"
   ]
  },
  {
   "cell_type": "code",
   "execution_count": 23,
   "id": "ee67a2a6-4a26-49d0-98e9-a12d86fc2f39",
   "metadata": {},
   "outputs": [
    {
     "name": "stdout",
     "output_type": "stream",
     "text": [
      "My name is Payas Nimje and age is 26\n",
      "My name is Payas Nimje and age is 26\n"
     ]
    }
   ],
   "source": [
    "# 3. .format()\n",
    "# to prevent above mistake the following way is used\n",
    "\n",
    "print(\"My name is {full_name} and age is {current_age}\".format(full_name = name, current_age = age))\n",
    "print(\"My name is {full_name} and age is {current_age}\".format(current_age = age, full_name = name))\n",
    "\n",
    "# in above method even if order of parameters gets interchanges in .format() the result will be same"
   ]
  },
  {
   "cell_type": "code",
   "execution_count": 24,
   "id": "bce7809b-5f99-4e6f-af0b-180d419fc123",
   "metadata": {},
   "outputs": [],
   "source": [
    "# Task - Print the output in following way\n",
    "# \"My age is 32 and i have completed: my degree of BE with the name of Krish Naik\"\n",
    "\n",
    "name = \"Payas Nimje\"\n",
    "age = 26\n",
    "degree = \"BE\""
   ]
  },
  {
   "cell_type": "code",
   "execution_count": 25,
   "id": "900208aa-dbe0-4de9-b8ba-59e689165744",
   "metadata": {},
   "outputs": [
    {
     "name": "stdout",
     "output_type": "stream",
     "text": [
      "My age is 26 and i have completed: my degree of BE with the name of Payas Nimje\n"
     ]
    }
   ],
   "source": [
    "# f string\n",
    "print(f\"My age is {age} and i have completed: my degree of {degree} with the name of {name}\")"
   ]
  },
  {
   "cell_type": "code",
   "execution_count": 27,
   "id": "0127c8f2-a43d-4e7d-b438-5843ef55280a",
   "metadata": {},
   "outputs": [
    {
     "name": "stdout",
     "output_type": "stream",
     "text": [
      "My age is 26 and i have completed: my degree of BE with the name of Payas Nimje\n",
      "My age is 26 and i have completed: my degree of BE with the name of Payas Nimje\n"
     ]
    }
   ],
   "source": [
    "# .format()\n",
    "print(\"My age is {} and i have completed: my degree of {} with the name of {}\".format(age, degree, name))\n",
    "print(\"My age is {AGE} and i have completed: my degree of {DEGREE} with the name of {NAME}\".format(AGE=age, DEGREE=degree, NAME=name))"
   ]
  },
  {
   "cell_type": "markdown",
   "id": "947a33e1-8562-4e13-9116-3447bd2dbfa3",
   "metadata": {},
   "source": [
    "## Control Flow\n",
    "### Decision Making statements\n",
    "   * It is kind of making decision during occurred situation of program execution and action can be taken according to specified conditions.\n",
    "   * Structure of decision making evaluate several expressions that provide True or False as a result.\n",
    "   * It is up to you to decide which type of action want to take and execute the statements based upon True and False.\n",
    "   \n",
    "**These are several topics of decision making which going to be discussed below:**\n",
    "   1. **if**\n",
    "   2. **if else** \n",
    "   3. **if elif else**\n",
    "   4. **Nested if**\n",
    "   5. **Single Statement Suites**"
   ]
  },
  {
   "cell_type": "code",
   "execution_count": 30,
   "id": "7ad47d56-d1ef-4f7d-b7db-bf3187e1fd63",
   "metadata": {},
   "outputs": [
    {
     "name": "stdout",
     "output_type": "stream",
     "text": [
      "you are eligible to vote\n"
     ]
    }
   ],
   "source": [
    "# If statement\n",
    "age = 18\n",
    "if age>=18:\n",
    "    print(\"you are eligible to vote\")"
   ]
  },
  {
   "cell_type": "code",
   "execution_count": 31,
   "id": "5219652e-fabf-430f-8f61-4f1ed135c1b8",
   "metadata": {},
   "outputs": [
    {
     "name": "stdout",
     "output_type": "stream",
     "text": [
      "you are not eligible to vote\n"
     ]
    }
   ],
   "source": [
    "age = 17\n",
    "if age<18:\n",
    "    print(\"you are not eligible to vote\")"
   ]
  },
  {
   "cell_type": "code",
   "execution_count": 33,
   "id": "96ee1cc7-6e3b-4ea4-bf95-d3998a0c9806",
   "metadata": {},
   "outputs": [
    {
     "name": "stdin",
     "output_type": "stream",
     "text": [
      "Enter your age: 26\n"
     ]
    }
   ],
   "source": [
    "# input() takes the input from user\n",
    "# by default the input() return type is str\n",
    "age = input(\"Enter your age:\") # input() takes the input from user"
   ]
  },
  {
   "cell_type": "code",
   "execution_count": 34,
   "id": "94bf82c6-82fc-411f-acf0-f9f01a558443",
   "metadata": {},
   "outputs": [
    {
     "data": {
      "text/plain": [
       "str"
      ]
     },
     "execution_count": 34,
     "metadata": {},
     "output_type": "execute_result"
    }
   ],
   "source": [
    "type(age)"
   ]
  },
  {
   "cell_type": "code",
   "execution_count": 35,
   "id": "11ee3acf-f72e-4458-8fa0-8432636b1045",
   "metadata": {},
   "outputs": [
    {
     "name": "stdin",
     "output_type": "stream",
     "text": [
      "Enter your name: Payas Nimje\n"
     ]
    }
   ],
   "source": [
    "name = input(\"Enter your name:\")"
   ]
  },
  {
   "cell_type": "code",
   "execution_count": 36,
   "id": "2e88f600-a630-411c-a6b7-2696eabd7fac",
   "metadata": {},
   "outputs": [
    {
     "data": {
      "text/plain": [
       "str"
      ]
     },
     "execution_count": 36,
     "metadata": {},
     "output_type": "execute_result"
    }
   ],
   "source": [
    "type(name)"
   ]
  },
  {
   "cell_type": "code",
   "execution_count": 39,
   "id": "37358e30-dd17-456d-8627-8a0101446421",
   "metadata": {},
   "outputs": [
    {
     "name": "stdin",
     "output_type": "stream",
     "text": [
      "Enter your age: 26\n"
     ]
    }
   ],
   "source": [
    "# use typecasting to change numerical value like age from str type to int type\n",
    "age_1 = int(input(\"Enter your age:\"))"
   ]
  },
  {
   "cell_type": "code",
   "execution_count": 40,
   "id": "0899d726-a1f7-43c9-a458-a819ef163aeb",
   "metadata": {},
   "outputs": [
    {
     "data": {
      "text/plain": [
       "int"
      ]
     },
     "execution_count": 40,
     "metadata": {},
     "output_type": "execute_result"
    }
   ],
   "source": [
    "type(age_1)"
   ]
  },
  {
   "cell_type": "code",
   "execution_count": 49,
   "id": "ccb35c54-3cb1-4950-b5c7-4340a5eacad4",
   "metadata": {},
   "outputs": [],
   "source": [
    "##Task 1\n",
    "## Take a input of age\n",
    "## check whether age >=18 and age<=45\n",
    "## display a message you are young blood"
   ]
  },
  {
   "cell_type": "code",
   "execution_count": 46,
   "id": "332830da-95d3-47d9-831b-0f514b9871e9",
   "metadata": {},
   "outputs": [
    {
     "name": "stdin",
     "output_type": "stream",
     "text": [
      "Enter your age: 26\n"
     ]
    },
    {
     "name": "stdout",
     "output_type": "stream",
     "text": [
      "You are young blood\n"
     ]
    }
   ],
   "source": [
    "your_age = int(input(\"Enter your age:\"))\n",
    "if your_age>=18 and your_age<=45:\n",
    "    print(\"You are young blood\")"
   ]
  },
  {
   "cell_type": "code",
   "execution_count": 44,
   "id": "d400f06c-cdf3-47d3-93d5-907184c37014",
   "metadata": {},
   "outputs": [
    {
     "data": {
      "text/plain": [
       "True"
      ]
     },
     "execution_count": 44,
     "metadata": {},
     "output_type": "execute_result"
    }
   ],
   "source": [
    "26>=18 and 26<=45"
   ]
  },
  {
   "cell_type": "code",
   "execution_count": 47,
   "id": "26cc93c3-ca55-4ecb-b67a-e27bf0117f44",
   "metadata": {},
   "outputs": [
    {
     "name": "stdin",
     "output_type": "stream",
     "text": [
      "Enter your age: 55\n"
     ]
    }
   ],
   "source": [
    "your_age = int(input(\"Enter your age:\"))\n",
    "if your_age>=18 and your_age<=45:\n",
    "    print(\"You are young blood\")"
   ]
  },
  {
   "cell_type": "code",
   "execution_count": 48,
   "id": "de46489b-4f00-4fa4-8c73-4096ab256fa5",
   "metadata": {},
   "outputs": [
    {
     "name": "stdin",
     "output_type": "stream",
     "text": [
      "Enter your age: 55\n"
     ]
    },
    {
     "name": "stdout",
     "output_type": "stream",
     "text": [
      "Thank you. We'll let you know.\n"
     ]
    }
   ],
   "source": [
    "# if else statements\n",
    "your_age = int(input(\"Enter your age:\"))\n",
    "if your_age>=18 and your_age<=45:\n",
    "    print(\"You are young blood\")\n",
    "else:\n",
    "    print(\"Thank you. We'll let you know.\")"
   ]
  },
  {
   "cell_type": "code",
   "execution_count": 51,
   "id": "fad1a55b-45d9-4a5c-8958-32ee36f429cd",
   "metadata": {},
   "outputs": [],
   "source": [
    "## Task 2\n",
    "## mall - input the product price\n",
    "## product >1000 rs 20% off\n",
    "## print the product price after removing the discount\n",
    "## product <=1000 rs 30% off\n",
    "## print the product price after removing the discount"
   ]
  },
  {
   "cell_type": "code",
   "execution_count": 54,
   "id": "45ac9916-4775-4beb-a716-60f7003e85b9",
   "metadata": {},
   "outputs": [
    {
     "name": "stdin",
     "output_type": "stream",
     "text": [
      "Enter the product price: 10\n"
     ]
    },
    {
     "name": "stdout",
     "output_type": "stream",
     "text": [
      "Discounted Price is: 7.0\n"
     ]
    }
   ],
   "source": [
    "price = int(input(\"Enter the product price:\"))\n",
    "if price>1000:\n",
    "    print(\"Discounted Price is: {}\".format(price*0.8))\n",
    "else:\n",
    "    print(\"Discounted Price is: {}\".format(price*0.7))"
   ]
  },
  {
   "cell_type": "code",
   "execution_count": 56,
   "id": "3203681d-c4fa-41d0-9849-f9f383f5742c",
   "metadata": {},
   "outputs": [],
   "source": [
    "## Task 3\n",
    "## mall - input the product price\n",
    "## product >3000 rs 20% off\n",
    "## price is ==4000 you get a trip to Goa\n",
    "## print the product price after removing the discount\n",
    "## product >=2000 rs and <=3000 30% off\n",
    "## print the product price after removing the discount\n",
    "## price ==2999  u will get adiitional gift\n",
    "## product 100 rs and <=2000 40% off\n",
    "## print the product price after removing the discount\n",
    "## print lets drink tea"
   ]
  },
  {
   "cell_type": "code",
   "execution_count": 60,
   "id": "4902d635-b10f-4cdc-b99d-4cd5c0322bab",
   "metadata": {},
   "outputs": [
    {
     "name": "stdin",
     "output_type": "stream",
     "text": [
      "Enter the product price: 5\n"
     ]
    },
    {
     "name": "stdout",
     "output_type": "stream",
     "text": [
      "Lets Drink Tea\n"
     ]
    }
   ],
   "source": [
    "# elif statement with nested if\n",
    "price = int(input(\"Enter the product price:\"))\n",
    "if price>3000:\n",
    "    if price==4000:\n",
    "        print(\"Congratulations! You get a trip to Goa\")\n",
    "    print(\"Discounted Price is: {}\".format(price*0.8))\n",
    "elif price>2000 and price<=3000:\n",
    "    if price==2999:\n",
    "        print(\"You will get additional gift\")\n",
    "    print(\"Discounted Price is: {}\".format(price*0.7))\n",
    "elif price>=100 and price<=2000:\n",
    "    print(\"Discounted Price is: {}\".format(price*0.6))\n",
    "else:\n",
    "    print(\"Lets Drink Tea\")"
   ]
  },
  {
   "cell_type": "code",
   "execution_count": 65,
   "id": "90330559-32fe-45cc-8d4b-ec9b983968a9",
   "metadata": {},
   "outputs": [
    {
     "name": "stdin",
     "output_type": "stream",
     "text": [
      "Enter the number 900\n"
     ]
    },
    {
     "name": "stdout",
     "output_type": "stream",
     "text": [
      "No discount available\n"
     ]
    }
   ],
   "source": [
    "# Single statement Suites\n",
    "val=int(input('Enter the number'))\n",
    "if(val>=999):print(\"Discount available is 10%\")\n",
    "else:\n",
    "    print(\"No discount available\")"
   ]
  },
  {
   "cell_type": "markdown",
   "id": "2eebfb62-89ce-43d6-af80-9e3294ad7a86",
   "metadata": {},
   "source": [
    "## Loops statements\n",
    "1. while loop\n",
    "2. for loop\n",
    "3. nested loops\n",
    "4. Loop control( break, continue, pass)"
   ]
  },
  {
   "cell_type": "markdown",
   "id": "ee8e45a5-d2b4-4fcf-b65c-5d8abd79e58c",
   "metadata": {},
   "source": [
    "### While loop"
   ]
  },
  {
   "cell_type": "code",
   "execution_count": 66,
   "id": "c6f21208-4290-4d6a-8b6f-1c24a13ceef6",
   "metadata": {},
   "outputs": [
    {
     "name": "stdout",
     "output_type": "stream",
     "text": [
      "25\n",
      "26\n",
      "27\n",
      "28\n",
      "29\n",
      "30\n",
      "31\n",
      "32\n",
      "33\n",
      "34\n",
      "35\n",
      "36\n",
      "37\n",
      "38\n",
      "39\n",
      "40\n",
      "41\n",
      "42\n",
      "43\n",
      "44\n",
      "45\n",
      "46\n",
      "47\n",
      "48\n",
      "49\n",
      "50\n",
      "51\n",
      "52\n",
      "53\n",
      "54\n",
      "55\n",
      "56\n",
      "57\n",
      "58\n",
      "59\n",
      "60\n",
      "Its time for retirement\n"
     ]
    }
   ],
   "source": [
    "# while loop while-else\n",
    "joining_age=25\n",
    "while joining_age<=60:\n",
    "    print(joining_age)\n",
    "    joining_age=joining_age+1 \n",
    "else:\n",
    "    print(\"Its time for retirement\")"
   ]
  },
  {
   "cell_type": "code",
   "execution_count": 67,
   "id": "c38ee0ae-40f8-4770-9fba-623aaa38dd01",
   "metadata": {},
   "outputs": [
    {
     "name": "stdout",
     "output_type": "stream",
     "text": [
      "1000\n",
      "900\n",
      "800\n",
      "700\n",
      "600\n",
      "500\n",
      "400\n",
      "300\n",
      "200\n",
      "100\n",
      "Put more money bank people\n"
     ]
    }
   ],
   "source": [
    "### Atm machine with 1000 rs\n",
    "total_amount=1000\n",
    "while total_amount!=0:\n",
    "    print(total_amount)\n",
    "    total_amount=total_amount-100\n",
    "else:\n",
    "    print(\"Put more money bank people\")"
   ]
  },
  {
   "cell_type": "markdown",
   "id": "fc783054-ed25-4332-9f98-9135044735b8",
   "metadata": {},
   "source": [
    "### For Loop"
   ]
  },
  {
   "cell_type": "code",
   "execution_count": 68,
   "id": "f548c26f-797a-4e73-bff0-8b6219ffe30b",
   "metadata": {},
   "outputs": [],
   "source": [
    "lst=[\"Krish\",1,2,3,4,\"apple\",\"banana\"]"
   ]
  },
  {
   "cell_type": "code",
   "execution_count": 69,
   "id": "bc8726c6-6ce8-4202-98cd-5970bf4795e0",
   "metadata": {},
   "outputs": [
    {
     "data": {
      "text/plain": [
       "list"
      ]
     },
     "execution_count": 69,
     "metadata": {},
     "output_type": "execute_result"
    }
   ],
   "source": [
    "type(lst)"
   ]
  },
  {
   "cell_type": "code",
   "execution_count": 70,
   "id": "78ab8d70-cb84-4fe6-903f-6ef5dddd1f53",
   "metadata": {},
   "outputs": [
    {
     "data": {
      "text/plain": [
       "4"
      ]
     },
     "execution_count": 70,
     "metadata": {},
     "output_type": "execute_result"
    }
   ],
   "source": [
    "lst[4]"
   ]
  },
  {
   "cell_type": "code",
   "execution_count": 71,
   "id": "41d1bde7-12b9-404f-b863-08e40165d237",
   "metadata": {},
   "outputs": [
    {
     "data": {
      "text/plain": [
       "['Krish', 1, 2, 3, 4, 'apple', 'banana']"
      ]
     },
     "execution_count": 71,
     "metadata": {},
     "output_type": "execute_result"
    }
   ],
   "source": [
    "lst"
   ]
  },
  {
   "cell_type": "code",
   "execution_count": 72,
   "id": "aa014553-2894-4d8a-96e2-d72c116256e4",
   "metadata": {},
   "outputs": [
    {
     "name": "stdout",
     "output_type": "stream",
     "text": [
      "Krish\n",
      "1\n",
      "2\n",
      "3\n",
      "4\n",
      "apple\n",
      "banana\n"
     ]
    }
   ],
   "source": [
    "for x in lst:\n",
    "    print(x)"
   ]
  },
  {
   "cell_type": "code",
   "execution_count": 73,
   "id": "05d61aa5-7993-4635-82e0-f2e0143730ee",
   "metadata": {},
   "outputs": [],
   "source": [
    "fruits_list = [\"Mango\",\"Cherry\",\"Apple\",\"Papaya\",\"Banana\"]"
   ]
  },
  {
   "cell_type": "code",
   "execution_count": 77,
   "id": "aa8ae45b-69b7-4c2f-a1ea-2f1721a9a667",
   "metadata": {},
   "outputs": [
    {
     "name": "stdout",
     "output_type": "stream",
     "text": [
      "Mango\n",
      "Cherry\n",
      "The fruit is Cherry\n",
      "Apple\n",
      "Papaya\n",
      "Banana\n"
     ]
    }
   ],
   "source": [
    "for a in fruits_list:\n",
    "    print(a)\n",
    "    if a==\"Cherry\":\n",
    "        print(\"The fruit is Cherry\")"
   ]
  },
  {
   "cell_type": "code",
   "execution_count": 78,
   "id": "0255225c-5b1a-4a70-b02d-c2a4c9f5f3b9",
   "metadata": {},
   "outputs": [
    {
     "name": "stdout",
     "output_type": "stream",
     "text": [
      "M\n",
      "a\n",
      "n\n",
      "g\n",
      "o\n"
     ]
    }
   ],
   "source": [
    "fruit = \"Mango\"\n",
    "for x in fruit:\n",
    "    print(x)"
   ]
  },
  {
   "cell_type": "code",
   "execution_count": 79,
   "id": "11026166-6a93-4ab8-8769-091e185cad82",
   "metadata": {},
   "outputs": [
    {
     "data": {
      "text/plain": [
       "'n'"
      ]
     },
     "execution_count": 79,
     "metadata": {},
     "output_type": "execute_result"
    }
   ],
   "source": [
    "fruit[2]"
   ]
  },
  {
   "cell_type": "code",
   "execution_count": 80,
   "id": "f3b53694-8741-4046-b39c-aa99ac18a772",
   "metadata": {},
   "outputs": [
    {
     "name": "stdout",
     "output_type": "stream",
     "text": [
      "1\n",
      "2\n",
      "3\n",
      "4\n",
      "5\n",
      "6\n",
      "7\n",
      "8\n",
      "9\n"
     ]
    }
   ],
   "source": [
    "## range\n",
    "for i in range(1,10):\n",
    "    print(i)"
   ]
  },
  {
   "cell_type": "code",
   "execution_count": 81,
   "id": "37604c74-7384-4614-9787-eff0f93dd16f",
   "metadata": {},
   "outputs": [
    {
     "name": "stdout",
     "output_type": "stream",
     "text": [
      "0\n",
      "2\n",
      "4\n",
      "6\n"
     ]
    }
   ],
   "source": [
    "for i in range(0,7,2):\n",
    "    print(i)"
   ]
  },
  {
   "cell_type": "code",
   "execution_count": 83,
   "id": "ee100dc1-7e4c-47c6-a776-fc0eef17d231",
   "metadata": {},
   "outputs": [
    {
     "name": "stdout",
     "output_type": "stream",
     "text": [
      "*\n",
      "**\n",
      "***\n",
      "****\n",
      "*****\n",
      "******\n",
      "*******\n"
     ]
    }
   ],
   "source": [
    "# Nested loops\n",
    "# Triangle pattern\n",
    "n=7\n",
    "\n",
    "for i in range(0,n):\n",
    "    for j in range(0, i+1):\n",
    "        print(\"*\",end=\"\")\n",
    "    print(\"\\r\")"
   ]
  },
  {
   "cell_type": "code",
   "execution_count": 84,
   "id": "5e25e895-f363-4e8d-a54b-697ea2468cb0",
   "metadata": {},
   "outputs": [],
   "source": [
    "## Loops (while, for) to print stars/pyramid"
   ]
  },
  {
   "cell_type": "code",
   "execution_count": 85,
   "id": "cbed4f2a-9625-4708-8914-9525e8a7ce6a",
   "metadata": {},
   "outputs": [
    {
     "name": "stdout",
     "output_type": "stream",
     "text": [
      "* \n",
      "* * \n",
      "* * * \n",
      "* * * * \n",
      "* * * * * \n"
     ]
    }
   ],
   "source": [
    "# Right sided triangle\n",
    "def Rt_triangle(n): # defining function to print stars\n",
    "    # defining outer for loop to operate on row     \n",
    "    for i in range(0,n):\n",
    "        #defining inner loop to operate on column\n",
    "        for j in range(0,i+1):\n",
    "            print(\"* \", end=\"\")\n",
    "        print(\"\\r\") # \\r is carriage return. it moves the cousor to the left most (front) side\n",
    "\n",
    "n=5\n",
    "Rt_triangle(n)"
   ]
  },
  {
   "cell_type": "code",
   "execution_count": 86,
   "id": "1d5acef1-7eb9-456e-9eca-6f4bff29a1dc",
   "metadata": {},
   "outputs": [
    {
     "name": "stdout",
     "output_type": "stream",
     "text": [
      "        * \n",
      "      * * \n",
      "    * * * \n",
      "  * * * * \n",
      "* * * * * \n"
     ]
    }
   ],
   "source": [
    "# left sided triangle\n",
    "\n",
    "def Lt_triangle(n): # defining function to print stars\n",
    "    # defining var k that will handle the spaces\n",
    "    k = 2*n-2\n",
    "    # defining outer for loop to operate on row     \n",
    "    for i in range(0,n):\n",
    "        #defining 1 st inner loop to handle spaces in the pattern\n",
    "        for s in range(0,k):\n",
    "            print(end=\" \")\n",
    "        k=k-2\n",
    "        #defining inner loop to operate on column\n",
    "        for j in range(0,i+1):\n",
    "            print(\"* \", end=\"\")\n",
    "        print(\"\\r\") # \\r is carriage return. it moves the cousor to the left most (front) side\n",
    "        \n",
    "n=5\n",
    "Lt_triangle(n)"
   ]
  },
  {
   "cell_type": "code",
   "execution_count": 87,
   "id": "ae8a2279-adbe-4c42-9be7-ab02b1f8e30c",
   "metadata": {},
   "outputs": [
    {
     "name": "stdout",
     "output_type": "stream",
     "text": [
      "    * \n",
      "   * * \n",
      "  * * * \n",
      " * * * * \n",
      "* * * * * \n"
     ]
    }
   ],
   "source": [
    "# triangle\n",
    "\n",
    "def triangle(n): # defining function to print stars pattern\n",
    "    # defining var k that will handle the spaces\n",
    "    k = n-1\n",
    "    # defining outer for loop to operate on row     \n",
    "    for i in range(0,n):\n",
    "        #defining 1 st inner loop to handle spaces in the pattern\n",
    "        for s in range(0,k):\n",
    "            print(end=\" \")\n",
    "        k=k-1\n",
    "        #defining inner loop to operate on column\n",
    "        for j in range(0,i+1):\n",
    "            print(\"* \", end=\"\")\n",
    "        print(\"\\r\") # \\r is carriage return. it moves the cousor to the left most (front) side\n",
    "        \n",
    "n=5\n",
    "triangle(n)"
   ]
  },
  {
   "cell_type": "code",
   "execution_count": 1,
   "id": "757004d4-d0eb-4794-a8ea-60f859cf9a24",
   "metadata": {},
   "outputs": [
    {
     "name": "stdout",
     "output_type": "stream",
     "text": [
      "     *\n",
      "    ***\n",
      "   *****\n",
      "  *******\n",
      " *********\n"
     ]
    }
   ],
   "source": [
    "## solution 2\n",
    "n = 5\n",
    "for i in range(n):\n",
    "    print(\" \"*(n-i),end='')\n",
    "    for j in range(i*2+1):\n",
    "        print(\"*\",end=\"\")\n",
    "    print()\n"
   ]
  },
  {
   "cell_type": "code",
   "execution_count": 88,
   "id": "d5231af4-2787-48e7-8dab-297ad3c78ff2",
   "metadata": {},
   "outputs": [],
   "source": [
    "##Loop controls\n",
    "## Break and continue\n",
    "fruits_list = [\"Mango\",\"Cherry\",\"Apple\",\"Papaya\",\"Banana\"]"
   ]
  },
  {
   "cell_type": "code",
   "execution_count": 90,
   "id": "7553ebb1-d340-425d-a0e4-61a103adb61e",
   "metadata": {},
   "outputs": [
    {
     "name": "stdout",
     "output_type": "stream",
     "text": [
      "Mango\n",
      "Cherry\n",
      "The fruit is apple\n"
     ]
    }
   ],
   "source": [
    "for i in fruits_list:\n",
    "    if i==\"Apple\":\n",
    "        print(\"The fruit is apple\")\n",
    "        break\n",
    "    print(i)\n",
    "    \n",
    "# the moment condition is satisfied, loop is terminated"
   ]
  },
  {
   "cell_type": "code",
   "execution_count": 91,
   "id": "d3614546-a247-41e0-b83a-4777585fda3b",
   "metadata": {},
   "outputs": [
    {
     "name": "stdout",
     "output_type": "stream",
     "text": [
      "Mango\n",
      "Cherry\n",
      "The fruit is apple\n",
      "Apple\n",
      "Papaya\n",
      "Banana\n"
     ]
    }
   ],
   "source": [
    "for i in fruits_list:\n",
    "    if i==\"Apple\":\n",
    "        print(\"The fruit is apple\")\n",
    "        pass\n",
    "    print(i)\n",
    "    \n",
    "#  Even if the condition is satisfied, continue the loop"
   ]
  },
  {
   "cell_type": "code",
   "execution_count": 93,
   "id": "17c324d8-42fa-4eba-ab01-f91e04e1082f",
   "metadata": {},
   "outputs": [
    {
     "name": "stdout",
     "output_type": "stream",
     "text": [
      "Mango\n",
      "Cherry\n",
      "The fruit is apple\n",
      "Papaya\n",
      "Banana\n"
     ]
    }
   ],
   "source": [
    "##continue\n",
    "for i in fruits_list:\n",
    "    if i==\"Apple\":\n",
    "        print(\"The fruit is apple\")\n",
    "        continue\n",
    "    print(i)\n",
    "\n",
    "#  when the condition is satisfied, skip that step and continues the loop  "
   ]
  },
  {
   "cell_type": "code",
   "execution_count": null,
   "id": "fef31caa-495d-4e78-ab62-13839dd7e6da",
   "metadata": {},
   "outputs": [],
   "source": []
  }
 ],
 "metadata": {
  "kernelspec": {
   "display_name": "Python 3 (ipykernel)",
   "language": "python",
   "name": "python3"
  },
  "language_info": {
   "codemirror_mode": {
    "name": "ipython",
    "version": 3
   },
   "file_extension": ".py",
   "mimetype": "text/x-python",
   "name": "python",
   "nbconvert_exporter": "python",
   "pygments_lexer": "ipython3",
   "version": "3.10.8"
  }
 },
 "nbformat": 4,
 "nbformat_minor": 5
}
