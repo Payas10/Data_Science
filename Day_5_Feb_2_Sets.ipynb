{
 "cells": [
  {
   "cell_type": "markdown",
   "id": "98d69408-07e9-4d27-9641-0639444bbd33",
   "metadata": {},
   "source": [
    "# Sets"
   ]
  },
  {
   "cell_type": "code",
   "execution_count": 1,
   "id": "25ae99ae-6b2f-468c-9df3-2e49f40711bb",
   "metadata": {},
   "outputs": [],
   "source": [
    "s = {}"
   ]
  },
  {
   "cell_type": "code",
   "execution_count": 8,
   "id": "c39f45c1-10eb-4925-a29f-4622d9e20b5b",
   "metadata": {},
   "outputs": [
    {
     "data": {
      "text/plain": [
       "dict"
      ]
     },
     "execution_count": 8,
     "metadata": {},
     "output_type": "execute_result"
    }
   ],
   "source": [
    "type(s) # since no element is present in {} type returned will be dict"
   ]
  },
  {
   "cell_type": "code",
   "execution_count": 6,
   "id": "02545680-ed6d-481e-b74e-a1a2b4d89be1",
   "metadata": {},
   "outputs": [],
   "source": [
    "s1 = {1,2,3,4}"
   ]
  },
  {
   "cell_type": "code",
   "execution_count": 9,
   "id": "ac2cf574-ef3c-4497-92fc-e214bc583baf",
   "metadata": {},
   "outputs": [
    {
     "data": {
      "text/plain": [
       "set"
      ]
     },
     "execution_count": 9,
     "metadata": {},
     "output_type": "execute_result"
    }
   ],
   "source": [
    "type(s1) # when some linear elements are present in {}, type returned will be set"
   ]
  },
  {
   "cell_type": "markdown",
   "id": "466c3c23-cd76-40c1-aea0-30b5ab6b2a8f",
   "metadata": {},
   "source": [
    "## How set is different \n",
    "\n",
    "* Set is a collection which which be able to store the informations but it will be always store only unique information.\n",
    "* It will remove duplicate information from the variable or dataset"
   ]
  },
  {
   "cell_type": "code",
   "execution_count": 14,
   "id": "171bb455-563f-4623-82ba-1bf75e0f2882",
   "metadata": {},
   "outputs": [],
   "source": [
    "s3 = {1,1,12,3,3,3,4,5,5,5,\"Payas\",\"PAYAS\",\"Payas\",2+3j,2-3j,2+3j,5.0,5.25,5.25,6.3,True,False,True}"
   ]
  },
  {
   "cell_type": "code",
   "execution_count": 18,
   "id": "70074b90-65c3-4f1c-9de8-371dd77e0bea",
   "metadata": {},
   "outputs": [
    {
     "data": {
      "text/plain": [
       "{(2+3j), (2-3j), 1, 12, 3, 4, 5, 5.25, 6.3, False, 'PAYAS', 'Payas'}"
      ]
     },
     "execution_count": 18,
     "metadata": {},
     "output_type": "execute_result"
    }
   ],
   "source": [
    "s3 # TRUE will be removed since internally True is stored as 1 so it is considering 1 and True same"
   ]
  },
  {
   "cell_type": "code",
   "execution_count": 10,
   "id": "d5f7c823-39df-44dc-8e11-f38a5a948406",
   "metadata": {},
   "outputs": [],
   "source": [
    "s2 = {1,1,12,3,3,3,4,5,5,5,55,523,34,3,45,6,67}"
   ]
  },
  {
   "cell_type": "code",
   "execution_count": 16,
   "id": "3a755d9f-41e3-4329-9ad9-9faece8c7bee",
   "metadata": {},
   "outputs": [
    {
     "data": {
      "text/plain": [
       "{1, 3, 4, 5, 6, 12, 34, 45, 55, 67, 523}"
      ]
     },
     "execution_count": 16,
     "metadata": {},
     "output_type": "execute_result"
    }
   ],
   "source": [
    "s2 # set will remove all the duplicate elements and arrange those in ascending order if only integer is present"
   ]
  },
  {
   "cell_type": "markdown",
   "id": "1ddde1f0-8861-460c-a2e5-5abbc0fcce3f",
   "metadata": {},
   "source": [
    "## Typecasting of set\n",
    "\n",
    "#### if you want to remove the duplicate from a data set simply convert it into set to get only unique values"
   ]
  },
  {
   "cell_type": "code",
   "execution_count": 23,
   "id": "eafd872f-42a5-40c4-b0b5-87e85fcaf542",
   "metadata": {},
   "outputs": [],
   "source": [
    "# typecasting a set into list\n",
    "l = list(s2)"
   ]
  },
  {
   "cell_type": "code",
   "execution_count": 24,
   "id": "48fa5826-5fde-4556-914c-a590b06b55ff",
   "metadata": {},
   "outputs": [
    {
     "data": {
      "text/plain": [
       "[1, 34, 3, 4, 5, 6, 67, 523, 12, 45, 55]"
      ]
     },
     "execution_count": 24,
     "metadata": {},
     "output_type": "execute_result"
    }
   ],
   "source": [
    "l"
   ]
  },
  {
   "cell_type": "code",
   "execution_count": 22,
   "id": "bb9761af-5b31-46e7-8375-7ff2d3742edc",
   "metadata": {},
   "outputs": [],
   "source": [
    "# typecasting a set into tuple\n",
    "t = tuple(s2)"
   ]
  },
  {
   "cell_type": "code",
   "execution_count": 25,
   "id": "9f19fb10-4e91-46e1-89fc-48e7fffef676",
   "metadata": {},
   "outputs": [
    {
     "data": {
      "text/plain": [
       "(1, 34, 3, 4, 5, 6, 67, 523, 12, 45, 55)"
      ]
     },
     "execution_count": 25,
     "metadata": {},
     "output_type": "execute_result"
    }
   ],
   "source": [
    "t"
   ]
  },
  {
   "cell_type": "code",
   "execution_count": 26,
   "id": "f590a155-b659-4f13-aeff-62010fd45432",
   "metadata": {},
   "outputs": [
    {
     "data": {
      "text/plain": [
       "{1, 3, 4, 5, 6, 12, 34, 45, 55, 67, 523}"
      ]
     },
     "execution_count": 26,
     "metadata": {},
     "output_type": "execute_result"
    }
   ],
   "source": [
    "# typecasting a list into set\n",
    "set(l)"
   ]
  },
  {
   "cell_type": "code",
   "execution_count": 27,
   "id": "db669d92-cbfb-4bcf-88c6-92e07f71fc92",
   "metadata": {},
   "outputs": [
    {
     "data": {
      "text/plain": [
       "{1, 3, 4, 5, 6, 12, 34, 45, 55, 67, 523}"
      ]
     },
     "execution_count": 27,
     "metadata": {},
     "output_type": "execute_result"
    }
   ],
   "source": [
    "# typecasting a tuple into set\n",
    "set(t)"
   ]
  },
  {
   "cell_type": "code",
   "execution_count": 29,
   "id": "aa2d4b15-b560-412b-94b0-db149e43a5d6",
   "metadata": {},
   "outputs": [
    {
     "ename": "TypeError",
     "evalue": "unhashable type: 'list'",
     "output_type": "error",
     "traceback": [
      "\u001b[0;31m---------------------------------------------------------------------------\u001b[0m",
      "\u001b[0;31mTypeError\u001b[0m                                 Traceback (most recent call last)",
      "Cell \u001b[0;32mIn[29], line 1\u001b[0m\n\u001b[0;32m----> 1\u001b[0m s4 \u001b[38;5;241m=\u001b[39m {\u001b[38;5;241m1\u001b[39m,\u001b[38;5;241m2\u001b[39m,\u001b[38;5;241m3\u001b[39m,\u001b[38;5;241m4\u001b[39m,[\u001b[38;5;241m1\u001b[39m,\u001b[38;5;241m2\u001b[39m,\u001b[38;5;241m3\u001b[39m,\u001b[38;5;241m4\u001b[39m]}\n\u001b[1;32m      3\u001b[0m \u001b[38;5;124;03m'''\u001b[39;00m\n\u001b[1;32m      4\u001b[0m \u001b[38;5;124;03m1. set will not store the list because list is mutable. \u001b[39;00m\n\u001b[1;32m      5\u001b[0m \u001b[38;5;124;03m2. Also whenever something is stored inside set it findes the unnique value and remove duplicates.\u001b[39;00m\n\u001b[1;32m      6\u001b[0m \u001b[38;5;124;03m3. it stores those unique value defined by hashable index\u001b[39;00m\n\u001b[1;32m      7\u001b[0m \u001b[38;5;124;03m'''\u001b[39;00m\n",
      "\u001b[0;31mTypeError\u001b[0m: unhashable type: 'list'"
     ]
    }
   ],
   "source": [
    "s4 = {1,2,3,4,[1,2,3,4]}\n",
    "\n",
    "'''\n",
    "1. set will not store the list because list is mutable. \n",
    "2. Also whenever something is stored inside set it findes the unnique value and remove duplicates.\n",
    "3. it stores those unique value defined by hashable index\n",
    "'''"
   ]
  },
  {
   "cell_type": "code",
   "execution_count": 30,
   "id": "88bc6a9a-888e-4bdd-8548-c8021e4b695c",
   "metadata": {},
   "outputs": [],
   "source": [
    "s5 = {1,2,3,4,(1,2,3,4)}"
   ]
  },
  {
   "cell_type": "code",
   "execution_count": 32,
   "id": "9a8e6f30-e0a8-4b67-b5c8-8172bd9e7141",
   "metadata": {},
   "outputs": [
    {
     "data": {
      "text/plain": [
       "{(1, 2, 3, 4), 1, 2, 3, 4}"
      ]
     },
     "execution_count": 32,
     "metadata": {},
     "output_type": "execute_result"
    }
   ],
   "source": [
    "s5 # Set can store tuple as tuple is immutable"
   ]
  },
  {
   "cell_type": "code",
   "execution_count": 33,
   "id": "9aded9fa-2ec9-4164-8422-59365724bfc3",
   "metadata": {},
   "outputs": [],
   "source": [
    "s_5 = {1,2,3,4,(1,2,3,4),(1,2,3,4)}"
   ]
  },
  {
   "cell_type": "code",
   "execution_count": 34,
   "id": "837eab92-2856-42ba-b3f9-24276869a886",
   "metadata": {},
   "outputs": [
    {
     "data": {
      "text/plain": [
       "{(1, 2, 3, 4), 1, 2, 3, 4}"
      ]
     },
     "execution_count": 34,
     "metadata": {},
     "output_type": "execute_result"
    }
   ],
   "source": [
    "s_5"
   ]
  },
  {
   "cell_type": "code",
   "execution_count": 35,
   "id": "79980ca5-05d8-4aed-86e8-6ecc421ed72b",
   "metadata": {},
   "outputs": [
    {
     "data": {
      "text/plain": [
       "{1, 3, 4, 5, 6, 12, 34, 45, 55, 67, 523}"
      ]
     },
     "execution_count": 35,
     "metadata": {},
     "output_type": "execute_result"
    }
   ],
   "source": [
    "s2"
   ]
  },
  {
   "cell_type": "code",
   "execution_count": 42,
   "id": "55213e51-2dcd-4211-9fc1-cd47b395cccd",
   "metadata": {},
   "outputs": [
    {
     "ename": "TypeError",
     "evalue": "'set' object is not subscriptable",
     "output_type": "error",
     "traceback": [
      "\u001b[0;31m---------------------------------------------------------------------------\u001b[0m",
      "\u001b[0;31mTypeError\u001b[0m                                 Traceback (most recent call last)",
      "Cell \u001b[0;32mIn[42], line 1\u001b[0m\n\u001b[0;32m----> 1\u001b[0m \u001b[43ms2\u001b[49m\u001b[43m[\u001b[49m\u001b[38;5;241;43m0\u001b[39;49m\u001b[43m]\u001b[49m\n\u001b[1;32m      3\u001b[0m \u001b[38;5;66;03m# With set indexing is not possible.\u001b[39;00m\n\u001b[1;32m      4\u001b[0m \u001b[38;5;66;03m# information/element at particulat index cannot be extracted\u001b[39;00m\n\u001b[1;32m      5\u001b[0m \u001b[38;5;66;03m# Reason: set creates hashable index internally and it does not store elements sequentially.\u001b[39;00m\n",
      "\u001b[0;31mTypeError\u001b[0m: 'set' object is not subscriptable"
     ]
    }
   ],
   "source": [
    "s2[0]\n",
    "\n",
    "# With set indexing is not possible.\n",
    "# information/element at particulat index cannot be extracted\n",
    "# Reason: set creates hashable index internally and it does not store elements sequentially."
   ]
  },
  {
   "cell_type": "code",
   "execution_count": 43,
   "id": "66dfff5d-ec31-4b9c-b455-9a346e285b27",
   "metadata": {},
   "outputs": [
    {
     "ename": "TypeError",
     "evalue": "'set' object is not subscriptable",
     "output_type": "error",
     "traceback": [
      "\u001b[0;31m---------------------------------------------------------------------------\u001b[0m",
      "\u001b[0;31mTypeError\u001b[0m                                 Traceback (most recent call last)",
      "Cell \u001b[0;32mIn[43], line 1\u001b[0m\n\u001b[0;32m----> 1\u001b[0m \u001b[43ms2\u001b[49m\u001b[43m[\u001b[49m\u001b[43m:\u001b[49m\u001b[43m:\u001b[49m\u001b[38;5;241;43m-\u001b[39;49m\u001b[38;5;241;43m1\u001b[39;49m\u001b[43m]\u001b[49m\n\u001b[1;32m      3\u001b[0m \u001b[38;5;66;03m# slicing is not possible in set\u001b[39;00m\n\u001b[1;32m      4\u001b[0m \u001b[38;5;66;03m# Reason: set creates hashable index internally and it does not store elements sequentially.\u001b[39;00m\n",
      "\u001b[0;31mTypeError\u001b[0m: 'set' object is not subscriptable"
     ]
    }
   ],
   "source": [
    "s2[::-1]\n",
    "\n",
    "# slicing is not possible in set\n",
    "# Reason: set creates hashable index internally and it does not store elements sequentially."
   ]
  },
  {
   "cell_type": "code",
   "execution_count": 44,
   "id": "e3413b7a-dd03-49ee-b253-06f8304d9c58",
   "metadata": {},
   "outputs": [
    {
     "name": "stdout",
     "output_type": "stream",
     "text": [
      "1\n",
      "34\n",
      "3\n",
      "4\n",
      "5\n",
      "6\n",
      "67\n",
      "523\n",
      "12\n",
      "45\n",
      "55\n"
     ]
    }
   ],
   "source": [
    "for i in s2:\n",
    "    print(i)"
   ]
  },
  {
   "cell_type": "markdown",
   "id": "6fd6cccb-830f-4e86-a5ec-bd18bb92df78",
   "metadata": {},
   "source": [
    "## set functions"
   ]
  },
  {
   "cell_type": "code",
   "execution_count": 45,
   "id": "6c23afe5-ca50-4533-9a77-8ef2bfaf155f",
   "metadata": {},
   "outputs": [],
   "source": [
    "s2.add(26)"
   ]
  },
  {
   "cell_type": "code",
   "execution_count": 46,
   "id": "722a2505-8811-4ce3-baca-0d95e67d6113",
   "metadata": {},
   "outputs": [
    {
     "data": {
      "text/plain": [
       "{1, 3, 4, 5, 6, 12, 26, 34, 45, 55, 67, 523}"
      ]
     },
     "execution_count": 46,
     "metadata": {},
     "output_type": "execute_result"
    }
   ],
   "source": [
    "s2"
   ]
  },
  {
   "cell_type": "code",
   "execution_count": 47,
   "id": "673eefed-bc8f-47a2-ba09-02b7d8d49486",
   "metadata": {},
   "outputs": [
    {
     "data": {
      "text/plain": [
       "12"
      ]
     },
     "execution_count": 47,
     "metadata": {},
     "output_type": "execute_result"
    }
   ],
   "source": [
    "len(s2)"
   ]
  },
  {
   "cell_type": "code",
   "execution_count": 48,
   "id": "e956c021-b467-43bf-a4ef-9e0585eb71b8",
   "metadata": {},
   "outputs": [
    {
     "data": {
      "text/plain": [
       "1"
      ]
     },
     "execution_count": 48,
     "metadata": {},
     "output_type": "execute_result"
    }
   ],
   "source": [
    "s2.pop()"
   ]
  },
  {
   "cell_type": "code",
   "execution_count": 49,
   "id": "57067165-b909-4ef3-bcb7-0193f5b01e4c",
   "metadata": {},
   "outputs": [
    {
     "data": {
      "text/plain": [
       "{3, 4, 5, 6, 12, 26, 34, 45, 55, 67, 523}"
      ]
     },
     "execution_count": 49,
     "metadata": {},
     "output_type": "execute_result"
    }
   ],
   "source": [
    "s2"
   ]
  },
  {
   "cell_type": "code",
   "execution_count": 50,
   "id": "137cf959-8659-4643-81d0-31363a693ccd",
   "metadata": {},
   "outputs": [
    {
     "data": {
      "text/plain": [
       "34"
      ]
     },
     "execution_count": 50,
     "metadata": {},
     "output_type": "execute_result"
    }
   ],
   "source": [
    "s2.pop()"
   ]
  },
  {
   "cell_type": "code",
   "execution_count": 51,
   "id": "2ed85e05-5d45-436a-b4da-2be1246917c5",
   "metadata": {},
   "outputs": [
    {
     "data": {
      "text/plain": [
       "3"
      ]
     },
     "execution_count": 51,
     "metadata": {},
     "output_type": "execute_result"
    }
   ],
   "source": [
    "s2.pop()"
   ]
  },
  {
   "cell_type": "code",
   "execution_count": 52,
   "id": "4d594788-732e-40c9-9165-6f8961c2980b",
   "metadata": {},
   "outputs": [
    {
     "data": {
      "text/plain": [
       "{4, 5, 6, 12, 26, 45, 55, 67, 523}"
      ]
     },
     "execution_count": 52,
     "metadata": {},
     "output_type": "execute_result"
    }
   ],
   "source": [
    "s2"
   ]
  },
  {
   "cell_type": "code",
   "execution_count": 55,
   "id": "485087b6-f568-44e1-82fd-ee3340644779",
   "metadata": {},
   "outputs": [],
   "source": [
    "s2.clear()"
   ]
  },
  {
   "cell_type": "code",
   "execution_count": 54,
   "id": "6c093cb4-c31d-4bb0-9b58-f69e95e8a558",
   "metadata": {},
   "outputs": [
    {
     "data": {
      "text/plain": [
       "set()"
      ]
     },
     "execution_count": 54,
     "metadata": {},
     "output_type": "execute_result"
    }
   ],
   "source": [
    "s2"
   ]
  },
  {
   "cell_type": "code",
   "execution_count": 56,
   "id": "4296bca4-5e03-42a2-a64b-99da79352a27",
   "metadata": {},
   "outputs": [],
   "source": [
    "s_1 = {1,2,3,4}\n",
    "s_2 = {1,2,3,5}"
   ]
  },
  {
   "cell_type": "code",
   "execution_count": 60,
   "id": "2a275bf7-6c74-45bd-a44b-1eeafe72d634",
   "metadata": {},
   "outputs": [
    {
     "data": {
      "text/plain": [
       "{4}"
      ]
     },
     "execution_count": 60,
     "metadata": {},
     "output_type": "execute_result"
    }
   ],
   "source": [
    "s_1.difference(s_2) # returns element which is in s_1 but not in s_2"
   ]
  },
  {
   "cell_type": "code",
   "execution_count": 61,
   "id": "b6764115-4c4e-4a87-9b8e-a4c6bdeac7a1",
   "metadata": {},
   "outputs": [
    {
     "data": {
      "text/plain": [
       "{5}"
      ]
     },
     "execution_count": 61,
     "metadata": {},
     "output_type": "execute_result"
    }
   ],
   "source": [
    "s_2.difference(s_1) # returns element which is in s_2 but not in s_1"
   ]
  },
  {
   "cell_type": "code",
   "execution_count": null,
   "id": "e7189f78-29f4-4aa6-a2ac-f6fccba98794",
   "metadata": {},
   "outputs": [],
   "source": []
  }
 ],
 "metadata": {
  "kernelspec": {
   "display_name": "Python 3 (ipykernel)",
   "language": "python",
   "name": "python3"
  },
  "language_info": {
   "codemirror_mode": {
    "name": "ipython",
    "version": 3
   },
   "file_extension": ".py",
   "mimetype": "text/x-python",
   "name": "python",
   "nbconvert_exporter": "python",
   "pygments_lexer": "ipython3",
   "version": "3.10.8"
  }
 },
 "nbformat": 4,
 "nbformat_minor": 5
}
