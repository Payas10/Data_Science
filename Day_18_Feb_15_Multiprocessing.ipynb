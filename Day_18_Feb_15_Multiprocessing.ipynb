{
 "cells": [
  {
   "cell_type": "markdown",
   "id": "a29d5c3c-f9b7-43b7-ab7d-e830f1d4d3a7",
   "metadata": {},
   "source": [
    "# Multiprocessing"
   ]
  },
  {
   "cell_type": "markdown",
   "id": "260fc751-3d7f-4abf-9ed3-4d104a13c3ff",
   "metadata": {},
   "source": [
    "* Lets suppose a system has quad core processor which has 4 cores. C1, C2, C3 and C4\n",
    "* in case of Multithreading, in a single core we were creating multiple instances of program and exceting them one by one. Note that instances of program are not executing simultaneously and\n",
    "> * instance only start when the one before it gets finishes (wait for the instance to get fisnish) or you have to stop one instance and start another. \n",
    "> * other case may be **context switching** where we are making a thread to sleep for sometime and using that time to execute another thread \n",
    "</br>\n",
    "* **But what if you want to achieve parallelism or concurrent or want to execute simultaneously?** i.e program 1 in  C1, Pr2 in C2, Pr3 in C3 and Pr4 in C4.\n",
    "* This is where the idea of multiprocessing comes into the picture\n",
    "* Multiprocessing try to involve the multiple processors (in this case 4) so that it will be able to execute a program in parallel or execute multiple program in (for 4 cores) 1/4th amount of time.\n",
    "> * This will help in reduce latency of a particular program\n",
    "> * Multiple instances can run in easiest possible way\n",
    "> * If there is some shared resources, those can be utilised amongst the cores/processor as well.\n",
    "\n"
   ]
  },
  {
   "cell_type": "code",
   "execution_count": 1,
   "id": "766bd2e5-7744-463b-b904-ea4bc68b9cab",
   "metadata": {},
   "outputs": [],
   "source": [
    "import multiprocessing\n",
    "\n",
    "def test():\n",
    "    print(\"this is my multiprocessing program\")"
   ]
  },
  {
   "cell_type": "code",
   "execution_count": 2,
   "id": "8d677cf5-ffa5-4187-b907-79843e8973ab",
   "metadata": {},
   "outputs": [
    {
     "name": "stdout",
     "output_type": "stream",
     "text": [
      "this is my multiprocessing program\n"
     ]
    }
   ],
   "source": [
    "# If I want to execute above program seperately I can call the function to execute it\n",
    "test()"
   ]
  },
  {
   "cell_type": "markdown",
   "id": "88fa2b36-b6be-4003-9a48-5c3fdd0f1efe",
   "metadata": {},
   "source": [
    "### Example 1"
   ]
  },
  {
   "cell_type": "code",
   "execution_count": 4,
   "id": "1f125d70-e824-4f18-9297-cd3c9454a491",
   "metadata": {},
   "outputs": [
    {
     "name": "stdout",
     "output_type": "stream",
     "text": [
      "this is my main program\n",
      "this is my multiprocessing program\n"
     ]
    }
   ],
   "source": [
    "# But let suppose I have to execute above program with some other program\n",
    "# in that case what and how I will be able to execute it?\n",
    "# For that we will create python __main__ method or can call python main program\n",
    "# __main__ metho/program is responsible for executing everything inside the python compiler\n",
    "# __main__ will invoke the entire python compiler or main module, so it is a process in itself.\n",
    "\n",
    "\n",
    "import multiprocessing  # module to create and manage multiple processes in Python\n",
    "\n",
    "def test1():\n",
    "    print(\"this is my multiprocessing program\")\n",
    "    \n",
    "if __name__ == \"__main__\":\n",
    "    m = multiprocessing.Process(target = test1) # this will create a child program inside __main__ program and split or allocate it into diff. diff. processors/cores\n",
    "    print(\"this is my main program\")\n",
    "    m.start()  # start the child process inside parent process\n",
    "    m.join()   # wait untill child process terminates \n",
    "               # because child process will consume some sort of resources in terms of CPU or memory and\n",
    "               # terminates the child process and then release all the resources immediately so that other programs will be able to use it\n",
    "\n",
    "# First the __main__ program will execute followed by the child program will execute"
   ]
  },
  {
   "cell_type": "markdown",
   "id": "0b8b5d0f-dd00-4812-949e-fbbf80422850",
   "metadata": {},
   "source": [
    "#### NOTE-\n",
    "* It is not like the program cannot be executed without --main--. It can be executed.\n",
    "* But it is always better, so that your main program will behave as parent and then child program can be executed inside it."
   ]
  },
  {
   "cell_type": "markdown",
   "id": "2275127c-57f8-4154-b320-1aa36fb6517d",
   "metadata": {},
   "source": [
    "### Example 2"
   ]
  },
  {
   "cell_type": "code",
   "execution_count": 6,
   "id": "b85925a2-b9b2-4d0c-b59a-cab19ed6b9b9",
   "metadata": {},
   "outputs": [
    {
     "name": "stdout",
     "output_type": "stream",
     "text": [
      "[9, 16, 25, 36, 36, 49, 7569, 64, 64]\n"
     ]
    }
   ],
   "source": [
    "# program for squaring a number\n",
    "\n",
    "def square(n):\n",
    "    return n**2\n",
    "if __name__ == '__main__':\n",
    "    with multiprocessing.Pool(processes = 5) as pool : # to provide pool of data inside this program\n",
    "    # if processes = 5, so whatever data is been inserted, it will allocated 5 different processes automatically\n",
    "    # and then parallely it execute each and everyone, accumulate the result and give the result\n",
    "        out = pool.map(square, [3,4,5,6,6,7,87,8,8]) \n",
    "    # this will create 5 different processes and distribute the data (i.e list of numbers) along with the function (i.e squate())\n",
    "    # there is only one function (i.e squate(n)) and it is taking only one arguement/data (i.e 'n')\n",
    "    # so the process will pass all of the data in the function one by one\n",
    "    # so the function will execute itself the no. of times equals to the elements present in the list \n",
    "    # these many instances of the function will get executed\n",
    "    # and only then we'll be able to get square of every element inside the list\n",
    "    # it will distribute the funtion along with the data in 5 different processes (as processes = 5). you can mention any no. as per requirement\n",
    "        print(out)"
   ]
  },
  {
   "cell_type": "markdown",
   "id": "918f6e8a-23af-4817-bea9-5e9ae40a407e",
   "metadata": {},
   "source": [
    "#### NOTE-\n",
    "* we'll be able to achieve the same using for loop or map function\n",
    "* but in that case it will create only one process and inside it a thread depends on the process\n",
    "* but in above example it is creating multiple processes\n",
    "* that means parallely tring to execute it, parallely accumulating the result and giving the final result\n",
    "* this is the beauty of multi processing."
   ]
  },
  {
   "cell_type": "markdown",
   "id": "0039ccea-8c84-4132-87a6-4071b018fb06",
   "metadata": {},
   "source": [
    "### Example 3 - Using Queue\n",
    "\n",
    "* queue example - queue line at railway ticket counter, movie ticket counter, fastfood zone queue/line\n",
    "* So, in queue there are two ends -\n",
    "> * from one end people will go in\n",
    "> * from other end people will come out\n",
    "> * It follows FIFO i.e First In First Out\n",
    "* Therefore, one end will feed the data to queue and other end will extract/consume the data"
   ]
  },
  {
   "cell_type": "code",
   "execution_count": 2,
   "id": "7b196d48-d6bf-4dda-b75c-34b6f5c97bfe",
   "metadata": {},
   "outputs": [
    {
     "name": "stdout",
     "output_type": "stream",
     "text": [
      "sudh\n",
      "kumar\n",
      "pwskills\n",
      "krish\n",
      "naik\n",
      "xyz\n"
     ]
    },
    {
     "name": "stderr",
     "output_type": "stream",
     "text": [
      "Process Process-2:\n",
      "Traceback (most recent call last):\n",
      "  File \"/opt/conda/lib/python3.10/multiprocessing/process.py\", line 314, in _bootstrap\n",
      "    self.run()\n",
      "  File \"/opt/conda/lib/python3.10/multiprocessing/process.py\", line 108, in run\n",
      "    self._target(*self._args, **self._kwargs)\n",
      "  File \"/tmp/ipykernel_70/2004781320.py\", line 9, in consume\n",
      "    item = q.get()  # get the data from queue and give items one by one\n",
      "  File \"/opt/conda/lib/python3.10/multiprocessing/queues.py\", line 103, in get\n",
      "    res = self._recv_bytes()\n",
      "  File \"/opt/conda/lib/python3.10/multiprocessing/connection.py\", line 221, in recv_bytes\n",
      "    buf = self._recv_bytes(maxlength)\n",
      "  File \"/opt/conda/lib/python3.10/multiprocessing/connection.py\", line 419, in _recv_bytes\n",
      "    buf = self._recv(4)\n",
      "  File \"/opt/conda/lib/python3.10/multiprocessing/connection.py\", line 384, in _recv\n",
      "    chunk = read(handle, remaining)\n",
      "KeyboardInterrupt\n"
     ]
    },
    {
     "ename": "KeyboardInterrupt",
     "evalue": "",
     "output_type": "error",
     "traceback": [
      "\u001b[0;31m---------------------------------------------------------------------------\u001b[0m",
      "\u001b[0;31mKeyboardInterrupt\u001b[0m                         Traceback (most recent call last)",
      "Cell \u001b[0;32mIn[2], line 24\u001b[0m\n\u001b[1;32m     22\u001b[0m queue\u001b[38;5;241m.\u001b[39mput(\u001b[38;5;124m\"\u001b[39m\u001b[38;5;124mxyz\u001b[39m\u001b[38;5;124m\"\u001b[39m)  \u001b[38;5;66;03m# Additionally putting a data\u001b[39;00m\n\u001b[1;32m     23\u001b[0m m1\u001b[38;5;241m.\u001b[39mjoin()  \u001b[38;5;66;03m# to terminate the process and release ot the resources\u001b[39;00m\n\u001b[0;32m---> 24\u001b[0m \u001b[43mm2\u001b[49m\u001b[38;5;241;43m.\u001b[39;49m\u001b[43mjoin\u001b[49m\u001b[43m(\u001b[49m\u001b[43m)\u001b[49m  \u001b[38;5;66;03m# to terminate the process and release ot the resources\u001b[39;00m\n",
      "File \u001b[0;32m/opt/conda/lib/python3.10/multiprocessing/process.py:149\u001b[0m, in \u001b[0;36mBaseProcess.join\u001b[0;34m(self, timeout)\u001b[0m\n\u001b[1;32m    147\u001b[0m \u001b[38;5;28;01massert\u001b[39;00m \u001b[38;5;28mself\u001b[39m\u001b[38;5;241m.\u001b[39m_parent_pid \u001b[38;5;241m==\u001b[39m os\u001b[38;5;241m.\u001b[39mgetpid(), \u001b[38;5;124m'\u001b[39m\u001b[38;5;124mcan only join a child process\u001b[39m\u001b[38;5;124m'\u001b[39m\n\u001b[1;32m    148\u001b[0m \u001b[38;5;28;01massert\u001b[39;00m \u001b[38;5;28mself\u001b[39m\u001b[38;5;241m.\u001b[39m_popen \u001b[38;5;129;01mis\u001b[39;00m \u001b[38;5;129;01mnot\u001b[39;00m \u001b[38;5;28;01mNone\u001b[39;00m, \u001b[38;5;124m'\u001b[39m\u001b[38;5;124mcan only join a started process\u001b[39m\u001b[38;5;124m'\u001b[39m\n\u001b[0;32m--> 149\u001b[0m res \u001b[38;5;241m=\u001b[39m \u001b[38;5;28;43mself\u001b[39;49m\u001b[38;5;241;43m.\u001b[39;49m\u001b[43m_popen\u001b[49m\u001b[38;5;241;43m.\u001b[39;49m\u001b[43mwait\u001b[49m\u001b[43m(\u001b[49m\u001b[43mtimeout\u001b[49m\u001b[43m)\u001b[49m\n\u001b[1;32m    150\u001b[0m \u001b[38;5;28;01mif\u001b[39;00m res \u001b[38;5;129;01mis\u001b[39;00m \u001b[38;5;129;01mnot\u001b[39;00m \u001b[38;5;28;01mNone\u001b[39;00m:\n\u001b[1;32m    151\u001b[0m     _children\u001b[38;5;241m.\u001b[39mdiscard(\u001b[38;5;28mself\u001b[39m)\n",
      "File \u001b[0;32m/opt/conda/lib/python3.10/multiprocessing/popen_fork.py:43\u001b[0m, in \u001b[0;36mPopen.wait\u001b[0;34m(self, timeout)\u001b[0m\n\u001b[1;32m     41\u001b[0m             \u001b[38;5;28;01mreturn\u001b[39;00m \u001b[38;5;28;01mNone\u001b[39;00m\n\u001b[1;32m     42\u001b[0m     \u001b[38;5;66;03m# This shouldn't block if wait() returned successfully.\u001b[39;00m\n\u001b[0;32m---> 43\u001b[0m     \u001b[38;5;28;01mreturn\u001b[39;00m \u001b[38;5;28;43mself\u001b[39;49m\u001b[38;5;241;43m.\u001b[39;49m\u001b[43mpoll\u001b[49m\u001b[43m(\u001b[49m\u001b[43mos\u001b[49m\u001b[38;5;241;43m.\u001b[39;49m\u001b[43mWNOHANG\u001b[49m\u001b[43m \u001b[49m\u001b[38;5;28;43;01mif\u001b[39;49;00m\u001b[43m \u001b[49m\u001b[43mtimeout\u001b[49m\u001b[43m \u001b[49m\u001b[38;5;241;43m==\u001b[39;49m\u001b[43m \u001b[49m\u001b[38;5;241;43m0.0\u001b[39;49m\u001b[43m \u001b[49m\u001b[38;5;28;43;01melse\u001b[39;49;00m\u001b[43m \u001b[49m\u001b[38;5;241;43m0\u001b[39;49m\u001b[43m)\u001b[49m\n\u001b[1;32m     44\u001b[0m \u001b[38;5;28;01mreturn\u001b[39;00m \u001b[38;5;28mself\u001b[39m\u001b[38;5;241m.\u001b[39mreturncode\n",
      "File \u001b[0;32m/opt/conda/lib/python3.10/multiprocessing/popen_fork.py:27\u001b[0m, in \u001b[0;36mPopen.poll\u001b[0;34m(self, flag)\u001b[0m\n\u001b[1;32m     25\u001b[0m \u001b[38;5;28;01mif\u001b[39;00m \u001b[38;5;28mself\u001b[39m\u001b[38;5;241m.\u001b[39mreturncode \u001b[38;5;129;01mis\u001b[39;00m \u001b[38;5;28;01mNone\u001b[39;00m:\n\u001b[1;32m     26\u001b[0m     \u001b[38;5;28;01mtry\u001b[39;00m:\n\u001b[0;32m---> 27\u001b[0m         pid, sts \u001b[38;5;241m=\u001b[39m \u001b[43mos\u001b[49m\u001b[38;5;241;43m.\u001b[39;49m\u001b[43mwaitpid\u001b[49m\u001b[43m(\u001b[49m\u001b[38;5;28;43mself\u001b[39;49m\u001b[38;5;241;43m.\u001b[39;49m\u001b[43mpid\u001b[49m\u001b[43m,\u001b[49m\u001b[43m \u001b[49m\u001b[43mflag\u001b[49m\u001b[43m)\u001b[49m\n\u001b[1;32m     28\u001b[0m     \u001b[38;5;28;01mexcept\u001b[39;00m \u001b[38;5;167;01mOSError\u001b[39;00m:\n\u001b[1;32m     29\u001b[0m         \u001b[38;5;66;03m# Child process not yet created. See #1731717\u001b[39;00m\n\u001b[1;32m     30\u001b[0m         \u001b[38;5;66;03m# e.errno == errno.ECHILD == 10\u001b[39;00m\n\u001b[1;32m     31\u001b[0m         \u001b[38;5;28;01mreturn\u001b[39;00m \u001b[38;5;28;01mNone\u001b[39;00m\n",
      "\u001b[0;31mKeyboardInterrupt\u001b[0m: "
     ]
    }
   ],
   "source": [
    "import multiprocessing\n",
    "\n",
    "def producer(q):  # put data into the qmultiprocessing    for i in [\"sudh\", \"kumar\", \"pwskills\", \"krish\", \"naik\"] :\n",
    "        q.put(i)   # produce or create a queue one by one by putting the data into the queue\n",
    "        \n",
    "def consume(q):   # remove the data from the queue\n",
    "    while True :  # universal condition\n",
    "        item = q.get()  # get the data from queue and give items one by one\n",
    "        if item is None:  # if there are no item inside queue\n",
    "            break\n",
    "        print(item)\n",
    "\n",
    "if __name__ == '__main__':\n",
    "    # creating a Queue data structure bydefault using .Queue()\n",
    "    queue = multiprocessing.Queue()  # Returns a queue object i.e the object where you can put (.put()) data and can get (.get()) data\n",
    "    # Creating Processes\n",
    "    m1 = multiprocessing.Process(target = producer , args = (queue,)) # process for poducer or enqueing\n",
    "    m2 = multiprocessing.Process(target = consume , args = (queue,))  # process for consumer or dequeing\n",
    "    m1.start()  # start the child process inside parent process\n",
    "    m2.start()  # start the child process inside parent process                                                                                                                                                                                                                                                                                                                                                                                                                                                                                                                                                                                                                                                                                                                                       \n",
    "    queue.put(\"xyz\")  # Additionally putting a data\n",
    "    m1.join()  # to terminate the process and release ot the resources\n",
    "    m2.join()  # to terminate the process and release ot the resources"
   ]
  },
  {
   "cell_type": "markdown",
   "id": "421e5609-c84d-4664-95fe-5137465aa569",
   "metadata": {},
   "source": [
    "### Example 4 - Using Array"
   ]
  },
  {
   "cell_type": "code",
   "execution_count": 4,
   "id": "a8c7482f-9d3e-4023-8b6a-3e9da90d8908",
   "metadata": {},
   "outputs": [
    {
     "name": "stdout",
     "output_type": "stream",
     "text": [
      "[4, 9, 36, 49, 64, 64, 81, 9, 9, 9]\n"
     ]
    }
   ],
   "source": [
    "# program for squaring a list or other iterable object\n",
    "\n",
    "import multiprocessing\n",
    "\n",
    "def square1(index , value) :\n",
    "    value[index] = value[index]**2\n",
    "    \n",
    "if __name__ == '__main__':\n",
    "    # Creating and Array object which will keep the data. As much data as possible. \n",
    "    arr = multiprocessing.Array('i', [2,3,6,7,8,8,9,3,3,3])   # Returns a synchronized shared array \n",
    "                                                        # i.e even if we have multiple processoe involved I have global Array \n",
    "                                                        # which can be accessed by multiple processor\n",
    "    # We have just one function which will take parameters as index and value\n",
    "    # the function will be called the number of times as the number of elements present in the Array\n",
    "    # system will try to divide this entire thing into multiple different different processes which will accumulate the data and give the result\n",
    "    process = []\n",
    "    for i in range(10):\n",
    "        m = multiprocessing.Process(target = square1 , args = (i, arr))\n",
    "        process.append(m)\n",
    "        m.start()\n",
    "    for m in process:\n",
    "        m.join()\n",
    "    print(list(arr))"
   ]
  },
  {
   "cell_type": "markdown",
   "id": "96ca90fb-761c-4201-b86c-2ec417dc4696",
   "metadata": {},
   "source": [
    "#### NOTE-\n",
    "* multiple instances of the square function is created as per the number of elements in array\n",
    "* execution will takes place parallely into diff. diff. processors/cores\n",
    "* and finally accumulation of the data is done and the result is given back"
   ]
  },
  {
   "cell_type": "markdown",
   "id": "7214fa52-9608-49d1-9d05-38d6dad49563",
   "metadata": {},
   "source": [
    "### Example 5 - Using Pipe\n",
    "\n",
    "* lets say me and my friend are using whatsapp messenger\n",
    "* So whenever I (sender) send a msg, msg goes to server, server processes the msg and sent it to friend(receiver) and vice versa\n",
    "* i.e the same happens when my friend send msg back to me\n",
    "* Basically, 2 process are involved -\n",
    "> * one which will keep on producing the msg\n",
    "> * and other which will keep on receiving the msg\n",
    "> * or vice versa\n",
    "* and there will be process which will controll both the side  i.e whatsapp server. Someone has written a program for server so that it will be able to process the msg.\n",
    "* This kind of operation is called as piping operation \n",
    "* and in this we are trying to initiate one way communication or two way communication and this is possible from *pipe*\n",
    "* and with the help of pipe we'll be able to achieve these things because pipe is going to open up two way communication\n",
    "* prduction will take place in one system and receiving will take palce in one system or vice versa and both will be able to communicate between each other\n",
    "* That is the whole idea or concept behind *piping*"
   ]
  },
  {
   "cell_type": "code",
   "execution_count": 6,
   "id": "011f7ae8-d8fc-4d78-bdca-4ec662b26cdb",
   "metadata": {
    "tags": []
   },
   "outputs": [
    {
     "name": "stdout",
     "output_type": "stream",
     "text": [
      "my name is payas\n",
      "this is my msg to my mentors\n",
      "i am taking class for dsm\n",
      "i am trying to practice all the codes\n"
     ]
    },
    {
     "name": "stderr",
     "output_type": "stream",
     "text": [
      "Process Process-16:\n",
      "Traceback (most recent call last):\n",
      "  File \"/opt/conda/lib/python3.10/multiprocessing/process.py\", line 314, in _bootstrap\n",
      "    self.run()\n",
      "  File \"/opt/conda/lib/python3.10/multiprocessing/process.py\", line 108, in run\n",
      "    self._target(*self._args, **self._kwargs)\n"
     ]
    },
    {
     "ename": "KeyboardInterrupt",
     "evalue": "",
     "output_type": "error",
     "traceback": [
      "\u001b[0;31m---------------------------------------------------------------------------\u001b[0m",
      "\u001b[0;31mKeyboardInterrupt\u001b[0m                         Traceback (most recent call last)",
      "Cell \u001b[0;32mIn[6], line 33\u001b[0m\n\u001b[1;32m     31\u001b[0m m1\u001b[38;5;241m.\u001b[39mjoin()  \u001b[38;5;66;03m# once done release all the resources\u001b[39;00m\n\u001b[1;32m     32\u001b[0m child_conn\u001b[38;5;241m.\u001b[39mclose()  \u001b[38;5;66;03m# closing the child connection which'll keep on sending the msg\u001b[39;00m\n\u001b[0;32m---> 33\u001b[0m \u001b[43mm2\u001b[49m\u001b[38;5;241;43m.\u001b[39;49m\u001b[43mjoin\u001b[49m\u001b[43m(\u001b[49m\u001b[43m)\u001b[49m  \u001b[38;5;66;03m# releasing all the resources of m2\u001b[39;00m\n\u001b[1;32m     34\u001b[0m parent_conn\u001b[38;5;241m.\u001b[39mclose() \u001b[38;5;66;03m# closing the child connection which keeps on receiving the msg\u001b[39;00m\n",
      "File \u001b[0;32m/opt/conda/lib/python3.10/multiprocessing/process.py:149\u001b[0m, in \u001b[0;36mBaseProcess.join\u001b[0;34m(self, timeout)\u001b[0m\n\u001b[1;32m    147\u001b[0m \u001b[38;5;28;01massert\u001b[39;00m \u001b[38;5;28mself\u001b[39m\u001b[38;5;241m.\u001b[39m_parent_pid \u001b[38;5;241m==\u001b[39m os\u001b[38;5;241m.\u001b[39mgetpid(), \u001b[38;5;124m'\u001b[39m\u001b[38;5;124mcan only join a child process\u001b[39m\u001b[38;5;124m'\u001b[39m\n\u001b[1;32m    148\u001b[0m \u001b[38;5;28;01massert\u001b[39;00m \u001b[38;5;28mself\u001b[39m\u001b[38;5;241m.\u001b[39m_popen \u001b[38;5;129;01mis\u001b[39;00m \u001b[38;5;129;01mnot\u001b[39;00m \u001b[38;5;28;01mNone\u001b[39;00m, \u001b[38;5;124m'\u001b[39m\u001b[38;5;124mcan only join a started process\u001b[39m\u001b[38;5;124m'\u001b[39m\n\u001b[0;32m--> 149\u001b[0m res \u001b[38;5;241m=\u001b[39m \u001b[38;5;28;43mself\u001b[39;49m\u001b[38;5;241;43m.\u001b[39;49m\u001b[43m_popen\u001b[49m\u001b[38;5;241;43m.\u001b[39;49m\u001b[43mwait\u001b[49m\u001b[43m(\u001b[49m\u001b[43mtimeout\u001b[49m\u001b[43m)\u001b[49m\n\u001b[1;32m    150\u001b[0m \u001b[38;5;28;01mif\u001b[39;00m res \u001b[38;5;129;01mis\u001b[39;00m \u001b[38;5;129;01mnot\u001b[39;00m \u001b[38;5;28;01mNone\u001b[39;00m:\n\u001b[1;32m    151\u001b[0m     _children\u001b[38;5;241m.\u001b[39mdiscard(\u001b[38;5;28mself\u001b[39m)\n",
      "File \u001b[0;32m/opt/conda/lib/python3.10/multiprocessing/popen_fork.py:43\u001b[0m, in \u001b[0;36mPopen.wait\u001b[0;34m(self, timeout)\u001b[0m\n\u001b[1;32m     41\u001b[0m             \u001b[38;5;28;01mreturn\u001b[39;00m \u001b[38;5;28;01mNone\u001b[39;00m\n\u001b[1;32m     42\u001b[0m     \u001b[38;5;66;03m# This shouldn't block if wait() returned successfully.\u001b[39;00m\n\u001b[0;32m---> 43\u001b[0m     \u001b[38;5;28;01mreturn\u001b[39;00m \u001b[38;5;28;43mself\u001b[39;49m\u001b[38;5;241;43m.\u001b[39;49m\u001b[43mpoll\u001b[49m\u001b[43m(\u001b[49m\u001b[43mos\u001b[49m\u001b[38;5;241;43m.\u001b[39;49m\u001b[43mWNOHANG\u001b[49m\u001b[43m \u001b[49m\u001b[38;5;28;43;01mif\u001b[39;49;00m\u001b[43m \u001b[49m\u001b[43mtimeout\u001b[49m\u001b[43m \u001b[49m\u001b[38;5;241;43m==\u001b[39;49m\u001b[43m \u001b[49m\u001b[38;5;241;43m0.0\u001b[39;49m\u001b[43m \u001b[49m\u001b[38;5;28;43;01melse\u001b[39;49;00m\u001b[43m \u001b[49m\u001b[38;5;241;43m0\u001b[39;49m\u001b[43m)\u001b[49m\n\u001b[1;32m     44\u001b[0m \u001b[38;5;28;01mreturn\u001b[39;00m \u001b[38;5;28mself\u001b[39m\u001b[38;5;241m.\u001b[39mreturncode\n",
      "File \u001b[0;32m/opt/conda/lib/python3.10/multiprocessing/popen_fork.py:27\u001b[0m, in \u001b[0;36mPopen.poll\u001b[0;34m(self, flag)\u001b[0m\n\u001b[1;32m     25\u001b[0m \u001b[38;5;28;01mif\u001b[39;00m \u001b[38;5;28mself\u001b[39m\u001b[38;5;241m.\u001b[39mreturncode \u001b[38;5;129;01mis\u001b[39;00m \u001b[38;5;28;01mNone\u001b[39;00m:\n\u001b[1;32m     26\u001b[0m     \u001b[38;5;28;01mtry\u001b[39;00m:\n\u001b[0;32m---> 27\u001b[0m         pid, sts \u001b[38;5;241m=\u001b[39m \u001b[43mos\u001b[49m\u001b[38;5;241;43m.\u001b[39;49m\u001b[43mwaitpid\u001b[49m\u001b[43m(\u001b[49m\u001b[38;5;28;43mself\u001b[39;49m\u001b[38;5;241;43m.\u001b[39;49m\u001b[43mpid\u001b[49m\u001b[43m,\u001b[49m\u001b[43m \u001b[49m\u001b[43mflag\u001b[49m\u001b[43m)\u001b[49m\n\u001b[1;32m     28\u001b[0m     \u001b[38;5;28;01mexcept\u001b[39;00m \u001b[38;5;167;01mOSError\u001b[39;00m:\n\u001b[1;32m     29\u001b[0m         \u001b[38;5;66;03m# Child process not yet created. See #1731717\u001b[39;00m\n\u001b[1;32m     30\u001b[0m         \u001b[38;5;66;03m# e.errno == errno.ECHILD == 10\u001b[39;00m\n\u001b[1;32m     31\u001b[0m         \u001b[38;5;28;01mreturn\u001b[39;00m \u001b[38;5;28;01mNone\u001b[39;00m\n",
      "\u001b[0;31mKeyboardInterrupt\u001b[0m: "
     ]
    },
    {
     "name": "stderr",
     "output_type": "stream",
     "text": [
      "  File \"/tmp/ipykernel_70/542313726.py\", line 14, in receive\n",
      "    msg = conn.recv()\n",
      "  File \"/opt/conda/lib/python3.10/multiprocessing/connection.py\", line 255, in recv\n",
      "    buf = self._recv_bytes()\n",
      "  File \"/opt/conda/lib/python3.10/multiprocessing/connection.py\", line 419, in _recv_bytes\n",
      "    buf = self._recv(4)\n",
      "  File \"/opt/conda/lib/python3.10/multiprocessing/connection.py\", line 384, in _recv\n",
      "    chunk = read(handle, remaining)\n",
      "KeyboardInterrupt\n"
     ]
    }
   ],
   "source": [
    "import multiprocessing\n",
    "\n",
    "# creating sender fn which wil send msg\n",
    "def sender(conn, msg):  # when sending msg internet conn is needed with the help of which conn b/w whatsapp server can be established. \n",
    "                        # Basically you need connection object\n",
    "        for i in msg:\n",
    "            conn.send(i)\n",
    "        conn.close()\n",
    "\n",
    "# creating receiver fn which will receive the msg\n",
    "def receive(conn):\n",
    "    while True:  # Universal condition\n",
    "        try:\n",
    "            msg = conn.recv()\n",
    "        except Exception as e:\n",
    "            print(e)\n",
    "            break\n",
    "        print(msg)\n",
    "        \n",
    "if __name__ == '__main__':\n",
    "    msg = [\"my name is payas\", \"this is my msg to my mentors\", \"i am taking class for dsm\", \"i am trying to practice all the codes\"]\n",
    "    # creating a connection using pipe\n",
    "    parent_conn, child_conn = multiprocessing.Pipe()  # Returns two connection object connected by a pipe (one for sending & one for receiving)\n",
    "                                                      # if duplex = True, One can send and receive as well as other can send and receive and vice versa\n",
    "                                                      # if duplex = False, the msg can be send in simplex mode means one can only send and other can only receive\n",
    "    # creating processes\n",
    "    m1 = multiprocessing.Process(target = sender , args = (child_conn, msg))\n",
    "    m2 = multiprocessing.Process(target = receive , args = (parent_conn,))\n",
    "    m1.start()   # this will start sending msg untill entire msg list is exhausted\n",
    "    m2.start()   # this will start receiving msg untile entire msg list is exhausted\n",
    "    m1.join()  # once done release all the resources\n",
    "    child_conn.close()  # closing the child connection which'll keep on sending the msg\n",
    "    m2.join()  # releasing all the resources of m2\n",
    "    parent_conn.close() # closing the child connection which keeps on receiving the msg"
   ]
  },
  {
   "cell_type": "markdown",
   "id": "fb04d6c3-4943-4c62-8aad-785302a0bb52",
   "metadata": {},
   "source": [
    "#### NOTE - \n",
    "* Whatever msg are in msg list, one processor/core is trying to take those msg amd sending into a pipe.\n",
    "* So one connection will keep on sending each and everything into a pipe\n",
    "* and one connection will keep on receiving from the pipe\n",
    "* pipe will help out in creation of communication object for sending as well as for receiving\n",
    "* This is the beauty of *Pipe*"
   ]
  },
  {
   "cell_type": "markdown",
   "id": "acd69048-bf47-4bb6-b4f6-5788497dd767",
   "metadata": {},
   "source": [
    "# Quiz"
   ]
  },
  {
   "cell_type": "markdown",
   "id": "ae84b3cd-9ad6-49ae-8552-327154182adf",
   "metadata": {},
   "source": [
    "### 1. What is multiprocessing in Python?\n",
    "\n",
    "> A process of running multiple processes simultaneously within a single thread."
   ]
  },
  {
   "cell_type": "markdown",
   "id": "38476eb6-810f-4d63-a5da-a5fd1a4bdc2a",
   "metadata": {},
   "source": [
    "### 2. What is the purpose of multiprocessing in Python?\n",
    "> To improve the performance of a program by using multiple CPUs or CPU cores."
   ]
  },
  {
   "cell_type": "markdown",
   "id": "3e9a88a8-0aef-4061-ba8e-21fdf3aca05d",
   "metadata": {},
   "source": [
    "### 3. Which module is used to create and manage processes in Python?\n",
    "> multiprocessing"
   ]
  },
  {
   "cell_type": "markdown",
   "id": "8062a8fa-7acd-401f-a550-ad20a9f9496e",
   "metadata": {},
   "source": [
    "### 4. What is a process pool in multiprocessing?\n",
    "> A set of processes that can be executed concurrently to perform a specific task."
   ]
  },
  {
   "cell_type": "markdown",
   "id": "cf88d4c0-8cb2-4e12-bc97-241d0f4bfe06",
   "metadata": {},
   "source": [
    "### 5. Which method is used to start a new process in Python?\n",
    ">  start()"
   ]
  },
  {
   "cell_type": "markdown",
   "id": "06941e13-954f-4a73-a52b-b6c9c7c908f3",
   "metadata": {},
   "source": [
    "### 6. What is the difference between multiprocessing and multithreading in Python?\n",
    "> Multithreading runs multiple threads simultaneously within a single process, while multiprocessing runs multiple processes simultaneously within a single thread."
   ]
  },
  {
   "cell_type": "code",
   "execution_count": null,
   "id": "99dde035-f060-49c3-bb6d-f0954c547063",
   "metadata": {},
   "outputs": [],
   "source": []
  }
 ],
 "metadata": {
  "kernelspec": {
   "display_name": "Python 3 (ipykernel)",
   "language": "python",
   "name": "python3"
  },
  "language_info": {
   "codemirror_mode": {
    "name": "ipython",
    "version": 3
   },
   "file_extension": ".py",
   "mimetype": "text/x-python",
   "name": "python",
   "nbconvert_exporter": "python",
   "pygments_lexer": "ipython3",
   "version": "3.10.8"
  }
 },
 "nbformat": 4,
 "nbformat_minor": 5
}
