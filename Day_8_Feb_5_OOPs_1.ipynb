{
 "cells": [
  {
   "cell_type": "markdown",
   "id": "c23563c1-72a6-4db9-8a17-e9419a8c07d2",
   "metadata": {},
   "source": [
    "# OOPs - Object Oriented Programming - Part 1"
   ]
  },
  {
   "cell_type": "code",
   "execution_count": 1,
   "id": "7566f174-fd74-4769-98af-8efec36ca125",
   "metadata": {},
   "outputs": [],
   "source": [
    "a = 1"
   ]
  },
  {
   "cell_type": "code",
   "execution_count": 2,
   "id": "388e98c2-c99a-4f8c-88f1-051d91c54bbb",
   "metadata": {},
   "outputs": [
    {
     "name": "stdout",
     "output_type": "stream",
     "text": [
      "<class 'int'>\n"
     ]
    }
   ],
   "source": [
    "print(type(a))"
   ]
  },
  {
   "cell_type": "code",
   "execution_count": 3,
   "id": "cb8a9cc9-4aab-47bc-8a3e-5829890a3896",
   "metadata": {},
   "outputs": [
    {
     "name": "stdout",
     "output_type": "stream",
     "text": [
      "<class 'str'>\n"
     ]
    }
   ],
   "source": [
    "print(type(\"pwskills\"))"
   ]
  },
  {
   "cell_type": "code",
   "execution_count": 4,
   "id": "b0eb53c8-88d4-481f-bd1f-a1f5c9623051",
   "metadata": {},
   "outputs": [
    {
     "ename": "SyntaxError",
     "evalue": "incomplete input (526615474.py, line 5)",
     "output_type": "error",
     "traceback": [
      "\u001b[0;36m  Cell \u001b[0;32mIn[4], line 5\u001b[0;36m\u001b[0m\n\u001b[0;31m    # gives error since only class is defined but what this class will do is not defined\u001b[0m\n\u001b[0m                                                                                        ^\u001b[0m\n\u001b[0;31mSyntaxError\u001b[0m\u001b[0;31m:\u001b[0m incomplete input\n"
     ]
    }
   ],
   "source": [
    "# class keyword is used to define a class\n",
    "\n",
    "class test:\n",
    "\n",
    "# gives error since only class is defined but what this class will do is not defined"
   ]
  },
  {
   "cell_type": "code",
   "execution_count": 5,
   "id": "5c7e4c54-c003-4116-bf2b-963101b5cde6",
   "metadata": {},
   "outputs": [],
   "source": [
    "class test:\n",
    "    pass"
   ]
  },
  {
   "cell_type": "code",
   "execution_count": 6,
   "id": "8dffc7c1-7c15-463d-8869-e1b6b00a3428",
   "metadata": {},
   "outputs": [],
   "source": [
    "a = test()"
   ]
  },
  {
   "cell_type": "code",
   "execution_count": 7,
   "id": "efe7bb40-c17d-4e83-abfa-1f187290f009",
   "metadata": {},
   "outputs": [
    {
     "name": "stdout",
     "output_type": "stream",
     "text": [
      "<class '__main__.test'>\n"
     ]
    }
   ],
   "source": [
    "print(type(a))"
   ]
  },
  {
   "cell_type": "code",
   "execution_count": 8,
   "id": "0ab9c88d-2289-48bb-82db-28b919a9f1f4",
   "metadata": {},
   "outputs": [],
   "source": [
    "class pwskills:\n",
    "    \n",
    "    def welcome_msg():\n",
    "        print(\"welcome to pwskills\")"
   ]
  },
  {
   "cell_type": "code",
   "execution_count": 9,
   "id": "2061430a-0763-4b38-8a09-44d3b0ea3860",
   "metadata": {},
   "outputs": [],
   "source": [
    "rohan = pwskills() # defining variable/instance/object of class pwskills"
   ]
  },
  {
   "cell_type": "code",
   "execution_count": 10,
   "id": "c2f36df3-c73f-4e79-86ff-e708e6a13532",
   "metadata": {},
   "outputs": [
    {
     "ename": "TypeError",
     "evalue": "pwskills.welcome_msg() takes 0 positional arguments but 1 was given",
     "output_type": "error",
     "traceback": [
      "\u001b[0;31m---------------------------------------------------------------------------\u001b[0m",
      "\u001b[0;31mTypeError\u001b[0m                                 Traceback (most recent call last)",
      "Cell \u001b[0;32mIn[10], line 1\u001b[0m\n\u001b[0;32m----> 1\u001b[0m \u001b[43mrohan\u001b[49m\u001b[38;5;241;43m.\u001b[39;49m\u001b[43mwelcome_msg\u001b[49m\u001b[43m(\u001b[49m\u001b[43m)\u001b[49m\n\u001b[1;32m      3\u001b[0m \u001b[38;5;66;03m# returns error since the function defined in class has no pointer/reference that will point back to the class\u001b[39;00m\n\u001b[1;32m      4\u001b[0m \u001b[38;5;66;03m# that means when we give pointer then both -\u001b[39;00m\n\u001b[1;32m      5\u001b[0m \u001b[38;5;66;03m# class knows this function belongs to me, and\u001b[39;00m\n\u001b[1;32m      6\u001b[0m \u001b[38;5;66;03m# function knows that it belong to this class\u001b[39;00m\n",
      "\u001b[0;31mTypeError\u001b[0m: pwskills.welcome_msg() takes 0 positional arguments but 1 was given"
     ]
    }
   ],
   "source": [
    "rohan.welcome_msg()\n",
    "\n",
    "# returns error since the function defined in class has no pointer/reference that will point back to the class\n",
    "# that means when we give pointer then both -\n",
    "# class knows this function belongs to me, and\n",
    "# function knows that it belong to this class"
   ]
  },
  {
   "cell_type": "code",
   "execution_count": 11,
   "id": "04af342e-5043-4083-842e-139ad8584f58",
   "metadata": {},
   "outputs": [],
   "source": [
    "class pwskills:\n",
    "    \n",
    "    def welcome_msg(self): # self is pointer/reference which is pointing back to class\n",
    "        print(\"welcome to pwskills\")\n",
    "\n",
    "# self is pointer/reference which is pointing back to class\n",
    "# letting the function to bind with the class and getting it defined under that class\n",
    "# NOTE: self is not a keyword, you can add your name and the pointer/referencing still works\n",
    "# it has become convention to use self as pointer/reference name as it is adopted by large audience"
   ]
  },
  {
   "cell_type": "code",
   "execution_count": 12,
   "id": "b550964c-432b-4bbd-b823-fcb2e769ed40",
   "metadata": {},
   "outputs": [],
   "source": [
    "rohan = pwskills()"
   ]
  },
  {
   "cell_type": "code",
   "execution_count": 13,
   "id": "a9efebac-be37-48aa-b038-510ff7cfeab5",
   "metadata": {},
   "outputs": [
    {
     "name": "stdout",
     "output_type": "stream",
     "text": [
      "welcome to pwskills\n"
     ]
    }
   ],
   "source": [
    "rohan.welcome_msg()"
   ]
  },
  {
   "cell_type": "code",
   "execution_count": 14,
   "id": "fb74c342-3f13-4df1-9e8b-0ab48fc291ee",
   "metadata": {},
   "outputs": [],
   "source": [
    "sohan = pwskills()"
   ]
  },
  {
   "cell_type": "code",
   "execution_count": 15,
   "id": "6937002c-9864-4439-9eec-79a5138b58c1",
   "metadata": {},
   "outputs": [
    {
     "name": "stdout",
     "output_type": "stream",
     "text": [
      "welcome to pwskills\n"
     ]
    }
   ],
   "source": [
    "sohan.welcome_msg()"
   ]
  },
  {
   "cell_type": "code",
   "execution_count": 16,
   "id": "0f5d0f23-9ecb-41c6-bca5-de58edb423db",
   "metadata": {},
   "outputs": [],
   "source": [
    "class pwskills1:\n",
    "    \n",
    "    def __init__(self, phone_number, email_id, student_id): # __init__ is constructor which is accepting values for object/instance/reference\n",
    "        \n",
    "        self.phone_number = phone_number\n",
    "        self.email_id = email_id\n",
    "        self.student_id = student_id\n",
    "        \n",
    "    \n",
    "    def return_student_details(self):  # function defined in class is also known as method or class method\n",
    "        return self.phone_number, self.email_id, self.student_id\n",
    "\n",
    "        \n",
    "# __init__ is constructor which is accepting values for object/instance/reference\n",
    "# just like a of class integer is accepting 1\n",
    "# function defined in class is also known as method or class method\n",
    "# phone_number, email_id, student_id are all object/instance defined inside class\n",
    "# inside class, object/instance/variable is called by self.****** {e.g self.phone_number)\n",
    "# rohan, soham are object/instance/variable defined outside class\n",
    "# outside class, object/instance/variable is called by Object_name.****** {e.g rohan.phone_number}"
   ]
  },
  {
   "cell_type": "code",
   "execution_count": 17,
   "id": "8e6fc8af-f9bf-4fdc-bd7d-5889dc42b822",
   "metadata": {},
   "outputs": [],
   "source": [
    "rohan = pwskills1(6736980738, \"rohan@gmail.com\", 101) \n",
    "# rohan is object/intance/variable of class pwskills defined outside class"
   ]
  },
  {
   "cell_type": "code",
   "execution_count": 18,
   "id": "621183d4-6e5c-4911-ae3e-96c539bad1fb",
   "metadata": {},
   "outputs": [
    {
     "data": {
      "text/plain": [
       "6736980738"
      ]
     },
     "execution_count": 18,
     "metadata": {},
     "output_type": "execute_result"
    }
   ],
   "source": [
    "rohan.phone_number \n",
    "# outside class, object/instance/variable is called by Object_name.****** {e.g rohan.phone_number}"
   ]
  },
  {
   "cell_type": "code",
   "execution_count": 19,
   "id": "2b3b6f20-8e0b-400c-8536-e742fdc8fe07",
   "metadata": {},
   "outputs": [
    {
     "data": {
      "text/plain": [
       "'rohan@gmail.com'"
      ]
     },
     "execution_count": 19,
     "metadata": {},
     "output_type": "execute_result"
    }
   ],
   "source": [
    "rohan.email_id"
   ]
  },
  {
   "cell_type": "code",
   "execution_count": 20,
   "id": "0a3215b3-7c2e-4060-95f7-2af8e064a56a",
   "metadata": {},
   "outputs": [
    {
     "data": {
      "text/plain": [
       "101"
      ]
     },
     "execution_count": 20,
     "metadata": {},
     "output_type": "execute_result"
    }
   ],
   "source": [
    "rohan.student_id"
   ]
  },
  {
   "cell_type": "code",
   "execution_count": 21,
   "id": "174a7ace-1c52-4d63-a802-1478aa2bdacc",
   "metadata": {},
   "outputs": [
    {
     "data": {
      "text/plain": [
       "(6736980738, 'rohan@gmail.com', 101)"
      ]
     },
     "execution_count": 21,
     "metadata": {},
     "output_type": "execute_result"
    }
   ],
   "source": [
    "rohan.return_student_details()"
   ]
  },
  {
   "cell_type": "code",
   "execution_count": 22,
   "id": "9000e802-9aa9-4432-9ddc-384cebe20399",
   "metadata": {},
   "outputs": [],
   "source": [
    "sohan = pwskills1(5758734973, \"sohan@gmail.com\", 456)"
   ]
  },
  {
   "cell_type": "code",
   "execution_count": 23,
   "id": "91534d9e-ee74-4a92-a894-3b35729efbfc",
   "metadata": {},
   "outputs": [
    {
     "data": {
      "text/plain": [
       "5758734973"
      ]
     },
     "execution_count": 23,
     "metadata": {},
     "output_type": "execute_result"
    }
   ],
   "source": [
    "sohan.phone_number"
   ]
  },
  {
   "cell_type": "code",
   "execution_count": 24,
   "id": "25765b26-e186-4f75-8a89-2b45c5e59eb1",
   "metadata": {},
   "outputs": [
    {
     "data": {
      "text/plain": [
       "'sohan@gmail.com'"
      ]
     },
     "execution_count": 24,
     "metadata": {},
     "output_type": "execute_result"
    }
   ],
   "source": [
    "sohan.email_id"
   ]
  },
  {
   "cell_type": "code",
   "execution_count": 25,
   "id": "07293e10-e88e-42d1-880b-d1b0a99abdf1",
   "metadata": {},
   "outputs": [
    {
     "data": {
      "text/plain": [
       "456"
      ]
     },
     "execution_count": 25,
     "metadata": {},
     "output_type": "execute_result"
    }
   ],
   "source": [
    "sohan.student_id"
   ]
  },
  {
   "cell_type": "code",
   "execution_count": 26,
   "id": "0827ac73-782f-4488-a032-3ef84f9b83e9",
   "metadata": {},
   "outputs": [
    {
     "data": {
      "text/plain": [
       "(5758734973, 'sohan@gmail.com', 456)"
      ]
     },
     "execution_count": 26,
     "metadata": {},
     "output_type": "execute_result"
    }
   ],
   "source": [
    "sohan.return_student_details()"
   ]
  },
  {
   "cell_type": "code",
   "execution_count": 27,
   "id": "55e5acd6-03a1-44c9-a072-a4dce2a64952",
   "metadata": {},
   "outputs": [],
   "source": [
    "# As already said self is not a keyword, you can add your name and the pointer/referencing still works\n",
    "# it has become convention to use self as pointer/reference name as it is adopted by large audience\n",
    "\n",
    "class pwskills2:\n",
    "    \n",
    "    def __init__(hello, phone_number, email_id, student_id): # __init__ is constructor which is accepting values for object/instance/reference\n",
    "        \n",
    "        hello.phone_number = phone_number\n",
    "        hello.email_id = email_id\n",
    "        hello.student_id = student_id\n",
    "        \n",
    "    \n",
    "    def return_student_details(hello):  # function defined in class is also known as method or class method\n",
    "        return hello.phone_number, hello.email_id, hello.student_id"
   ]
  },
  {
   "cell_type": "code",
   "execution_count": 28,
   "id": "8366036d-4763-4f15-965a-e5bdb9bc6ba4",
   "metadata": {},
   "outputs": [],
   "source": [
    "mohan = pwskills2(9857583765 , \"mohan@gmail.com\" , 911)"
   ]
  },
  {
   "cell_type": "code",
   "execution_count": 29,
   "id": "37c2deae-9c8f-474e-861b-8f6dfe98224f",
   "metadata": {},
   "outputs": [
    {
     "data": {
      "text/plain": [
       "9857583765"
      ]
     },
     "execution_count": 29,
     "metadata": {},
     "output_type": "execute_result"
    }
   ],
   "source": [
    "mohan.phone_number"
   ]
  },
  {
   "cell_type": "code",
   "execution_count": 30,
   "id": "5fa796d9-0936-409e-b9b7-2a28ae2aa6a2",
   "metadata": {},
   "outputs": [
    {
     "data": {
      "text/plain": [
       "'mohan@gmail.com'"
      ]
     },
     "execution_count": 30,
     "metadata": {},
     "output_type": "execute_result"
    }
   ],
   "source": [
    "mohan.email_id"
   ]
  },
  {
   "cell_type": "code",
   "execution_count": 31,
   "id": "c32b0f40-ab93-4ec0-a514-dd42c4a319a7",
   "metadata": {},
   "outputs": [
    {
     "data": {
      "text/plain": [
       "911"
      ]
     },
     "execution_count": 31,
     "metadata": {},
     "output_type": "execute_result"
    }
   ],
   "source": [
    "mohan.student_id"
   ]
  },
  {
   "cell_type": "code",
   "execution_count": 32,
   "id": "e4f43915-ff59-40c1-af6e-e6b30e86781f",
   "metadata": {},
   "outputs": [
    {
     "data": {
      "text/plain": [
       "(9857583765, 'mohan@gmail.com', 911)"
      ]
     },
     "execution_count": 32,
     "metadata": {},
     "output_type": "execute_result"
    }
   ],
   "source": [
    "mohan.return_student_details()"
   ]
  },
  {
   "cell_type": "code",
   "execution_count": 33,
   "id": "12ec24ea-228c-436d-97b7-0f0c8eb9cda3",
   "metadata": {},
   "outputs": [],
   "source": [
    "class pwskills3:\n",
    "    \n",
    "    def __init__(hello, phone_number, email_id, student_id): # __init__ is constructor which is accepting values for object/instance/reference\n",
    "        \n",
    "        hello.phone = phone_number\n",
    "        hello.email = email_id\n",
    "        hello.student_ID = student_id\n",
    "        \n",
    "    \n",
    "    def return_student_details(hello):  # function defined in class is also known as method or class method\n",
    "        return hello.phone, hello.email, hello.student_ID\n",
    "\n",
    "# object is called by whatever name (attribute) given on left side of = and not right side\n",
    "# i.e hello.phone, self.phone, etc\n",
    "# if right side value is used as attributeit returns error"
   ]
  },
  {
   "cell_type": "code",
   "execution_count": 34,
   "id": "be7d2bb5-f00f-436e-b200-0ce95a6257af",
   "metadata": {},
   "outputs": [],
   "source": [
    "jogan = pwskills3(8974867796, \"jogan@gmail,com\", 100)"
   ]
  },
  {
   "cell_type": "code",
   "execution_count": 35,
   "id": "1ca2026d-6718-47af-8008-c3868abd8e2d",
   "metadata": {},
   "outputs": [
    {
     "ename": "AttributeError",
     "evalue": "'pwskills3' object has no attribute 'phone_number'",
     "output_type": "error",
     "traceback": [
      "\u001b[0;31m---------------------------------------------------------------------------\u001b[0m",
      "\u001b[0;31mAttributeError\u001b[0m                            Traceback (most recent call last)",
      "Cell \u001b[0;32mIn[35], line 1\u001b[0m\n\u001b[0;32m----> 1\u001b[0m \u001b[43mjogan\u001b[49m\u001b[38;5;241;43m.\u001b[39;49m\u001b[43mphone_number\u001b[49m \u001b[38;5;66;03m# if right side value is used as attribute it returns error\u001b[39;00m\n",
      "\u001b[0;31mAttributeError\u001b[0m: 'pwskills3' object has no attribute 'phone_number'"
     ]
    }
   ],
   "source": [
    "jogan.phone_number # if right side value is used as attribute it returns error"
   ]
  },
  {
   "cell_type": "code",
   "execution_count": 36,
   "id": "3839d792-87b2-426d-8f53-6df2e2351ff3",
   "metadata": {},
   "outputs": [
    {
     "data": {
      "text/plain": [
       "8974867796"
      ]
     },
     "execution_count": 36,
     "metadata": {},
     "output_type": "execute_result"
    }
   ],
   "source": [
    "jogan.phone"
   ]
  },
  {
   "cell_type": "code",
   "execution_count": 37,
   "id": "afb07188-b689-4416-a694-4a578f872a6b",
   "metadata": {},
   "outputs": [
    {
     "data": {
      "text/plain": [
       "'jogan@gmail,com'"
      ]
     },
     "execution_count": 37,
     "metadata": {},
     "output_type": "execute_result"
    }
   ],
   "source": [
    "jogan.email"
   ]
  },
  {
   "cell_type": "code",
   "execution_count": 38,
   "id": "d93167c0-860a-4d38-8c4c-cbb2070d6706",
   "metadata": {},
   "outputs": [
    {
     "data": {
      "text/plain": [
       "100"
      ]
     },
     "execution_count": 38,
     "metadata": {},
     "output_type": "execute_result"
    }
   ],
   "source": [
    "jogan.student_ID"
   ]
  },
  {
   "cell_type": "code",
   "execution_count": 39,
   "id": "f46020e4-cf81-4790-b77f-b79077633735",
   "metadata": {},
   "outputs": [
    {
     "data": {
      "text/plain": [
       "(8974867796, 'jogan@gmail,com', 100)"
      ]
     },
     "execution_count": 39,
     "metadata": {},
     "output_type": "execute_result"
    }
   ],
   "source": [
    "jogan.return_student_details()"
   ]
  },
  {
   "cell_type": "code",
   "execution_count": null,
   "id": "325f9ee3-19a8-4b2a-ad3c-35d27c465746",
   "metadata": {},
   "outputs": [],
   "source": []
  }
 ],
 "metadata": {
  "kernelspec": {
   "display_name": "Python 3 (ipykernel)",
   "language": "python",
   "name": "python3"
  },
  "language_info": {
   "codemirror_mode": {
    "name": "ipython",
    "version": 3
   },
   "file_extension": ".py",
   "mimetype": "text/x-python",
   "name": "python",
   "nbconvert_exporter": "python",
   "pygments_lexer": "ipython3",
   "version": "3.10.8"
  }
 },
 "nbformat": 4,
 "nbformat_minor": 5
}
