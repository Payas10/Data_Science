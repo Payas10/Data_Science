{
 "cells": [
  {
   "cell_type": "markdown",
   "id": "aa138780-1b47-464d-9cbd-34f0e7b4e355",
   "metadata": {
    "tags": []
   },
   "source": [
    "# Functions 2"
   ]
  },
  {
   "cell_type": "markdown",
   "id": "6b23444d-275c-47bb-86ea-083045596766",
   "metadata": {
    "tags": []
   },
   "source": [
    "## Lambda function\n",
    "\n",
    "* can be considered as shorthand for full function\n",
    "* creates an anonymous or adhoc function\n",
    "* Syntax - lambda input/arguement : output/condition"
   ]
  },
  {
   "cell_type": "code",
   "execution_count": 1,
   "id": "a972c9c9-f57c-4e5a-a1da-da2709459c1a",
   "metadata": {},
   "outputs": [],
   "source": [
    "# function to return power calculation of a number\n",
    "\n",
    "n = 3\n",
    "p = 2"
   ]
  },
  {
   "cell_type": "code",
   "execution_count": 2,
   "id": "45a413bd-1fed-4ba6-9786-01e0742b746e",
   "metadata": {},
   "outputs": [],
   "source": [
    "def test(n,p):\n",
    "    return n**p"
   ]
  },
  {
   "cell_type": "code",
   "execution_count": 3,
   "id": "db81e98d-4d60-413a-8f3d-c17cc857e788",
   "metadata": {},
   "outputs": [
    {
     "data": {
      "text/plain": [
       "9"
      ]
     },
     "execution_count": 3,
     "metadata": {},
     "output_type": "execute_result"
    }
   ],
   "source": [
    "test(3,2)"
   ]
  },
  {
   "cell_type": "code",
   "execution_count": 4,
   "id": "d36b0616-fffd-441b-881d-62aa1c57b995",
   "metadata": {},
   "outputs": [
    {
     "data": {
      "text/plain": [
       "6561"
      ]
     },
     "execution_count": 4,
     "metadata": {},
     "output_type": "execute_result"
    }
   ],
   "source": [
    "test(9,4)"
   ]
  },
  {
   "cell_type": "code",
   "execution_count": 5,
   "id": "e3a19317-7bcb-496a-92e4-193cbc8d0728",
   "metadata": {},
   "outputs": [
    {
     "data": {
      "text/plain": [
       "<function __main__.<lambda>(n, p)>"
      ]
     },
     "execution_count": 5,
     "metadata": {},
     "output_type": "execute_result"
    }
   ],
   "source": [
    "# lambda fn calculate power of a number\n",
    "\n",
    "lambda n,p : n**p"
   ]
  },
  {
   "cell_type": "code",
   "execution_count": 6,
   "id": "c070a70c-50b4-436d-b226-55c98077d88e",
   "metadata": {},
   "outputs": [],
   "source": [
    "a = lambda n,p : n**p"
   ]
  },
  {
   "cell_type": "code",
   "execution_count": 7,
   "id": "5d515764-a017-4673-a1ad-067867913684",
   "metadata": {},
   "outputs": [
    {
     "data": {
      "text/plain": [
       "9"
      ]
     },
     "execution_count": 7,
     "metadata": {},
     "output_type": "execute_result"
    }
   ],
   "source": [
    "a(3,2)"
   ]
  },
  {
   "cell_type": "code",
   "execution_count": 8,
   "id": "18458fcc-c57f-48ad-b270-b460f66eb86b",
   "metadata": {},
   "outputs": [
    {
     "data": {
      "text/plain": [
       "6561"
      ]
     },
     "execution_count": 8,
     "metadata": {},
     "output_type": "execute_result"
    }
   ],
   "source": [
    "a(9,4)"
   ]
  },
  {
   "cell_type": "code",
   "execution_count": 9,
   "id": "80cb7d7d-32e3-4b86-a72b-ccf3945dcede",
   "metadata": {},
   "outputs": [],
   "source": [
    "add = lambda x,y : x + y"
   ]
  },
  {
   "cell_type": "code",
   "execution_count": 10,
   "id": "f1ab0aeb-6cb9-4d26-a8f4-8cfd24e519bc",
   "metadata": {},
   "outputs": [
    {
     "data": {
      "text/plain": [
       "268"
      ]
     },
     "execution_count": 10,
     "metadata": {},
     "output_type": "execute_result"
    }
   ],
   "source": [
    "add(234,34)"
   ]
  },
  {
   "cell_type": "code",
   "execution_count": 11,
   "id": "51940cff-3a90-4525-a1e9-a377ceb7ed65",
   "metadata": {},
   "outputs": [],
   "source": [
    "c_to_f = lambda c : (9/5)*c+32"
   ]
  },
  {
   "cell_type": "code",
   "execution_count": 12,
   "id": "f2f9d5d8-c817-4c0f-80a1-eb3f1506f371",
   "metadata": {},
   "outputs": [
    {
     "data": {
      "text/plain": [
       "93.2"
      ]
     },
     "execution_count": 12,
     "metadata": {},
     "output_type": "execute_result"
    }
   ],
   "source": [
    "c_to_f(34)"
   ]
  },
  {
   "cell_type": "code",
   "execution_count": 13,
   "id": "0c8cb1ef-1db8-4067-8e0e-d7c60aaaecbb",
   "metadata": {},
   "outputs": [],
   "source": [
    "# max out of two nos.\n",
    "\n",
    "max_two = lambda x,y : x if x > y else y"
   ]
  },
  {
   "cell_type": "code",
   "execution_count": 14,
   "id": "71f9a414-d83a-49e5-bf7a-70e8d8b91068",
   "metadata": {},
   "outputs": [
    {
     "data": {
      "text/plain": [
       "56"
      ]
     },
     "execution_count": 14,
     "metadata": {},
     "output_type": "execute_result"
    }
   ],
   "source": [
    "max_two(4, 56)"
   ]
  },
  {
   "cell_type": "code",
   "execution_count": 15,
   "id": "6a600c82-cd75-4970-b831-434975b4327c",
   "metadata": {},
   "outputs": [
    {
     "data": {
      "text/plain": [
       "39"
      ]
     },
     "execution_count": 15,
     "metadata": {},
     "output_type": "execute_result"
    }
   ],
   "source": [
    "max_two(39, 5)"
   ]
  },
  {
   "cell_type": "code",
   "execution_count": 16,
   "id": "eb76fbb2-8027-4d06-83e2-52b8940ce146",
   "metadata": {},
   "outputs": [],
   "source": [
    "s = \"pwskills\""
   ]
  },
  {
   "cell_type": "code",
   "execution_count": 17,
   "id": "ff99407c-91ca-4c51-8471-eab1bafd0807",
   "metadata": {},
   "outputs": [],
   "source": [
    "len_st = lambda s : len(s)"
   ]
  },
  {
   "cell_type": "code",
   "execution_count": 18,
   "id": "fc0c9975-e72a-4c9c-8c31-cf73377fde33",
   "metadata": {},
   "outputs": [
    {
     "data": {
      "text/plain": [
       "8"
      ]
     },
     "execution_count": 18,
     "metadata": {},
     "output_type": "execute_result"
    }
   ],
   "source": [
    "len_st(s)"
   ]
  },
  {
   "cell_type": "markdown",
   "id": "3adca6fc-35f0-48d9-b4a8-fe0c834015a8",
   "metadata": {
    "tags": []
   },
   "source": [
    "## Map function\n",
    "\n",
    "* applies a function to each element in a list and returns a list of the results\n",
    "* Syntax - map(func , iterable)"
   ]
  },
  {
   "cell_type": "code",
   "execution_count": 19,
   "id": "6c1e1389-3e8a-4683-8a54-795c69f110a2",
   "metadata": {},
   "outputs": [],
   "source": [
    "l = [1,2,3,4,45,5]"
   ]
  },
  {
   "cell_type": "code",
   "execution_count": 20,
   "id": "6b306124-5ee0-4855-9c21-7c5d096ce9f7",
   "metadata": {},
   "outputs": [],
   "source": [
    "def test(a):\n",
    "    l1 = []\n",
    "    for i in a:\n",
    "        l1.append(i**2)\n",
    "    return l1        "
   ]
  },
  {
   "cell_type": "code",
   "execution_count": 21,
   "id": "e416aaab-fe7f-4a84-b7a7-97d7ff5034f7",
   "metadata": {},
   "outputs": [
    {
     "data": {
      "text/plain": [
       "[1, 4, 9, 16, 2025, 25]"
      ]
     },
     "execution_count": 21,
     "metadata": {},
     "output_type": "execute_result"
    }
   ],
   "source": [
    "test(l)"
   ]
  },
  {
   "cell_type": "code",
   "execution_count": 22,
   "id": "ab1644b2-cf87-4b97-ae6d-0d7ac878d4e9",
   "metadata": {},
   "outputs": [],
   "source": [
    "def sq(x):\n",
    "    return x**2"
   ]
  },
  {
   "cell_type": "code",
   "execution_count": 23,
   "id": "e07074d2-13bd-4dbf-9f95-ee917d5ba20c",
   "metadata": {},
   "outputs": [
    {
     "data": {
      "text/plain": [
       "<map at 0x7fa7c85fb0d0>"
      ]
     },
     "execution_count": 23,
     "metadata": {},
     "output_type": "execute_result"
    }
   ],
   "source": [
    "map(sq , l)"
   ]
  },
  {
   "cell_type": "code",
   "execution_count": 24,
   "id": "6f484362-f325-4bdd-bf74-717c1c6469b1",
   "metadata": {},
   "outputs": [
    {
     "data": {
      "text/plain": [
       "[1, 4, 9, 16, 2025, 25]"
      ]
     },
     "execution_count": 24,
     "metadata": {},
     "output_type": "execute_result"
    }
   ],
   "source": [
    "list(map(sq, l))"
   ]
  },
  {
   "cell_type": "code",
   "execution_count": 25,
   "id": "3b3d6f38-271d-4a5f-8bfd-2a3a8b2e6a8f",
   "metadata": {},
   "outputs": [
    {
     "data": {
      "text/plain": [
       "[1, 4, 9, 16, 2025, 25]"
      ]
     },
     "execution_count": 25,
     "metadata": {},
     "output_type": "execute_result"
    }
   ],
   "source": [
    "list(map(lambda x : x**2 , l)) "
   ]
  },
  {
   "cell_type": "code",
   "execution_count": 26,
   "id": "c7c6c4d4-b23e-4f73-907f-1164d42ae332",
   "metadata": {},
   "outputs": [
    {
     "data": {
      "text/plain": [
       "[11, 12, 13, 14, 55, 15]"
      ]
     },
     "execution_count": 26,
     "metadata": {},
     "output_type": "execute_result"
    }
   ],
   "source": [
    "list(map(lambda x : x+10 , l))"
   ]
  },
  {
   "cell_type": "code",
   "execution_count": 27,
   "id": "b4511191-5ebc-4515-a9da-9692ee259612",
   "metadata": {},
   "outputs": [
    {
     "data": {
      "text/plain": [
       "['1', '2', '3', '4', '45', '5']"
      ]
     },
     "execution_count": 27,
     "metadata": {},
     "output_type": "execute_result"
    }
   ],
   "source": [
    "list(map(lambda x : str(x) , l))"
   ]
  },
  {
   "cell_type": "code",
   "execution_count": 28,
   "id": "a0b8225e-5f32-4163-a7d7-8d9f90b230f8",
   "metadata": {},
   "outputs": [],
   "source": [
    "l1 = [1,2,3,4,5]\n",
    "l2 = [6,7,8,9,10]"
   ]
  },
  {
   "cell_type": "code",
   "execution_count": 29,
   "id": "e78eb4cf-f201-4151-83e9-30ffd763848c",
   "metadata": {},
   "outputs": [
    {
     "data": {
      "text/plain": [
       "[7, 9, 11, 13, 15]"
      ]
     },
     "execution_count": 29,
     "metadata": {},
     "output_type": "execute_result"
    }
   ],
   "source": [
    "list(map(lambda x,y : x + y , l1,l2))"
   ]
  },
  {
   "cell_type": "code",
   "execution_count": 30,
   "id": "a2b3a4ba-2692-4b54-88b5-668f1f72a47c",
   "metadata": {},
   "outputs": [],
   "source": [
    "f = lambda x,y : x+y"
   ]
  },
  {
   "cell_type": "code",
   "execution_count": 34,
   "id": "3ea510c7-f21b-4739-9472-2592074774f9",
   "metadata": {},
   "outputs": [
    {
     "data": {
      "text/plain": [
       "[7, 9, 11, 13, 15]"
      ]
     },
     "execution_count": 34,
     "metadata": {},
     "output_type": "execute_result"
    }
   ],
   "source": [
    "list(map(f , l1,l2))"
   ]
  },
  {
   "cell_type": "code",
   "execution_count": 35,
   "id": "3eb8f46b-3aed-4e9c-8074-d66b3c03e5e1",
   "metadata": {},
   "outputs": [],
   "source": [
    "s = \"pwskills\""
   ]
  },
  {
   "cell_type": "code",
   "execution_count": 36,
   "id": "0932e7b0-dd9a-45a6-8b1f-f3c3297912ee",
   "metadata": {},
   "outputs": [
    {
     "data": {
      "text/plain": [
       "['P', 'W', 'S', 'K', 'I', 'L', 'L', 'S']"
      ]
     },
     "execution_count": 36,
     "metadata": {},
     "output_type": "execute_result"
    }
   ],
   "source": [
    "list(map(lambda x : x.upper() , s))"
   ]
  },
  {
   "cell_type": "markdown",
   "id": "f1dba8ae-37cb-46df-b00d-705ab4a9c5ea",
   "metadata": {
    "tags": []
   },
   "source": [
    "## Reduce function\n",
    "\n",
    "* applies a function cumulatively to elements of an iterable, from left to right\n",
    "* to use reduce(), first import it from functools library\n",
    "* code to import reduce() :- from functools import reduce\n",
    "* Syntax - reduce(fn , iterable)"
   ]
  },
  {
   "cell_type": "code",
   "execution_count": 37,
   "id": "b57e6678-bb1d-4506-80b8-e60cd3bfc5ab",
   "metadata": {},
   "outputs": [],
   "source": [
    "from functools import reduce"
   ]
  },
  {
   "cell_type": "code",
   "execution_count": 38,
   "id": "b36880b9-3469-4477-9db0-eec55052b256",
   "metadata": {},
   "outputs": [],
   "source": [
    "l = [1,2,3,4,5,4]"
   ]
  },
  {
   "cell_type": "code",
   "execution_count": 39,
   "id": "55f09c39-9d6a-4a77-9c69-59b4f713f32a",
   "metadata": {},
   "outputs": [
    {
     "data": {
      "text/plain": [
       "19"
      ]
     },
     "execution_count": 39,
     "metadata": {},
     "output_type": "execute_result"
    }
   ],
   "source": [
    "reduce(lambda x,y : x + y, l)"
   ]
  },
  {
   "cell_type": "code",
   "execution_count": 40,
   "id": "cb6b2743-1106-4ebb-856d-bc6e1afb78e2",
   "metadata": {},
   "outputs": [],
   "source": [
    "def add(x,y):\n",
    "    return x + y"
   ]
  },
  {
   "cell_type": "code",
   "execution_count": 42,
   "id": "81964785-fc7d-4994-85e6-3be61bf1945e",
   "metadata": {},
   "outputs": [
    {
     "data": {
      "text/plain": [
       "19"
      ]
     },
     "execution_count": 42,
     "metadata": {},
     "output_type": "execute_result"
    }
   ],
   "source": [
    "reduce(add, l)"
   ]
  },
  {
   "cell_type": "code",
   "execution_count": 44,
   "id": "44fca110-dd69-4b43-be37-79697a468220",
   "metadata": {},
   "outputs": [
    {
     "ename": "TypeError",
     "evalue": "<lambda>() missing 1 required positional argument: 'z'",
     "output_type": "error",
     "traceback": [
      "\u001b[0;31m---------------------------------------------------------------------------\u001b[0m",
      "\u001b[0;31mTypeError\u001b[0m                                 Traceback (most recent call last)",
      "Cell \u001b[0;32mIn[44], line 1\u001b[0m\n\u001b[0;32m----> 1\u001b[0m \u001b[43mreduce\u001b[49m\u001b[43m(\u001b[49m\u001b[38;5;28;43;01mlambda\u001b[39;49;00m\u001b[43m \u001b[49m\u001b[43mx\u001b[49m\u001b[43m,\u001b[49m\u001b[43my\u001b[49m\u001b[43m,\u001b[49m\u001b[43mz\u001b[49m\u001b[43m \u001b[49m\u001b[43m:\u001b[49m\u001b[43m \u001b[49m\u001b[43mx\u001b[49m\u001b[43m \u001b[49m\u001b[38;5;241;43m+\u001b[39;49m\u001b[43m \u001b[49m\u001b[43my\u001b[49m\u001b[43m \u001b[49m\u001b[38;5;241;43m+\u001b[39;49m\u001b[43m \u001b[49m\u001b[43mz\u001b[49m\u001b[43m \u001b[49m\u001b[43m,\u001b[49m\u001b[43m \u001b[49m\u001b[43ml\u001b[49m\u001b[43m)\u001b[49m\n\u001b[1;32m      3\u001b[0m \u001b[38;5;66;03m# passing third varlibale in lambda (z) will return error\u001b[39;00m\n\u001b[1;32m      4\u001b[0m \u001b[38;5;66;03m# reduce would accept only two variable to be passed in lambda\u001b[39;00m\n",
      "\u001b[0;31mTypeError\u001b[0m: <lambda>() missing 1 required positional argument: 'z'"
     ]
    }
   ],
   "source": [
    "reduce(lambda x,y,z : x + y + z , l)\n",
    "\n",
    "# passing third varlibale in lambda (z) will return error\n",
    "# reduce would accept only two variable to be passed in lambda"
   ]
  },
  {
   "cell_type": "code",
   "execution_count": 45,
   "id": "acaae585-be96-4ac4-a9f9-fc1da7e28b3e",
   "metadata": {},
   "outputs": [
    {
     "data": {
      "text/plain": [
       "[1, 2, 3, 4, 5, 4]"
      ]
     },
     "execution_count": 45,
     "metadata": {},
     "output_type": "execute_result"
    }
   ],
   "source": [
    "l"
   ]
  },
  {
   "cell_type": "code",
   "execution_count": 48,
   "id": "95e6ae6a-3186-4671-894e-adde1717aa6e",
   "metadata": {},
   "outputs": [
    {
     "ename": "TypeError",
     "evalue": "reduce() of empty iterable with no initial value",
     "output_type": "error",
     "traceback": [
      "\u001b[0;31m---------------------------------------------------------------------------\u001b[0m",
      "\u001b[0;31mTypeError\u001b[0m                                 Traceback (most recent call last)",
      "Cell \u001b[0;32mIn[48], line 1\u001b[0m\n\u001b[0;32m----> 1\u001b[0m \u001b[43mreduce\u001b[49m\u001b[43m(\u001b[49m\u001b[38;5;28;43;01mlambda\u001b[39;49;00m\u001b[43m \u001b[49m\u001b[43mx\u001b[49m\u001b[43m,\u001b[49m\u001b[43my\u001b[49m\u001b[43m \u001b[49m\u001b[43m:\u001b[49m\u001b[43m \u001b[49m\u001b[43mx\u001b[49m\u001b[43m \u001b[49m\u001b[38;5;241;43m+\u001b[39;49m\u001b[43m \u001b[49m\u001b[43my\u001b[49m\u001b[43m \u001b[49m\u001b[43m,\u001b[49m\u001b[43m \u001b[49m\u001b[43m[\u001b[49m\u001b[43m]\u001b[49m\u001b[43m)\u001b[49m \u001b[38;5;66;03m# reduce do not accept empty iterable, atleast one value should be there\u001b[39;00m\n",
      "\u001b[0;31mTypeError\u001b[0m: reduce() of empty iterable with no initial value"
     ]
    }
   ],
   "source": [
    "reduce(lambda x,y : x + y , []) # reduce do not accept empty iterable, atleast one value should be there"
   ]
  },
  {
   "cell_type": "code",
   "execution_count": 49,
   "id": "872f92ce-1664-4d39-b0fe-c1635a523545",
   "metadata": {},
   "outputs": [
    {
     "data": {
      "text/plain": [
       "1"
      ]
     },
     "execution_count": 49,
     "metadata": {},
     "output_type": "execute_result"
    }
   ],
   "source": [
    "reduce(lambda x,y : x + y , [1])"
   ]
  },
  {
   "cell_type": "code",
   "execution_count": 50,
   "id": "ca150d66-59f2-4e82-816d-53616e7e2585",
   "metadata": {},
   "outputs": [
    {
     "data": {
      "text/plain": [
       "1"
      ]
     },
     "execution_count": 50,
     "metadata": {},
     "output_type": "execute_result"
    }
   ],
   "source": [
    "reduce(lambda x,y : x * y, [1])"
   ]
  },
  {
   "cell_type": "code",
   "execution_count": 51,
   "id": "29b8719e-90c0-45a3-893e-cc07ed5bd65a",
   "metadata": {},
   "outputs": [
    {
     "data": {
      "text/plain": [
       "480"
      ]
     },
     "execution_count": 51,
     "metadata": {},
     "output_type": "execute_result"
    }
   ],
   "source": [
    "reduce(lambda x,y : x * y, l)"
   ]
  },
  {
   "cell_type": "code",
   "execution_count": 53,
   "id": "a545be24-fd50-4e5c-b999-3f0b4ca7b501",
   "metadata": {},
   "outputs": [
    {
     "data": {
      "text/plain": [
       "5"
      ]
     },
     "execution_count": 53,
     "metadata": {},
     "output_type": "execute_result"
    }
   ],
   "source": [
    "# to return maximum value from list\n",
    "reduce(lambda x,y : x if x > y else y, l)"
   ]
  },
  {
   "cell_type": "code",
   "execution_count": 54,
   "id": "d92a497a-b144-40d7-ac69-e43700294899",
   "metadata": {},
   "outputs": [
    {
     "data": {
      "text/plain": [
       "[1, 2, 3, 4, 5, 4]"
      ]
     },
     "execution_count": 54,
     "metadata": {},
     "output_type": "execute_result"
    }
   ],
   "source": [
    "l"
   ]
  },
  {
   "cell_type": "markdown",
   "id": "acaa6851-6b14-475e-8f89-d72a737394fc",
   "metadata": {
    "tags": []
   },
   "source": [
    "## Filter function\n",
    "\n",
    "* returns a filtered list of elements that satisfy a condition\n",
    "* Syntax - filter(fn , iterable)"
   ]
  },
  {
   "cell_type": "code",
   "execution_count": 55,
   "id": "0d24b9e5-8ba5-4d0f-9990-80045a3a5584",
   "metadata": {},
   "outputs": [
    {
     "data": {
      "text/plain": [
       "[1, 2, 3, 4, 5, 4]"
      ]
     },
     "execution_count": 55,
     "metadata": {},
     "output_type": "execute_result"
    }
   ],
   "source": [
    "l"
   ]
  },
  {
   "cell_type": "code",
   "execution_count": 56,
   "id": "3bacac56-3088-44ad-9c6f-4e2589e01c45",
   "metadata": {},
   "outputs": [
    {
     "data": {
      "text/plain": [
       "<filter at 0x7fa7c8326770>"
      ]
     },
     "execution_count": 56,
     "metadata": {},
     "output_type": "execute_result"
    }
   ],
   "source": [
    "# return list of even nos.\n",
    "filter(lambda x : x % 2 == 0, l)"
   ]
  },
  {
   "cell_type": "code",
   "execution_count": 57,
   "id": "fdc45c4d-59a3-48fd-b05b-00d3da4439d0",
   "metadata": {},
   "outputs": [
    {
     "data": {
      "text/plain": [
       "[2, 4, 4]"
      ]
     },
     "execution_count": 57,
     "metadata": {},
     "output_type": "execute_result"
    }
   ],
   "source": [
    "# return list of even nos.\n",
    "list(filter(lambda x : x % 2 == 0, l))"
   ]
  },
  {
   "cell_type": "code",
   "execution_count": 58,
   "id": "e76dc943-8a88-4d02-b9ff-c714ff320f01",
   "metadata": {},
   "outputs": [
    {
     "data": {
      "text/plain": [
       "[1, 3, 5]"
      ]
     },
     "execution_count": 58,
     "metadata": {},
     "output_type": "execute_result"
    }
   ],
   "source": [
    "# return list of odd nos.\n",
    "list(filter(lambda x : x % 2 != 0, l))"
   ]
  },
  {
   "cell_type": "code",
   "execution_count": 59,
   "id": "7b3ed8bc-98d8-46a3-9ae6-642e43b8c4ba",
   "metadata": {},
   "outputs": [],
   "source": [
    "l1 = [-2,4,5,6,-3,-6,-7]"
   ]
  },
  {
   "cell_type": "code",
   "execution_count": 60,
   "id": "c78568a5-03a5-45fb-9c98-c764c3315765",
   "metadata": {},
   "outputs": [
    {
     "data": {
      "text/plain": [
       "[-2, -3, -6, -7]"
      ]
     },
     "execution_count": 60,
     "metadata": {},
     "output_type": "execute_result"
    }
   ],
   "source": [
    "# return list of negative nos.\n",
    "list(filter(lambda x : x < 0, l1))"
   ]
  },
  {
   "cell_type": "code",
   "execution_count": 63,
   "id": "0b3e57a0-bd44-4ecf-963e-fa5f46e25cbe",
   "metadata": {},
   "outputs": [
    {
     "data": {
      "text/plain": [
       "[4, 5, 6]"
      ]
     },
     "execution_count": 63,
     "metadata": {},
     "output_type": "execute_result"
    }
   ],
   "source": [
    "# return list of positive nos.\n",
    "list(filter(lambda x : x > 0, l1))"
   ]
  },
  {
   "cell_type": "code",
   "execution_count": 65,
   "id": "a2f041a1-3fea-42bc-a044-0c47a9bdb46b",
   "metadata": {},
   "outputs": [],
   "source": [
    "l2 = [\"hello\" , \"pwskills\", \"world\", \"bangalore\", \"krishna\", \"shiva\"]"
   ]
  },
  {
   "cell_type": "code",
   "execution_count": 67,
   "id": "aaae136f-c8b2-4c10-9e87-d398b87e6af3",
   "metadata": {},
   "outputs": [
    {
     "data": {
      "text/plain": [
       "['hello', 'world', 'shiva']"
      ]
     },
     "execution_count": 67,
     "metadata": {},
     "output_type": "execute_result"
    }
   ],
   "source": [
    "# return list of strings with length less than 6\n",
    "list(filter(lambda x : len(x) < 6 , l2))"
   ]
  },
  {
   "cell_type": "code",
   "execution_count": 68,
   "id": "58b23f4d-cf46-4308-8b3e-b8261551257d",
   "metadata": {},
   "outputs": [
    {
     "data": {
      "text/plain": [
       "['pwskills', 'bangalore', 'krishna']"
      ]
     },
     "execution_count": 68,
     "metadata": {},
     "output_type": "execute_result"
    }
   ],
   "source": [
    "# return list of string with length more than 6\n",
    "list(filter(lambda x : len(x) > 6, l2))"
   ]
  },
  {
   "cell_type": "code",
   "execution_count": null,
   "id": "254fd9ab-eadc-46cf-8540-6c241329d25c",
   "metadata": {},
   "outputs": [],
   "source": []
  }
 ],
 "metadata": {
  "kernelspec": {
   "display_name": "Python 3 (ipykernel)",
   "language": "python",
   "name": "python3"
  },
  "language_info": {
   "codemirror_mode": {
    "name": "ipython",
    "version": 3
   },
   "file_extension": ".py",
   "mimetype": "text/x-python",
   "name": "python",
   "nbconvert_exporter": "python",
   "pygments_lexer": "ipython3",
   "version": "3.10.8"
  }
 },
 "nbformat": 4,
 "nbformat_minor": 5
}
