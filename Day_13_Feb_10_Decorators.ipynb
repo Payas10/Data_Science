{
 "cells": [
  {
   "cell_type": "markdown",
   "id": "44f43c77-95ee-48b0-8125-decdb2a203a6",
   "metadata": {
    "jp-MarkdownHeadingCollapsed": true,
    "tags": []
   },
   "source": [
    "# Decorator\n",
    "\n",
    "* These are used to repeat a code in the functions/methods without writing it inside that particular function.\n",
    "* let suppose we have to show execution time of every function. In this case we will not write the code everytimr to show execution time.\n",
    "* we will create a decorator with the code to show execution time. and we can call this *Decorator* within multiple functions to show their respective execution time."
   ]
  },
  {
   "cell_type": "code",
   "execution_count": 5,
   "id": "66cc93a1-c409-4f26-a8f9-446c0c43f51f",
   "metadata": {},
   "outputs": [],
   "source": [
    "def test():\n",
    "    print(\"this is the start of the function\")\n",
    "    print(4+5)\n",
    "    print(\"this is the end of the function\")"
   ]
  },
  {
   "cell_type": "code",
   "execution_count": 6,
   "id": "bff85cae-df1d-410c-8a3f-cc4b0c037c6c",
   "metadata": {},
   "outputs": [
    {
     "name": "stdout",
     "output_type": "stream",
     "text": [
      "this is the start of the function\n",
      "9\n",
      "this is the end of the function\n"
     ]
    }
   ],
   "source": [
    "test()"
   ]
  },
  {
   "cell_type": "code",
   "execution_count": 18,
   "id": "0b386c18-30c8-49ce-bba2-2d2fcc2e4478",
   "metadata": {},
   "outputs": [],
   "source": [
    "# Let say we want to print the start and end line for every function\n",
    "# i.e to print \"this is the start of the function\" and \"this is the end of the function\" with every function.\n",
    "# to achive this we will not write these line everytime\n",
    "# instead we will create decorator\n",
    "\n",
    "def deco(func): # creating a decorator\n",
    "    def inner_deco():\n",
    "        print(\"this is the start of the function\")\n",
    "        func()\n",
    "        print(\"this is the end of the function\")\n",
    "    return inner_deco  # only returning innner function not calling the function"
   ]
  },
  {
   "cell_type": "code",
   "execution_count": 19,
   "id": "fd8d793b-c32d-47bf-9d9f-7307433dfbe1",
   "metadata": {},
   "outputs": [],
   "source": [
    "@deco    # calling the decorator\n",
    "def test1():   # defining another functon after decorator calling\n",
    "    print(4+5)"
   ]
  },
  {
   "cell_type": "code",
   "execution_count": 21,
   "id": "4aa015d9-e50a-4a26-97c5-c925c16e0270",
   "metadata": {},
   "outputs": [
    {
     "name": "stdout",
     "output_type": "stream",
     "text": [
      "this is the start of the function\n",
      "9\n",
      "this is the end of the function\n"
     ]
    }
   ],
   "source": [
    "test1() # inner_deco() will be called at the time of calling test1()"
   ]
  },
  {
   "cell_type": "code",
   "execution_count": 23,
   "id": "7eb16b85-113b-4091-9de6-989fba276709",
   "metadata": {},
   "outputs": [],
   "source": [
    "def deco1(func): # creating a decorator\n",
    "    def inner_deco1():\n",
    "        print(\"this is the start of the function\")\n",
    "        func()\n",
    "        print(\"this is the end of the function\")\n",
    "    return inner_deco1()  # calling the function"
   ]
  },
  {
   "cell_type": "code",
   "execution_count": 26,
   "id": "f247b0dd-e042-439d-9024-6f23930e1f1f",
   "metadata": {},
   "outputs": [
    {
     "name": "stdout",
     "output_type": "stream",
     "text": [
      "this is the start of the function\n",
      "10\n",
      "this is the end of the function\n"
     ]
    }
   ],
   "source": [
    "@deco1\n",
    "def test2():\n",
    "    print(4+6)\n",
    "    \n",
    "# inner_deco1() will be called while defining the test2()"
   ]
  },
  {
   "cell_type": "code",
   "execution_count": 32,
   "id": "3bdcdadd-0199-4086-96ed-cd5434be675e",
   "metadata": {},
   "outputs": [],
   "source": [
    "# decorator to show execution time of every function\n",
    "\n",
    "import time\n",
    "\n",
    "def timer_test(func):\n",
    "    def timer_test_inner():\n",
    "        start = time.time()\n",
    "        func()\n",
    "        end = time.time()\n",
    "        print(end - start, \"seconds\")\n",
    "    return timer_test_inner"
   ]
  },
  {
   "cell_type": "code",
   "execution_count": 33,
   "id": "84ae3ec5-9bac-4773-9ad1-37fbcd5e77ef",
   "metadata": {},
   "outputs": [],
   "source": [
    "@timer_test\n",
    "def test3():\n",
    "    print(567+2929)"
   ]
  },
  {
   "cell_type": "code",
   "execution_count": 34,
   "id": "06ce4724-6b95-481a-9d3f-abd95a166047",
   "metadata": {},
   "outputs": [
    {
     "name": "stdout",
     "output_type": "stream",
     "text": [
      "3496\n",
      "4.2438507080078125e-05 seconds\n"
     ]
    }
   ],
   "source": [
    "test3()"
   ]
  },
  {
   "cell_type": "code",
   "execution_count": 35,
   "id": "8bec5fdb-e9d0-4f81-9951-7067b33ab299",
   "metadata": {},
   "outputs": [],
   "source": [
    "@timer_test\n",
    "def test4():\n",
    "    for i in range(100000000):\n",
    "        pass"
   ]
  },
  {
   "cell_type": "code",
   "execution_count": 36,
   "id": "414543e2-70b1-4df1-a5bb-4f286eb683d2",
   "metadata": {},
   "outputs": [
    {
     "name": "stdout",
     "output_type": "stream",
     "text": [
      "2.461669683456421 seconds\n"
     ]
    }
   ],
   "source": [
    "test4()"
   ]
  },
  {
   "cell_type": "markdown",
   "id": "fd22bfff-2f9b-40f3-8ce7-14233ac5a717",
   "metadata": {
    "jp-MarkdownHeadingCollapsed": true,
    "tags": []
   },
   "source": [
    "# Class Method - @classmethod\n",
    "\n",
    "* @classmethod is basically a decorator which will give power to the functions to perform amy kind of operations specific to a class"
   ]
  },
  {
   "cell_type": "code",
   "execution_count": 84,
   "id": "cd686875-2025-434b-a4ae-c986b4738edf",
   "metadata": {},
   "outputs": [],
   "source": [
    "class pwskills:\n",
    "    \n",
    "    # creating instance attribute/variable\n",
    "    def __init__(self, name, email):\n",
    "        \n",
    "        self.name = name\n",
    "        self.email = email\n",
    "        \n",
    "    # defining instance method\n",
    "    def student_details(self):\n",
    "        print(self.name , self.email)"
   ]
  },
  {
   "cell_type": "code",
   "execution_count": 15,
   "id": "06d4e833-9e5d-47f5-ac8d-f4264c6603d2",
   "metadata": {},
   "outputs": [],
   "source": [
    "# creation of an object variable or an instance\n",
    "# object instantiation\n",
    "# creating object of class pwskills\n",
    "\n",
    "pw = pwskills(\"Payas\", \"ps@gmail.com\")"
   ]
  },
  {
   "cell_type": "code",
   "execution_count": 16,
   "id": "34c52beb-0e3e-47e6-b507-ec6cfa7b07e8",
   "metadata": {},
   "outputs": [
    {
     "data": {
      "text/plain": [
       "'Payas'"
      ]
     },
     "execution_count": 16,
     "metadata": {},
     "output_type": "execute_result"
    }
   ],
   "source": [
    "# Accessing instance arreibute\n",
    "pw.name"
   ]
  },
  {
   "cell_type": "code",
   "execution_count": 17,
   "id": "46a6f93f-cf0e-465f-bdbe-214f9a8022e1",
   "metadata": {},
   "outputs": [
    {
     "data": {
      "text/plain": [
       "'ps@gmail.com'"
      ]
     },
     "execution_count": 17,
     "metadata": {},
     "output_type": "execute_result"
    }
   ],
   "source": [
    "# Accessing instance arreibute\n",
    "pw.email"
   ]
  },
  {
   "cell_type": "code",
   "execution_count": 18,
   "id": "6648a9eb-cfa2-44ea-96b2-f4318c6fdeb1",
   "metadata": {},
   "outputs": [
    {
     "name": "stdout",
     "output_type": "stream",
     "text": [
      "Payas ps@gmail.com\n"
     ]
    }
   ],
   "source": [
    "# Accessing the class method\n",
    "pw.student_details()"
   ]
  },
  {
   "cell_type": "markdown",
   "id": "9fff1f9d-0d24-48bd-a21b-e3a92a226c95",
   "metadata": {},
   "source": [
    "#### The alternative to pass data (instance attribute) through some other method instead of passing it through *--init--()* method. \n",
    "#### This is where @classmethod come into the picrure.\n",
    "\n",
    "#### @classmethod is basically a decorator which will give power to the functions to perform amy kind of operations specific to a class"
   ]
  },
  {
   "cell_type": "code",
   "execution_count": 87,
   "id": "13c910cd-e4aa-4431-a333-d44c19b6ddf4",
   "metadata": {},
   "outputs": [],
   "source": [
    "class pwskills1:\n",
    "    \n",
    "    # creating instance attribute/variable\n",
    "    def __init__(self, name, email):  #-------------(1)\n",
    "        \n",
    "        self.name = name\n",
    "        self.email = email\n",
    "    \n",
    "    # alternative to pass data (instance attribute) through some other method instead of passing it through --init--() method.\n",
    "    # Defining a class method/function (note that pointer is not SELF this time, Its is CLS\n",
    "    @classmethod   # in-built decorator for any classes available inside python \n",
    "    def details(cls, name1, email1):   #--------------(2)\n",
    "        return cls(name1, email1)\n",
    "    \n",
    "    # defining instance method\n",
    "    def student_details(self):\n",
    "        print(self.name , self.email)\n",
    "        \n",
    "# (1) i.e __init__() and (2) i.e function and @classmethod decorator is almost similar which is used to pass data inside class\n",
    "# __init__() will pass data to an instance or to a particular object\n",
    "# function and @classmethod decorator will pass data directly to the class"
   ]
  },
  {
   "cell_type": "code",
   "execution_count": 32,
   "id": "ba3f0fff-83bc-4605-a77a-1cae137cafcd",
   "metadata": {},
   "outputs": [
    {
     "data": {
      "text/plain": [
       "<__main__.pwskills1 at 0x7f27c9cb9930>"
      ]
     },
     "execution_count": 32,
     "metadata": {},
     "output_type": "execute_result"
    }
   ],
   "source": [
    "# Calling class function/method using class name\n",
    "# Note that it can be called by creating a class object\n",
    "\n",
    "pwskills1.details(\"Mohan\", \"mohan@gmail.com\")"
   ]
  },
  {
   "cell_type": "code",
   "execution_count": 36,
   "id": "33efd22a-2079-4a68-a831-0f4f089544c9",
   "metadata": {},
   "outputs": [],
   "source": [
    "pw1 = pwskills1.details(\"Mohan\", \"mohan@gmail.com\") # creating variable to store the return result of function"
   ]
  },
  {
   "cell_type": "code",
   "execution_count": 37,
   "id": "496a0986-81a3-473e-8a23-5b8d3223c52f",
   "metadata": {},
   "outputs": [
    {
     "data": {
      "text/plain": [
       "'Mohan'"
      ]
     },
     "execution_count": 37,
     "metadata": {},
     "output_type": "execute_result"
    }
   ],
   "source": [
    "pw1.name"
   ]
  },
  {
   "cell_type": "code",
   "execution_count": 38,
   "id": "ee9ab724-f05d-405c-a681-2f2fa685120f",
   "metadata": {},
   "outputs": [
    {
     "data": {
      "text/plain": [
       "'mohan@gmail.com'"
      ]
     },
     "execution_count": 38,
     "metadata": {},
     "output_type": "execute_result"
    }
   ],
   "source": [
    "pw1.email"
   ]
  },
  {
   "cell_type": "markdown",
   "id": "ddf7571d-74a4-47c7-95f9-51dc259f8eb6",
   "metadata": {},
   "source": [
    "* @classmethod will access same name and email as __init__(). Its not a different name and email.\n",
    "> * For example if name1 and email1 is passed instead of name and email in @classmethod function\n",
    "    >> * @classmethod    in-built decorator for any classes available inside python \n",
    "    >> * def details(cls, name1, email1):   --------------(name1 and email1 is passed instead of name and email)\n",
    "    >> *    return cls(name1, email1)\n",
    "> * Still internally it will assign the same data to __init__()\n",
    "* This is basically an example of function overloading but directly function overloading is not possible in pythin classes\n",
    "> * Here __init()__ method is getting overloaded by @classmethod\n",
    "> * Decorator @classmethod is decorating the entire function (here def details()) \n",
    "> * so that the class will understand that this is bascially something that directly belongs to me\n",
    "> * and with the help class name it can be accessed i.e pwskills1.details(\"Mohan\", \"mohan@gmail.com\")\n",
    "> * and in this way It is even able to assign the value to the instance attribute/variable (i.e name and email)\n",
    "* Note that for functions defined under @classmethod decorator we use reference/pointer as CLS and not SELF\n",
    "> * because self will be pointing to a class through __init__() when you are hgoing to create a class object\n",
    "> * but cls will bind the entire method/function directly to a class and that is how it is accessed (i.e pwskills1.details(\"Mohan\", \"mohan@gmail.com\"))"
   ]
  },
  {
   "cell_type": "code",
   "execution_count": 41,
   "id": "6f333828-3a13-478b-950f-7eda800c70e4",
   "metadata": {},
   "outputs": [
    {
     "name": "stdout",
     "output_type": "stream",
     "text": [
      "Mohan mohan@gmail.com\n"
     ]
    }
   ],
   "source": [
    "pw1.student_details() # The same variable can be used to access oth class methods also"
   ]
  },
  {
   "cell_type": "code",
   "execution_count": 86,
   "id": "18ab197e-f673-4cbe-aa02-f4796b6e1aec",
   "metadata": {},
   "outputs": [],
   "source": [
    "class pwskills2:\n",
    "    \n",
    "    # creating class attribute/variable\n",
    "    mobile_number = 9154544648\n",
    "    \n",
    "    # creating instance attribute/variable\n",
    "    def __init__(self, name, email):\n",
    "        \n",
    "        self.name = name\n",
    "        self.email = email\n",
    "    \n",
    "    # Defining class method to pass data directly inside class\n",
    "    @classmethod   # in-built decorator to pass data directly inside class\n",
    "    def details(cls, name1, email1): # note that pointer is not SELF but CLS\n",
    "        return cls(name1, email1)\n",
    "        \n",
    "    # defining instance method\n",
    "    def student_details(self):\n",
    "        print(self.name , self.email, pwskills2.mobile_number) # accessing of class variable/atribute inside instance method"
   ]
  },
  {
   "cell_type": "markdown",
   "id": "217f5a42-b5a1-4e95-aee3-c9237019fc44",
   "metadata": {
    "tags": []
   },
   "source": [
    "#### Lets understand how class attribute/variable (i.e mobile_number) can be accessed by @classmethod or by any other method defined inside class"
   ]
  },
  {
   "cell_type": "code",
   "execution_count": 59,
   "id": "55297966-0ec1-4390-91ba-8fffa0019ab1",
   "metadata": {},
   "outputs": [
    {
     "data": {
      "text/plain": [
       "9154544648"
      ]
     },
     "execution_count": 59,
     "metadata": {},
     "output_type": "execute_result"
    }
   ],
   "source": [
    "# 1. by using class name directly\n",
    "pwskills2.mobile_number"
   ]
  },
  {
   "cell_type": "code",
   "execution_count": 77,
   "id": "727091b3-773d-4cd4-b3ce-3dcbafbe96f8",
   "metadata": {},
   "outputs": [],
   "source": [
    "# 2. with the help of variable of class method or by calling a  variable of class method\n",
    "pw2 = pwskills2.details(\"Sohan\", \"sohan@gmail.com\")"
   ]
  },
  {
   "cell_type": "code",
   "execution_count": 78,
   "id": "86e6e8a0-ad3a-4b4b-936d-8f3d39320854",
   "metadata": {},
   "outputs": [
    {
     "name": "stdout",
     "output_type": "stream",
     "text": [
      "Sohan sohan@gmail.com 9154544648\n"
     ]
    }
   ],
   "source": [
    "pw2.student_details()"
   ]
  },
  {
   "cell_type": "code",
   "execution_count": 79,
   "id": "6bf5e417-7402-4d8d-ac02-b5fc67930935",
   "metadata": {},
   "outputs": [],
   "source": [
    "# 3. with the help of object/instance\n",
    "pw2_obj = pwskills2(\"Rohan\", \"rohan@gmail.com\")"
   ]
  },
  {
   "cell_type": "code",
   "execution_count": 80,
   "id": "649ea727-73d1-474b-8ece-2f5e55cae6e0",
   "metadata": {},
   "outputs": [
    {
     "name": "stdout",
     "output_type": "stream",
     "text": [
      "Rohan rohan@gmail.com 9154544648\n"
     ]
    }
   ],
   "source": [
    "pw2_obj.student_details()"
   ]
  },
  {
   "cell_type": "markdown",
   "id": "85d94f6e-c3ea-4235-aa3c-73b87b2ae997",
   "metadata": {},
   "source": [
    "#### Access the mobile number and modify it through @classmethod"
   ]
  },
  {
   "cell_type": "code",
   "execution_count": 88,
   "id": "d17c7039-3c5b-4acb-8d5a-5ea460123504",
   "metadata": {},
   "outputs": [],
   "source": [
    "class pwskills3:\n",
    "    \n",
    "    # creating class attribute/variable\n",
    "    mobile_number = 9154544648\n",
    "    \n",
    "    # creating instance attribute/variable\n",
    "    def __init__(self, name, email):\n",
    "        \n",
    "        self.name = name\n",
    "        self.email = email\n",
    "        \n",
    "    # Defining class method to change mobile number\n",
    "    @classmethod\n",
    "    def change_number(cls, mobile):\n",
    "        pwskills3.mobile_number = mobile\n",
    "    \n",
    "    # Defining class method to pass data directly inside class\n",
    "    @classmethod   # in-built decorator to pass data directly inside class\n",
    "    def details(cls, name1, email1): # note that pointer is not SELF but CLS\n",
    "        return cls(name1, email1)\n",
    "        \n",
    "    # defining instance method\n",
    "    def student_details(self):\n",
    "        print(self.name , self.email, pwskills3.mobile_number) # accessing of class variable/atribute inside instance method"
   ]
  },
  {
   "cell_type": "code",
   "execution_count": 89,
   "id": "bde7bb2f-30c4-40f2-935c-69e8307a5d87",
   "metadata": {},
   "outputs": [
    {
     "data": {
      "text/plain": [
       "9154544648"
      ]
     },
     "execution_count": 89,
     "metadata": {},
     "output_type": "execute_result"
    }
   ],
   "source": [
    "pwskills3.mobile_number"
   ]
  },
  {
   "cell_type": "code",
   "execution_count": 90,
   "id": "823c039b-6aa7-4468-ac6a-2a075b5a601c",
   "metadata": {},
   "outputs": [],
   "source": [
    "pwskills3.change_number(8896679766)"
   ]
  },
  {
   "cell_type": "code",
   "execution_count": 91,
   "id": "34aa079b-7924-4d27-b12f-efa0ff42f950",
   "metadata": {},
   "outputs": [
    {
     "data": {
      "text/plain": [
       "8896679766"
      ]
     },
     "execution_count": 91,
     "metadata": {},
     "output_type": "execute_result"
    }
   ],
   "source": [
    "pwskills3.mobile_number"
   ]
  },
  {
   "cell_type": "markdown",
   "id": "e8b6303d-05ba-4938-93cc-499c8172ff85",
   "metadata": {},
   "source": [
    "#### Can @classmethod can be accessed through an Object?\n",
    "\n",
    "* **Yes** with the help of an object the @classmethod can be accessed\n",
    "* @classmethod is like or kind of global method which is available and can be accessible by all the object."
   ]
  },
  {
   "cell_type": "code",
   "execution_count": 92,
   "id": "07aa47d2-3dcc-4ac5-aaf8-b165cb388131",
   "metadata": {},
   "outputs": [],
   "source": [
    "pw3_obj = pwskills3(\"sohil\", \"sohil@gmail.com\")"
   ]
  },
  {
   "cell_type": "code",
   "execution_count": 93,
   "id": "6e25c5fb-4b51-4cad-919a-b7c5803406b9",
   "metadata": {},
   "outputs": [
    {
     "ename": "TypeError",
     "evalue": "pwskills3.details() missing 2 required positional arguments: 'name1' and 'email1'",
     "output_type": "error",
     "traceback": [
      "\u001b[0;31m---------------------------------------------------------------------------\u001b[0m",
      "\u001b[0;31mTypeError\u001b[0m                                 Traceback (most recent call last)",
      "Cell \u001b[0;32mIn[93], line 1\u001b[0m\n\u001b[0;32m----> 1\u001b[0m \u001b[43mpw3_obj\u001b[49m\u001b[38;5;241;43m.\u001b[39;49m\u001b[43mdetails\u001b[49m\u001b[43m(\u001b[49m\u001b[43m)\u001b[49m\n",
      "\u001b[0;31mTypeError\u001b[0m: pwskills3.details() missing 2 required positional arguments: 'name1' and 'email1'"
     ]
    }
   ],
   "source": [
    "pw3_obj.details()"
   ]
  },
  {
   "cell_type": "code",
   "execution_count": 95,
   "id": "d80e6b42-7943-4126-83a0-8b22dfb73a53",
   "metadata": {},
   "outputs": [
    {
     "data": {
      "text/plain": [
       "<__main__.pwskills3 at 0x7f27c9eec0d0>"
      ]
     },
     "execution_count": 95,
     "metadata": {},
     "output_type": "execute_result"
    }
   ],
   "source": [
    "pw3_obj.details(\"Payas\", \"ps@gmail.com\") # yes, @classmethod can be accessed through an Object"
   ]
  },
  {
   "cell_type": "code",
   "execution_count": 101,
   "id": "6d6d5e23-2719-4879-9fc3-0e9deb7ef131",
   "metadata": {},
   "outputs": [
    {
     "data": {
      "text/plain": [
       "'sohil'"
      ]
     },
     "execution_count": 101,
     "metadata": {},
     "output_type": "execute_result"
    }
   ],
   "source": [
    "pw3_obj.name\n",
    "\n",
    "# showing previous data which was available to sohil\n",
    "# But the details can be accessed. It is not like it cannot be accessed.\n",
    "# I am able to access the details but originally it is going to show the data which was available at the time of creation of an object"
   ]
  },
  {
   "cell_type": "code",
   "execution_count": 102,
   "id": "43e9ca55-6063-4c4f-a656-d689e3d961b1",
   "metadata": {},
   "outputs": [
    {
     "data": {
      "text/plain": [
       "'sohil@gmail.com'"
      ]
     },
     "execution_count": 102,
     "metadata": {},
     "output_type": "execute_result"
    }
   ],
   "source": [
    "pw3_obj.email\n",
    "\n",
    "# showing previous data which was available to sohil\n",
    "# But the details can be accessed. It is not like it cannot be accessed.\n",
    "# I am able to access the details but originally it is going to show the data which was available at the time of creation of an object"
   ]
  },
  {
   "cell_type": "markdown",
   "id": "af6921b4-5cf7-4d19-ab4d-1be61d7df1c5",
   "metadata": {},
   "source": [
    "#### Difference b/w class method and instance method\n",
    "\n",
    "* @classmethod\n",
    "> * @classmethod is like or kind of global method which is available and can be accessible by all the object.\n",
    "> * Whatever object that is craeted, each and every object can access the @classmethod\n",
    "> * Whenever you create @classmethod it will always create only one instance beacuse it belongs to the class directly\n",
    "* Instance method\n",
    "> * Instance method is accessible to each and every object\n",
    "> * The instance method will be created as per the number of objects that is created.\n",
    "> * Let suppose if 10 objects are created in that case 10 such method it will try to replicate\n",
    "> * So in memory you'll be having 10 such methods which will be available to respective object"
   ]
  },
  {
   "cell_type": "markdown",
   "id": "ee1c8bab-5ccb-4b71-bb49-49585e77a685",
   "metadata": {},
   "source": [
    "### How to add external function to the existing class?\n",
    "\n",
    "* Any number of external function can be added to existing class "
   ]
  },
  {
   "cell_type": "code",
   "execution_count": 103,
   "id": "4a1c9e54-cf4d-4bc6-8ffa-9929dcd38de6",
   "metadata": {},
   "outputs": [],
   "source": [
    "class pwskills4:\n",
    "    \n",
    "    # creating class attribute/variable\n",
    "    mobile_number = 9154544648\n",
    "    \n",
    "    # creating instance attribute/variable\n",
    "    def __init__(self, name, email):\n",
    "        \n",
    "        self.name = name\n",
    "        self.email = email\n",
    "        \n",
    "    # Defining class method to change mobile number\n",
    "    @classmethod\n",
    "    def change_number(cls, mobile):\n",
    "        pwskills4.mobile_number = mobile\n",
    "    \n",
    "    # Defining class method to pass data directly inside class\n",
    "    @classmethod   # in-built decorator to pass data directly inside class\n",
    "    def details(cls, name1, email1): # note that pointer is not SELF but CLS\n",
    "        return cls(name1, email1)\n",
    "        \n",
    "    # defining instance method\n",
    "    def student_details(self):\n",
    "        print(self.name , self.email, pwskills4.mobile_number) # accessing of class variable/atribute inside instance method"
   ]
  },
  {
   "cell_type": "code",
   "execution_count": 104,
   "id": "f31ad9eb-2b6a-4ef9-b757-62525ae78b7c",
   "metadata": {},
   "outputs": [],
   "source": [
    "# creating an external function (not reletaed to class pwskills4 as of now)\n",
    "\n",
    "def course_details(cls, course_name): # giving CLS as pointer/reference so that it can refer to the class\n",
    "    print(\"Course details: \", course_name)"
   ]
  },
  {
   "cell_type": "code",
   "execution_count": 106,
   "id": "08e09904-bf1a-4b62-b6c2-b4457a47945e",
   "metadata": {},
   "outputs": [],
   "source": [
    "# To add external function (while defining function the pointer must be cls) to a class in a dynamic way.\n",
    "\n",
    "pwskills4.course_details = classmethod(course_details)\n",
    "\n",
    "# passing course_details function (externally available) to classmethod fn which is internally avaialable\n",
    "# in this way it will be able to add course_details function to class directly"
   ]
  },
  {
   "cell_type": "code",
   "execution_count": 108,
   "id": "fcf846bb-8d70-44fe-b2f2-3ca6bf054150",
   "metadata": {},
   "outputs": [
    {
     "name": "stdout",
     "output_type": "stream",
     "text": [
      "Course details:  data science masters\n"
     ]
    }
   ],
   "source": [
    "# 1. accessing with the class directly.\n",
    "pwskills4.course_details(\"data science masters\")"
   ]
  },
  {
   "cell_type": "code",
   "execution_count": 109,
   "id": "8dfce7c5-8e8b-4709-add8-5ea7bc6b6b5d",
   "metadata": {},
   "outputs": [],
   "source": [
    "# 2. accessing with the object.\n",
    "pw4 = pwskills4(\"Ram\", \"ram@gmail,com\")"
   ]
  },
  {
   "cell_type": "code",
   "execution_count": 111,
   "id": "34865758-729d-42db-8ed0-c8908671485d",
   "metadata": {},
   "outputs": [
    {
     "name": "stdout",
     "output_type": "stream",
     "text": [
      "Course details:  Web Dev\n"
     ]
    }
   ],
   "source": [
    "pw4.course_details(\"Web Dev\")"
   ]
  },
  {
   "cell_type": "markdown",
   "id": "05e36384-9883-4254-a787-48d1506665d3",
   "metadata": {},
   "source": [
    "### How to Perform Removal or deletion?"
   ]
  },
  {
   "cell_type": "code",
   "execution_count": 112,
   "id": "a165218f-cca3-4ae9-a8f2-0602bf4b09fe",
   "metadata": {},
   "outputs": [],
   "source": [
    "class pwskills5:\n",
    "    \n",
    "    # creating class attribute/variable\n",
    "    mobile_number = 9154544648\n",
    "    \n",
    "    # creating instance attribute/variable\n",
    "    def __init__(self, name, email):\n",
    "        \n",
    "        self.name = name\n",
    "        self.email = email\n",
    "        \n",
    "    # Defining class method to change mobile number\n",
    "    @classmethod\n",
    "    def change_number(cls, mobile):\n",
    "        pwskills5.mobile_number = mobile\n",
    "    \n",
    "    # Defining class method to pass data directly inside class\n",
    "    @classmethod   # in-built decorator to pass data directly inside class\n",
    "    def details(cls, name1, email1): # note that pointer is not SELF but CLS\n",
    "        return cls(name1, email1)\n",
    "        \n",
    "    # defining instance method\n",
    "    def student_details(self):\n",
    "        print(self.name , self.email, pwskills5.mobile_number) # accessing of class variable/atribute inside instance method"
   ]
  },
  {
   "cell_type": "code",
   "execution_count": 114,
   "id": "4a13f144-1a07-4e00-8bf1-6962bd10a31c",
   "metadata": {},
   "outputs": [],
   "source": [
    "# use del keyword to delete a method\n",
    "\n",
    "del pwskills5.change_number"
   ]
  },
  {
   "cell_type": "code",
   "execution_count": 115,
   "id": "7a6276d6-1439-4f82-943e-8a476f30f6ba",
   "metadata": {},
   "outputs": [
    {
     "ename": "AttributeError",
     "evalue": "type object 'pwskills5' has no attribute 'change_number'",
     "output_type": "error",
     "traceback": [
      "\u001b[0;31m---------------------------------------------------------------------------\u001b[0m",
      "\u001b[0;31mAttributeError\u001b[0m                            Traceback (most recent call last)",
      "Cell \u001b[0;32mIn[115], line 1\u001b[0m\n\u001b[0;32m----> 1\u001b[0m \u001b[43mpwskills5\u001b[49m\u001b[38;5;241;43m.\u001b[39;49m\u001b[43mchange_number\u001b[49m(\u001b[38;5;241m6489468785\u001b[39m)\n",
      "\u001b[0;31mAttributeError\u001b[0m: type object 'pwskills5' has no attribute 'change_number'"
     ]
    }
   ],
   "source": [
    "pwskills5.change_number(6489468785)"
   ]
  },
  {
   "cell_type": "code",
   "execution_count": 116,
   "id": "862161e2-b4b1-4bb8-9eab-a80e6a6dd635",
   "metadata": {},
   "outputs": [],
   "source": [
    "# use delattr() function to delete a method\n",
    "\n",
    "delattr(pwskills5, \"details\")"
   ]
  },
  {
   "cell_type": "code",
   "execution_count": 117,
   "id": "5c8ec4d7-1763-4d3f-a5c7-5f58411244c6",
   "metadata": {},
   "outputs": [
    {
     "ename": "AttributeError",
     "evalue": "type object 'pwskills5' has no attribute 'details'",
     "output_type": "error",
     "traceback": [
      "\u001b[0;31m---------------------------------------------------------------------------\u001b[0m",
      "\u001b[0;31mAttributeError\u001b[0m                            Traceback (most recent call last)",
      "Cell \u001b[0;32mIn[117], line 1\u001b[0m\n\u001b[0;32m----> 1\u001b[0m \u001b[43mpwskills5\u001b[49m\u001b[38;5;241;43m.\u001b[39;49m\u001b[43mdetails\u001b[49m(\u001b[38;5;124m\"\u001b[39m\u001b[38;5;124mayush\u001b[39m\u001b[38;5;124m\"\u001b[39m, \u001b[38;5;124m\"\u001b[39m\u001b[38;5;124mayush@gmail.com\u001b[39m\u001b[38;5;124m\"\u001b[39m)\n",
      "\u001b[0;31mAttributeError\u001b[0m: type object 'pwskills5' has no attribute 'details'"
     ]
    }
   ],
   "source": [
    "pwskills5.details(\"ayush\", \"ayush@gmail.com\")"
   ]
  },
  {
   "cell_type": "code",
   "execution_count": 118,
   "id": "d06865d6-faf4-4d95-a487-595777fefad3",
   "metadata": {},
   "outputs": [
    {
     "data": {
      "text/plain": [
       "9154544648"
      ]
     },
     "execution_count": 118,
     "metadata": {},
     "output_type": "execute_result"
    }
   ],
   "source": [
    "pwskills5.mobile_number"
   ]
  },
  {
   "cell_type": "code",
   "execution_count": 119,
   "id": "06bd0c15-294a-42b1-b61f-15072cba1937",
   "metadata": {},
   "outputs": [],
   "source": [
    "# use delattr() function to delete a variable/attribute\n",
    "\n",
    "delattr(pwskills5, \"mobile_number\")"
   ]
  },
  {
   "cell_type": "code",
   "execution_count": 120,
   "id": "8da075d9-9dc1-4a7e-85f8-d7462a94c99b",
   "metadata": {},
   "outputs": [
    {
     "ename": "AttributeError",
     "evalue": "type object 'pwskills5' has no attribute 'mobile_number'",
     "output_type": "error",
     "traceback": [
      "\u001b[0;31m---------------------------------------------------------------------------\u001b[0m",
      "\u001b[0;31mAttributeError\u001b[0m                            Traceback (most recent call last)",
      "Cell \u001b[0;32mIn[120], line 1\u001b[0m\n\u001b[0;32m----> 1\u001b[0m \u001b[43mpwskills5\u001b[49m\u001b[38;5;241;43m.\u001b[39;49m\u001b[43mmobile_number\u001b[49m\n",
      "\u001b[0;31mAttributeError\u001b[0m: type object 'pwskills5' has no attribute 'mobile_number'"
     ]
    }
   ],
   "source": [
    "pwskills5.mobile_number"
   ]
  },
  {
   "cell_type": "code",
   "execution_count": 121,
   "id": "d63d5f1f-cadb-43e6-81ea-7f12f11daf4c",
   "metadata": {},
   "outputs": [],
   "source": [
    "# use delattr() function to delete a instance method\n",
    "\n",
    "delattr(pwskills5, \"student_details\")"
   ]
  },
  {
   "cell_type": "code",
   "execution_count": 122,
   "id": "d6132560-d5bb-4f93-8764-2bdbd5767642",
   "metadata": {},
   "outputs": [
    {
     "ename": "AttributeError",
     "evalue": "type object 'pwskills5' has no attribute 'student_details'",
     "output_type": "error",
     "traceback": [
      "\u001b[0;31m---------------------------------------------------------------------------\u001b[0m",
      "\u001b[0;31mAttributeError\u001b[0m                            Traceback (most recent call last)",
      "Cell \u001b[0;32mIn[122], line 1\u001b[0m\n\u001b[0;32m----> 1\u001b[0m \u001b[43mpwskills5\u001b[49m\u001b[38;5;241;43m.\u001b[39;49m\u001b[43mstudent_details\u001b[49m\n",
      "\u001b[0;31mAttributeError\u001b[0m: type object 'pwskills5' has no attribute 'student_details'"
     ]
    }
   ],
   "source": [
    "pwskills5.student_details"
   ]
  },
  {
   "cell_type": "markdown",
   "id": "b034c189-a14d-4883-b45f-a61b5a430e1c",
   "metadata": {
    "jp-MarkdownHeadingCollapsed": true,
    "tags": []
   },
   "source": [
    "# Static Method - @staticmethod\n",
    "\n",
    "* If @staticmethod is created, it will be available across all the classes and based on the object creation it will not replicate it. It'll create only one instance.\n",
    "* @staticmethod will always try to reduce memory utilization.\n",
    "* **NOTE -** Same happens with the class method. \n",
    "> * But unlike @staticmethod, @classmethod helps to over load --init--() method and provides the alternate way to directly pass data to the class. \n",
    "> * And also @classmethod will give you the access to the variable by which you can perform any type of operations.\n"
   ]
  },
  {
   "cell_type": "code",
   "execution_count": 1,
   "id": "47d007d5-3d4c-4e7a-ba64-b93f2d9b2ab9",
   "metadata": {},
   "outputs": [],
   "source": [
    "class pwskills:\n",
    "    def studen_details(self, name, mail_id, number):\n",
    "        print(name, mail_id, number)"
   ]
  },
  {
   "cell_type": "code",
   "execution_count": 2,
   "id": "2753794d-9b46-4582-84e0-9a171cae24e2",
   "metadata": {},
   "outputs": [],
   "source": [
    "pw = pwskills()"
   ]
  },
  {
   "cell_type": "code",
   "execution_count": 3,
   "id": "88cce9fd-5ba2-493f-90f3-2743f4964878",
   "metadata": {},
   "outputs": [
    {
     "name": "stdout",
     "output_type": "stream",
     "text": [
      "Amit amit@gmail.com 6548954598\n"
     ]
    }
   ],
   "source": [
    "pw.studen_details(\"Amit\", \"amit@gmail.com\", 6548954598)"
   ]
  },
  {
   "cell_type": "markdown",
   "id": "d4f0dc7a-6642-4738-959d-7ef9df942d8f",
   "metadata": {},
   "source": [
    "#### How to create a function which is not dependent on object? How to achieve something that is not associated to the object but directly to the calss?\n",
    "\n",
    "* **NOTE -** if 10 or 10 million objects are created it is going to replicate the same method for each and every object because the instance method is specific to the object so by the time you create an object it will get replicate into the memory and in this way the memory consumption will be very very high.\n",
    "* Also I want to pass something which is common to my entire class then the instance method is not the one to access because tis is something which is specific to object.\n"
   ]
  },
  {
   "cell_type": "code",
   "execution_count": 4,
   "id": "1a1d420e-3e6c-4cd6-a464-dca048bfc430",
   "metadata": {},
   "outputs": [],
   "source": [
    "class pwskills1:\n",
    "    def studen_details(self, name, mail_id, number):\n",
    "        print(name, mail_id, number)\n",
    "        \n",
    "    # creating a static method\n",
    "    # while creating @staticmethod we'll not give any pointer/reference because this method is directly accociated with the class\n",
    "    @staticmethod\n",
    "    def mentor_class(list_mentor):\n",
    "        print(list_mentor)\n",
    "        \n",
    "    # creating an instance method\n",
    "    def mentor(self, mentor_list):\n",
    "        print(mentor_list)"
   ]
  },
  {
   "cell_type": "code",
   "execution_count": 3,
   "id": "d3da7369-69fc-4ae9-a5a9-bc4ee4bc709a",
   "metadata": {},
   "outputs": [
    {
     "name": "stdout",
     "output_type": "stream",
     "text": [
      "['sudh', 'krish']\n"
     ]
    }
   ],
   "source": [
    "# static method can be called directly with the help of class name\n",
    "# because the function is static in nature and it is available to class directly\n",
    "pwskills1.mentor_class([\"sudh\", \"krish\"])\n",
    "\n",
    "# Also whatever object is created of that class then that (i.e static method) will be also available to that object. "
   ]
  },
  {
   "cell_type": "code",
   "execution_count": 7,
   "id": "f39d4ed1-9b1f-4f98-a716-cdd672c8fa72",
   "metadata": {},
   "outputs": [],
   "source": [
    "# creating class object/instance\n",
    "pw1 = pwskills1()"
   ]
  },
  {
   "cell_type": "code",
   "execution_count": 8,
   "id": "40e692f7-bb5b-48ea-acbf-8bbef35a27bc",
   "metadata": {},
   "outputs": [
    {
     "name": "stdout",
     "output_type": "stream",
     "text": [
      "['krish', 'sudh']\n"
     ]
    }
   ],
   "source": [
    "# calling instance method using object/instance\n",
    "pw1.mentor([\"krish\", \"sudh\"])"
   ]
  },
  {
   "cell_type": "code",
   "execution_count": 9,
   "id": "da699f42-c1f9-4b45-8efe-9589ff85aa3f",
   "metadata": {},
   "outputs": [
    {
     "name": "stdout",
     "output_type": "stream",
     "text": [
      "['Sudh', 'naik']\n"
     ]
    }
   ],
   "source": [
    "# calling static method using object/instance\n",
    "pw1.mentor_class([\"Sudh\", \"naik\"])"
   ]
  },
  {
   "cell_type": "markdown",
   "id": "3b947ef5-98de-4e8c-8458-d72a38fc01a0",
   "metadata": {},
   "source": [
    "* Whenever method is defined as static it means it will be available across all the classes doesn't matter what object you are going to create pw1 or pw2 or pw3 , etc, The static method will be available to all the classes in the similar way.\n",
    "* It means @staticmethod is not creating different different function internally w.r.t different different instances.\n",
    "* Whereas in instance method, as soon as you create an object the instance of the function/method will be created for that particular object. So if you are creating 10 million objects then 10 million replica of that function/method will be created which wil burden the memory a lot.\n",
    "* So if I have to save it and optimize the entire code as per the memory then the @staticmethod will be used.\n",
    "*  Again in above examaple, \n",
    "> * it is justified that students will be multiple so there will be multiple instance of student details and in that case we'll have to use instance method to define that function\n",
    "> * but for mentors it is totally unnecessary to create multiple instances since the mentors will be limited. So here @static method will be used.\n",
    "#### Therefore, @staticmethod will be directly available to the class so it will be directly available to all the objects of the class that you are going to create."
   ]
  },
  {
   "cell_type": "markdown",
   "id": "5f99bee0-26e1-41bc-a884-5a057b7efc94",
   "metadata": {},
   "source": [
    "### How Static method works?"
   ]
  },
  {
   "cell_type": "markdown",
   "id": "8d5a4ce9-1cd8-43ae-a2ca-409823108870",
   "metadata": {},
   "source": [
    "#### Accessing static method inside instance method and @classmethod"
   ]
  },
  {
   "cell_type": "code",
   "execution_count": 10,
   "id": "169704b9-d539-49c9-a3d3-f815af7e471f",
   "metadata": {},
   "outputs": [],
   "source": [
    "class pwskills2:\n",
    "    \n",
    "    # creating an instance method\n",
    "    # under this instance method @staticmethod cannot be called because @staticmethod is defined after this. \n",
    "    # If you want to define @staticmethod under this isntance method as well then it is to be defined before this method\n",
    "    def studen_details(self, name, mail_id, number): \n",
    "        print(name, mail_id, number)\n",
    "        \n",
    "    # creating a static method\n",
    "    @staticmethod\n",
    "    def mentor_mail_id(mail_id):\n",
    "        print(mail_id)\n",
    "    \n",
    "    # creating a static method\n",
    "    # while creating @staticmethod we'll not give any pointer/reference because this method is directly accociated with the class\n",
    "    @staticmethod\n",
    "    def mentor_class(list_mentor):\n",
    "        print(list_mentor)\n",
    "        pwskills2.mentor_mail_id([\"sudh@gmail.com\" , \"krish@gmail.com\"])  # calling @staticmethod under another @staticmethod\n",
    "   \n",
    "    # creating a class method\n",
    "    @classmethod\n",
    "    def class_name(cls, class_name):\n",
    "        cls.mentor_class([\"sudh\" , \"krish\"])  # calling @staticmethod under @classmethod\n",
    "        \n",
    "    # creating an instance method\n",
    "    def mentor(self, mentor_list):\n",
    "        print(mentor_list)\n",
    "        self.mentor_class([\"sudh\" , \"krish\"])  # calling @staticmethod under instance method"
   ]
  },
  {
   "cell_type": "code",
   "execution_count": 12,
   "id": "9b550a3c-e97b-4984-9e78-ebbe92959f50",
   "metadata": {},
   "outputs": [],
   "source": [
    "# creating class object/instance\n",
    "pw2 = pwskills2()"
   ]
  },
  {
   "cell_type": "code",
   "execution_count": 13,
   "id": "b169b2aa-c870-462c-842d-2877134e935e",
   "metadata": {},
   "outputs": [
    {
     "name": "stdout",
     "output_type": "stream",
     "text": [
      "Mohan mohan@gmail.com 6544656884\n"
     ]
    }
   ],
   "source": [
    "# accessing instance method using object\n",
    "pw2.studen_details(\"Mohan\", \"mohan@gmail.com\", 6544656884)"
   ]
  },
  {
   "cell_type": "code",
   "execution_count": 14,
   "id": "af39a602-cc4a-426e-acdf-58074f3a3189",
   "metadata": {},
   "outputs": [
    {
     "name": "stdout",
     "output_type": "stream",
     "text": [
      "['sudh@gmail.com', 'krish@gmail.com']\n"
     ]
    }
   ],
   "source": [
    "# accessing @staticmethod using object\n",
    "pw2.mentor_mail_id([\"sudh@gmail.com\", \"krish@gmail.com\"])"
   ]
  },
  {
   "cell_type": "code",
   "execution_count": 15,
   "id": "87f0e3ec-7e9a-4a9a-85e8-9c1f7af3a867",
   "metadata": {},
   "outputs": [
    {
     "name": "stdout",
     "output_type": "stream",
     "text": [
      "['sudh', 'krish']\n",
      "['sudh@gmail.com', 'krish@gmail.com']\n"
     ]
    }
   ],
   "source": [
    "# accessing @classmethod using object\n",
    "pw2.class_name(\"data science masters\")"
   ]
  },
  {
   "cell_type": "code",
   "execution_count": 16,
   "id": "63239437-cbf6-42cf-b5e6-bdc1a26b8c86",
   "metadata": {},
   "outputs": [
    {
     "name": "stdout",
     "output_type": "stream",
     "text": [
      "['krish@gmail.com', 'sudh@gmail.com']\n"
     ]
    }
   ],
   "source": [
    "# accessing @staticmethod directly using class name\n",
    "pwskills2.mentor_mail_id([\"krish@gmail.com\", \"sudh@gmail.com\"])"
   ]
  },
  {
   "cell_type": "code",
   "execution_count": 17,
   "id": "0f7df81c-254d-43e1-b114-2f4bde017671",
   "metadata": {},
   "outputs": [
    {
     "name": "stdout",
     "output_type": "stream",
     "text": [
      "['sudh', 'krish']\n",
      "['sudh@gmail.com', 'krish@gmail.com']\n"
     ]
    }
   ],
   "source": [
    "# accessing @Classmethod directly using class name\n",
    "pwskills2.class_name(\"data science masters\")"
   ]
  },
  {
   "cell_type": "markdown",
   "id": "d664597e-9f65-4053-b9b2-61cf0941439c",
   "metadata": {
    "jp-MarkdownHeadingCollapsed": true,
    "tags": []
   },
   "source": [
    "# Special Method (Magic or Dunder)\n",
    "\n",
    "* *dir()* will give all the functions associated with that particular object class internally\n",
    "* e.g *dir(int)* will give all the functions associated with that int class internally, similarly *dir(dict)* will give all the functions associated with that dict class internally, etc"
   ]
  },
  {
   "cell_type": "code",
   "execution_count": 21,
   "id": "a78c2098-f955-46cb-b757-65a68c14ae21",
   "metadata": {},
   "outputs": [
    {
     "data": {
      "text/plain": [
       "['__abs__',\n",
       " '__add__',\n",
       " '__and__',\n",
       " '__bool__',\n",
       " '__ceil__',\n",
       " '__class__',\n",
       " '__delattr__',\n",
       " '__dir__',\n",
       " '__divmod__',\n",
       " '__doc__',\n",
       " '__eq__',\n",
       " '__float__',\n",
       " '__floor__',\n",
       " '__floordiv__',\n",
       " '__format__',\n",
       " '__ge__',\n",
       " '__getattribute__',\n",
       " '__getnewargs__',\n",
       " '__gt__',\n",
       " '__hash__',\n",
       " '__index__',\n",
       " '__init__',\n",
       " '__init_subclass__',\n",
       " '__int__',\n",
       " '__invert__',\n",
       " '__le__',\n",
       " '__lshift__',\n",
       " '__lt__',\n",
       " '__mod__',\n",
       " '__mul__',\n",
       " '__ne__',\n",
       " '__neg__',\n",
       " '__new__',\n",
       " '__or__',\n",
       " '__pos__',\n",
       " '__pow__',\n",
       " '__radd__',\n",
       " '__rand__',\n",
       " '__rdivmod__',\n",
       " '__reduce__',\n",
       " '__reduce_ex__',\n",
       " '__repr__',\n",
       " '__rfloordiv__',\n",
       " '__rlshift__',\n",
       " '__rmod__',\n",
       " '__rmul__',\n",
       " '__ror__',\n",
       " '__round__',\n",
       " '__rpow__',\n",
       " '__rrshift__',\n",
       " '__rshift__',\n",
       " '__rsub__',\n",
       " '__rtruediv__',\n",
       " '__rxor__',\n",
       " '__setattr__',\n",
       " '__sizeof__',\n",
       " '__str__',\n",
       " '__sub__',\n",
       " '__subclasshook__',\n",
       " '__truediv__',\n",
       " '__trunc__',\n",
       " '__xor__',\n",
       " 'as_integer_ratio',\n",
       " 'bit_count',\n",
       " 'bit_length',\n",
       " 'conjugate',\n",
       " 'denominator',\n",
       " 'from_bytes',\n",
       " 'imag',\n",
       " 'numerator',\n",
       " 'real',\n",
       " 'to_bytes']"
      ]
     },
     "execution_count": 21,
     "metadata": {},
     "output_type": "execute_result"
    }
   ],
   "source": [
    "dir(int)\n",
    "\n",
    "# result of this will consist all the functions associated with that int class internally, \n",
    "# in the result, all the function with (double underscore before and after) __fnName__ is called as magic function or dunder method\n",
    "# all those magic function or dunder methods are pre-defined"
   ]
  },
  {
   "cell_type": "code",
   "execution_count": 22,
   "id": "2355b24e-6056-435d-be56-fa2a72d2b0bc",
   "metadata": {},
   "outputs": [],
   "source": [
    "a =10"
   ]
  },
  {
   "cell_type": "code",
   "execution_count": 23,
   "id": "3f7d5b7d-3eff-4704-adf3-452aa95d0b21",
   "metadata": {},
   "outputs": [
    {
     "data": {
      "text/plain": [
       "16"
      ]
     },
     "execution_count": 23,
     "metadata": {},
     "output_type": "execute_result"
    }
   ],
   "source": [
    "a + 6"
   ]
  },
  {
   "cell_type": "code",
   "execution_count": 24,
   "id": "e9360dc5-9076-46d9-985b-8e36c51f2f12",
   "metadata": {},
   "outputs": [
    {
     "data": {
      "text/plain": [
       "16"
      ]
     },
     "execution_count": 24,
     "metadata": {},
     "output_type": "execute_result"
    }
   ],
   "source": [
    "a.__add__(6)"
   ]
  },
  {
   "cell_type": "markdown",
   "id": "ce01b43a-e427-42b4-a714-aedc94a5fbc8",
   "metadata": {},
   "source": [
    "* both + (plus operator) and __add__()  magic function wil give same outcome.\n",
    "* whenever you are calling + operation, internally system always call __add__() dunder method.\n",
    "* because someone has already created a function which understands that if there is + and integer after that then it is supposed to add\n",
    "* whenever you are doing production grade coding it is not advisable to call these functions directly, in general"
   ]
  },
  {
   "cell_type": "code",
   "execution_count": 26,
   "id": "93a0dcb3-911e-4ce1-aa64-514975d43e42",
   "metadata": {},
   "outputs": [
    {
     "data": {
      "text/plain": [
       "['__add__',\n",
       " '__class__',\n",
       " '__contains__',\n",
       " '__delattr__',\n",
       " '__dir__',\n",
       " '__doc__',\n",
       " '__eq__',\n",
       " '__format__',\n",
       " '__ge__',\n",
       " '__getattribute__',\n",
       " '__getitem__',\n",
       " '__getnewargs__',\n",
       " '__gt__',\n",
       " '__hash__',\n",
       " '__init__',\n",
       " '__init_subclass__',\n",
       " '__iter__',\n",
       " '__le__',\n",
       " '__len__',\n",
       " '__lt__',\n",
       " '__mod__',\n",
       " '__mul__',\n",
       " '__ne__',\n",
       " '__new__',\n",
       " '__reduce__',\n",
       " '__reduce_ex__',\n",
       " '__repr__',\n",
       " '__rmod__',\n",
       " '__rmul__',\n",
       " '__setattr__',\n",
       " '__sizeof__',\n",
       " '__str__',\n",
       " '__subclasshook__',\n",
       " 'capitalize',\n",
       " 'casefold',\n",
       " 'center',\n",
       " 'count',\n",
       " 'encode',\n",
       " 'endswith',\n",
       " 'expandtabs',\n",
       " 'find',\n",
       " 'format',\n",
       " 'format_map',\n",
       " 'index',\n",
       " 'isalnum',\n",
       " 'isalpha',\n",
       " 'isascii',\n",
       " 'isdecimal',\n",
       " 'isdigit',\n",
       " 'isidentifier',\n",
       " 'islower',\n",
       " 'isnumeric',\n",
       " 'isprintable',\n",
       " 'isspace',\n",
       " 'istitle',\n",
       " 'isupper',\n",
       " 'join',\n",
       " 'ljust',\n",
       " 'lower',\n",
       " 'lstrip',\n",
       " 'maketrans',\n",
       " 'partition',\n",
       " 'removeprefix',\n",
       " 'removesuffix',\n",
       " 'replace',\n",
       " 'rfind',\n",
       " 'rindex',\n",
       " 'rjust',\n",
       " 'rpartition',\n",
       " 'rsplit',\n",
       " 'rstrip',\n",
       " 'split',\n",
       " 'splitlines',\n",
       " 'startswith',\n",
       " 'strip',\n",
       " 'swapcase',\n",
       " 'title',\n",
       " 'translate',\n",
       " 'upper',\n",
       " 'zfill']"
      ]
     },
     "execution_count": 26,
     "metadata": {},
     "output_type": "execute_result"
    }
   ],
   "source": [
    "# list of all the magic functions or dunder method associated with that str class internally\n",
    "dir(str)"
   ]
  },
  {
   "cell_type": "code",
   "execution_count": 28,
   "id": "be0ac188-9a78-485c-89c8-9552857a5aee",
   "metadata": {},
   "outputs": [],
   "source": [
    "# __init__() is also a dunder method\n",
    "\n",
    "class pwskills7:\n",
    "    \n",
    "    def __init__(self):\n",
    "        print(\"this is my init\")"
   ]
  },
  {
   "cell_type": "code",
   "execution_count": 36,
   "id": "70896742-481b-4263-a3cd-34ca033bc511",
   "metadata": {},
   "outputs": [
    {
     "name": "stdout",
     "output_type": "stream",
     "text": [
      "this is my init\n"
     ]
    }
   ],
   "source": [
    "# by the time object is created, by default it will call the __init__()\n",
    "pw7 = pwskills7() "
   ]
  },
  {
   "cell_type": "code",
   "execution_count": 33,
   "id": "eccb875c-4366-4031-8dae-feee1a45c6c2",
   "metadata": {},
   "outputs": [],
   "source": [
    "# but before __init__(), internally system calls another magic method which is as called __new__(), or\n",
    "# whenever you try to create an object before that it will call another magic method which is as called __new__()\n",
    "\n",
    "class pwskills8:\n",
    "    \n",
    "    def __new__(cls): # cls because it is class method\n",
    "        print(\"this is my new\")\n",
    "    \n",
    "    def __init__(self):\n",
    "        print(\"this is my init\")"
   ]
  },
  {
   "cell_type": "code",
   "execution_count": 39,
   "id": "fed3f532-82dd-4c8a-a514-71f9555a521a",
   "metadata": {},
   "outputs": [
    {
     "name": "stdout",
     "output_type": "stream",
     "text": [
      "this is my new\n"
     ]
    }
   ],
   "source": [
    "pw8 = pwskills8()\n",
    "\n",
    "# Here when object is created before __init__() the system is calling __new__() \n",
    "# __init__() is used to create an object and assign the data for a particulat object to a class\n",
    "# internally, __init__() try to call __new__() before it."
   ]
  },
  {
   "cell_type": "code",
   "execution_count": 40,
   "id": "8f11009a-4836-40df-b425-5480424abee4",
   "metadata": {},
   "outputs": [],
   "source": [
    "class pwskills9:\n",
    "    \n",
    "    def __init__(self):\n",
    "        self.mobile_number = 8789786548"
   ]
  },
  {
   "cell_type": "code",
   "execution_count": 41,
   "id": "b3d7183b-eb18-46c9-9c88-0f4ef016bc7e",
   "metadata": {},
   "outputs": [],
   "source": [
    "pw9 = pwskills9()"
   ]
  },
  {
   "cell_type": "code",
   "execution_count": 44,
   "id": "36e0301f-5f0a-4480-97f9-8722cfedf125",
   "metadata": {},
   "outputs": [
    {
     "data": {
      "text/plain": [
       "<__main__.pwskills9 at 0x7f20714b2f50>"
      ]
     },
     "execution_count": 44,
     "metadata": {},
     "output_type": "execute_result"
    }
   ],
   "source": [
    "pw9 \n",
    "\n",
    "# returns object with hexadecimal code\n",
    "# stating that an object is been created which belongs to pwskills9 class with hexadecimal code(memory address)"
   ]
  },
  {
   "cell_type": "code",
   "execution_count": 46,
   "id": "e9b078a8-be5c-41e1-bbfb-ca1bc710967c",
   "metadata": {},
   "outputs": [
    {
     "name": "stdout",
     "output_type": "stream",
     "text": [
      "<__main__.pwskills9 object at 0x7f20714b2f50>\n"
     ]
    }
   ],
   "source": [
    "print(pw9)\n",
    "\n",
    "# prints <__main__.pwskills9 object at 0x7f20714b2f50>\n",
    "# that means object of pwskills9 class is available at so and so memory location (hexadeciaml code)"
   ]
  },
  {
   "cell_type": "code",
   "execution_count": 59,
   "id": "a001ff4f-efc0-4e47-8708-9fe38b7aaec1",
   "metadata": {},
   "outputs": [],
   "source": [
    "# if I don't  want to print this <__main__.pwskills9 object at 0x7f20714b2f50>\n",
    "# instead I want to print something meaningful\n",
    "\n",
    "class pwskills9:\n",
    "    \n",
    "    def __init__(self):\n",
    "        self.mobile_number = 8789786548\n",
    "        \n",
    "    def __str__(self):  # this will override the object print statement\n",
    "        return \"this is a magic method which will print something for object\""
   ]
  },
  {
   "cell_type": "code",
   "execution_count": 60,
   "id": "c98cfd6b-0b82-4569-9410-5d83804d27f9",
   "metadata": {},
   "outputs": [],
   "source": [
    "pw9 = pwskills9()"
   ]
  },
  {
   "cell_type": "code",
   "execution_count": 61,
   "id": "60054f22-d0c2-4db9-a4df-2617796a73e7",
   "metadata": {},
   "outputs": [
    {
     "data": {
      "text/plain": [
       "<__main__.pwskills9 at 0x7f2071a1d780>"
      ]
     },
     "execution_count": 61,
     "metadata": {},
     "output_type": "execute_result"
    }
   ],
   "source": [
    "pw9"
   ]
  },
  {
   "cell_type": "code",
   "execution_count": 62,
   "id": "de5e0657-d9b2-48e5-8521-f18bc5ed1e1d",
   "metadata": {},
   "outputs": [
    {
     "name": "stdout",
     "output_type": "stream",
     "text": [
      "this is a magic method which will print something for object\n"
     ]
    }
   ],
   "source": [
    "print(pw9) # over-ridden the object print statement"
   ]
  },
  {
   "cell_type": "markdown",
   "id": "4c6f24ad-1662-458e-8511-f1b534c24135",
   "metadata": {
    "jp-MarkdownHeadingCollapsed": true,
    "tags": []
   },
   "source": [
    "# Property Decorators - Getters, Setters, And Deleters"
   ]
  },
  {
   "cell_type": "code",
   "execution_count": 1,
   "id": "c8f0001f-ca7e-4a6f-bab4-ba0618cc129f",
   "metadata": {},
   "outputs": [],
   "source": [
    "class PWskills:\n",
    "    \n",
    "    # creating instance variable/attributes\n",
    "    def __init__(self, course_price, course_mentor, course_name):\n",
    "        self.__course_price = course_price    # private attribute/variable - outsiders will not be able to access it\n",
    "        self._course_mentor = course_mentor   # protected attribute/variable - outsiders will not be able to access it\n",
    "        self.course_name = course_name        # public attribute/variable - outsiders will be able to access it"
   ]
  },
  {
   "cell_type": "code",
   "execution_count": 2,
   "id": "30715965-095d-4781-bc33-af50f9e3d56c",
   "metadata": {},
   "outputs": [],
   "source": [
    "PW = PWskills(3500, \"sudh & krish\", \"data science masters\")"
   ]
  },
  {
   "cell_type": "code",
   "execution_count": 3,
   "id": "b338702c-cbc1-4ed5-852d-52e5d0d67d78",
   "metadata": {},
   "outputs": [
    {
     "data": {
      "text/plain": [
       "'data science masters'"
      ]
     },
     "execution_count": 3,
     "metadata": {},
     "output_type": "execute_result"
    }
   ],
   "source": [
    "PW.course_name"
   ]
  },
  {
   "cell_type": "code",
   "execution_count": 4,
   "id": "1b5bb5b2-462f-4a81-9013-266df5d5b6c9",
   "metadata": {},
   "outputs": [
    {
     "data": {
      "text/plain": [
       "'sudh & krish'"
      ]
     },
     "execution_count": 4,
     "metadata": {},
     "output_type": "execute_result"
    }
   ],
   "source": [
    "PW._course_mentor"
   ]
  },
  {
   "cell_type": "code",
   "execution_count": 6,
   "id": "5cda3e37-fcd8-489a-bdf0-f4f4554a45fe",
   "metadata": {},
   "outputs": [
    {
     "ename": "AttributeError",
     "evalue": "'PWskills' object has no attribute '__course_price'",
     "output_type": "error",
     "traceback": [
      "\u001b[0;31m---------------------------------------------------------------------------\u001b[0m",
      "\u001b[0;31mAttributeError\u001b[0m                            Traceback (most recent call last)",
      "Cell \u001b[0;32mIn[6], line 1\u001b[0m\n\u001b[0;32m----> 1\u001b[0m \u001b[43mPW\u001b[49m\u001b[38;5;241;43m.\u001b[39;49m\u001b[43m__course_price\u001b[49m \u001b[38;5;66;03m# since it is private attribute it cannot be  accessed by object\u001b[39;00m\n",
      "\u001b[0;31mAttributeError\u001b[0m: 'PWskills' object has no attribute '__course_price'"
     ]
    }
   ],
   "source": [
    "PW.__course_price # since it is private attribute it cannot be  accessed by object"
   ]
  },
  {
   "cell_type": "code",
   "execution_count": 9,
   "id": "c2545d9f-dd35-4e2a-8fbc-dbe0d4335864",
   "metadata": {},
   "outputs": [
    {
     "data": {
      "text/plain": [
       "3500"
      ]
     },
     "execution_count": 9,
     "metadata": {},
     "output_type": "execute_result"
    }
   ],
   "source": [
    "# if you are creator of the class then you'll exactly know the name of the class and attribute. Outsiders will not know.\n",
    "# the private attribute can be accessed by ->  objectName._ClassName__PrivateAttributeName\n",
    "PW._PWskills__course_price"
   ]
  },
  {
   "cell_type": "markdown",
   "id": "078022cf-c7a7-444f-b3aa-511a1f7f11a1",
   "metadata": {},
   "source": [
    "### How to make private and protected attribute/variable accessible to the outer world?\n",
    "\n",
    "* **@property** decorator is used to expose class property to outer world.\n",
    "* **@propert** has 3 methods - \n",
    "> * getters - allows external users to get/access values for protected or private attribute/variable\n",
    "> * setters - allows external users to set values for protected or private attribute/variable\n",
    "> * deleters - allows external users to delete protected or private attribute/variable"
   ]
  },
  {
   "cell_type": "code",
   "execution_count": 10,
   "id": "f2ac0e05-c13a-4fea-9d2f-129ca1a31854",
   "metadata": {},
   "outputs": [],
   "source": [
    "class PWskills1:\n",
    "    \n",
    "    # creating instance variable/attributes\n",
    "    def __init__(self, course_price, course_mentor, course_name):\n",
    "        self.__course_price = course_price    # private attribute/variable - outsiders will not be able to access it\n",
    "        self._course_mentor = course_mentor   # protected attribute/variable - outsiders will not be able to access it\n",
    "        self.course_name = course_name        # public attribute/variable - outsiders will be able to access it\n",
    "    \n",
    "    # creating an instance method\n",
    "    @property # in-built decorator is used to expose class property to outer world.\n",
    "    def course_price_access(self):\n",
    "        return self.__course_price"
   ]
  },
  {
   "cell_type": "code",
   "execution_count": 13,
   "id": "c54d3e51-fbc7-4213-959b-da4636433b50",
   "metadata": {},
   "outputs": [],
   "source": [
    "PW1 = PWskills1(3500, \"sudh & krish\", \"data science masters\")"
   ]
  },
  {
   "cell_type": "code",
   "execution_count": 15,
   "id": "aad1004a-cf35-4db7-b2d9-59c41228d019",
   "metadata": {},
   "outputs": [
    {
     "data": {
      "text/plain": [
       "3500"
      ]
     },
     "execution_count": 15,
     "metadata": {},
     "output_type": "execute_result"
    }
   ],
   "source": [
    "PW1.course_price_access # class propert is exposed to outside world using @property decorator\n",
    "\n",
    "# Note that we are not giving access to our actual instance variable/attribute.\n",
    "# We are giving access to a instance method which is returning the private attribute"
   ]
  },
  {
   "cell_type": "markdown",
   "id": "b7837415-d2b9-46ea-b8e9-d60322499815",
   "metadata": {},
   "source": [
    "### How to give access to the user to make modifications in private attribute/variable?\n",
    "\n",
    "* In OOPs concept class there is a property called **setter** which helps in allowing external users to set values for protected or private attribute/variable"
   ]
  },
  {
   "cell_type": "code",
   "execution_count": 16,
   "id": "56d1401a-b894-4b1a-818d-f26c0ff56cbb",
   "metadata": {},
   "outputs": [],
   "source": [
    "class PWskills2:\n",
    "    \n",
    "    # creating instance variable/attributes\n",
    "    def __init__(self, course_price, course_mentor, course_name):\n",
    "        self.__course_price = course_price    # private attribute/variable - outsiders will not be able to access it\n",
    "        self._course_mentor = course_mentor   # protected attribute/variable - outsiders will not be able to access it\n",
    "        self.course_name = course_name        # public attribute/variable - outsiders will be able to access it\n",
    "    \n",
    "    # creating an instance method\n",
    "    @property # in-built decorator is used to expose class property to outer world.\n",
    "    def course_price_access(self):  # creating an instance method\n",
    "        return self.__course_price\n",
    "    \n",
    "    # creating a setter to modify the value of private variable \n",
    "    @course_price_access.setter   # calling course_price_access because it is binded with @property decorator so it will be able to access it\n",
    "    def course_price_set(self, price):   # creating an instance method\n",
    "        if price <= 3500:\n",
    "            pass\n",
    "        else:\n",
    "            self.__course_price = price    # setting up private attribute/variable as per the value of parameter passed inside instance method"
   ]
  },
  {
   "cell_type": "code",
   "execution_count": 36,
   "id": "2c914513-4a1d-4469-a0f1-df4841e625e1",
   "metadata": {},
   "outputs": [],
   "source": [
    "PW2 = PWskills2(3500, \"sudh & krish\", \"data science masters\")"
   ]
  },
  {
   "cell_type": "code",
   "execution_count": 42,
   "id": "43a1b080-5caa-4722-b8d4-e9c0908a67fd",
   "metadata": {},
   "outputs": [
    {
     "data": {
      "text/plain": [
       "4500"
      ]
     },
     "execution_count": 42,
     "metadata": {},
     "output_type": "execute_result"
    }
   ],
   "source": [
    "PW2.course_price_access # external user with the help of this function will be able to access the price"
   ]
  },
  {
   "cell_type": "code",
   "execution_count": 43,
   "id": "f018fae0-ddf7-4485-bd13-657ebfaac58d",
   "metadata": {},
   "outputs": [],
   "source": [
    "PW2.course_price_set = 2300\n",
    "\n",
    "# will not change price since price < 3500\n",
    "# And as per condition to change price the price > 3500"
   ]
  },
  {
   "cell_type": "code",
   "execution_count": 44,
   "id": "30844483-c6f6-4163-8f78-567428c34468",
   "metadata": {},
   "outputs": [
    {
     "data": {
      "text/plain": [
       "4500"
      ]
     },
     "execution_count": 44,
     "metadata": {},
     "output_type": "execute_result"
    }
   ],
   "source": [
    "PW2.course_price_access"
   ]
  },
  {
   "cell_type": "code",
   "execution_count": 45,
   "id": "3538d8ff-cbca-4003-a7f3-6fb7983e0170",
   "metadata": {},
   "outputs": [],
   "source": [
    "PW2.course_price_set = 4500 # external user with the help of this function will be able to set the price"
   ]
  },
  {
   "cell_type": "code",
   "execution_count": 46,
   "id": "3777fb3d-7d43-40ea-b4e6-65404be2b5fe",
   "metadata": {},
   "outputs": [
    {
     "data": {
      "text/plain": [
       "4500"
      ]
     },
     "execution_count": 46,
     "metadata": {},
     "output_type": "execute_result"
    }
   ],
   "source": [
    "PW2.course_price_access # external user with the help of this function will be able to access the price"
   ]
  },
  {
   "cell_type": "markdown",
   "id": "7cb41367-4444-43ae-b179-1fd5d437d537",
   "metadata": {},
   "source": [
    "### How to give access to the user to delete the private attribute/variable?\n",
    "\n",
    "* In OOPs concept class there is a property called deleter which helps in allowing the external user to delete protected or private attribute/variable"
   ]
  },
  {
   "cell_type": "code",
   "execution_count": 47,
   "id": "c7af64b1-cce0-47b4-9456-e79b9f3c08dd",
   "metadata": {},
   "outputs": [],
   "source": [
    "class PWskills3:\n",
    "    \n",
    "    # creating instance variable/attributes\n",
    "    def __init__(self, course_price, course_mentor, course_name):\n",
    "        self.__course_price = course_price    # private attribute/variable - outsiders will not be able to access it\n",
    "        self._course_mentor = course_mentor   # protected attribute/variable - outsiders will not be able to access it\n",
    "        self.course_name = course_name        # public attribute/variable - outsiders will be able to access it\n",
    "    \n",
    "    # creating an instance method\n",
    "    @property # in-built decorator is used to expose class property to outer world.\n",
    "    def course_price_access(self):  # creating an instance method\n",
    "        return self.__course_price\n",
    "    \n",
    "    # creating a setter to modify the value of private variable \n",
    "    @course_price_access.setter   # calling course_price_access because it is binded with @property decorator so it will be able to access it\n",
    "    def course_price_set(self, price):   # creating an instance method\n",
    "        if price <= 3500:\n",
    "            pass\n",
    "        else:\n",
    "            self.__course_price = price    # setting up private attribute/variable as per the value of parameter passed inside instance method\n",
    "            \n",
    "    # creating a deleter to delete private variable\n",
    "    @course_price_access.deleter  # creating an instance method\n",
    "    def course_price_del(self):\n",
    "        del self.__course_price"
   ]
  },
  {
   "cell_type": "code",
   "execution_count": 48,
   "id": "4bd34205-2c11-4800-b426-b5f9efc44552",
   "metadata": {},
   "outputs": [],
   "source": [
    "PW3 = PWskills3(3500, \"sudh & krish\", \"data science masters\")"
   ]
  },
  {
   "cell_type": "code",
   "execution_count": 49,
   "id": "6b13ca8c-beb2-43f4-81ea-91ea7259eac5",
   "metadata": {},
   "outputs": [
    {
     "data": {
      "text/plain": [
       "3500"
      ]
     },
     "execution_count": 49,
     "metadata": {},
     "output_type": "execute_result"
    }
   ],
   "source": [
    "PW3.course_price_access # external user with the help of this function will be able to access the price"
   ]
  },
  {
   "cell_type": "code",
   "execution_count": 50,
   "id": "21da3cc4-d181-4498-a0a5-f9cb006ec635",
   "metadata": {},
   "outputs": [],
   "source": [
    "del PW3.course_price_del # external user with the help of this function will be able to delete the private variable course_price"
   ]
  },
  {
   "cell_type": "code",
   "execution_count": 51,
   "id": "e270417a-24a4-43b4-9b7d-3294f25d46dc",
   "metadata": {},
   "outputs": [
    {
     "ename": "AttributeError",
     "evalue": "'PWskills3' object has no attribute '_PWskills3__course_price'",
     "output_type": "error",
     "traceback": [
      "\u001b[0;31m---------------------------------------------------------------------------\u001b[0m",
      "\u001b[0;31mAttributeError\u001b[0m                            Traceback (most recent call last)",
      "Cell \u001b[0;32mIn[51], line 1\u001b[0m\n\u001b[0;32m----> 1\u001b[0m \u001b[43mPW3\u001b[49m\u001b[38;5;241;43m.\u001b[39;49m\u001b[43mcourse_price_access\u001b[49m\n",
      "Cell \u001b[0;32mIn[47], line 12\u001b[0m, in \u001b[0;36mPWskills3.course_price_access\u001b[0;34m(self)\u001b[0m\n\u001b[1;32m     10\u001b[0m \u001b[38;5;129m@property\u001b[39m \u001b[38;5;66;03m# in-built decorator is used to expose class property to outer world.\u001b[39;00m\n\u001b[1;32m     11\u001b[0m \u001b[38;5;28;01mdef\u001b[39;00m \u001b[38;5;21mcourse_price_access\u001b[39m(\u001b[38;5;28mself\u001b[39m):  \u001b[38;5;66;03m# creating an instance method\u001b[39;00m\n\u001b[0;32m---> 12\u001b[0m     \u001b[38;5;28;01mreturn\u001b[39;00m \u001b[38;5;28;43mself\u001b[39;49m\u001b[38;5;241;43m.\u001b[39;49m\u001b[43m__course_price\u001b[49m\n",
      "\u001b[0;31mAttributeError\u001b[0m: 'PWskills3' object has no attribute '_PWskills3__course_price'"
     ]
    }
   ],
   "source": [
    "PW3.course_price_access"
   ]
  },
  {
   "cell_type": "code",
   "execution_count": null,
   "id": "d442394d-c315-44be-8d63-9cf9315278dc",
   "metadata": {},
   "outputs": [],
   "source": []
  }
 ],
 "metadata": {
  "kernelspec": {
   "display_name": "Python 3 (ipykernel)",
   "language": "python",
   "name": "python3"
  },
  "language_info": {
   "codemirror_mode": {
    "name": "ipython",
    "version": 3
   },
   "file_extension": ".py",
   "mimetype": "text/x-python",
   "name": "python",
   "nbconvert_exporter": "python",
   "pygments_lexer": "ipython3",
   "version": "3.10.8"
  }
 },
 "nbformat": 4,
 "nbformat_minor": 5
}
