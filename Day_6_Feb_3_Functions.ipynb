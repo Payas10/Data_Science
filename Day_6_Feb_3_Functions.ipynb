{
 "cells": [
  {
   "cell_type": "markdown",
   "id": "2eaf6328-4e65-4609-9fe7-8ae102fdd69c",
   "metadata": {},
   "source": [
    "# Functions\n",
    "\n",
    "* inbuilt fn\n",
    "* user defined fn\n",
    "* Purpose - To break up a program into smaller, reusable pieces of code"
   ]
  },
  {
   "cell_type": "code",
   "execution_count": 1,
   "id": "8af1a254-d00c-4cf1-affc-e632ff6dadc7",
   "metadata": {},
   "outputs": [
    {
     "name": "stdout",
     "output_type": "stream",
     "text": [
      "This is my program\n"
     ]
    }
   ],
   "source": [
    "print(\"This is my program\") # print() is inbuilt fn"
   ]
  },
  {
   "cell_type": "code",
   "execution_count": 2,
   "id": "6320146c-2644-44cb-a120-419123b938d5",
   "metadata": {},
   "outputs": [],
   "source": [
    "l = [1,2,3,4,5]"
   ]
  },
  {
   "cell_type": "code",
   "execution_count": 3,
   "id": "5041d68f-72d7-4d0b-8bbe-e873f0cf4729",
   "metadata": {},
   "outputs": [
    {
     "data": {
      "text/plain": [
       "5"
      ]
     },
     "execution_count": 3,
     "metadata": {},
     "output_type": "execute_result"
    }
   ],
   "source": [
    "len(l) # len() is inbuilt fn"
   ]
  },
  {
   "cell_type": "markdown",
   "id": "0567e236-5397-4831-a46c-0f560a7decc9",
   "metadata": {},
   "source": [
    "### User defined fn\n",
    "\n",
    "def is used to define user-defined fn"
   ]
  },
  {
   "cell_type": "code",
   "execution_count": 4,
   "id": "93843ef5-81c2-476a-8e90-f7369b057f32",
   "metadata": {},
   "outputs": [
    {
     "ename": "SyntaxError",
     "evalue": "incomplete input (2731805091.py, line 1)",
     "output_type": "error",
     "traceback": [
      "\u001b[0;36m  Cell \u001b[0;32mIn[4], line 1\u001b[0;36m\u001b[0m\n\u001b[0;31m    def test(): # user defined the fn but this fn has no purpose so system will return error\u001b[0m\n\u001b[0m                                                                                            ^\u001b[0m\n\u001b[0;31mSyntaxError\u001b[0m\u001b[0;31m:\u001b[0m incomplete input\n"
     ]
    }
   ],
   "source": [
    "def test(): # user defined the fn but this fn has no purpose so system will return error"
   ]
  },
  {
   "cell_type": "code",
   "execution_count": 5,
   "id": "b319d19f-dce6-4cc5-9b21-fefeff6cd5c4",
   "metadata": {},
   "outputs": [],
   "source": [
    "def test():\n",
    "    pass"
   ]
  },
  {
   "cell_type": "code",
   "execution_count": 6,
   "id": "ec1aa288-53f0-484d-ab7e-616ecef52a1d",
   "metadata": {},
   "outputs": [],
   "source": [
    "def test1():\n",
    "    print(\"This is my very first function\")"
   ]
  },
  {
   "cell_type": "code",
   "execution_count": 7,
   "id": "6b29f282-88eb-4a47-84ca-6b214b6a0780",
   "metadata": {},
   "outputs": [
    {
     "name": "stdout",
     "output_type": "stream",
     "text": [
      "This is my very first function\n"
     ]
    }
   ],
   "source": [
    "test1() # function calling"
   ]
  },
  {
   "cell_type": "code",
   "execution_count": 8,
   "id": "0e28a34f-2be7-46eb-9aba-c390c5fbe887",
   "metadata": {},
   "outputs": [
    {
     "name": "stdout",
     "output_type": "stream",
     "text": [
      "This is my very first function\n"
     ]
    },
    {
     "ename": "TypeError",
     "evalue": "unsupported operand type(s) for +: 'NoneType' and 'str'",
     "output_type": "error",
     "traceback": [
      "\u001b[0;31m---------------------------------------------------------------------------\u001b[0m",
      "\u001b[0;31mTypeError\u001b[0m                                 Traceback (most recent call last)",
      "Cell \u001b[0;32mIn[8], line 1\u001b[0m\n\u001b[0;32m----> 1\u001b[0m \u001b[43mtest1\u001b[49m\u001b[43m(\u001b[49m\u001b[43m)\u001b[49m\u001b[43m \u001b[49m\u001b[38;5;241;43m+\u001b[39;49m\u001b[43m \u001b[49m\u001b[38;5;124;43m\"\u001b[39;49m\u001b[38;5;124;43mHello\u001b[39;49m\u001b[38;5;124;43m\"\u001b[39;49m\n\u001b[1;32m      3\u001b[0m \u001b[38;5;66;03m# if return is not set, then the function will return None type value\u001b[39;00m\n\u001b[1;32m      4\u001b[0m \u001b[38;5;66;03m# concatenation is possible for only string values\u001b[39;00m\n\u001b[1;32m      5\u001b[0m \u001b[38;5;66;03m# None type and string cannot be concatenated\u001b[39;00m\n",
      "\u001b[0;31mTypeError\u001b[0m: unsupported operand type(s) for +: 'NoneType' and 'str'"
     ]
    }
   ],
   "source": [
    "test1() + \"Hello\"\n",
    "\n",
    "# if return is not set, then the function will return None type value\n",
    "# concatenation is possible for only string values\n",
    "# None type and string cannot be concatenated"
   ]
  },
  {
   "cell_type": "code",
   "execution_count": 9,
   "id": "6c1dfee8-1212-4af5-8417-8ddf12f6616d",
   "metadata": {},
   "outputs": [
    {
     "name": "stdout",
     "output_type": "stream",
     "text": [
      "This is my very first function\n"
     ]
    },
    {
     "data": {
      "text/plain": [
       "NoneType"
      ]
     },
     "execution_count": 9,
     "metadata": {},
     "output_type": "execute_result"
    }
   ],
   "source": [
    "type(test1())"
   ]
  },
  {
   "cell_type": "code",
   "execution_count": 10,
   "id": "45d813e6-31ac-484b-957d-35030781d9ee",
   "metadata": {},
   "outputs": [],
   "source": [
    "def test2():\n",
    "    return \"This is function which will return string value\"\n",
    "\n",
    "# return is defined to return string values"
   ]
  },
  {
   "cell_type": "code",
   "execution_count": 11,
   "id": "4a3136a8-81ff-47a1-9fe8-705de7f8fbfa",
   "metadata": {},
   "outputs": [
    {
     "data": {
      "text/plain": [
       "'This is function which will return string value'"
      ]
     },
     "execution_count": 11,
     "metadata": {},
     "output_type": "execute_result"
    }
   ],
   "source": [
    "test2()"
   ]
  },
  {
   "cell_type": "code",
   "execution_count": 12,
   "id": "a9e63a25-8c92-4696-897e-8a90ce4c181e",
   "metadata": {},
   "outputs": [
    {
     "data": {
      "text/plain": [
       "str"
      ]
     },
     "execution_count": 12,
     "metadata": {},
     "output_type": "execute_result"
    }
   ],
   "source": [
    "type(test2())"
   ]
  },
  {
   "cell_type": "code",
   "execution_count": 13,
   "id": "3b02ebec-d03e-4688-bdc1-f889c0619fea",
   "metadata": {},
   "outputs": [
    {
     "data": {
      "text/plain": [
       "'This is function which will return string value Hello'"
      ]
     },
     "execution_count": 13,
     "metadata": {},
     "output_type": "execute_result"
    }
   ],
   "source": [
    "test2() + \" Hello\""
   ]
  },
  {
   "cell_type": "markdown",
   "id": "ab89bd71-83d8-41ef-a435-7ce86cc67d75",
   "metadata": {},
   "source": [
    "### Fn can return multiple obj class at a single time"
   ]
  },
  {
   "cell_type": "code",
   "execution_count": 14,
   "id": "5d314178-3798-4c33-8559-8cb513f10067",
   "metadata": {},
   "outputs": [],
   "source": [
    "def test3():\n",
    "    return 1, 4, \"pwskills\", 34.56, 1+2j"
   ]
  },
  {
   "cell_type": "code",
   "execution_count": 15,
   "id": "5c5ca3e4-aaa9-4cc6-8710-0f1a6fed4662",
   "metadata": {},
   "outputs": [
    {
     "data": {
      "text/plain": [
       "(1, 4, 'pwskills', 34.56, (1+2j))"
      ]
     },
     "execution_count": 15,
     "metadata": {},
     "output_type": "execute_result"
    }
   ],
   "source": [
    "test3() # Fn will retun all class type in a tuple"
   ]
  },
  {
   "cell_type": "code",
   "execution_count": 16,
   "id": "9ac7120d-72d9-47da-9533-0954e231f064",
   "metadata": {},
   "outputs": [
    {
     "data": {
      "text/plain": [
       "tuple"
      ]
     },
     "execution_count": 16,
     "metadata": {},
     "output_type": "execute_result"
    }
   ],
   "source": [
    "type(test3())"
   ]
  },
  {
   "cell_type": "code",
   "execution_count": 17,
   "id": "2e35988a-bd49-42e1-982d-f07a2b5d1907",
   "metadata": {},
   "outputs": [],
   "source": [
    "a = 1,2,3,4,5"
   ]
  },
  {
   "cell_type": "code",
   "execution_count": 18,
   "id": "0730f70a-4f6b-45b9-ad7b-467f373a1e2b",
   "metadata": {},
   "outputs": [
    {
     "data": {
      "text/plain": [
       "(1, 2, 3, 4, 5)"
      ]
     },
     "execution_count": 18,
     "metadata": {},
     "output_type": "execute_result"
    }
   ],
   "source": [
    "a"
   ]
  },
  {
   "cell_type": "code",
   "execution_count": 19,
   "id": "fb58ebc7-7e1b-4054-b486-e8d253482893",
   "metadata": {},
   "outputs": [],
   "source": [
    "a,b,c,d = 1,2,34.56,True # assigning multiple vales to multiple variables at same point of time"
   ]
  },
  {
   "cell_type": "code",
   "execution_count": 20,
   "id": "6446659e-eb62-4e40-b2ab-70776af6495e",
   "metadata": {},
   "outputs": [
    {
     "data": {
      "text/plain": [
       "1"
      ]
     },
     "execution_count": 20,
     "metadata": {},
     "output_type": "execute_result"
    }
   ],
   "source": [
    "a"
   ]
  },
  {
   "cell_type": "code",
   "execution_count": 21,
   "id": "6ff72ab7-307f-4130-8534-bc988283ee4c",
   "metadata": {},
   "outputs": [
    {
     "data": {
      "text/plain": [
       "2"
      ]
     },
     "execution_count": 21,
     "metadata": {},
     "output_type": "execute_result"
    }
   ],
   "source": [
    "b"
   ]
  },
  {
   "cell_type": "code",
   "execution_count": 22,
   "id": "b19fb453-fdb4-4065-9077-125227fc5840",
   "metadata": {},
   "outputs": [
    {
     "data": {
      "text/plain": [
       "34.56"
      ]
     },
     "execution_count": 22,
     "metadata": {},
     "output_type": "execute_result"
    }
   ],
   "source": [
    "c"
   ]
  },
  {
   "cell_type": "code",
   "execution_count": 23,
   "id": "0076f397-a7cc-4f05-9ef3-10bd4e3db90a",
   "metadata": {},
   "outputs": [
    {
     "data": {
      "text/plain": [
       "True"
      ]
     },
     "execution_count": 23,
     "metadata": {},
     "output_type": "execute_result"
    }
   ],
   "source": [
    "d"
   ]
  },
  {
   "cell_type": "code",
   "execution_count": 24,
   "id": "ec0d34fb-6298-4417-b866-99151c1f6f34",
   "metadata": {},
   "outputs": [
    {
     "data": {
      "text/plain": [
       "(1, 4, 'pwskills', 34.56, (1+2j))"
      ]
     },
     "execution_count": 24,
     "metadata": {},
     "output_type": "execute_result"
    }
   ],
   "source": [
    "test3()"
   ]
  },
  {
   "cell_type": "code",
   "execution_count": 25,
   "id": "2481227c-7b80-442b-8b18-ad509777520f",
   "metadata": {},
   "outputs": [
    {
     "data": {
      "text/plain": [
       "1"
      ]
     },
     "execution_count": 25,
     "metadata": {},
     "output_type": "execute_result"
    }
   ],
   "source": [
    "test3()[0]"
   ]
  },
  {
   "cell_type": "code",
   "execution_count": 26,
   "id": "cad034e6-eadd-43b3-93d4-6c50c6068c9c",
   "metadata": {},
   "outputs": [
    {
     "data": {
      "text/plain": [
       "4"
      ]
     },
     "execution_count": 26,
     "metadata": {},
     "output_type": "execute_result"
    }
   ],
   "source": [
    "test3()[1]"
   ]
  },
  {
   "cell_type": "code",
   "execution_count": 27,
   "id": "3dccab39-b8bd-42f7-9dd2-b5ba20a91ab3",
   "metadata": {},
   "outputs": [
    {
     "data": {
      "text/plain": [
       "'pwskills'"
      ]
     },
     "execution_count": 27,
     "metadata": {},
     "output_type": "execute_result"
    }
   ],
   "source": [
    "test3()[2]"
   ]
  },
  {
   "cell_type": "code",
   "execution_count": 28,
   "id": "354c3a55-b378-4be0-aa35-2bd93afe06c6",
   "metadata": {},
   "outputs": [
    {
     "data": {
      "text/plain": [
       "34.56"
      ]
     },
     "execution_count": 28,
     "metadata": {},
     "output_type": "execute_result"
    }
   ],
   "source": [
    "test3()[3]"
   ]
  },
  {
   "cell_type": "code",
   "execution_count": 29,
   "id": "3ec6cd9d-71eb-4f99-93e5-1acc6d3d380a",
   "metadata": {},
   "outputs": [],
   "source": [
    "a,b,c,d,e = test3() # assigning values to multiple variables using fun"
   ]
  },
  {
   "cell_type": "code",
   "execution_count": 30,
   "id": "e92ff994-6984-4a3d-85d6-55add76dfd0f",
   "metadata": {},
   "outputs": [
    {
     "data": {
      "text/plain": [
       "1"
      ]
     },
     "execution_count": 30,
     "metadata": {},
     "output_type": "execute_result"
    }
   ],
   "source": [
    "a"
   ]
  },
  {
   "cell_type": "code",
   "execution_count": 31,
   "id": "d1bb0bd8-8370-4356-a268-bf7df1a1d010",
   "metadata": {},
   "outputs": [
    {
     "data": {
      "text/plain": [
       "4"
      ]
     },
     "execution_count": 31,
     "metadata": {},
     "output_type": "execute_result"
    }
   ],
   "source": [
    "b"
   ]
  },
  {
   "cell_type": "code",
   "execution_count": 32,
   "id": "90f0960b-e512-4dd1-8561-dc5c901397ca",
   "metadata": {},
   "outputs": [
    {
     "data": {
      "text/plain": [
       "'pwskills'"
      ]
     },
     "execution_count": 32,
     "metadata": {},
     "output_type": "execute_result"
    }
   ],
   "source": [
    "c"
   ]
  },
  {
   "cell_type": "code",
   "execution_count": 33,
   "id": "f6b6bd01-2ff4-46fc-b314-66421c247bcb",
   "metadata": {},
   "outputs": [
    {
     "data": {
      "text/plain": [
       "34.56"
      ]
     },
     "execution_count": 33,
     "metadata": {},
     "output_type": "execute_result"
    }
   ],
   "source": [
    "d"
   ]
  },
  {
   "cell_type": "code",
   "execution_count": 34,
   "id": "547d20a0-bbd3-44cb-b2f1-e900adf52ace",
   "metadata": {},
   "outputs": [
    {
     "data": {
      "text/plain": [
       "(1+2j)"
      ]
     },
     "execution_count": 34,
     "metadata": {},
     "output_type": "execute_result"
    }
   ],
   "source": [
    "e"
   ]
  },
  {
   "cell_type": "code",
   "execution_count": 35,
   "id": "299d953e-de08-4f0e-ac20-64161ba73005",
   "metadata": {},
   "outputs": [],
   "source": [
    "def test4():\n",
    "    a = 3 * 4 + 5\n",
    "    return a"
   ]
  },
  {
   "cell_type": "code",
   "execution_count": 36,
   "id": "13c0a350-b78c-4e82-a194-9e54ccfab935",
   "metadata": {},
   "outputs": [
    {
     "data": {
      "text/plain": [
       "17"
      ]
     },
     "execution_count": 36,
     "metadata": {},
     "output_type": "execute_result"
    }
   ],
   "source": [
    "test4()"
   ]
  },
  {
   "cell_type": "code",
   "execution_count": 37,
   "id": "1ca2fbf6-a62a-454b-9dbc-c93871f06d19",
   "metadata": {},
   "outputs": [
    {
     "data": {
      "text/plain": [
       "int"
      ]
     },
     "execution_count": 37,
     "metadata": {},
     "output_type": "execute_result"
    }
   ],
   "source": [
    "type(test4())"
   ]
  },
  {
   "cell_type": "code",
   "execution_count": 38,
   "id": "d4d0d8b8-1ead-4d85-81b6-2dad21b74eb9",
   "metadata": {},
   "outputs": [],
   "source": [
    "def test5(a,b):\n",
    "    c = a + b\n",
    "    return c\n",
    "\n",
    "# Fn defined with arguements"
   ]
  },
  {
   "cell_type": "code",
   "execution_count": 39,
   "id": "268a868a-eb4e-43eb-b99f-d318767f3125",
   "metadata": {},
   "outputs": [
    {
     "data": {
      "text/plain": [
       "4"
      ]
     },
     "execution_count": 39,
     "metadata": {},
     "output_type": "execute_result"
    }
   ],
   "source": [
    "test5(1,3)"
   ]
  },
  {
   "cell_type": "code",
   "execution_count": 40,
   "id": "29f8e2fc-d97a-4b06-a5be-37011a11cfde",
   "metadata": {},
   "outputs": [
    {
     "data": {
      "text/plain": [
       "12"
      ]
     },
     "execution_count": 40,
     "metadata": {},
     "output_type": "execute_result"
    }
   ],
   "source": [
    "test5(4,8)"
   ]
  },
  {
   "cell_type": "code",
   "execution_count": 41,
   "id": "c9473f1f-ab0f-42b7-8f2e-4137e1bb86b4",
   "metadata": {},
   "outputs": [
    {
     "data": {
      "text/plain": [
       "'HelloWorld'"
      ]
     },
     "execution_count": 41,
     "metadata": {},
     "output_type": "execute_result"
    }
   ],
   "source": [
    "test5(\"Hello\" , \"World\")"
   ]
  },
  {
   "cell_type": "code",
   "execution_count": 42,
   "id": "47cc3e48-4068-4b29-ba0a-87a4e76b498e",
   "metadata": {},
   "outputs": [
    {
     "data": {
      "text/plain": [
       "[1, 2, 3, 4, 5, 6, 7, 8, 9]"
      ]
     },
     "execution_count": 42,
     "metadata": {},
     "output_type": "execute_result"
    }
   ],
   "source": [
    "test5([1,2,3,4],[5,6,7,8,9])"
   ]
  },
  {
   "cell_type": "code",
   "execution_count": 43,
   "id": "95d0b2c9-72fa-45b9-86bb-6ce60cf6073e",
   "metadata": {},
   "outputs": [
    {
     "data": {
      "text/plain": [
       "'HelloWorld'"
      ]
     },
     "execution_count": 43,
     "metadata": {},
     "output_type": "execute_result"
    }
   ],
   "source": [
    "test5(b = \"World\" , a = \"Hello\")"
   ]
  },
  {
   "cell_type": "code",
   "execution_count": 44,
   "id": "e2910a27-6640-4e10-916a-f21d393e7de5",
   "metadata": {},
   "outputs": [],
   "source": [
    "l = [1,2,3,4,5,\"hello\",\"pwskills\",[1,2,3,4,45]]"
   ]
  },
  {
   "cell_type": "code",
   "execution_count": 45,
   "id": "ed88c3dd-3fe1-4931-abae-492acdc73ec5",
   "metadata": {},
   "outputs": [],
   "source": [
    "# Task - create a function which will take list as a input and give me a final list with all the numeric value"
   ]
  },
  {
   "cell_type": "code",
   "execution_count": 46,
   "id": "6c663733-0566-481c-9f3e-86222ec961de",
   "metadata": {},
   "outputs": [],
   "source": [
    "def test6(a):\n",
    "    n = []\n",
    "    for i in a:\n",
    "        if type(i) == int or type(i) == float:\n",
    "            n.append(i)\n",
    "    return n"
   ]
  },
  {
   "cell_type": "code",
   "execution_count": 47,
   "id": "83c033d0-5aa7-45c4-a94e-473e8dfec913",
   "metadata": {},
   "outputs": [
    {
     "data": {
      "text/plain": [
       "[1, 2, 3, 4, 5]"
      ]
     },
     "execution_count": 47,
     "metadata": {},
     "output_type": "execute_result"
    }
   ],
   "source": [
    "test6(l)"
   ]
  },
  {
   "cell_type": "code",
   "execution_count": 48,
   "id": "4deaf400-fb26-4975-8d21-529e194126af",
   "metadata": {},
   "outputs": [
    {
     "data": {
      "text/plain": [
       "[1, 2, 3, 4, 5, 'hello', 'pwskills', [1, 2, 3, 4, 45]]"
      ]
     },
     "execution_count": 48,
     "metadata": {},
     "output_type": "execute_result"
    }
   ],
   "source": [
    "l"
   ]
  },
  {
   "cell_type": "code",
   "execution_count": 49,
   "id": "6436d8aa-3fe9-4bd3-9482-a87d9ba261aa",
   "metadata": {},
   "outputs": [],
   "source": [
    "# Task - also gives values from the nested list"
   ]
  },
  {
   "cell_type": "code",
   "execution_count": 50,
   "id": "8cc5b515-f0a5-4602-9462-145aa86ba236",
   "metadata": {},
   "outputs": [],
   "source": [
    "def test7(a):\n",
    "    n = []\n",
    "    for i in a:\n",
    "        if type(i) == list:\n",
    "            for j in i:\n",
    "                if type(j) == int or type(j) == float:\n",
    "                    n.append(j)\n",
    "        else:\n",
    "            if type(i) == int or type(i) == float:\n",
    "                n.append(i)\n",
    "    return n"
   ]
  },
  {
   "cell_type": "code",
   "execution_count": 51,
   "id": "e4f49c83-e9e9-4462-b736-27d0cc2532b1",
   "metadata": {},
   "outputs": [
    {
     "data": {
      "text/plain": [
       "[1, 2, 3, 4, 5, 1, 2, 3, 4, 45]"
      ]
     },
     "execution_count": 51,
     "metadata": {},
     "output_type": "execute_result"
    }
   ],
   "source": [
    "test7(l)"
   ]
  },
  {
   "cell_type": "code",
   "execution_count": 52,
   "id": "545ae26c-f0fb-4865-aeeb-327f790646c6",
   "metadata": {},
   "outputs": [
    {
     "data": {
      "text/plain": [
       "[1, 2, 3, 4, 5, 'hello', 'pwskills', [1, 2, 3, 4, 45]]"
      ]
     },
     "execution_count": 52,
     "metadata": {},
     "output_type": "execute_result"
    }
   ],
   "source": [
    "l"
   ]
  },
  {
   "cell_type": "markdown",
   "id": "0ca4ebe0-8ee8-42a0-be30-d2ff122edc2e",
   "metadata": {},
   "source": [
    "## args and kwargs"
   ]
  },
  {
   "cell_type": "code",
   "execution_count": 53,
   "id": "b25e9998-09cf-4a65-8dbf-0b81f394809a",
   "metadata": {},
   "outputs": [],
   "source": [
    "def test(a,b,c,d,e):\n",
    "    pass"
   ]
  },
  {
   "cell_type": "code",
   "execution_count": 54,
   "id": "cb94e112-62de-49a5-9126-68490f0f34a6",
   "metadata": {},
   "outputs": [],
   "source": [
    "test(1,2,3,4,5)"
   ]
  },
  {
   "cell_type": "code",
   "execution_count": 55,
   "id": "b181830a-ff55-478b-bad5-01cfbf5b66f5",
   "metadata": {},
   "outputs": [
    {
     "ename": "TypeError",
     "evalue": "test() takes 5 positional arguments but 7 were given",
     "output_type": "error",
     "traceback": [
      "\u001b[0;31m---------------------------------------------------------------------------\u001b[0m",
      "\u001b[0;31mTypeError\u001b[0m                                 Traceback (most recent call last)",
      "Cell \u001b[0;32mIn[55], line 1\u001b[0m\n\u001b[0;32m----> 1\u001b[0m \u001b[43mtest\u001b[49m\u001b[43m(\u001b[49m\u001b[38;5;241;43m1\u001b[39;49m\u001b[43m,\u001b[49m\u001b[38;5;241;43m2\u001b[39;49m\u001b[43m,\u001b[49m\u001b[38;5;241;43m3\u001b[39;49m\u001b[43m,\u001b[49m\u001b[38;5;241;43m4\u001b[39;49m\u001b[43m,\u001b[49m\u001b[38;5;241;43m5\u001b[39;49m\u001b[43m,\u001b[49m\u001b[38;5;241;43m6\u001b[39;49m\u001b[43m,\u001b[49m\u001b[38;5;241;43m7\u001b[39;49m\u001b[43m)\u001b[49m\n\u001b[1;32m      3\u001b[0m \u001b[38;5;66;03m# returns error because we are passing more number of arguements than define in the function\u001b[39;00m\n\u001b[1;32m      4\u001b[0m \u001b[38;5;66;03m# i.e passing 7 arguements when function can only take 5\u001b[39;00m\n",
      "\u001b[0;31mTypeError\u001b[0m: test() takes 5 positional arguments but 7 were given"
     ]
    }
   ],
   "source": [
    "test(1,2,3,4,5,6,7)\n",
    "\n",
    "# returns error because we are passing more number of arguements than define in the function\n",
    "# i.e passing 7 arguements when function can only take 5"
   ]
  },
  {
   "cell_type": "code",
   "execution_count": 57,
   "id": "d843c213-c09a-4f8e-a9d7-abca80d6586a",
   "metadata": {},
   "outputs": [],
   "source": [
    "# to tackle above problem instead of defining no. of arguements, we define *args\n",
    "# this way we can pass any no. of arguements\n",
    "# passing will not get restricted by the no. of elements we define in function arguements\n",
    "\n",
    "def test_1(*args):\n",
    "    return args"
   ]
  },
  {
   "cell_type": "code",
   "execution_count": 58,
   "id": "5c871972-5037-44b2-b189-5db9199e7156",
   "metadata": {},
   "outputs": [
    {
     "data": {
      "text/plain": [
       "(2,)"
      ]
     },
     "execution_count": 58,
     "metadata": {},
     "output_type": "execute_result"
    }
   ],
   "source": [
    "test_1(2)"
   ]
  },
  {
   "cell_type": "code",
   "execution_count": 61,
   "id": "03cb1df4-c38e-4377-b457-733829e41ca9",
   "metadata": {},
   "outputs": [
    {
     "data": {
      "text/plain": [
       "(1, 2, 3, 4, 5)"
      ]
     },
     "execution_count": 61,
     "metadata": {},
     "output_type": "execute_result"
    }
   ],
   "source": [
    "test_1(1,2,3,4,5) # returns a tuple"
   ]
  },
  {
   "cell_type": "code",
   "execution_count": 62,
   "id": "cef35c61-e597-4177-8b04-7250db0c290c",
   "metadata": {},
   "outputs": [
    {
     "data": {
      "text/plain": [
       "('hello', [1, 2, 3, 4, 5], (1, 2, 3, 4, 5))"
      ]
     },
     "execution_count": 62,
     "metadata": {},
     "output_type": "execute_result"
    }
   ],
   "source": [
    "test_1(\"hello\", [1,2,3,4,5], (1,2,3,4,5)) # returns a tuple "
   ]
  },
  {
   "cell_type": "code",
   "execution_count": 64,
   "id": "c1c3f6bd-de83-41f0-850c-18e4fe47738e",
   "metadata": {},
   "outputs": [],
   "source": [
    "# args is not a keyword but is widely used\n",
    "# you can add your name instead of args and function will still work\n",
    "\n",
    "def test_2(*hello):\n",
    "    return hello"
   ]
  },
  {
   "cell_type": "code",
   "execution_count": 65,
   "id": "443fbc9c-9aee-4d3f-8260-e1723588e68c",
   "metadata": {},
   "outputs": [
    {
     "data": {
      "text/plain": [
       "(1, 2, 3, 4, 5)"
      ]
     },
     "execution_count": 65,
     "metadata": {},
     "output_type": "execute_result"
    }
   ],
   "source": [
    "test_2(1,2,3,4,5)"
   ]
  },
  {
   "cell_type": "code",
   "execution_count": 67,
   "id": "6725e797-d6ae-4baa-a8f2-3f80bbbded11",
   "metadata": {},
   "outputs": [],
   "source": [
    "def test_3(*args, a):\n",
    "    return args, a"
   ]
  },
  {
   "cell_type": "code",
   "execution_count": 69,
   "id": "89e29f64-3e17-4b3b-82fe-94bae994a295",
   "metadata": {},
   "outputs": [
    {
     "ename": "TypeError",
     "evalue": "test_3() missing 1 required keyword-only argument: 'a'",
     "output_type": "error",
     "traceback": [
      "\u001b[0;31m---------------------------------------------------------------------------\u001b[0m",
      "\u001b[0;31mTypeError\u001b[0m                                 Traceback (most recent call last)",
      "Cell \u001b[0;32mIn[69], line 1\u001b[0m\n\u001b[0;32m----> 1\u001b[0m \u001b[43mtest_3\u001b[49m\u001b[43m(\u001b[49m\u001b[38;5;241;43m3\u001b[39;49m\u001b[43m)\u001b[49m \u001b[38;5;66;03m# single arguement is given which is considered for *args, arguement in 'a' is not passed \u001b[39;00m\n",
      "\u001b[0;31mTypeError\u001b[0m: test_3() missing 1 required keyword-only argument: 'a'"
     ]
    }
   ],
   "source": [
    "test_3(3) # single arguement is given which is considered for *args, arguement in 'a' is not passed "
   ]
  },
  {
   "cell_type": "code",
   "execution_count": 70,
   "id": "c1bfef0b-64bd-40ac-996b-d79acca95fd0",
   "metadata": {},
   "outputs": [
    {
     "data": {
      "text/plain": [
       "((1, 2, 3, 4), 'hello')"
      ]
     },
     "execution_count": 70,
     "metadata": {},
     "output_type": "execute_result"
    }
   ],
   "source": [
    "test_3(1,2,3,4 , a='hello')"
   ]
  },
  {
   "cell_type": "code",
   "execution_count": 75,
   "id": "d7283d07-28fc-4188-add8-b5fd4be72884",
   "metadata": {},
   "outputs": [],
   "source": [
    "# function that that takes collection of datatypes and returns only lists inside a list\n",
    "def test_4(*args):\n",
    "    l = []\n",
    "    for i in args:\n",
    "        if type(i) == list:\n",
    "            l.append(i)\n",
    "    return l"
   ]
  },
  {
   "cell_type": "code",
   "execution_count": 76,
   "id": "78994feb-f5fa-4614-908b-5a0400fda34b",
   "metadata": {},
   "outputs": [
    {
     "data": {
      "text/plain": [
       "[[1, 2, 3, 4, 4], [4, 5, 6], [7, 8, 9]]"
      ]
     },
     "execution_count": 76,
     "metadata": {},
     "output_type": "execute_result"
    }
   ],
   "source": [
    "test_4(1,2,3, [1,2,3,4,4], (1,2,3,4,4), \"hello\", [4,5,6], [7,8,9])"
   ]
  },
  {
   "cell_type": "markdown",
   "id": "f997440f-ad6a-47f0-9377-4a2a2025c7d4",
   "metadata": {},
   "source": [
    "### kwargs\n",
    "\n",
    "kwargs returns dictionary with key and value pair"
   ]
  },
  {
   "cell_type": "code",
   "execution_count": 77,
   "id": "8b088d0a-ba7b-449a-bb66-66a568087f46",
   "metadata": {},
   "outputs": [],
   "source": [
    "# define kwargs as **kwargs\n",
    "\n",
    "def test_5(**kwargs):\n",
    "    return kwargs"
   ]
  },
  {
   "cell_type": "code",
   "execution_count": 80,
   "id": "cc8ec01d-cc68-4d13-88ce-3896ed129909",
   "metadata": {},
   "outputs": [
    {
     "data": {
      "text/plain": [
       "{}"
      ]
     },
     "execution_count": 80,
     "metadata": {},
     "output_type": "execute_result"
    }
   ],
   "source": [
    "test_5()"
   ]
  },
  {
   "cell_type": "code",
   "execution_count": 81,
   "id": "f2d5388d-538a-4a51-ba02-fe93bc13158f",
   "metadata": {},
   "outputs": [
    {
     "data": {
      "text/plain": [
       "dict"
      ]
     },
     "execution_count": 81,
     "metadata": {},
     "output_type": "execute_result"
    }
   ],
   "source": [
    "type(test_5())"
   ]
  },
  {
   "cell_type": "code",
   "execution_count": 83,
   "id": "55f6a22a-02f0-4d29-8a6d-6ef51b6ea319",
   "metadata": {},
   "outputs": [
    {
     "data": {
      "text/plain": [
       "{'a': 23, 'b': 39, 'c': [1, 2, 3, 4], 'd': ('pwskills', 'hello')}"
      ]
     },
     "execution_count": 83,
     "metadata": {},
     "output_type": "execute_result"
    }
   ],
   "source": [
    "test_5(a=23, b=39, c=[1,2,3,4], d=(\"pwskills\",\"hello\"))"
   ]
  },
  {
   "cell_type": "code",
   "execution_count": 90,
   "id": "463380cf-8ee6-4fdf-b94d-f85724fd43a2",
   "metadata": {},
   "outputs": [],
   "source": [
    "# function to return key and value if value is list\n",
    "\n",
    "def test_6(**kwargs):\n",
    "    for i in kwargs.keys():\n",
    "        if type(kwargs[i]) == list:\n",
    "            return i, kwargs[i]\n",
    "        \n",
    "# if multiple list are there, returns only first value that it find"
   ]
  },
  {
   "cell_type": "code",
   "execution_count": 91,
   "id": "29ab4ac6-c275-4f5b-8159-5505ecdfa8ae",
   "metadata": {},
   "outputs": [
    {
     "data": {
      "text/plain": [
       "('c', [1, 2, 3, 4])"
      ]
     },
     "execution_count": 91,
     "metadata": {},
     "output_type": "execute_result"
    }
   ],
   "source": [
    "test_6(a=23, b=39, c=[1,2,3,4], d=(\"pwskills\",\"hello\"))"
   ]
  },
  {
   "cell_type": "code",
   "execution_count": 92,
   "id": "ce80f100-cf62-4b78-81af-f2f92fc0d26b",
   "metadata": {},
   "outputs": [],
   "source": [
    "def test_7(*args, **kwargs):\n",
    "    return args, kwargs"
   ]
  },
  {
   "cell_type": "code",
   "execution_count": 94,
   "id": "8e478a73-f32b-482e-ad41-71b0ce87ce15",
   "metadata": {},
   "outputs": [
    {
     "data": {
      "text/plain": [
       "((1, 2, 3, 4), {'a': 'hello', 'b': 'pwskills', 'c': 28})"
      ]
     },
     "execution_count": 94,
     "metadata": {},
     "output_type": "execute_result"
    }
   ],
   "source": [
    "test_7(1,2,3,4 , a=\"hello\", b=\"pwskills\", c=28)\n",
    "\n",
    "# returns tuple for args\n",
    "# returns dict for kwargs"
   ]
  },
  {
   "cell_type": "markdown",
   "id": "9de36713-271f-4399-be7f-efbccdd44663",
   "metadata": {},
   "source": [
    "## Generator Functions\n",
    "\n",
    "* Generator function generates a sequence of values\n",
    "* These functions use \"yield\" instead of \"return\"\n",
    "\n",
    "> * Note - 1. Normal functions use the return statement, while generator functions use the yield statement\n",
    "> * Note - 2. Purpose of iterator - To allow for efficient access to elements in a sequence one at a time (e.g. in for loop 'i' is an iterator)\n"
   ]
  },
  {
   "cell_type": "code",
   "execution_count": 96,
   "id": "8905eec0-5a19-4152-9d06-693b11f360ec",
   "metadata": {},
   "outputs": [
    {
     "data": {
      "text/plain": [
       "range(1, 11)"
      ]
     },
     "execution_count": 96,
     "metadata": {},
     "output_type": "execute_result"
    }
   ],
   "source": [
    "range(1,11)\n",
    "\n",
    "# range is a generator function, but it does not print values until passed in for loop and print() is used"
   ]
  },
  {
   "cell_type": "code",
   "execution_count": 97,
   "id": "975692d8-4104-437c-a281-00841d7c3937",
   "metadata": {},
   "outputs": [
    {
     "name": "stdout",
     "output_type": "stream",
     "text": [
      "1\n",
      "2\n",
      "3\n",
      "4\n",
      "5\n",
      "6\n",
      "7\n",
      "8\n",
      "9\n",
      "10\n"
     ]
    }
   ],
   "source": [
    "for i in range(1,11):\n",
    "    print(i)"
   ]
  },
  {
   "cell_type": "code",
   "execution_count": 98,
   "id": "2a7dc4fa-63b9-4da3-9edc-bb4fb06d137b",
   "metadata": {},
   "outputs": [],
   "source": [
    "l = [1,2,3,4,4,5,6,7,8,7, \"hello\" , \"pwskills\"]"
   ]
  },
  {
   "cell_type": "code",
   "execution_count": 99,
   "id": "f9c9704f-325c-4ac7-b737-60725c32cddd",
   "metadata": {},
   "outputs": [],
   "source": [
    "# fn that will take list as an argument and return all the integer values from list in another list\n",
    "\n",
    "def test_8(a):\n",
    "    l = []\n",
    "    for i in a:\n",
    "        if type(i) == int:\n",
    "            l.append(i)\n",
    "    return l"
   ]
  },
  {
   "cell_type": "code",
   "execution_count": 104,
   "id": "36fabbff-6fdc-473e-84f7-101bb6e16d33",
   "metadata": {},
   "outputs": [
    {
     "data": {
      "text/plain": [
       "[1, 2, 3, 4, 4, 5, 6, 7, 8, 7]"
      ]
     },
     "execution_count": 104,
     "metadata": {},
     "output_type": "execute_result"
    }
   ],
   "source": [
    "test_8(l) # it is also generating values but consuming memory ot store those values"
   ]
  },
  {
   "cell_type": "markdown",
   "id": "b6c8849a-09dd-4844-91ed-684e7efb6eb9",
   "metadata": {},
   "source": [
    "### to create generator function \"yield\" keyword is used"
   ]
  },
  {
   "cell_type": "code",
   "execution_count": 101,
   "id": "ca17c2e3-f6ed-4b7a-8de6-05a055f2bd30",
   "metadata": {},
   "outputs": [
    {
     "data": {
      "text/plain": [
       "'\\nFibonacci : \\n\\n    0,1,1,2,3,5,8,13,21,34,...\\n'"
      ]
     },
     "execution_count": 101,
     "metadata": {},
     "output_type": "execute_result"
    }
   ],
   "source": [
    "\"\"\"\n",
    "Fibonacci : \n",
    "\n",
    "    0,1,1,2,3,5,8,13,21,34,...\n",
    "\"\"\""
   ]
  },
  {
   "cell_type": "code",
   "execution_count": 102,
   "id": "450b7a1e-935d-4407-b934-1fffec20b13e",
   "metadata": {},
   "outputs": [],
   "source": [
    "# generator fn to create fibonacci series\n",
    "\n",
    "def test_fib(n):\n",
    "    a,b = 0,1\n",
    "    for i in range(n):\n",
    "        yield a\n",
    "        a,b = b, a+b"
   ]
  },
  {
   "cell_type": "code",
   "execution_count": 103,
   "id": "1fe595e2-3e01-4b86-90d1-6ce70d9ba059",
   "metadata": {},
   "outputs": [
    {
     "data": {
      "text/plain": [
       "<generator object test_fib at 0x7f83b17f0ba0>"
      ]
     },
     "execution_count": 103,
     "metadata": {},
     "output_type": "execute_result"
    }
   ],
   "source": [
    "test_fib(10)"
   ]
  },
  {
   "cell_type": "code",
   "execution_count": 105,
   "id": "479508b9-d5c0-4e81-a599-8e9ef72836a3",
   "metadata": {},
   "outputs": [
    {
     "name": "stdout",
     "output_type": "stream",
     "text": [
      "0\n",
      "1\n",
      "1\n",
      "2\n",
      "3\n",
      "5\n",
      "8\n",
      "13\n",
      "21\n",
      "34\n"
     ]
    }
   ],
   "source": [
    "# it is like range function.\n",
    "# it will generate vaules when passed through for loop and print()\n",
    "# this way it is not consuming any memory \n",
    "# as it is not storing any values and generating new value based on previous value\n",
    "\n",
    "for i in test_fib(10):\n",
    "    print(i)"
   ]
  },
  {
   "cell_type": "code",
   "execution_count": 112,
   "id": "5e783e29-6d50-443f-8833-92971a9eba97",
   "metadata": {},
   "outputs": [
    {
     "name": "stdout",
     "output_type": "stream",
     "text": [
      "0 1 1 2 3 5 8 13 21 34 "
     ]
    }
   ],
   "source": [
    "for i in test_fib(10):\n",
    "    print(i, end = \" \")"
   ]
  },
  {
   "cell_type": "code",
   "execution_count": null,
   "id": "9a8478cb-f465-48ff-9799-57366b561016",
   "metadata": {},
   "outputs": [],
   "source": []
  }
 ],
 "metadata": {
  "kernelspec": {
   "display_name": "Python 3 (ipykernel)",
   "language": "python",
   "name": "python3"
  },
  "language_info": {
   "codemirror_mode": {
    "name": "ipython",
    "version": 3
   },
   "file_extension": ".py",
   "mimetype": "text/x-python",
   "name": "python",
   "nbconvert_exporter": "python",
   "pygments_lexer": "ipython3",
   "version": "3.10.8"
  }
 },
 "nbformat": 4,
 "nbformat_minor": 5
}
