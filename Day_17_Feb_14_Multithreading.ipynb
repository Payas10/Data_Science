{
 "cells": [
  {
   "cell_type": "markdown",
   "id": "2d00e92f-9147-404e-a694-2d599b43ac42",
   "metadata": {},
   "source": [
    "# MultiThreading"
   ]
  },
  {
   "cell_type": "markdown",
   "id": "50e97fa3-d22c-4b0f-9f57-3030fafadd91",
   "metadata": {},
   "source": [
    "* Lets suppose that you have a quad core processor then in that processor there will be 4 cores say C1, C2, C3 and C4.\n",
    "* Lets say in C1 - program 1 will execute, in C2 - Pr2 will execute, in C3 - Pr3 will execute and in C4 - Pr4 will execute.\n",
    "* Now if I want to run program 1 for 4 times or 5 times (multiple times) in the same core (i.e. C1), then how it can be done?\n",
    "* This is where the concept of threading or mutithreading comes in.\n",
    "* Threading will try to create multiple threads or multiple processes or sub-processes of the same program in the same core and in the consecutive order (one by one or one afetr other) it will execute it (i.e execute those threads).\n",
    "* So basically in the single core we are occupying all the resources and then are able to execute a program multiple times in the same core."
   ]
  },
  {
   "cell_type": "code",
   "execution_count": 1,
   "id": "d5bb94e4-0514-4ec4-803e-c44099e58cc2",
   "metadata": {},
   "outputs": [],
   "source": [
    "import threading"
   ]
  },
  {
   "cell_type": "code",
   "execution_count": 2,
   "id": "adcf3b7f-b3a8-4a0c-84d6-6d135d4a7c55",
   "metadata": {},
   "outputs": [],
   "source": [
    "def test(id):\n",
    "    print(\"this is my test id: %d\" % id)"
   ]
  },
  {
   "cell_type": "code",
   "execution_count": 3,
   "id": "50d4e422-2c67-4b4c-9910-7c1ce9009f42",
   "metadata": {},
   "outputs": [
    {
     "name": "stdout",
     "output_type": "stream",
     "text": [
      "this is my test id: 10\n"
     ]
    }
   ],
   "source": [
    "test(10)"
   ]
  },
  {
   "cell_type": "code",
   "execution_count": 4,
   "id": "53e68979-8db1-4bac-9b1d-6c10ed7d2244",
   "metadata": {},
   "outputs": [
    {
     "name": "stdout",
     "output_type": "stream",
     "text": [
      "this is my test id: 1\n"
     ]
    }
   ],
   "source": [
    "test(1)"
   ]
  },
  {
   "cell_type": "code",
   "execution_count": 5,
   "id": "10c74484-028c-4ea6-98e1-52c37495b8f0",
   "metadata": {},
   "outputs": [
    {
     "name": "stdout",
     "output_type": "stream",
     "text": [
      "this is my test id: 3\n"
     ]
    }
   ],
   "source": [
    "test(3)"
   ]
  },
  {
   "cell_type": "markdown",
   "id": "de45be69-e04d-4129-8d01-7594b8a16f07",
   "metadata": {},
   "source": [
    "#### In above cas the function is being called 3 times or thrice with diff. diff. input. But waht if I want to call the function together/simultaneously in automatic order.\n",
    "\n",
    "#### How it can be achieved? \n",
    "\n",
    "#### This implementation is possible with the help of threading."
   ]
  },
  {
   "cell_type": "code",
   "execution_count": 6,
   "id": "d4b8d69a-7ad1-4075-8dfe-cf9365fe711b",
   "metadata": {},
   "outputs": [],
   "source": [
    "thread = [threading.Thread(target = test, args = (i,)) for i in [10, 1, 3]]"
   ]
  },
  {
   "cell_type": "code",
   "execution_count": 7,
   "id": "279aade9-1dd7-4d38-9fac-91d71b2fa311",
   "metadata": {},
   "outputs": [
    {
     "data": {
      "text/plain": [
       "[<Thread(Thread-5 (test), initial)>,\n",
       " <Thread(Thread-6 (test), initial)>,\n",
       " <Thread(Thread-7 (test), initial)>]"
      ]
     },
     "execution_count": 7,
     "metadata": {},
     "output_type": "execute_result"
    }
   ],
   "source": [
    "thread"
   ]
  },
  {
   "cell_type": "code",
   "execution_count": 8,
   "id": "4051aded-a322-4c80-975e-d4e34fe2352c",
   "metadata": {},
   "outputs": [],
   "source": [
    "# So in the single core 3 threads is been created as can be observed in the above output."
   ]
  },
  {
   "cell_type": "code",
   "execution_count": 9,
   "id": "0cc04aff-e182-42bb-b236-6825d4fdf103",
   "metadata": {},
   "outputs": [
    {
     "name": "stdout",
     "output_type": "stream",
     "text": [
      "this is my test id: 10\n",
      "this is my test id: 1\n",
      "this is my test id: 3\n"
     ]
    }
   ],
   "source": [
    "for t in thread:\n",
    "    t.start()\n",
    "    \n",
    "# this simply means that it'll start all of the three programs (techinally I have only one program i.e test())\n",
    "# But in this case I would like to call it thrice so I have three program \n",
    "# i.e same program with variable 10, same program with variable 1, same program with variable 3\n",
    "# And hence the test() can be called 3 times with diff. variables (i.e 10, 1 and 3 respectively)\n",
    "# this is the beauty of thread.And all of thses 3 programs is getting executed in the single core by-default."
   ]
  },
  {
   "cell_type": "markdown",
   "id": "377a8482-a288-4bc6-b258-21c1dd99bfc9",
   "metadata": {},
   "source": [
    "### Problem statement\n",
    "\n",
    "Let say there a 3 links which contains data in it. The requirement is to fetch the data from all those 3 links and store the data inside the local system i.e inside a file it is supposed to be stored.\n",
    "\n",
    "This requirement can be fulfilled by using thread."
   ]
  },
  {
   "cell_type": "code",
   "execution_count": 10,
   "id": "207be932-6c06-4e6c-a082-8c4a343bef61",
   "metadata": {},
   "outputs": [],
   "source": [
    "import urllib.request    # library to fetch data from url link\n",
    "# from Url it'll be able to request all the data and give it to me and then it can be stored\n",
    "\n",
    "# to get the data from url and store it in file internally with name as filename\n",
    "def file_download(url, filename) :\n",
    "    urllib.request.urlretrieve(url, filename)      "
   ]
  },
  {
   "cell_type": "code",
   "execution_count": 15,
   "id": "e1b2aca5-5500-451a-bd74-bb74154bd872",
   "metadata": {},
   "outputs": [],
   "source": [
    "file_download(\"https://raw.githubusercontent.com/itsfoss/text-files/master/agatha.txt\", \"test_data.txt\")"
   ]
  },
  {
   "cell_type": "markdown",
   "id": "bbf6aa0d-6f21-46a8-a373-0c1acbb8fd38",
   "metadata": {},
   "source": [
    "Now to fetch data from 3 different files we are not going to write and call the functions 3 time by passing 3 different arguements everytime. This is not an efficient process.\n",
    "</br>\n",
    "The simple way to do this is to create a thread to get the efficiency of the process or efficiency of the threading concept."
   ]
  },
  {
   "cell_type": "code",
   "execution_count": 11,
   "id": "ea05b84b-66d7-407c-bca9-8adfaec5ff71",
   "metadata": {},
   "outputs": [],
   "source": [
    "url_list = ['https://raw.githubusercontent.com/itsfoss/text-files/master/agatha.txt' , 'https://raw.githubusercontent.com/itsfoss/text-files/master/sherlock.txt' ,'https://raw.githubusercontent.com/itsfoss/text-files/master/sample_log_file.txt']"
   ]
  },
  {
   "cell_type": "code",
   "execution_count": 12,
   "id": "90626b7f-def5-4e14-b911-29d389389d91",
   "metadata": {},
   "outputs": [
    {
     "data": {
      "text/plain": [
       "['https://raw.githubusercontent.com/itsfoss/text-files/master/agatha.txt',\n",
       " 'https://raw.githubusercontent.com/itsfoss/text-files/master/sherlock.txt',\n",
       " 'https://raw.githubusercontent.com/itsfoss/text-files/master/sample_log_file.txt']"
      ]
     },
     "execution_count": 12,
     "metadata": {},
     "output_type": "execute_result"
    }
   ],
   "source": [
    "url_list"
   ]
  },
  {
   "cell_type": "code",
   "execution_count": 16,
   "id": "4e0ccfe3-d25b-4584-9e02-5388cfaba5a5",
   "metadata": {},
   "outputs": [],
   "source": [
    "data_file_list = [\"data1.txt\", \"data2.txt\", \"data3.txt\"]"
   ]
  },
  {
   "cell_type": "code",
   "execution_count": 17,
   "id": "a8e693cd-2046-4f18-bb79-72c10e5599dd",
   "metadata": {},
   "outputs": [
    {
     "data": {
      "text/plain": [
       "['data1.txt', 'data2.txt', 'data3.txt']"
      ]
     },
     "execution_count": 17,
     "metadata": {},
     "output_type": "execute_result"
    }
   ],
   "source": [
    "data_file_list"
   ]
  },
  {
   "cell_type": "code",
   "execution_count": 18,
   "id": "bc5c8625-0493-463d-87a3-8a5c564b4f97",
   "metadata": {},
   "outputs": [],
   "source": [
    "# use of threading concept to achieve the above\n",
    "\n",
    "thread1 = [threading.Thread(target = file_download , args = (url_list[i] , data_file_list[i])) for i in range(len(url_list))]"
   ]
  },
  {
   "cell_type": "code",
   "execution_count": 19,
   "id": "a917fdd5-0314-4db0-870a-1aa1bfc47a46",
   "metadata": {},
   "outputs": [
    {
     "data": {
      "text/plain": [
       "[<Thread(Thread-8 (file_download), initial)>,\n",
       " <Thread(Thread-9 (file_download), initial)>,\n",
       " <Thread(Thread-10 (file_download), initial)>]"
      ]
     },
     "execution_count": 19,
     "metadata": {},
     "output_type": "execute_result"
    }
   ],
   "source": [
    "thread1"
   ]
  },
  {
   "cell_type": "code",
   "execution_count": 20,
   "id": "0d7b0dbc-072d-4d30-9428-62c4f5dd6e8e",
   "metadata": {},
   "outputs": [],
   "source": [
    "for t in thread1 :\n",
    "    t.start()"
   ]
  },
  {
   "cell_type": "markdown",
   "id": "6cae5432-7175-43aa-884d-07618ae8742d",
   "metadata": {},
   "source": [
    "* As soon as you run the above code, you can find that the 3 files data1.txt, data2.txt and data3.txt are created with the data from the respective url's.\n",
    "</br>\n",
    "* I am not calling the function (file_download()) 3 times.\n",
    "</br>\n",
    "* What I am doing is I am just calling the function once in a thraed and thread automatically created a 3 different instances of my function with 3 different input that I want to give or I am looking for.\n",
    "</br>\n",
    "* Thread is able to call the instances of same function 3 different times by passing the diff. data\n",
    "</br>\n",
    "* **So in this way I am able to optimize the code plus I am using the same single core and inside the same single core I am calling the same program thrice with 3 diff. diff. arguements. This is the beauty of thread.**"
   ]
  },
  {
   "cell_type": "markdown",
   "id": "cfe3d838-08a7-44f6-a8f2-c17e399ef15c",
   "metadata": {},
   "source": [
    "#### Other Examples"
   ]
  },
  {
   "cell_type": "code",
   "execution_count": 21,
   "id": "61cbf854-4bd2-418f-97dc-b33ba4e628f2",
   "metadata": {},
   "outputs": [],
   "source": [
    "import time"
   ]
  },
  {
   "cell_type": "code",
   "execution_count": 33,
   "id": "c1afdd90-f0ef-4ae6-9eb1-2b7f346b0c45",
   "metadata": {},
   "outputs": [],
   "source": [
    "def test2(x) :\n",
    "    for i in range(10) :\n",
    "        print(\"test2() print the value of x: %d and print the value if i: %d\" %(x, i))\n",
    "        # %d is a place holder. (%d for integer & %s for string)"
   ]
  },
  {
   "cell_type": "code",
   "execution_count": 34,
   "id": "926d6b10-5db4-4d8d-b6c0-1af06ab0175e",
   "metadata": {},
   "outputs": [
    {
     "name": "stdout",
     "output_type": "stream",
     "text": [
      "test2() print the value of x: 10 and print the value if i: 0\n",
      "test2() print the value of x: 10 and print the value if i: 1\n",
      "test2() print the value of x: 10 and print the value if i: 2\n",
      "test2() print the value of x: 10 and print the value if i: 3\n",
      "test2() print the value of x: 10 and print the value if i: 4\n",
      "test2() print the value of x: 10 and print the value if i: 5\n",
      "test2() print the value of x: 10 and print the value if i: 6\n",
      "test2() print the value of x: 10 and print the value if i: 7\n",
      "test2() print the value of x: 10 and print the value if i: 8\n",
      "test2() print the value of x: 10 and print the value if i: 9\n"
     ]
    }
   ],
   "source": [
    "test2(10)"
   ]
  },
  {
   "cell_type": "code",
   "execution_count": 35,
   "id": "91b5454d-258b-4bc3-92dd-75bde015e563",
   "metadata": {},
   "outputs": [],
   "source": [
    "def test3(x) :\n",
    "    for i in range(10) :\n",
    "        print(\"test3() print the value of x: %d and print the value if i: %d\" %(x, i))\n",
    "        # %d is a place holder. (%d for integer & %s for string)\n",
    "        time.sleep(1)    # fn sleep for 1 sec and again execute"
   ]
  },
  {
   "cell_type": "code",
   "execution_count": 36,
   "id": "1455c2a1-84dc-46bf-aa79-5977f63141c3",
   "metadata": {},
   "outputs": [
    {
     "name": "stdout",
     "output_type": "stream",
     "text": [
      "test3() print the value of x: 2 and print the value if i: 0\n",
      "test3() print the value of x: 2 and print the value if i: 1\n",
      "test3() print the value of x: 2 and print the value if i: 2\n",
      "test3() print the value of x: 2 and print the value if i: 3\n",
      "test3() print the value of x: 2 and print the value if i: 4\n",
      "test3() print the value of x: 2 and print the value if i: 5\n",
      "test3() print the value of x: 2 and print the value if i: 6\n",
      "test3() print the value of x: 2 and print the value if i: 7\n",
      "test3() print the value of x: 2 and print the value if i: 8\n",
      "test3() print the value of x: 2 and print the value if i: 9\n"
     ]
    }
   ],
   "source": [
    "test3(2)"
   ]
  },
  {
   "cell_type": "markdown",
   "id": "7e98eeee-709c-439f-a74b-50da840cebde",
   "metadata": {},
   "source": [
    "#### TASK-\n",
    "* What if you have multiple inputs (e.g sometime 1, sometime 2, sometime 10, sometime 100 as inputs) inside this function and you have to execute the function simulataneously with all these different inputs.\n",
    "* To achieve this I will create a thread and inside it I'll execute the same function with multiple diff. diff. inputs"
   ]
  },
  {
   "cell_type": "code",
   "execution_count": 37,
   "id": "29ff2cd4-5dc5-4dfe-9b01-e0d1b25456fd",
   "metadata": {},
   "outputs": [],
   "source": [
    "# creating a thread\n",
    "\n",
    "thread2 = [threading.Thread(target = test3 , args = (i,)) for i in [100, 10, 20, 5]]"
   ]
  },
  {
   "cell_type": "code",
   "execution_count": 38,
   "id": "2ee3c49b-f514-49ea-b33f-ef3fbcf6af61",
   "metadata": {},
   "outputs": [
    {
     "data": {
      "text/plain": [
       "[<Thread(Thread-11 (test3), initial)>,\n",
       " <Thread(Thread-12 (test3), initial)>,\n",
       " <Thread(Thread-13 (test3), initial)>,\n",
       " <Thread(Thread-14 (test3), initial)>]"
      ]
     },
     "execution_count": 38,
     "metadata": {},
     "output_type": "execute_result"
    }
   ],
   "source": [
    "thread2"
   ]
  },
  {
   "cell_type": "code",
   "execution_count": 39,
   "id": "b8ace244-d557-494f-bc01-fcf6b1d7a745",
   "metadata": {},
   "outputs": [
    {
     "name": "stdout",
     "output_type": "stream",
     "text": [
      "test3() print the value of x: 100 and print the value if i: 0\n",
      "test3() print the value of x: 10 and print the value if i: 0\n",
      "test3() print the value of x: 20 and print the value if i: 0\n",
      "test3() print the value of x: 5 and print the value if i: 0\n",
      "test3() print the value of x: 100 and print the value if i: 1\n",
      "test3() print the value of x: 10 and print the value if i: 1\n",
      "test3() print the value of x: 20 and print the value if i: 1\n",
      "test3() print the value of x: 5 and print the value if i: 1\n",
      "test3() print the value of x: 100 and print the value if i: 2\n",
      "test3() print the value of x: 10 and print the value if i: 2\n",
      "test3() print the value of x: 20 and print the value if i: 2\n",
      "test3() print the value of x: 5 and print the value if i: 2\n",
      "test3() print the value of x: 100 and print the value if i: 3\n",
      "test3() print the value of x: 10 and print the value if i: 3\n",
      "test3() print the value of x: 20 and print the value if i: 3\n",
      "test3() print the value of x: 5 and print the value if i: 3\n",
      "test3() print the value of x: 100 and print the value if i: 4\n",
      "test3() print the value of x: 10 and print the value if i: 4\n",
      "test3() print the value of x: 20 and print the value if i: 4\n",
      "test3() print the value of x: 5 and print the value if i: 4\n",
      "test3() print the value of x: 100 and print the value if i: 5\n",
      "test3() print the value of x: 10 and print the value if i: 5\n",
      "test3() print the value of x: 20 and print the value if i: 5\n",
      "test3() print the value of x: 5 and print the value if i: 5\n",
      "test3() print the value of x: 100 and print the value if i: 6\n",
      "test3() print the value of x: 10 and print the value if i: 6\n",
      "test3() print the value of x: 20 and print the value if i: 6\n",
      "test3() print the value of x: 5 and print the value if i: 6\n",
      "test3() print the value of x: 100 and print the value if i: 7\n",
      "test3() print the value of x: 10 and print the value if i: 7\n",
      "test3() print the value of x: 20 and print the value if i: 7\n",
      "test3() print the value of x: 5 and print the value if i: 7\n",
      "test3() print the value of x: 10 and print the value if i: 8\n",
      "test3() print the value of x: 100 and print the value if i: 8\n",
      "test3() print the value of x: 20 and print the value if i: 8\n",
      "test3() print the value of x: 5 and print the value if i: 8\n",
      "test3() print the value of x: 100 and print the value if i: 9test3() print the value of x: 10 and print the value if i: 9\n",
      "\n",
      "test3() print the value of x: 20 and print the value if i: 9\n",
      "test3() print the value of x: 5 and print the value if i: 9\n"
     ]
    }
   ],
   "source": [
    "for t in thread2 :\n",
    "    t.start()"
   ]
  },
  {
   "cell_type": "markdown",
   "id": "bcfbaa1e-d01e-4d45-84dc-0e3b19c9f281",
   "metadata": {},
   "source": [
    "#### NOTE - \n",
    "* In above code you can observe that the tread is not trying to complete the entire program at once with 1 same single input.\n",
    "* What it is doing is, calling the same program but with different different input. \n",
    "* So, with one input it is going to execute one time then it is going to sleep for 1 sec. So that other input will be able to avail the opportunity. or other input will be able to occupy the resources.\n",
    "* because it is running in the single core and we have created 4 threads of the same code. So all these 4 threads will utilise the resources in a consucutive fashion (one by one, one by one). All of these threads will occupy or utilise resources.\n",
    "* And this is being done just because of *time.sleep()*. Which means execute once and go for a sleep.\n",
    "* In between while one input is sleeping it is trying to call anther thread means same function with another input it i'll try to call and then again same function with another input and so on. \n",
    "* This again the beauty of cores"
   ]
  },
  {
   "cell_type": "code",
   "execution_count": 41,
   "id": "a9967b64-72f6-433c-a67a-84aa05ca603f",
   "metadata": {},
   "outputs": [],
   "source": [
    "# if sleep is removed \n",
    "\n",
    "def test4(x) :\n",
    "    for i in range(10) :\n",
    "        print(\"test4() print the value of x: %d and print the value if i: %d\" %(x, i))\n",
    "        # %d is a place holder. (%d for integer & %s for string)\n",
    "        # time.sleep(1)"
   ]
  },
  {
   "cell_type": "code",
   "execution_count": 42,
   "id": "ca564c9b-93c1-473b-b292-1be6f3edf673",
   "metadata": {},
   "outputs": [],
   "source": [
    "# creating a thread\n",
    "\n",
    "thread3 = [threading.Thread(target = test4 , args = (i,)) for i in [100, 10, 20, 5]]"
   ]
  },
  {
   "cell_type": "code",
   "execution_count": 43,
   "id": "0a0120c6-37bc-4277-aa64-9e1c37004158",
   "metadata": {},
   "outputs": [
    {
     "name": "stdout",
     "output_type": "stream",
     "text": [
      "test4() print the value of x: 100 and print the value if i: 0\n",
      "test4() print the value of x: 100 and print the value if i: 1\n",
      "test4() print the value of x: 100 and print the value if i: 2\n",
      "test4() print the value of x: 100 and print the value if i: 3\n",
      "test4() print the value of x: 100 and print the value if i: 4\n",
      "test4() print the value of x: 100 and print the value if i: 5\n",
      "test4() print the value of x: 100 and print the value if i: 6\n",
      "test4() print the value of x: 100 and print the value if i: 7\n",
      "test4() print the value of x: 100 and print the value if i: 8\n",
      "test4() print the value of x: 100 and print the value if i: 9\n",
      "test4() print the value of x: 10 and print the value if i: 0\n",
      "test4() print the value of x: 10 and print the value if i: 1\n",
      "test4() print the value of x: 10 and print the value if i: 2\n",
      "test4() print the value of x: 10 and print the value if i: 3\n",
      "test4() print the value of x: 10 and print the value if i: 4\n",
      "test4() print the value of x: 10 and print the value if i: 5\n",
      "test4() print the value of x: 10 and print the value if i: 6\n",
      "test4() print the value of x: 10 and print the value if i: 7\n",
      "test4() print the value of x: 10 and print the value if i: 8\n",
      "test4() print the value of x: 10 and print the value if i: 9\n",
      "test4() print the value of x: 20 and print the value if i: 0\n",
      "test4() print the value of x: 20 and print the value if i: 1\n",
      "test4() print the value of x: 20 and print the value if i: 2\n",
      "test4() print the value of x: 20 and print the value if i: 3\n",
      "test4() print the value of x: 20 and print the value if i: 4\n",
      "test4() print the value of x: 20 and print the value if i: 5\n",
      "test4() print the value of x: 20 and print the value if i: 6\n",
      "test4() print the value of x: 20 and print the value if i: 7\n",
      "test4() print the value of x: 20 and print the value if i: 8\n",
      "test4() print the value of x: 20 and print the value if i: 9\n",
      "test4() print the value of x: 5 and print the value if i: 0\n",
      "test4() print the value of x: 5 and print the value if i: 1\n",
      "test4() print the value of x: 5 and print the value if i: 2\n",
      "test4() print the value of x: 5 and print the value if i: 3\n",
      "test4() print the value of x: 5 and print the value if i: 4\n",
      "test4() print the value of x: 5 and print the value if i: 5\n",
      "test4() print the value of x: 5 and print the value if i: 6\n",
      "test4() print the value of x: 5 and print the value if i: 7\n",
      "test4() print the value of x: 5 and print the value if i: 8\n",
      "test4() print the value of x: 5 and print the value if i: 9\n"
     ]
    }
   ],
   "source": [
    "# executing the thread\n",
    "\n",
    "for t in thread3 :\n",
    "    t.start()"
   ]
  },
  {
   "cell_type": "markdown",
   "id": "e51ae532-0759-4b7d-8f78-c631b439877d",
   "metadata": {},
   "source": [
    "#### NOTE - \n",
    "* So if it is not going for the sleep, it is completing the entire thread with one input first and the jumping to another thraed with other input and so on."
   ]
  },
  {
   "cell_type": "markdown",
   "id": "1484525c-915a-48c8-a72e-ae14afdc1d6a",
   "metadata": {},
   "source": [
    "#### Example 2"
   ]
  },
  {
   "cell_type": "markdown",
   "id": "84b4d69f-a0d6-4569-8f3f-e01bbc420726",
   "metadata": {},
   "source": [
    "#### TASK - \n",
    "* for shared value I can run multiple programs or I can call the functions multiple times and all the function must be able to update the shared_variable one by one. (To achieve this use shared_var as global variable)\n",
    "* the program should be called simultaneously"
   ]
  },
  {
   "cell_type": "code",
   "execution_count": 51,
   "id": "11850c5c-4d22-40d0-9e5c-6a8ce3f040ef",
   "metadata": {},
   "outputs": [
    {
     "name": "stdout",
     "output_type": "stream",
     "text": [
      "value of x: 1 and value of shareed_var: 1\n",
      "value of x: 2 and value of shareed_var: 2\n",
      "value of x: 3 and value of shareed_var: 3\n",
      "value of x: 4 and value of shareed_var: 4\n",
      "value of x: 4 and value of shareed_var: 5\n",
      "value of x: 5 and value of shareed_var: 6\n",
      "value of x: 8 and value of shareed_var: 7\n"
     ]
    }
   ],
   "source": [
    "shared_var = 0\n",
    "lock_var = threading.Lock()\n",
    "def test5(x) :\n",
    "    global shared_var   # global keyword is used to create global variable. It can be accessed by eveyone.\n",
    "    with lock_var :\n",
    "        shared_var = shared_var + 1\n",
    "        print(\"value of x: %d and value of shareed_var: %d\" %(x, shared_var))\n",
    "        time.sleep(1)\n",
    "\n",
    "# creating thread\n",
    "thread5 = [threading.Thread(target = test5, args = (i,)) for i in [1,2,3,4,4,5,8]]\n",
    "\n",
    "# calling/strating thread\n",
    "for t in thread5 :\n",
    "    t.start()"
   ]
  },
  {
   "cell_type": "markdown",
   "id": "fd21017a-1dac-4829-8062-5d5c4aa98c94",
   "metadata": {},
   "source": [
    "* threading.Lock() is going to do lock on resources which means when one thread is using the resource no one else (other threads) will be able to use that resource or modify it\n",
    "\n",
    "* Although itthread) is going for sleep it is giving opportunity to the next one(thread)\n",
    "\n",
    "* In above example we have seen How we can use the shared resources and change the value of it or modify the shared resources for a multiple programs consecutively executing itself"
   ]
  },
  {
   "cell_type": "code",
   "execution_count": 48,
   "id": "2a791f63-0e19-41fc-a48c-9e867660de56",
   "metadata": {},
   "outputs": [
    {
     "name": "stdout",
     "output_type": "stream",
     "text": [
      "value of x: 1 and value of shareed_var: 1\n"
     ]
    }
   ],
   "source": [
    "test5(1)"
   ]
  },
  {
   "cell_type": "code",
   "execution_count": 49,
   "id": "6192cc7e-0851-4cd6-a1c3-98bc089d9cd0",
   "metadata": {},
   "outputs": [
    {
     "name": "stdout",
     "output_type": "stream",
     "text": [
      "value of x: 2 and value of shareed_var: 2\n"
     ]
    }
   ],
   "source": [
    "test5(2)"
   ]
  },
  {
   "cell_type": "code",
   "execution_count": 50,
   "id": "cd005fec-7585-4fa1-a6fa-b89863ea4ce3",
   "metadata": {},
   "outputs": [
    {
     "name": "stdout",
     "output_type": "stream",
     "text": [
      "value of x: 10 and value of shareed_var: 3\n"
     ]
    }
   ],
   "source": [
    "test5(10)"
   ]
  },
  {
   "cell_type": "code",
   "execution_count": null,
   "id": "baf47d9d-ddf6-4cda-bb90-a1d7b4db03e6",
   "metadata": {},
   "outputs": [],
   "source": []
  }
 ],
 "metadata": {
  "kernelspec": {
   "display_name": "Python 3 (ipykernel)",
   "language": "python",
   "name": "python3"
  },
  "language_info": {
   "codemirror_mode": {
    "name": "ipython",
    "version": 3
   },
   "file_extension": ".py",
   "mimetype": "text/x-python",
   "name": "python",
   "nbconvert_exporter": "python",
   "pygments_lexer": "ipython3",
   "version": "3.10.8"
  }
 },
 "nbformat": 4,
 "nbformat_minor": 5
}
