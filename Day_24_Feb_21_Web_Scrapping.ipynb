{
 "cells": [
  {
   "cell_type": "code",
   "execution_count": 1,
   "id": "c1627e14-f5bd-4a29-a7f6-b9c45d7c8d5c",
   "metadata": {},
   "outputs": [],
   "source": [
    "import requests\n",
    "from bs4 import BeautifulSoup as bs\n",
    "from urllib.request import urlopen\n",
    "import logging"
   ]
  },
  {
   "cell_type": "code",
   "execution_count": 2,
   "id": "5b17baa3-13c0-4fb2-9333-5b1fdf2f8883",
   "metadata": {},
   "outputs": [],
   "source": [
    "flipkart_url = \"https://www.flipkart.com/search?q=\" + \"tv\""
   ]
  },
  {
   "cell_type": "code",
   "execution_count": 3,
   "id": "fd09a985-cc02-43a2-80d7-801f7c9f0d4f",
   "metadata": {},
   "outputs": [
    {
     "data": {
      "text/plain": [
       "'https://www.flipkart.com/search?q=tv'"
      ]
     },
     "execution_count": 3,
     "metadata": {},
     "output_type": "execute_result"
    }
   ],
   "source": [
    "flipkart_url"
   ]
  },
  {
   "cell_type": "code",
   "execution_count": 4,
   "id": "a27233d8-6bc4-42fc-aa97-417638a6f907",
   "metadata": {},
   "outputs": [],
   "source": [
    "urlclient = urlopen(flipkart_url) # returns the html source code of the 'https://www.flipkart.com/search?q=iphone14pro' page"
   ]
  },
  {
   "cell_type": "code",
   "execution_count": 5,
   "id": "b7f39be9-aa1e-41f3-ba1c-8f7921301c75",
   "metadata": {},
   "outputs": [],
   "source": [
    "flipkart_page = urlclient.read()"
   ]
  },
  {
   "cell_type": "code",
   "execution_count": 6,
   "id": "70ac9b4a-d5aa-4430-85fd-236edf8c00ce",
   "metadata": {},
   "outputs": [],
   "source": [
    "flipkart_html = bs(flipkart_page, 'html.parser') # beautiful soup will beautify the data extract or data dump but not much"
   ]
  },
  {
   "cell_type": "code",
   "execution_count": 7,
   "id": "7a27229c-2212-418c-8723-fea62289145b",
   "metadata": {},
   "outputs": [
    {
     "data": {
      "text/plain": [
       "'https://www.flipkart.com/samsung-crystal-4k-neo-series-138-cm-55-inch-ultra-hd-4k-led-smart-tizen-tv-black-2022-model/p/itm92a951fdc7ddf?pid=TVSGEAGPH9HPFFGC&lid=LSTTVSGEAGPH9HPFFGCF1LBV4&marketplace=FLIPKART&q=tv&store=ckf%2Fczl&srno=s_1_1&otracker=search&iid=en_lvxlkv6Fo7jC75OvnYRxM6E9q3acefBC%2FVanbOVchf6QWNbrmhWMyWn1qyEiCHj35hkjFIOT8yzmwYZebeP7LQ%3D%3D&ssid=ksqsxu6weo0000001677117076131&qH=c9a1fdac6e082dd8'"
      ]
     },
     "execution_count": 7,
     "metadata": {},
     "output_type": "execute_result"
    }
   ],
   "source": [
    "\"https://www.flipkart.com\" + \"/samsung-crystal-4k-neo-series-138-cm-55-inch-ultra-hd-4k-led-smart-tizen-tv-black-2022-model/p/itm92a951fdc7ddf?pid=TVSGEAGPH9HPFFGC&lid=LSTTVSGEAGPH9HPFFGCF1LBV4&marketplace=FLIPKART&q=tv&store=ckf%2Fczl&srno=s_1_1&otracker=search&iid=en_lvxlkv6Fo7jC75OvnYRxM6E9q3acefBC%2FVanbOVchf6QWNbrmhWMyWn1qyEiCHj35hkjFIOT8yzmwYZebeP7LQ%3D%3D&ssid=ksqsxu6weo0000001677117076131&qH=c9a1fdac6e082dd8\""
   ]
  },
  {
   "cell_type": "code",
   "execution_count": 8,
   "id": "7df645fa-5856-45a8-a0f6-5f617be01707",
   "metadata": {},
   "outputs": [],
   "source": [
    "bigbox = flipkart_html.find_all(\"div\", {\"class\" : \"_1AtVbE col-12-12\"})"
   ]
  },
  {
   "cell_type": "code",
   "execution_count": 9,
   "id": "8e0e7a1e-3181-4a6f-a33b-ebe25f0ff864",
   "metadata": {},
   "outputs": [
    {
     "data": {
      "text/plain": [
       "30"
      ]
     },
     "execution_count": 9,
     "metadata": {},
     "output_type": "execute_result"
    }
   ],
   "source": [
    "len(bigbox)"
   ]
  },
  {
   "cell_type": "code",
   "execution_count": 10,
   "id": "529c2d40-6bf6-4579-a22f-17d823c7d4c7",
   "metadata": {},
   "outputs": [],
   "source": [
    "del bigbox[0:3] # deleting first 3 headers because they are not containing product info"
   ]
  },
  {
   "cell_type": "code",
   "execution_count": 13,
   "id": "34397232-dc51-4955-a0f1-dfb914c037e3",
   "metadata": {},
   "outputs": [],
   "source": [
    "product_link = \"https://www.flipkart.com\" + bigbox[0].div.div.div.a['href']"
   ]
  },
  {
   "cell_type": "code",
   "execution_count": 12,
   "id": "5e96e852-c93d-4975-866e-3c53654faa4e",
   "metadata": {},
   "outputs": [
    {
     "name": "stdout",
     "output_type": "stream",
     "text": [
      "https://www.flipkart.com/samsung-crystal-4k-108-cm-43-inch-ultra-hd-4k-led-smart-tizen-tv/p/itm7dcfb3cc69fbb?pid=TVSG2CG7F2Y9YUJ3&lid=LSTTVSG2CG7F2Y9YUJ39FS3ZI&marketplace=FLIPKART&q=tv&store=ckf%2Fczl&srno=s_1_2&otracker=search&fm=organic&iid=en_LDHvc3rqeT0fSOX59DaYjfKMojELCTWV6qQigq74iFc3LrgREsS6vfYQ4gJi7RatTReJ4eDny5IlT2Fz3%2FplrQ%3D%3D&ppt=None&ppn=None&ssid=2v2m9e1hlc0000001677118915660&qH=c9a1fdac6e082dd8\n",
      "https://www.flipkart.com/oneplus-y1-80-cm-32-inch-hd-ready-led-smart-android-tv-dolby-audio/p/itme650a6bb8cee3?pid=TVSFVWD2ENXYGEJY&lid=LSTTVSFVWD2ENXYGEJYBNWSST&marketplace=FLIPKART&q=tv&store=ckf%2Fczl&spotlightTagId=TrendingId_ckf%2Fczl&srno=s_1_3&otracker=search&fm=organic&iid=42a9d3c2-62d6-4a06-8667-09508dcae20a.TVSFVWD2ENXYGEJY.SEARCH&ppt=None&ppn=None&ssid=2v2m9e1hlc0000001677118915660&qH=c9a1fdac6e082dd8\n",
      "https://www.flipkart.com/oneplus-y1-100-cm-40-inch-full-hd-led-smart-android-tv-dolby-audio/p/itmdcbd9784403b2?pid=TVSG25MMGB8NKFD8&lid=LSTTVSG25MMGB8NKFD8BZ88HR&marketplace=FLIPKART&q=tv&store=ckf%2Fczl&srno=s_1_4&otracker=search&fm=organic&iid=42a9d3c2-62d6-4a06-8667-09508dcae20a.TVSG25MMGB8NKFD8.SEARCH&ppt=None&ppn=None&ssid=2v2m9e1hlc0000001677118915660&qH=c9a1fdac6e082dd8\n",
      "https://www.flipkart.com/oneplus-y1s-108-cm-43-inch-full-hd-led-smart-android-tv-11-bezel-less-frame/p/itm178846d2e1567?pid=TVSGAXEVSNT3HBQA&lid=LSTTVSGAXEVSNT3HBQAKRCYE0&marketplace=FLIPKART&q=tv&store=ckf%2Fczl&srno=s_1_5&otracker=search&fm=organic&iid=42a9d3c2-62d6-4a06-8667-09508dcae20a.TVSGAXEVSNT3HBQA.SEARCH&ppt=None&ppn=None&ssid=2v2m9e1hlc0000001677118915660&qH=c9a1fdac6e082dd8\n",
      "https://www.flipkart.com/oneplus-y1s-80-cm-32-inch-hd-ready-led-smart-android-tv-11-bezel-less-frame/p/itm0a39edd7df236?pid=TVSGAXEVXNG9YBUM&lid=LSTTVSGAXEVXNG9YBUMLGWYAS&marketplace=FLIPKART&q=tv&store=ckf%2Fczl&srno=s_1_6&otracker=search&fm=organic&iid=42a9d3c2-62d6-4a06-8667-09508dcae20a.TVSGAXEVXNG9YBUM.SEARCH&ppt=None&ppn=None&ssid=2v2m9e1hlc0000001677118915660&qH=c9a1fdac6e082dd8\n",
      "https://www.flipkart.com/thomson-alpha-80-cm-32-inch-hd-ready-led-smart-linux-tv-30-w-sound-output-bezel-less-design/p/itm0e90bcdadb9c9?pid=TVSGEMQV7R4CMTGA&lid=LSTTVSGEMQV7R4CMTGAN8OZ8J&marketplace=FLIPKART&q=tv&store=ckf%2Fczl&srno=s_1_7&otracker=search&fm=organic&iid=42a9d3c2-62d6-4a06-8667-09508dcae20a.TVSGEMQV7R4CMTGA.SEARCH&ppt=None&ppn=None&ssid=2v2m9e1hlc0000001677118915660&qH=c9a1fdac6e082dd8\n",
      "https://www.flipkart.com/mi-5a-80-cm-32-inch-hd-ready-led-smart-android-tv-dolby-audio-2022-model/p/itm98501ffa297ba?pid=TVSGD5CS2SDUUZGN&lid=LSTTVSGD5CS2SDUUZGNWGZUUA&marketplace=FLIPKART&q=tv&store=ckf%2Fczl&srno=s_1_8&otracker=search&fm=organic&iid=en_LDHvc3rqeT0fSOX59DaYjfKMojELCTWV6qQigq74iFfuU0eYJky9kO5YO93A60PZTbzypenUqUPkzZ7tIK%2FjIw%3D%3D&ppt=None&ppn=None&ssid=2v2m9e1hlc0000001677118915660&qH=c9a1fdac6e082dd8\n",
      "https://www.flipkart.com/samsung-crystal-4k-neo-series-108-cm-43-inch-ultra-hd-4k-led-smart-tizen-tv-black-2022-model/p/itma076c4dd16aa4?pid=TVSGEAGP9GXWCHCX&lid=LSTTVSGEAGP9GXWCHCXSVNDV5&marketplace=FLIPKART&q=tv&store=ckf%2Fczl&srno=s_1_9&otracker=search&fm=organic&iid=42a9d3c2-62d6-4a06-8667-09508dcae20a.TVSGEAGP9GXWCHCX.SEARCH&ppt=None&ppn=None&ssid=2v2m9e1hlc0000001677118915660&qH=c9a1fdac6e082dd8\n",
      "https://www.flipkart.com/mi-5a-100-cm-40-inch-full-hd-led-smart-android-tv-dolby-audio-2022-model/p/itm6be60be56f52d?pid=TVSGD5CS4N7NWFZD&lid=LSTTVSGD5CS4N7NWFZDDJBZRI&marketplace=FLIPKART&q=tv&store=ckf%2Fczl&srno=s_1_10&otracker=search&fm=organic&iid=42a9d3c2-62d6-4a06-8667-09508dcae20a.TVSGD5CS4N7NWFZD.SEARCH&ppt=None&ppn=None&ssid=2v2m9e1hlc0000001677118915660&qH=c9a1fdac6e082dd8\n",
      "https://www.flipkart.com/lg-80-cm-32-inch-hd-ready-led-smart-webos-tv/p/itm6207e6d122567?pid=TVSFTW4CSRW8PGDQ&lid=LSTTVSFTW4CSRW8PGDQSZQIO6&marketplace=FLIPKART&q=tv&store=ckf%2Fczl&srno=s_1_11&otracker=search&fm=organic&iid=42a9d3c2-62d6-4a06-8667-09508dcae20a.TVSFTW4CSRW8PGDQ.SEARCH&ppt=None&ppn=None&ssid=2v2m9e1hlc0000001677118915660&qH=c9a1fdac6e082dd8\n",
      "https://www.flipkart.com/samsung-crystal-4k-neo-series-138-cm-55-inch-ultra-hd-4k-led-smart-tizen-tv-black-2022-model/p/itm92a951fdc7ddf?pid=TVSGEAGPH9HPFFGC&lid=LSTTVSGEAGPH9HPFFGCF1LBV4&marketplace=FLIPKART&q=tv&store=ckf%2Fczl&srno=s_1_12&otracker=search&fm=organic&iid=en_LDHvc3rqeT0fSOX59DaYjfKMojELCTWV6qQigq74iFemcFh86xDFsZcrahHZEvwO%2Bl0JIN6sfUhKP%2F1UW315Kw%3D%3D&ppt=None&ppn=None&ssid=2v2m9e1hlc0000001677118915660&qH=c9a1fdac6e082dd8\n",
      "https://www.flipkart.com/infinix-y1-80-cm-32-inch-hd-ready-led-smart-linux-tv-wall-mount/p/itme5476ca89d1b0?pid=TVSGFGF34GMTB9KF&lid=LSTTVSGFGF34GMTB9KFF9JZPY&marketplace=FLIPKART&q=tv&store=ckf%2Fczl&srno=s_1_13&otracker=search&fm=organic&iid=42a9d3c2-62d6-4a06-8667-09508dcae20a.TVSGFGF34GMTB9KF.SEARCH&ppt=None&ppn=None&ssid=2v2m9e1hlc0000001677118915660&qH=c9a1fdac6e082dd8\n",
      "https://www.flipkart.com/mi-5a-108-cm-43-inch-full-hd-led-smart-android-tv-dolby-audio-2022-model/p/itm2d5967449cb9b?pid=TVSGD5CS3CXNF2DF&lid=LSTTVSGD5CS3CXNF2DFPJ6HSF&marketplace=FLIPKART&q=tv&store=ckf%2Fczl&srno=s_1_14&otracker=search&fm=organic&iid=42a9d3c2-62d6-4a06-8667-09508dcae20a.TVSGD5CS3CXNF2DF.SEARCH&ppt=None&ppn=None&ssid=2v2m9e1hlc0000001677118915660&qH=c9a1fdac6e082dd8\n",
      "https://www.flipkart.com/vu-gloled-108-cm-43-inch-ultra-hd-4k-led-smart-google-tv-dj-subwoofer-84w/p/itm65f2925757d94?pid=TVSGJKC9TUSZ2DHS&lid=LSTTVSGJKC9TUSZ2DHSYRCHBF&marketplace=FLIPKART&q=tv&store=ckf%2Fczl&srno=s_1_15&otracker=search&fm=organic&iid=42a9d3c2-62d6-4a06-8667-09508dcae20a.TVSGJKC9TUSZ2DHS.SEARCH&ppt=None&ppn=None&ssid=2v2m9e1hlc0000001677118915660&qH=c9a1fdac6e082dd8\n",
      "https://www.flipkart.com/samsung-crystal-4k-138-cm-55-inch-ultra-hd-4k-led-smart-tizen-tv/p/itm3d8f2879a7625?pid=TVSG2CG7HAVAZTXF&lid=LSTTVSG2CG7HAVAZTXFEAA8L0&marketplace=FLIPKART&q=tv&store=ckf%2Fczl&srno=s_1_16&otracker=search&fm=organic&iid=en_LDHvc3rqeT0fSOX59DaYjfKMojELCTWV6qQigq74iFcaXa%2B6gUIROt9dzVs549iz7qqwCeBxgsaK4KQmwaikNQ%3D%3D&ppt=None&ppn=None&ssid=2v2m9e1hlc0000001677118915660&qH=c9a1fdac6e082dd8\n",
      "https://www.flipkart.com/iffalcon-tcl-f53-79-97-cm-32-inch-hd-ready-led-smart-android-tv-11/p/itmf4e9c6c14ccb0?pid=TVSGCYVJPAJMHGUW&lid=LSTTVSGCYVJPAJMHGUWTE92JA&marketplace=FLIPKART&q=tv&store=ckf%2Fczl&srno=s_1_17&otracker=search&fm=organic&iid=42a9d3c2-62d6-4a06-8667-09508dcae20a.TVSGCYVJPAJMHGUW.SEARCH&ppt=None&ppn=None&ssid=2v2m9e1hlc0000001677118915660&qH=c9a1fdac6e082dd8\n",
      "https://www.flipkart.com/lg-uq7500-108-cm-43-inch-ultra-hd-4k-led-smart-webos-tv-2022/p/itm39fd5782b27ed?pid=TVSGFGYS5TJRUJNV&lid=LSTTVSGFGYS5TJRUJNVLCTYNB&marketplace=FLIPKART&q=tv&store=ckf%2Fczl&srno=s_1_18&otracker=search&fm=organic&iid=42a9d3c2-62d6-4a06-8667-09508dcae20a.TVSGFGYS5TJRUJNV.SEARCH&ppt=None&ppn=None&ssid=2v2m9e1hlc0000001677118915660&qH=c9a1fdac6e082dd8\n",
      "https://www.flipkart.com/sens-80-cm-32-inch-hd-ready-led-smart-android-tv-dolby-audio-google-assistant/p/itm9340589d4f56d?pid=TVSGHY2BHWNJ7JHG&lid=LSTTVSGHY2BHWNJ7JHGUP5PRP&marketplace=FLIPKART&q=tv&store=ckf%2Fczl&srno=s_1_19&otracker=search&fm=organic&iid=42a9d3c2-62d6-4a06-8667-09508dcae20a.TVSGHY2BHWNJ7JHG.SEARCH&ppt=None&ppn=None&ssid=2v2m9e1hlc0000001677118915660&qH=c9a1fdac6e082dd8\n",
      "https://www.flipkart.com/samsung-frame-138-cm-55-inch-qled-ultra-hd-4k-smart-tizen-tv/p/itm12119185c681f?pid=TVSGE3FUGTZY4DVB&lid=LSTTVSGE3FUGTZY4DVBNEIDYN&marketplace=FLIPKART&q=tv&store=ckf%2Fczl&srno=s_1_20&otracker=search&fm=organic&iid=en_LDHvc3rqeT0fSOX59DaYjfKMojELCTWV6qQigq74iFckOpS%2FDOnomQarabHb66hfsvfmp8zCnY21487fqak%2B7Q%3D%3D&ppt=None&ppn=None&ssid=2v2m9e1hlc0000001677118915660&qH=c9a1fdac6e082dd8\n",
      "https://www.flipkart.com/mi-x-series-138-cm-55-inch-ultra-hd-4k-led-smart-android-tv-dolby-vision-30w-audio-2022-model/p/itmd4ff31740dc25?pid=TVSGHEQVHEBXABCQ&lid=LSTTVSGHEQVHEBXABCQXB4RD9&marketplace=FLIPKART&q=tv&store=ckf%2Fczl&srno=s_1_21&otracker=search&fm=organic&iid=42a9d3c2-62d6-4a06-8667-09508dcae20a.TVSGHEQVHEBXABCQ.SEARCH&ppt=None&ppn=None&ssid=2v2m9e1hlc0000001677118915660&qH=c9a1fdac6e082dd8\n",
      "https://www.flipkart.com/beethosol-80-cm-32-inch-hd-ready-led-tv/p/itmbc44ca58989cf?pid=TVSGG79MDS8CXWGD&lid=LSTTVSGG79MDS8CXWGD8P6NUB&marketplace=FLIPKART&q=tv&store=ckf%2Fczl&srno=s_1_22&otracker=search&fm=organic&iid=42a9d3c2-62d6-4a06-8667-09508dcae20a.TVSGG79MDS8CXWGD.SEARCH&ppt=None&ppn=None&ssid=2v2m9e1hlc0000001677118915660&qH=c9a1fdac6e082dd8\n",
      "https://www.flipkart.com/oneplus-y1s-pro-138-cm-55-inch-ultra-hd-4k-led-smart-android-tv/p/itm5db9783099cbb?pid=TVSGJUFY5QMMWSU7&lid=LSTTVSGJUFY5QMMWSU7V52T1B&marketplace=FLIPKART&q=tv&store=ckf%2Fczl&srno=s_1_23&otracker=search&fm=organic&iid=42a9d3c2-62d6-4a06-8667-09508dcae20a.TVSGJUFY5QMMWSU7.SEARCH&ppt=None&ppn=None&ssid=2v2m9e1hlc0000001677118915660&qH=c9a1fdac6e082dd8\n",
      "https://www.flipkart.com/mi-x-series-125-cm-50-inch-ultra-hd-4k-led-smart-android-tv-dolby-vision-30w-audio-2022-model/p/itm85c3a9fbf7ed0?pid=TVSGHEQV4NQPS6EH&lid=LSTTVSGHEQV4NQPS6EHSZR7FS&marketplace=FLIPKART&q=tv&store=ckf%2Fczl&srno=s_1_24&otracker=search&fm=organic&iid=en_LDHvc3rqeT0fSOX59DaYjfKMojELCTWV6qQigq74iFfJ39k4pFJUCyT966%2BfUjDN2BZvSbyV0USmlm34pO%2FCUw%3D%3D&ppt=None&ppn=None&ssid=2v2m9e1hlc0000001677118915660&qH=c9a1fdac6e082dd8\n"
     ]
    },
    {
     "ename": "AttributeError",
     "evalue": "'NoneType' object has no attribute 'a'",
     "output_type": "error",
     "traceback": [
      "\u001b[0;31m---------------------------------------------------------------------------\u001b[0m",
      "\u001b[0;31mAttributeError\u001b[0m                            Traceback (most recent call last)",
      "Cell \u001b[0;32mIn[12], line 2\u001b[0m\n\u001b[1;32m      1\u001b[0m \u001b[38;5;28;01mfor\u001b[39;00m i \u001b[38;5;129;01min\u001b[39;00m bigbox:\n\u001b[0;32m----> 2\u001b[0m     \u001b[38;5;28mprint\u001b[39m(\u001b[38;5;124m\"\u001b[39m\u001b[38;5;124mhttps://www.flipkart.com\u001b[39m\u001b[38;5;124m\"\u001b[39m \u001b[38;5;241m+\u001b[39m \u001b[43mi\u001b[49m\u001b[38;5;241;43m.\u001b[39;49m\u001b[43mdiv\u001b[49m\u001b[38;5;241;43m.\u001b[39;49m\u001b[43mdiv\u001b[49m\u001b[38;5;241;43m.\u001b[39;49m\u001b[43mdiv\u001b[49m\u001b[38;5;241;43m.\u001b[39;49m\u001b[43ma\u001b[49m[\u001b[38;5;124m'\u001b[39m\u001b[38;5;124mhref\u001b[39m\u001b[38;5;124m'\u001b[39m])\n",
      "\u001b[0;31mAttributeError\u001b[0m: 'NoneType' object has no attribute 'a'"
     ]
    }
   ],
   "source": [
    "for i in bigbox:\n",
    "    print(\"https://www.flipkart.com\" + i.div.div.div.a['href'])"
   ]
  },
  {
   "cell_type": "code",
   "execution_count": 14,
   "id": "720c9027-56e1-442f-8fdc-142f4c109f24",
   "metadata": {},
   "outputs": [
    {
     "data": {
      "text/plain": [
       "'https://www.flipkart.com/samsung-crystal-4k-108-cm-43-inch-ultra-hd-4k-led-smart-tizen-tv/p/itm7dcfb3cc69fbb?pid=TVSG2CG7F2Y9YUJ3&lid=LSTTVSG2CG7F2Y9YUJ39FS3ZI&marketplace=FLIPKART&q=tv&store=ckf%2Fczl&srno=s_1_2&otracker=search&fm=organic&iid=en_LDHvc3rqeT0fSOX59DaYjfKMojELCTWV6qQigq74iFc3LrgREsS6vfYQ4gJi7RatTReJ4eDny5IlT2Fz3%2FplrQ%3D%3D&ppt=None&ppn=None&ssid=2v2m9e1hlc0000001677118915660&qH=c9a1fdac6e082dd8'"
      ]
     },
     "execution_count": 14,
     "metadata": {},
     "output_type": "execute_result"
    }
   ],
   "source": [
    "product_link"
   ]
  },
  {
   "cell_type": "code",
   "execution_count": 16,
   "id": "d59ae407-d42e-4c9c-b36f-b7fcff35f427",
   "metadata": {},
   "outputs": [],
   "source": [
    "product_req = requests.get(product_link)"
   ]
  },
  {
   "cell_type": "code",
   "execution_count": 20,
   "id": "08259d6e-76f6-437d-998b-d13c9796f272",
   "metadata": {},
   "outputs": [],
   "source": [
    "product_html = bs(product_req.text, 'html.parser')"
   ]
  },
  {
   "cell_type": "code",
   "execution_count": 23,
   "id": "375eef45-9bf4-42ef-b936-daa50a55d89e",
   "metadata": {},
   "outputs": [],
   "source": [
    "# need only comments\n",
    "comment_box = product_html.find_all(\"div\", {\"class\" : \"_16PBlm\"})"
   ]
  },
  {
   "cell_type": "code",
   "execution_count": 24,
   "id": "3047b997-4f5a-4636-9da1-22870d67755d",
   "metadata": {},
   "outputs": [
    {
     "data": {
      "text/plain": [
       "11"
      ]
     },
     "execution_count": 24,
     "metadata": {},
     "output_type": "execute_result"
    }
   ],
   "source": [
    "len(comment_box)"
   ]
  },
  {
   "cell_type": "code",
   "execution_count": 37,
   "id": "07970f3e-05ff-427c-b2af-b9e1978e5a67",
   "metadata": {},
   "outputs": [
    {
     "data": {
      "text/plain": [
       "'Priyam Saurabh'"
      ]
     },
     "execution_count": 37,
     "metadata": {},
     "output_type": "execute_result"
    }
   ],
   "source": [
    "# Name of the commentor\n",
    "comment_box[0].div.div.find_all(\"p\", {\"class\" : \"_2sc7ZR _2V5EHH\"})[0].text"
   ]
  },
  {
   "cell_type": "code",
   "execution_count": 38,
   "id": "fdce2760-6b86-4ac2-94eb-1f54fd00a1f5",
   "metadata": {},
   "outputs": [
    {
     "name": "stdout",
     "output_type": "stream",
     "text": [
      "Priyam Saurabh\n",
      "Amlan Ghosh\n",
      "Prasiddha Khanikar\n",
      "MOHD FARAZ\n",
      "Akash Ravi\n",
      "Flipkart Customer\n",
      "M K Raju\n",
      "Santanu Saha\n",
      "Rohan Bajaj\n",
      "Chetan Patil\n"
     ]
    },
    {
     "ename": "AttributeError",
     "evalue": "'NoneType' object has no attribute 'div'",
     "output_type": "error",
     "traceback": [
      "\u001b[0;31m---------------------------------------------------------------------------\u001b[0m",
      "\u001b[0;31mAttributeError\u001b[0m                            Traceback (most recent call last)",
      "Cell \u001b[0;32mIn[38], line 2\u001b[0m\n\u001b[1;32m      1\u001b[0m \u001b[38;5;28;01mfor\u001b[39;00m i \u001b[38;5;129;01min\u001b[39;00m comment_box:\n\u001b[0;32m----> 2\u001b[0m     \u001b[38;5;28mprint\u001b[39m(\u001b[43mi\u001b[49m\u001b[38;5;241;43m.\u001b[39;49m\u001b[43mdiv\u001b[49m\u001b[38;5;241;43m.\u001b[39;49m\u001b[43mdiv\u001b[49m\u001b[38;5;241m.\u001b[39mfind_all(\u001b[38;5;124m\"\u001b[39m\u001b[38;5;124mp\u001b[39m\u001b[38;5;124m\"\u001b[39m, {\u001b[38;5;124m\"\u001b[39m\u001b[38;5;124mclass\u001b[39m\u001b[38;5;124m\"\u001b[39m : \u001b[38;5;124m\"\u001b[39m\u001b[38;5;124m_2sc7ZR _2V5EHH\u001b[39m\u001b[38;5;124m\"\u001b[39m})[\u001b[38;5;241m0\u001b[39m]\u001b[38;5;241m.\u001b[39mtext)\n",
      "\u001b[0;31mAttributeError\u001b[0m: 'NoneType' object has no attribute 'div'"
     ]
    }
   ],
   "source": [
    "for i in comment_box:\n",
    "    print(i.div.div.find_all(\"p\", {\"class\" : \"_2sc7ZR _2V5EHH\"})[0].text)"
   ]
  },
  {
   "cell_type": "code",
   "execution_count": 39,
   "id": "55828dce-2813-4696-8dae-e765be091b45",
   "metadata": {},
   "outputs": [
    {
     "data": {
      "text/plain": [
       "'5'"
      ]
     },
     "execution_count": 39,
     "metadata": {},
     "output_type": "execute_result"
    }
   ],
   "source": [
    "# Rating given by commentor\n",
    "comment_box[0].div.div.div.div.text"
   ]
  },
  {
   "cell_type": "code",
   "execution_count": 40,
   "id": "5f4c2844-f17a-4855-9467-ea2549f42cd4",
   "metadata": {},
   "outputs": [
    {
     "name": "stdout",
     "output_type": "stream",
     "text": [
      "5\n",
      "5\n",
      "5\n",
      "5\n",
      "5\n",
      "4\n",
      "5\n",
      "4\n",
      "5\n",
      "5\n"
     ]
    },
    {
     "ename": "AttributeError",
     "evalue": "'NoneType' object has no attribute 'div'",
     "output_type": "error",
     "traceback": [
      "\u001b[0;31m---------------------------------------------------------------------------\u001b[0m",
      "\u001b[0;31mAttributeError\u001b[0m                            Traceback (most recent call last)",
      "Cell \u001b[0;32mIn[40], line 2\u001b[0m\n\u001b[1;32m      1\u001b[0m \u001b[38;5;28;01mfor\u001b[39;00m i \u001b[38;5;129;01min\u001b[39;00m comment_box:\n\u001b[0;32m----> 2\u001b[0m     \u001b[38;5;28mprint\u001b[39m(\u001b[43mi\u001b[49m\u001b[38;5;241;43m.\u001b[39;49m\u001b[43mdiv\u001b[49m\u001b[38;5;241;43m.\u001b[39;49m\u001b[43mdiv\u001b[49m\u001b[38;5;241m.\u001b[39mdiv\u001b[38;5;241m.\u001b[39mdiv\u001b[38;5;241m.\u001b[39mtext)\n",
      "\u001b[0;31mAttributeError\u001b[0m: 'NoneType' object has no attribute 'div'"
     ]
    }
   ],
   "source": [
    "for i in comment_box:\n",
    "    print(i.div.div.div.div.text)"
   ]
  },
  {
   "cell_type": "code",
   "execution_count": 43,
   "id": "5b9185cf-8c1e-4cf9-b023-b3d619a17261",
   "metadata": {},
   "outputs": [
    {
     "data": {
      "text/plain": [
       "'Must buy!'"
      ]
     },
     "execution_count": 43,
     "metadata": {},
     "output_type": "execute_result"
    }
   ],
   "source": [
    "# Comment header given by commentor\n",
    "comment_box[0].div.div.div.p.text"
   ]
  },
  {
   "cell_type": "code",
   "execution_count": 44,
   "id": "da21f358-0c9b-48ad-a0d6-6032c647d9ef",
   "metadata": {},
   "outputs": [
    {
     "name": "stdout",
     "output_type": "stream",
     "text": [
      "Must buy!\n",
      "Perfect product!\n",
      "Perfect product!\n",
      "Awesome\n",
      "Classy product\n",
      "Good quality product\n",
      "Worth every penny\n",
      "Really Nice\n",
      "Super!\n",
      "Simply awesome\n"
     ]
    },
    {
     "ename": "AttributeError",
     "evalue": "'NoneType' object has no attribute 'div'",
     "output_type": "error",
     "traceback": [
      "\u001b[0;31m---------------------------------------------------------------------------\u001b[0m",
      "\u001b[0;31mAttributeError\u001b[0m                            Traceback (most recent call last)",
      "Cell \u001b[0;32mIn[44], line 2\u001b[0m\n\u001b[1;32m      1\u001b[0m \u001b[38;5;28;01mfor\u001b[39;00m i \u001b[38;5;129;01min\u001b[39;00m comment_box:\n\u001b[0;32m----> 2\u001b[0m     \u001b[38;5;28mprint\u001b[39m(\u001b[43mi\u001b[49m\u001b[38;5;241;43m.\u001b[39;49m\u001b[43mdiv\u001b[49m\u001b[38;5;241;43m.\u001b[39;49m\u001b[43mdiv\u001b[49m\u001b[38;5;241m.\u001b[39mdiv\u001b[38;5;241m.\u001b[39mp\u001b[38;5;241m.\u001b[39mtext)\n",
      "\u001b[0;31mAttributeError\u001b[0m: 'NoneType' object has no attribute 'div'"
     ]
    }
   ],
   "source": [
    "for i in comment_box:\n",
    "    print(i.div.div.div.p.text)"
   ]
  },
  {
   "cell_type": "code",
   "execution_count": 54,
   "id": "3e2b16fa-d1a3-4ae9-9efe-453bf9d34088",
   "metadata": {},
   "outputs": [
    {
     "data": {
      "text/plain": [
       "'Picture - 10/10Sound - 9/10Connectivity - 9/10Guys please go for voice assistant enabled tv otherwise you will have to press lot more buttons than usual and that is a big problem . Rest everything is great as expected. The picture is great , sound is good for 120 sq ft room . All features are user friendly and operates with ease.'"
      ]
     },
     "execution_count": 54,
     "metadata": {},
     "output_type": "execute_result"
    }
   ],
   "source": [
    "# Comment body or actual comments\n",
    "comment_box[0].div.div.find_all(\"div\", {\"class\" : \"\"})[0].div.text"
   ]
  },
  {
   "cell_type": "code",
   "execution_count": 55,
   "id": "2586296c-29b7-4e5d-8a74-11762e780879",
   "metadata": {},
   "outputs": [
    {
     "name": "stdout",
     "output_type": "stream",
     "text": [
      "Picture - 10/10Sound - 9/10Connectivity - 9/10Guys please go for voice assistant enabled tv otherwise you will have to press lot more buttons than usual and that is a big problem . Rest everything is great as expected. The picture is great , sound is good for 120 sq ft room . All features are user friendly and operates with ease.\n",
      "Excellent product. Excellent delivery & installation. You just need a good internet connection to enjoy this television. One of the best in the category.\n",
      "Very impressive picture quality .Good color balance and  video presets are available unlike some tv's where colors are more defined for watching soaps and reality shows(by default). Connectivity is great. Connets to 2.5 as well as 5ghz wifi band . Remote operation is intuitive. Software experience is good. There is no voice asistance ( only available in pro i think) but its not a deal breaker for me. The hdfc cashbacks and flipkart plus discounts makes it a very lucrative deal.  Sound is ov...\n",
      "It's a very good product. Working fine with great picture quality. Sound is good with only 20W speakers.\n",
      "Best in this price range. Amazing picture quality. Audio is also good (better with a sound bar). Awesome build quality. Highly recommended.\n",
      "All good. But one thing. Improve the sound quality. Thats nit upto the mark. Good delivery by flipcart. East installation on the same day. Picture quality superb. Just unsatisfied with sound quality. Samsung need to work if they have to survive.\n",
      "Happy to see “made in india”on the box, yes this is completly made in india. TV is very good, we can see the clear difference with ordinary tv when 4k video is played, sound is clear and loud. Delivery and installation is very fast and completed on time. Dont purchase cheap china tvs which are available at less price. Encourage made in india products. The tizen os is very fast and lag free. The booting time is very less and i love the ui.\n",
      "Good TV in all respect but only one think missing that is Legacy support for AV connectivity with cables for old system which dont have HDMI. Wall mount is not provided in box but is provided free during installation.Picture 10/10Sound 7/ 10  Bass could be better at this price range. Durability 9/10Applications 8/10 No customizable homescreen. But its good by default. Connectivity  7/10  as no AV input is provided and if you dont have HDMI then have to buy a converter. User interface : ...\n",
      "Incredible product. The same series casts more than 60k in retail stores, so make sure you buy this one online. The packaging for good and the installation was very quick. Got this product on 21st June and the installation happened the very next day.Great picture and sound quality. Overall I am super satisfied after spending this much money Must buy for those who want a 50 inch plus TV\n",
      "Got this deal with good pricePicture quality awesome Sound is okokVery best tv Better than real me OnePlus Picture Quality is awesome.... Best tv under twenty five  k ...Very very awesome avoid all negtv feedback of sound you can use Bluetooth speaker no problem at all\n"
     ]
    },
    {
     "ename": "AttributeError",
     "evalue": "'NoneType' object has no attribute 'div'",
     "output_type": "error",
     "traceback": [
      "\u001b[0;31m---------------------------------------------------------------------------\u001b[0m",
      "\u001b[0;31mAttributeError\u001b[0m                            Traceback (most recent call last)",
      "Cell \u001b[0;32mIn[55], line 2\u001b[0m\n\u001b[1;32m      1\u001b[0m \u001b[38;5;28;01mfor\u001b[39;00m i \u001b[38;5;129;01min\u001b[39;00m comment_box:\n\u001b[0;32m----> 2\u001b[0m     \u001b[38;5;28mprint\u001b[39m(\u001b[43mi\u001b[49m\u001b[38;5;241;43m.\u001b[39;49m\u001b[43mdiv\u001b[49m\u001b[38;5;241;43m.\u001b[39;49m\u001b[43mdiv\u001b[49m\u001b[38;5;241m.\u001b[39mfind_all(\u001b[38;5;124m\"\u001b[39m\u001b[38;5;124mdiv\u001b[39m\u001b[38;5;124m\"\u001b[39m, {\u001b[38;5;124m\"\u001b[39m\u001b[38;5;124mclass\u001b[39m\u001b[38;5;124m\"\u001b[39m : \u001b[38;5;124m\"\u001b[39m\u001b[38;5;124m\"\u001b[39m})[\u001b[38;5;241m0\u001b[39m]\u001b[38;5;241m.\u001b[39mdiv\u001b[38;5;241m.\u001b[39mtext)\n",
      "\u001b[0;31mAttributeError\u001b[0m: 'NoneType' object has no attribute 'div'"
     ]
    }
   ],
   "source": [
    "for i in comment_box:\n",
    "    print(i.div.div.find_all(\"div\", {\"class\" : \"\"})[0].div.text)"
   ]
  },
  {
   "cell_type": "code",
   "execution_count": null,
   "id": "49dfb673-b8fc-4722-a7b7-3566240d23c8",
   "metadata": {},
   "outputs": [],
   "source": []
  }
 ],
 "metadata": {
  "kernelspec": {
   "display_name": "Python 3 (ipykernel)",
   "language": "python",
   "name": "python3"
  },
  "language_info": {
   "codemirror_mode": {
    "name": "ipython",
    "version": 3
   },
   "file_extension": ".py",
   "mimetype": "text/x-python",
   "name": "python",
   "nbconvert_exporter": "python",
   "pygments_lexer": "ipython3",
   "version": "3.10.8"
  }
 },
 "nbformat": 4,
 "nbformat_minor": 5
}
