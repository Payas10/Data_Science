{
 "cells": [
  {
   "cell_type": "markdown",
   "id": "a8234d7d-5179-4ac4-ba44-7ad7d3b4cba6",
   "metadata": {
    "tags": []
   },
   "source": [
    "# Exception Handling or Error Handling"
   ]
  },
  {
   "cell_type": "code",
   "execution_count": 1,
   "id": "24af7366-fda1-4f09-89cf-969addae9c31",
   "metadata": {},
   "outputs": [],
   "source": [
    "a=10"
   ]
  },
  {
   "cell_type": "code",
   "execution_count": 2,
   "id": "e1601d6d-6a30-492a-b18a-08ec0138f022",
   "metadata": {},
   "outputs": [
    {
     "ename": "ZeroDivisionError",
     "evalue": "division by zero",
     "output_type": "error",
     "traceback": [
      "\u001b[0;31m---------------------------------------------------------------------------\u001b[0m",
      "\u001b[0;31mZeroDivisionError\u001b[0m                         Traceback (most recent call last)",
      "Cell \u001b[0;32mIn[2], line 1\u001b[0m\n\u001b[0;32m----> 1\u001b[0m \u001b[43ma\u001b[49m\u001b[38;5;241;43m/\u001b[39;49m\u001b[38;5;241;43m0\u001b[39;49m  \u001b[38;5;66;03m# will return ZeroDivisionError: division by zero\u001b[39;00m\n",
      "\u001b[0;31mZeroDivisionError\u001b[0m: division by zero"
     ]
    }
   ],
   "source": [
    "a/0  # will return ZeroDivisionError: division by zero"
   ]
  },
  {
   "cell_type": "code",
   "execution_count": 4,
   "id": "684fef66-0d46-4743-8221-8e1ac0e3f38d",
   "metadata": {},
   "outputs": [
    {
     "ename": "FileNotFoundError",
     "evalue": "[Errno 2] No such file or directory: 'example.txt'",
     "output_type": "error",
     "traceback": [
      "\u001b[0;31m---------------------------------------------------------------------------\u001b[0m",
      "\u001b[0;31mFileNotFoundError\u001b[0m                         Traceback (most recent call last)",
      "Cell \u001b[0;32mIn[4], line 1\u001b[0m\n\u001b[0;32m----> 1\u001b[0m f \u001b[38;5;241m=\u001b[39m \u001b[38;5;28;43mopen\u001b[39;49m\u001b[43m(\u001b[49m\u001b[38;5;124;43m\"\u001b[39;49m\u001b[38;5;124;43mexample.txt\u001b[39;49m\u001b[38;5;124;43m\"\u001b[39;49m\u001b[43m,\u001b[49m\u001b[43m \u001b[49m\u001b[38;5;124;43m'\u001b[39;49m\u001b[38;5;124;43mr\u001b[39;49m\u001b[38;5;124;43m'\u001b[39;49m\u001b[43m)\u001b[49m   \u001b[38;5;66;03m# will return error: FileNotFoundError: [Errno 2] No such file or directory: 'example.txt'\u001b[39;00m\n\u001b[1;32m      2\u001b[0m \u001b[38;5;28mprint\u001b[39m(\u001b[38;5;124m\"\u001b[39m\u001b[38;5;124mthis is my print\u001b[39m\u001b[38;5;124m\"\u001b[39m)     \u001b[38;5;66;03m# whenever a code line returns error the execution of next lines of code stops\u001b[39;00m\n",
      "File \u001b[0;32m/opt/conda/lib/python3.10/site-packages/IPython/core/interactiveshell.py:282\u001b[0m, in \u001b[0;36m_modified_open\u001b[0;34m(file, *args, **kwargs)\u001b[0m\n\u001b[1;32m    275\u001b[0m \u001b[38;5;28;01mif\u001b[39;00m file \u001b[38;5;129;01min\u001b[39;00m {\u001b[38;5;241m0\u001b[39m, \u001b[38;5;241m1\u001b[39m, \u001b[38;5;241m2\u001b[39m}:\n\u001b[1;32m    276\u001b[0m     \u001b[38;5;28;01mraise\u001b[39;00m \u001b[38;5;167;01mValueError\u001b[39;00m(\n\u001b[1;32m    277\u001b[0m         \u001b[38;5;124mf\u001b[39m\u001b[38;5;124m\"\u001b[39m\u001b[38;5;124mIPython won\u001b[39m\u001b[38;5;124m'\u001b[39m\u001b[38;5;124mt let you open fd=\u001b[39m\u001b[38;5;132;01m{\u001b[39;00mfile\u001b[38;5;132;01m}\u001b[39;00m\u001b[38;5;124m by default \u001b[39m\u001b[38;5;124m\"\u001b[39m\n\u001b[1;32m    278\u001b[0m         \u001b[38;5;124m\"\u001b[39m\u001b[38;5;124mas it is likely to crash IPython. If you know what you are doing, \u001b[39m\u001b[38;5;124m\"\u001b[39m\n\u001b[1;32m    279\u001b[0m         \u001b[38;5;124m\"\u001b[39m\u001b[38;5;124myou can use builtins\u001b[39m\u001b[38;5;124m'\u001b[39m\u001b[38;5;124m open.\u001b[39m\u001b[38;5;124m\"\u001b[39m\n\u001b[1;32m    280\u001b[0m     )\n\u001b[0;32m--> 282\u001b[0m \u001b[38;5;28;01mreturn\u001b[39;00m \u001b[43mio_open\u001b[49m\u001b[43m(\u001b[49m\u001b[43mfile\u001b[49m\u001b[43m,\u001b[49m\u001b[43m \u001b[49m\u001b[38;5;241;43m*\u001b[39;49m\u001b[43margs\u001b[49m\u001b[43m,\u001b[49m\u001b[43m \u001b[49m\u001b[38;5;241;43m*\u001b[39;49m\u001b[38;5;241;43m*\u001b[39;49m\u001b[43mkwargs\u001b[49m\u001b[43m)\u001b[49m\n",
      "\u001b[0;31mFileNotFoundError\u001b[0m: [Errno 2] No such file or directory: 'example.txt'"
     ]
    }
   ],
   "source": [
    "f = open(\"example.txt\", 'r')   # will return error: FileNotFoundError: [Errno 2] No such file or directory: 'example.txt'\n",
    "print(\"this is my print\")     # whenever a code line returns error the execution of next lines of code stops"
   ]
  },
  {
   "cell_type": "code",
   "execution_count": 7,
   "id": "03ff663a-2b16-43b6-bdd6-140e295f99a8",
   "metadata": {},
   "outputs": [],
   "source": [
    "# types of error - ZeroDivisionError, FileNotFoundError, i/o Error, attribute error, and many more\n",
    "\n",
    "# to handle all those errors in real time exception handling is used\n",
    "# Going forward whatever code you are going to write do exception handling as standard practice\n",
    "# no matter if code is going to give error or not\n",
    "# because exception handling is a convention that we all are supposed to follow in any circumstances\n",
    "\n",
    "# similar with the logging\n",
    "# Going forward whatever code you are going to write do logging as standard practice\n",
    "# because logging is also a convention that we all are supposed to follow in any circumstances"
   ]
  },
  {
   "cell_type": "code",
   "execution_count": 10,
   "id": "53c9d503-44ac-4a31-a10a-503c2215ba83",
   "metadata": {},
   "outputs": [
    {
     "ename": "SyntaxError",
     "evalue": "incomplete input (2563984941.py, line 12)",
     "output_type": "error",
     "traceback": [
      "\u001b[0;36m  Cell \u001b[0;32mIn[10], line 12\u001b[0;36m\u001b[0m\n\u001b[0;31m    f = open(\"example.txt\", 'r')\u001b[0m\n\u001b[0m                                ^\u001b[0m\n\u001b[0;31mSyntaxError\u001b[0m\u001b[0;31m:\u001b[0m incomplete input\n"
     ]
    }
   ],
   "source": [
    "# There are four blocks in exception handling\n",
    "# 1) try:  2) except:  3) else:  4) finally:\n",
    "\n",
    "# 1) try: block\n",
    "# We'll keep all the suspicious piece of code(whereever there is doubt) or whatever code is going to be written\n",
    "# it all goes under try: block\n",
    "# try: can not be alone. it needs atleast one other block. otherwise it will throw error - incomplete input\n",
    "# try: needs someone to handle it i.e except: is the block that handles try: block\n",
    "\n",
    "\n",
    "try:\n",
    "    f = open(\"example.txt\", 'r')"
   ]
  },
  {
   "cell_type": "code",
   "execution_count": 13,
   "id": "a413256d-6b50-4bf8-8338-fde4dbe1d008",
   "metadata": {},
   "outputs": [
    {
     "name": "stdout",
     "output_type": "stream",
     "text": [
      "there is some issue with my code: [Errno 2] No such file or directory: 'example.txt'\n"
     ]
    }
   ],
   "source": [
    "# 2) except: block\n",
    "# inside except: block, try: block can be handled\n",
    "# because except: block always try to handle error with the help of exception class\n",
    "# inside exception class there are so many diff. diff. classes that are available\n",
    "# the error we receive, it is from the exception sub-class which can be for example FileNotFound error class or other error classes\n",
    "\n",
    "try:\n",
    "    f = open(\"example.txt\", 'r')\n",
    "except Exception as e:\n",
    "    print(\"there is some issue with my code:\", e)\n",
    "    \n",
    "    \n",
    "# whatever is written inside try: block, it is first try to execute\n",
    "# whenever there is an error it will immediately throw the control to my except: block\n",
    "# and except: block will try to handle it"
   ]
  },
  {
   "cell_type": "code",
   "execution_count": 16,
   "id": "a0df267e-8710-481b-b924-2baf07c03dd6",
   "metadata": {},
   "outputs": [
    {
     "name": "stdout",
     "output_type": "stream",
     "text": [
      "there is some issue with my code: [Errno 2] No such file or directory: 'example.txt'\n",
      "this is my print\n"
     ]
    },
    {
     "data": {
      "text/plain": [
       "10"
      ]
     },
     "execution_count": 16,
     "metadata": {},
     "output_type": "execute_result"
    }
   ],
   "source": [
    "# what ever code is written after except: block\n",
    "# it can execute each and every line of code \n",
    "# even if try: block is giving an error\n",
    "# hence, execution of the code will not stop even if there is error in the code line\n",
    "\n",
    "# if exception handling is not used\n",
    "# the next line of execution will stop\n",
    "\n",
    "# therefore exception handling allows the next line of code to execute itself and that is the power of exception handling\n",
    "\n",
    "try:\n",
    "    f = open(\"example.txt\", 'r')\n",
    "except Exception as e:\n",
    "    print(\"there is some issue with my code:\", e)\n",
    "    \n",
    "print(\"this is my print\")\n",
    "a = 10\n",
    "a"
   ]
  },
  {
   "cell_type": "code",
   "execution_count": 19,
   "id": "1adf2ae7-c9c0-4647-92d1-6e52e0cfb2ea",
   "metadata": {},
   "outputs": [],
   "source": [
    "# 'n' number of try: and except: blocks can be created.\n",
    "# try: under try: or try: under except: etc\n",
    "\n",
    "try:\n",
    "    f = open(\"example.txt\", 'w')  # creating and opening example.txt\n",
    "    f.write(\"this is my msg\")     # if file is not closed the line will not get into the file example.txt\n",
    "    f.close()\n",
    "except Exception as e:\n",
    "    print(\"there is some issue with my code:\", e)\n"
   ]
  },
  {
   "cell_type": "code",
   "execution_count": 20,
   "id": "af638e6d-dca8-4102-af20-6915b95bc905",
   "metadata": {},
   "outputs": [
    {
     "name": "stdout",
     "output_type": "stream",
     "text": [
      "this block will execute once try will execute itself without an exception\n"
     ]
    }
   ],
   "source": [
    "# else: block\n",
    "# else: block will try to execute itself only in one situation\n",
    "# if try block complete/execute itself without any exception\n",
    "# in that case only else: will execute otherwise else: will never execute\n",
    "\n",
    "try:\n",
    "    f = open(\"example.txt\", 'w')  # creating and opening example.txt\n",
    "    f.write(\"this is my msg\")     # if file is not closed the line will not get into the file example.txt\n",
    "    \n",
    "except Exception as e:\n",
    "    print(\"there is some issue with my code:\", e)\n",
    "    \n",
    "else:\n",
    "    f.close()\n",
    "    print(\"this block will execute once try will execute itself without an exception\")\n",
    "\n",
    "# in above example try: is getting successfully executed\n",
    "# hence the else: block is getting executed which will successfully close the file and then it is executing print()\n",
    "# if try: is not getting successfully executed, then what is the need for closing the file"
   ]
  },
  {
   "cell_type": "code",
   "execution_count": 24,
   "id": "f42bc455-8c06-4fe6-9e45-017483ce76eb",
   "metadata": {},
   "outputs": [
    {
     "name": "stdout",
     "output_type": "stream",
     "text": [
      "there is some issue with my code: [Errno 2] No such file or directory: 'example1.txt'\n"
     ]
    }
   ],
   "source": [
    "# when try: block is unable to execute itself without any exception/error\n",
    "# then it will immediately throw the control to my except: block\n",
    "# and since try: block is giving error/exception, the else: block will never get executed\n",
    "\n",
    "try:\n",
    "    f = open(\"example1.txt\", 'r')  \n",
    "    f.write(\"this is my msg\")     \n",
    "    \n",
    "except Exception as e:\n",
    "    print(\"there is some issue with my code:\", e)\n",
    "    \n",
    "else:\n",
    "    f.close()\n",
    "    print(\"this block will execute once try will execute itself without an exception\")\n",
    "    \n",
    "# so in above example the file example1.txt doesn't exist and it is getting opend in the read mode \n",
    "# so it will throw error\n",
    "# and except: block will try to handle the error by printing the msg\n",
    "# try: is unable to execute itself successfully so else: is not executed and print() under else: cannot be found"
   ]
  },
  {
   "cell_type": "markdown",
   "id": "5c111f6d-487a-4e25-aa92-324721953d66",
   "metadata": {},
   "source": [
    "**therefore, whatever code you want to write after successful completion of code in try: block you can keep it inside else: block**"
   ]
  },
  {
   "cell_type": "code",
   "execution_count": 27,
   "id": "e20406bd-b2a6-42d5-97f6-43c75041d554",
   "metadata": {},
   "outputs": [
    {
     "name": "stdout",
     "output_type": "stream",
     "text": [
      "this will always execute\n"
     ]
    },
    {
     "ename": "FileNotFoundError",
     "evalue": "[Errno 2] No such file or directory: 'example1.txt'",
     "output_type": "error",
     "traceback": [
      "\u001b[0;31m---------------------------------------------------------------------------\u001b[0m",
      "\u001b[0;31mFileNotFoundError\u001b[0m                         Traceback (most recent call last)",
      "Cell \u001b[0;32mIn[27], line 10\u001b[0m\n\u001b[1;32m      1\u001b[0m \u001b[38;5;66;03m# 4) finally: block\u001b[39;00m\n\u001b[1;32m      2\u001b[0m \u001b[38;5;66;03m# finally: block will try to execute itself all the time doesn't matter what has happened to the code (error or no error)\u001b[39;00m\n\u001b[1;32m      3\u001b[0m \u001b[38;5;66;03m# let suppose if data base connection is opend, it is to be closed no matter what\u001b[39;00m\n\u001b[0;32m   (...)\u001b[0m\n\u001b[1;32m      6\u001b[0m \u001b[38;5;66;03m# doesn't matter what has happened with try: except: else:,\u001b[39;00m\n\u001b[1;32m      7\u001b[0m \u001b[38;5;66;03m# but if you want to execute a code at any cost, in that case it is to be placed inside finally: block\u001b[39;00m\n\u001b[1;32m      9\u001b[0m \u001b[38;5;28;01mtry\u001b[39;00m:\n\u001b[0;32m---> 10\u001b[0m     f \u001b[38;5;241m=\u001b[39m \u001b[38;5;28;43mopen\u001b[39;49m\u001b[43m(\u001b[49m\u001b[38;5;124;43m\"\u001b[39;49m\u001b[38;5;124;43mexample1.txt\u001b[39;49m\u001b[38;5;124;43m\"\u001b[39;49m\u001b[43m,\u001b[49m\u001b[43m \u001b[49m\u001b[38;5;124;43m'\u001b[39;49m\u001b[38;5;124;43mr\u001b[39;49m\u001b[38;5;124;43m'\u001b[39;49m\u001b[43m)\u001b[49m  \n\u001b[1;32m     11\u001b[0m     f\u001b[38;5;241m.\u001b[39mwrite(\u001b[38;5;124m\"\u001b[39m\u001b[38;5;124mthis is my msg\u001b[39m\u001b[38;5;124m\"\u001b[39m)\n\u001b[1;32m     12\u001b[0m \u001b[38;5;28;01mfinally\u001b[39;00m:\n",
      "File \u001b[0;32m/opt/conda/lib/python3.10/site-packages/IPython/core/interactiveshell.py:282\u001b[0m, in \u001b[0;36m_modified_open\u001b[0;34m(file, *args, **kwargs)\u001b[0m\n\u001b[1;32m    275\u001b[0m \u001b[38;5;28;01mif\u001b[39;00m file \u001b[38;5;129;01min\u001b[39;00m {\u001b[38;5;241m0\u001b[39m, \u001b[38;5;241m1\u001b[39m, \u001b[38;5;241m2\u001b[39m}:\n\u001b[1;32m    276\u001b[0m     \u001b[38;5;28;01mraise\u001b[39;00m \u001b[38;5;167;01mValueError\u001b[39;00m(\n\u001b[1;32m    277\u001b[0m         \u001b[38;5;124mf\u001b[39m\u001b[38;5;124m\"\u001b[39m\u001b[38;5;124mIPython won\u001b[39m\u001b[38;5;124m'\u001b[39m\u001b[38;5;124mt let you open fd=\u001b[39m\u001b[38;5;132;01m{\u001b[39;00mfile\u001b[38;5;132;01m}\u001b[39;00m\u001b[38;5;124m by default \u001b[39m\u001b[38;5;124m\"\u001b[39m\n\u001b[1;32m    278\u001b[0m         \u001b[38;5;124m\"\u001b[39m\u001b[38;5;124mas it is likely to crash IPython. If you know what you are doing, \u001b[39m\u001b[38;5;124m\"\u001b[39m\n\u001b[1;32m    279\u001b[0m         \u001b[38;5;124m\"\u001b[39m\u001b[38;5;124myou can use builtins\u001b[39m\u001b[38;5;124m'\u001b[39m\u001b[38;5;124m open.\u001b[39m\u001b[38;5;124m\"\u001b[39m\n\u001b[1;32m    280\u001b[0m     )\n\u001b[0;32m--> 282\u001b[0m \u001b[38;5;28;01mreturn\u001b[39;00m \u001b[43mio_open\u001b[49m\u001b[43m(\u001b[49m\u001b[43mfile\u001b[49m\u001b[43m,\u001b[49m\u001b[43m \u001b[49m\u001b[38;5;241;43m*\u001b[39;49m\u001b[43margs\u001b[49m\u001b[43m,\u001b[49m\u001b[43m \u001b[49m\u001b[38;5;241;43m*\u001b[39;49m\u001b[38;5;241;43m*\u001b[39;49m\u001b[43mkwargs\u001b[49m\u001b[43m)\u001b[49m\n",
      "\u001b[0;31mFileNotFoundError\u001b[0m: [Errno 2] No such file or directory: 'example1.txt'"
     ]
    }
   ],
   "source": [
    "# 4) finally: block\n",
    "# finally: block will try to execute itself all the time doesn't matter what has happened to the code (error or no error)\n",
    "# let suppose if data base connection is opend, it is to be closed no matter what\n",
    "# in that case the closure statement can be placed inside the finally: block\n",
    "# Therefore, you keep those piece or those kind of code in finally: block which you would like to execute at any cost\n",
    "# doesn't matter what has happened with try: except: else:,\n",
    "# but if you want to execute a code at any cost, in that case it is to be placed inside finally: block\n",
    "\n",
    "try:\n",
    "    f = open(\"example1.txt\", 'r')  \n",
    "    f.write(\"this is my msg\")\n",
    "finally:\n",
    "    print(\"this will always execute\")\n",
    "    \n",
    "# in above example the try: block is giving error\n",
    "# it is also not been handled by except:, hence the error log is given\n",
    "# but still finally: block is able to execute itself"
   ]
  },
  {
   "cell_type": "code",
   "execution_count": 30,
   "id": "20fcdf5d-0094-43e5-8ddf-4d961646b025",
   "metadata": {},
   "outputs": [
    {
     "name": "stdout",
     "output_type": "stream",
     "text": [
      "there is some issue with my code: [Errno 2] No such file or directory: 'example1.txt'\n",
      "I will always execute\n"
     ]
    }
   ],
   "source": [
    "# all four blocks in single code - Error case\n",
    "\n",
    "try:\n",
    "    f = open(\"example1.txt\", 'r')  \n",
    "    f.write(\"this is my msg\")     \n",
    "    \n",
    "except Exception as e:\n",
    "    print(\"there is some issue with my code:\", e)\n",
    "    \n",
    "else:\n",
    "    f.close()\n",
    "    print(\"this block will execute once try will execute itself without an exception\")\n",
    "    \n",
    "finally:\n",
    "    print(\"I will always execute\")\n",
    "    \n",
    "# try: will give error\n",
    "# except: will handle the error\n",
    "# since, try: is giving error/exception the else: will not execute\n",
    "# finally: will always execute itself not matter what has happend with try:, except: and else:"
   ]
  },
  {
   "cell_type": "code",
   "execution_count": 31,
   "id": "036a3315-8d12-4440-b8f7-762ce5e21556",
   "metadata": {},
   "outputs": [
    {
     "name": "stdout",
     "output_type": "stream",
     "text": [
      "this block will execute once try will execute itself without an exception\n",
      "I will always execute\n"
     ]
    }
   ],
   "source": [
    "# all four blocks in single code - No Error or Success case\n",
    "\n",
    "try:\n",
    "    f = open(\"example.txt\", 'w')  \n",
    "    f.write(\"this is my msg\")     \n",
    "    \n",
    "except Exception as e:\n",
    "    print(\"there is some issue with my code:\", e)\n",
    "    \n",
    "else:\n",
    "    f.close()\n",
    "    print(\"this block will execute once try will execute itself without an exception\")\n",
    "    \n",
    "finally:\n",
    "    print(\"I will always execute\")\n",
    "    \n",
    "# try: will execute itself successfully\n",
    "# except: will not get executed since there is nor error\n",
    "# else: will get executed, since try: has executed itself without any exception/error\n",
    "# finally: will always execute itself not matter what has happend with try:, except: and else:"
   ]
  },
  {
   "cell_type": "markdown",
   "id": "18a62557-19b4-4c52-9b25-f91d12f4aafb",
   "metadata": {},
   "source": [
    "# Custom exception handling\n",
    "\n",
    "* used when exception is not an exception for system but from coder or user POV it is an exception"
   ]
  },
  {
   "cell_type": "code",
   "execution_count": 34,
   "id": "6f9dc36a-77cd-4b84-a72b-6651358ec827",
   "metadata": {},
   "outputs": [
    {
     "name": "stdin",
     "output_type": "stream",
     "text": [
      "enter your age:  -50\n"
     ]
    }
   ],
   "source": [
    "# example: if we are taking input from user for age\n",
    "# if it is positive value it is fine, \n",
    "# but even if user enters negative value the system accepts it as it is not exception for system\n",
    "# but as an user/coder you know that age cannot be negative hence it is an exception for user/coder\n",
    "\n",
    "age = int(input(\"enter your age: \"))  \n",
    "# age cannot be negative hence it is an exception for user/coder \n",
    "# but sytem will accept negative value because for system age is just a variable which is storing value"
   ]
  },
  {
   "cell_type": "code",
   "execution_count": 35,
   "id": "d063a120-9354-4fa4-af23-8421392332db",
   "metadata": {},
   "outputs": [],
   "source": [
    "# to handle such cases we can create our own custom exception based on our own conditions\n",
    "# and can implement it\n",
    "\n",
    "# creating custom class to handle exception based on our own conditions\n",
    "class validateage(Exception) :    # inheritance of Exception class which is pre-defined in the system\n",
    "    def __init__(self, msg) :     # construtor of the class which will take msg as in input attribute\n",
    "        self.msg = msg"
   ]
  },
  {
   "cell_type": "code",
   "execution_count": 37,
   "id": "0bf670f7-25b4-473d-8631-d40486f9de95",
   "metadata": {},
   "outputs": [],
   "source": [
    "def validate_age(age) :\n",
    "    if age < 0 :\n",
    "        raise validateage(\"age should not be lesser than zero\")    \n",
    "        # raise is a reserved keyword which can call the custom class\n",
    "        # this is nothing but creating object of custom class(i.e validateage) \n",
    "        # and passing the custom message as per constructor\n",
    "        # on this custom condition the exception will automatically raise\n",
    "    elif age > 200 :\n",
    "        raise validateage(\"age is too high\")\n",
    "    else :\n",
    "        print(\"age is valid\")    "
   ]
  },
  {
   "cell_type": "code",
   "execution_count": 38,
   "id": "d6d51b6e-29d6-409d-b795-d05338cb680a",
   "metadata": {},
   "outputs": [
    {
     "name": "stdin",
     "output_type": "stream",
     "text": [
      "enter your age:  -50\n"
     ]
    },
    {
     "name": "stdout",
     "output_type": "stream",
     "text": [
      "age should not be lesser than zero\n"
     ]
    }
   ],
   "source": [
    "try:\n",
    "    age = int(input(\"enter your age: \"))\n",
    "    validate_age(age)\n",
    "except validateage as e :   # calling the custom class because it is responsible for giving message and raising exception\n",
    "    print(e)"
   ]
  },
  {
   "cell_type": "code",
   "execution_count": 39,
   "id": "c43b5e28-7db1-4815-8ab1-18df26dabf00",
   "metadata": {},
   "outputs": [
    {
     "name": "stdin",
     "output_type": "stream",
     "text": [
      "enter your age:  250\n"
     ]
    },
    {
     "name": "stdout",
     "output_type": "stream",
     "text": [
      "age is too high\n"
     ]
    }
   ],
   "source": [
    "try:\n",
    "    age = int(input(\"enter your age: \"))\n",
    "    validate_age(age)\n",
    "except validateage as e :   # calling the custom class because it is responsible for giving message and raising exception\n",
    "    print(e)"
   ]
  },
  {
   "cell_type": "code",
   "execution_count": 40,
   "id": "515ee30b-21b6-46ce-8e2d-e82748dfc75b",
   "metadata": {},
   "outputs": [
    {
     "name": "stdin",
     "output_type": "stream",
     "text": [
      "enter your age:  26\n"
     ]
    },
    {
     "name": "stdout",
     "output_type": "stream",
     "text": [
      "age is valid\n"
     ]
    }
   ],
   "source": [
    "try:\n",
    "    age = int(input(\"enter your age: \"))\n",
    "    validate_age(age)\n",
    "except validateage as e :   # calling the custom class because it is responsible for giving message and raising exception\n",
    "    print(e)"
   ]
  },
  {
   "cell_type": "code",
   "execution_count": null,
   "id": "6f699424-218d-4df2-88ab-f32d759534ab",
   "metadata": {},
   "outputs": [],
   "source": []
  }
 ],
 "metadata": {
  "kernelspec": {
   "display_name": "Python 3 (ipykernel)",
   "language": "python",
   "name": "python3"
  },
  "language_info": {
   "codemirror_mode": {
    "name": "ipython",
    "version": 3
   },
   "file_extension": ".py",
   "mimetype": "text/x-python",
   "name": "python",
   "nbconvert_exporter": "python",
   "pygments_lexer": "ipython3",
   "version": "3.10.8"
  }
 },
 "nbformat": 4,
 "nbformat_minor": 5
}
